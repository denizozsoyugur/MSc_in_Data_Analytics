{
 "cells": [
  {
   "cell_type": "code",
   "execution_count": 1,
   "id": "25aefb07",
   "metadata": {},
   "outputs": [],
   "source": [
    "import pandas as pd\n",
    "import numpy as np"
   ]
  },
  {
   "cell_type": "code",
   "execution_count": 2,
   "id": "e6140a68",
   "metadata": {},
   "outputs": [],
   "source": [
    "df=pd.read_csv(\"F402120231017T131001.csv\")"
   ]
  },
  {
   "cell_type": "code",
   "execution_count": 3,
   "id": "51f76704",
   "metadata": {},
   "outputs": [
    {
     "data": {
      "text/html": [
       "<div>\n",
       "<style scoped>\n",
       "    .dataframe tbody tr th:only-of-type {\n",
       "        vertical-align: middle;\n",
       "    }\n",
       "\n",
       "    .dataframe tbody tr th {\n",
       "        vertical-align: top;\n",
       "    }\n",
       "\n",
       "    .dataframe thead th {\n",
       "        text-align: right;\n",
       "    }\n",
       "</style>\n",
       "<table border=\"1\" class=\"dataframe\">\n",
       "  <thead>\n",
       "    <tr style=\"text-align: right;\">\n",
       "      <th></th>\n",
       "      <th>Statistic_Label</th>\n",
       "      <th>Census_Year</th>\n",
       "      <th>Sex</th>\n",
       "      <th>Regular_Unpaid_Help</th>\n",
       "      <th>Age_Group</th>\n",
       "      <th>Present_Economic_Status</th>\n",
       "      <th>Unit</th>\n",
       "      <th>Value</th>\n",
       "    </tr>\n",
       "  </thead>\n",
       "  <tbody>\n",
       "    <tr>\n",
       "      <th>0</th>\n",
       "      <td>Carers Aged 15 Years And Over</td>\n",
       "      <td>2011</td>\n",
       "      <td>Both sexes</td>\n",
       "      <td>All carers</td>\n",
       "      <td>All ages</td>\n",
       "      <td>All persons aged 15 years and over</td>\n",
       "      <td>Number</td>\n",
       "      <td>182884</td>\n",
       "    </tr>\n",
       "    <tr>\n",
       "      <th>1</th>\n",
       "      <td>Carers Aged 15 Years And Over</td>\n",
       "      <td>2011</td>\n",
       "      <td>Both sexes</td>\n",
       "      <td>All carers</td>\n",
       "      <td>All ages</td>\n",
       "      <td>Employer or own account worker</td>\n",
       "      <td>Number</td>\n",
       "      <td>18020</td>\n",
       "    </tr>\n",
       "    <tr>\n",
       "      <th>2</th>\n",
       "      <td>Carers Aged 15 Years And Over</td>\n",
       "      <td>2011</td>\n",
       "      <td>Both sexes</td>\n",
       "      <td>All carers</td>\n",
       "      <td>All ages</td>\n",
       "      <td>Employee</td>\n",
       "      <td>Number</td>\n",
       "      <td>70602</td>\n",
       "    </tr>\n",
       "    <tr>\n",
       "      <th>3</th>\n",
       "      <td>Carers Aged 15 Years And Over</td>\n",
       "      <td>2011</td>\n",
       "      <td>Both sexes</td>\n",
       "      <td>All carers</td>\n",
       "      <td>All ages</td>\n",
       "      <td>Assisting relative</td>\n",
       "      <td>Number</td>\n",
       "      <td>1018</td>\n",
       "    </tr>\n",
       "    <tr>\n",
       "      <th>4</th>\n",
       "      <td>Carers Aged 15 Years And Over</td>\n",
       "      <td>2011</td>\n",
       "      <td>Both sexes</td>\n",
       "      <td>All carers</td>\n",
       "      <td>All ages</td>\n",
       "      <td>Unemployed looking for first regular job</td>\n",
       "      <td>Number</td>\n",
       "      <td>1058</td>\n",
       "    </tr>\n",
       "  </tbody>\n",
       "</table>\n",
       "</div>"
      ],
      "text/plain": [
       "                 Statistic_Label  Census_Year         Sex Regular_Unpaid_Help  \\\n",
       "0  Carers Aged 15 Years And Over         2011  Both sexes          All carers   \n",
       "1  Carers Aged 15 Years And Over         2011  Both sexes          All carers   \n",
       "2  Carers Aged 15 Years And Over         2011  Both sexes          All carers   \n",
       "3  Carers Aged 15 Years And Over         2011  Both sexes          All carers   \n",
       "4  Carers Aged 15 Years And Over         2011  Both sexes          All carers   \n",
       "\n",
       "  Age_Group                   Present_Economic_Status    Unit   Value  \n",
       "0  All ages        All persons aged 15 years and over  Number  182884  \n",
       "1  All ages            Employer or own account worker  Number   18020  \n",
       "2  All ages                                  Employee  Number   70602  \n",
       "3  All ages                        Assisting relative  Number    1018  \n",
       "4  All ages  Unemployed looking for first regular job  Number    1058  "
      ]
     },
     "execution_count": 3,
     "metadata": {},
     "output_type": "execute_result"
    }
   ],
   "source": [
    "df.head()"
   ]
  },
  {
   "cell_type": "code",
   "execution_count": 4,
   "id": "2094b46d",
   "metadata": {},
   "outputs": [
    {
     "data": {
      "text/plain": [
       "(2970, 8)"
      ]
     },
     "execution_count": 4,
     "metadata": {},
     "output_type": "execute_result"
    }
   ],
   "source": [
    "df.shape"
   ]
  },
  {
   "cell_type": "code",
   "execution_count": 5,
   "id": "d3d9b3c4",
   "metadata": {},
   "outputs": [
    {
     "data": {
      "text/plain": [
       "<bound method DataFrame.info of                     Statistic_Label  Census_Year         Sex  \\\n",
       "0     Carers Aged 15 Years And Over         2011  Both sexes   \n",
       "1     Carers Aged 15 Years And Over         2011  Both sexes   \n",
       "2     Carers Aged 15 Years And Over         2011  Both sexes   \n",
       "3     Carers Aged 15 Years And Over         2011  Both sexes   \n",
       "4     Carers Aged 15 Years And Over         2011  Both sexes   \n",
       "...                             ...          ...         ...   \n",
       "2965  Carers Aged 15 Years And Over         2022      Female   \n",
       "2966  Carers Aged 15 Years And Over         2022      Female   \n",
       "2967  Carers Aged 15 Years And Over         2022      Female   \n",
       "2968  Carers Aged 15 Years And Over         2022      Female   \n",
       "2969  Carers Aged 15 Years And Over         2022      Female   \n",
       "\n",
       "     Regular_Unpaid_Help          Age_Group  \\\n",
       "0             All carers           All ages   \n",
       "1             All carers           All ages   \n",
       "2             All carers           All ages   \n",
       "3             All carers           All ages   \n",
       "4             All carers           All ages   \n",
       "...                  ...                ...   \n",
       "2965          Not stated  65 years and over   \n",
       "2966          Not stated  65 years and over   \n",
       "2967          Not stated  65 years and over   \n",
       "2968          Not stated  65 years and over   \n",
       "2969          Not stated  65 years and over   \n",
       "\n",
       "                                Present_Economic_Status    Unit   Value  \n",
       "0                    All persons aged 15 years and over  Number  182884  \n",
       "1                        Employer or own account worker  Number   18020  \n",
       "2                                              Employee  Number   70602  \n",
       "3                                    Assisting relative  Number    1018  \n",
       "4              Unemployed looking for first regular job  Number    1058  \n",
       "...                                                 ...     ...     ...  \n",
       "2965                                   Student or pupil  Number       7  \n",
       "2966                          Looking after home/family  Number     411  \n",
       "2967                                            Retired  Number    1210  \n",
       "2968  Unable to work due to permanent sickness or di...  Number      90  \n",
       "2969                              Other economic status  Number      32  \n",
       "\n",
       "[2970 rows x 8 columns]>"
      ]
     },
     "execution_count": 5,
     "metadata": {},
     "output_type": "execute_result"
    }
   ],
   "source": [
    "df.info"
   ]
  },
  {
   "cell_type": "code",
   "execution_count": 6,
   "id": "df207ce7",
   "metadata": {},
   "outputs": [
    {
     "data": {
      "text/html": [
       "<div>\n",
       "<style scoped>\n",
       "    .dataframe tbody tr th:only-of-type {\n",
       "        vertical-align: middle;\n",
       "    }\n",
       "\n",
       "    .dataframe tbody tr th {\n",
       "        vertical-align: top;\n",
       "    }\n",
       "\n",
       "    .dataframe thead th {\n",
       "        text-align: right;\n",
       "    }\n",
       "</style>\n",
       "<table border=\"1\" class=\"dataframe\">\n",
       "  <thead>\n",
       "    <tr style=\"text-align: right;\">\n",
       "      <th></th>\n",
       "      <th>Census_Year</th>\n",
       "      <th>Value</th>\n",
       "    </tr>\n",
       "  </thead>\n",
       "  <tbody>\n",
       "    <tr>\n",
       "      <th>count</th>\n",
       "      <td>2970.000000</td>\n",
       "      <td>2970.000000</td>\n",
       "    </tr>\n",
       "    <tr>\n",
       "      <th>mean</th>\n",
       "      <td>2016.333333</td>\n",
       "      <td>3602.510438</td>\n",
       "    </tr>\n",
       "    <tr>\n",
       "      <th>std</th>\n",
       "      <td>4.497670</td>\n",
       "      <td>13180.475837</td>\n",
       "    </tr>\n",
       "    <tr>\n",
       "      <th>min</th>\n",
       "      <td>2011.000000</td>\n",
       "      <td>0.000000</td>\n",
       "    </tr>\n",
       "    <tr>\n",
       "      <th>25%</th>\n",
       "      <td>2011.000000</td>\n",
       "      <td>41.000000</td>\n",
       "    </tr>\n",
       "    <tr>\n",
       "      <th>50%</th>\n",
       "      <td>2016.000000</td>\n",
       "      <td>274.000000</td>\n",
       "    </tr>\n",
       "    <tr>\n",
       "      <th>75%</th>\n",
       "      <td>2022.000000</td>\n",
       "      <td>1844.000000</td>\n",
       "    </tr>\n",
       "    <tr>\n",
       "      <th>max</th>\n",
       "      <td>2022.000000</td>\n",
       "      <td>294369.000000</td>\n",
       "    </tr>\n",
       "  </tbody>\n",
       "</table>\n",
       "</div>"
      ],
      "text/plain": [
       "       Census_Year          Value\n",
       "count  2970.000000    2970.000000\n",
       "mean   2016.333333    3602.510438\n",
       "std       4.497670   13180.475837\n",
       "min    2011.000000       0.000000\n",
       "25%    2011.000000      41.000000\n",
       "50%    2016.000000     274.000000\n",
       "75%    2022.000000    1844.000000\n",
       "max    2022.000000  294369.000000"
      ]
     },
     "execution_count": 6,
     "metadata": {},
     "output_type": "execute_result"
    }
   ],
   "source": [
    "df.describe()"
   ]
  },
  {
   "cell_type": "code",
   "execution_count": 7,
   "id": "284c989a",
   "metadata": {},
   "outputs": [],
   "source": [
    "missing_values =[\"n.a.\", \"?\", \"NA\", \"n/a\", \"na\", \"--\"]"
   ]
  },
  {
   "cell_type": "code",
   "execution_count": 8,
   "id": "c7dcfa33",
   "metadata": {},
   "outputs": [],
   "source": [
    "df=pd.read_csv(\"F402120231017T131001.csv\", na_values=missing_values)"
   ]
  },
  {
   "cell_type": "code",
   "execution_count": 9,
   "id": "ad7a2f01",
   "metadata": {},
   "outputs": [
    {
     "name": "stdout",
     "output_type": "stream",
     "text": [
      "<class 'pandas.core.frame.DataFrame'>\n",
      "RangeIndex: 2970 entries, 0 to 2969\n",
      "Data columns (total 8 columns):\n",
      " #   Column                   Non-Null Count  Dtype \n",
      "---  ------                   --------------  ----- \n",
      " 0   Statistic_Label          2970 non-null   object\n",
      " 1   Census_Year              2970 non-null   int64 \n",
      " 2   Sex                      2970 non-null   object\n",
      " 3   Regular_Unpaid_Help      2970 non-null   object\n",
      " 4   Age_Group                2970 non-null   object\n",
      " 5   Present_Economic_Status  2970 non-null   object\n",
      " 6   Unit                     2970 non-null   object\n",
      " 7   Value                    2970 non-null   int64 \n",
      "dtypes: int64(2), object(6)\n",
      "memory usage: 185.8+ KB\n"
     ]
    }
   ],
   "source": [
    "df.info()"
   ]
  },
  {
   "cell_type": "code",
   "execution_count": 10,
   "id": "34c11164",
   "metadata": {},
   "outputs": [],
   "source": [
    "df.drop(columns=[\"Statistic_Label\", \"Unit\"],  axis=1, inplace=True)"
   ]
  },
  {
   "cell_type": "code",
   "execution_count": 11,
   "id": "092f3a90",
   "metadata": {},
   "outputs": [
    {
     "data": {
      "text/html": [
       "<div>\n",
       "<style scoped>\n",
       "    .dataframe tbody tr th:only-of-type {\n",
       "        vertical-align: middle;\n",
       "    }\n",
       "\n",
       "    .dataframe tbody tr th {\n",
       "        vertical-align: top;\n",
       "    }\n",
       "\n",
       "    .dataframe thead th {\n",
       "        text-align: right;\n",
       "    }\n",
       "</style>\n",
       "<table border=\"1\" class=\"dataframe\">\n",
       "  <thead>\n",
       "    <tr style=\"text-align: right;\">\n",
       "      <th></th>\n",
       "      <th>Census_Year</th>\n",
       "      <th>Sex</th>\n",
       "      <th>Regular_Unpaid_Help</th>\n",
       "      <th>Age_Group</th>\n",
       "      <th>Present_Economic_Status</th>\n",
       "      <th>Value</th>\n",
       "    </tr>\n",
       "  </thead>\n",
       "  <tbody>\n",
       "    <tr>\n",
       "      <th>0</th>\n",
       "      <td>2011</td>\n",
       "      <td>Both sexes</td>\n",
       "      <td>All carers</td>\n",
       "      <td>All ages</td>\n",
       "      <td>All persons aged 15 years and over</td>\n",
       "      <td>182884</td>\n",
       "    </tr>\n",
       "    <tr>\n",
       "      <th>1</th>\n",
       "      <td>2011</td>\n",
       "      <td>Both sexes</td>\n",
       "      <td>All carers</td>\n",
       "      <td>All ages</td>\n",
       "      <td>Employer or own account worker</td>\n",
       "      <td>18020</td>\n",
       "    </tr>\n",
       "    <tr>\n",
       "      <th>2</th>\n",
       "      <td>2011</td>\n",
       "      <td>Both sexes</td>\n",
       "      <td>All carers</td>\n",
       "      <td>All ages</td>\n",
       "      <td>Employee</td>\n",
       "      <td>70602</td>\n",
       "    </tr>\n",
       "    <tr>\n",
       "      <th>3</th>\n",
       "      <td>2011</td>\n",
       "      <td>Both sexes</td>\n",
       "      <td>All carers</td>\n",
       "      <td>All ages</td>\n",
       "      <td>Assisting relative</td>\n",
       "      <td>1018</td>\n",
       "    </tr>\n",
       "    <tr>\n",
       "      <th>4</th>\n",
       "      <td>2011</td>\n",
       "      <td>Both sexes</td>\n",
       "      <td>All carers</td>\n",
       "      <td>All ages</td>\n",
       "      <td>Unemployed looking for first regular job</td>\n",
       "      <td>1058</td>\n",
       "    </tr>\n",
       "  </tbody>\n",
       "</table>\n",
       "</div>"
      ],
      "text/plain": [
       "   Census_Year         Sex Regular_Unpaid_Help Age_Group  \\\n",
       "0         2011  Both sexes          All carers  All ages   \n",
       "1         2011  Both sexes          All carers  All ages   \n",
       "2         2011  Both sexes          All carers  All ages   \n",
       "3         2011  Both sexes          All carers  All ages   \n",
       "4         2011  Both sexes          All carers  All ages   \n",
       "\n",
       "                    Present_Economic_Status   Value  \n",
       "0        All persons aged 15 years and over  182884  \n",
       "1            Employer or own account worker   18020  \n",
       "2                                  Employee   70602  \n",
       "3                        Assisting relative    1018  \n",
       "4  Unemployed looking for first regular job    1058  "
      ]
     },
     "execution_count": 11,
     "metadata": {},
     "output_type": "execute_result"
    }
   ],
   "source": [
    "df.head() "
   ]
  },
  {
   "cell_type": "code",
   "execution_count": 12,
   "id": "2fb42f0b",
   "metadata": {},
   "outputs": [
    {
     "data": {
      "text/plain": [
       "<bound method DataFrame.info of       Census_Year         Sex Regular_Unpaid_Help          Age_Group  \\\n",
       "0            2011  Both sexes          All carers           All ages   \n",
       "1            2011  Both sexes          All carers           All ages   \n",
       "2            2011  Both sexes          All carers           All ages   \n",
       "3            2011  Both sexes          All carers           All ages   \n",
       "4            2011  Both sexes          All carers           All ages   \n",
       "...           ...         ...                 ...                ...   \n",
       "2965         2022      Female          Not stated  65 years and over   \n",
       "2966         2022      Female          Not stated  65 years and over   \n",
       "2967         2022      Female          Not stated  65 years and over   \n",
       "2968         2022      Female          Not stated  65 years and over   \n",
       "2969         2022      Female          Not stated  65 years and over   \n",
       "\n",
       "                                Present_Economic_Status   Value  \n",
       "0                    All persons aged 15 years and over  182884  \n",
       "1                        Employer or own account worker   18020  \n",
       "2                                              Employee   70602  \n",
       "3                                    Assisting relative    1018  \n",
       "4              Unemployed looking for first regular job    1058  \n",
       "...                                                 ...     ...  \n",
       "2965                                   Student or pupil       7  \n",
       "2966                          Looking after home/family     411  \n",
       "2967                                            Retired    1210  \n",
       "2968  Unable to work due to permanent sickness or di...      90  \n",
       "2969                              Other economic status      32  \n",
       "\n",
       "[2970 rows x 6 columns]>"
      ]
     },
     "execution_count": 12,
     "metadata": {},
     "output_type": "execute_result"
    }
   ],
   "source": [
    "df.info"
   ]
  },
  {
   "cell_type": "code",
   "execution_count": 13,
   "id": "e8267967",
   "metadata": {},
   "outputs": [
    {
     "data": {
      "text/html": [
       "<div>\n",
       "<style scoped>\n",
       "    .dataframe tbody tr th:only-of-type {\n",
       "        vertical-align: middle;\n",
       "    }\n",
       "\n",
       "    .dataframe tbody tr th {\n",
       "        vertical-align: top;\n",
       "    }\n",
       "\n",
       "    .dataframe thead th {\n",
       "        text-align: right;\n",
       "    }\n",
       "</style>\n",
       "<table border=\"1\" class=\"dataframe\">\n",
       "  <thead>\n",
       "    <tr style=\"text-align: right;\">\n",
       "      <th></th>\n",
       "      <th>Census_Year</th>\n",
       "      <th>Value</th>\n",
       "    </tr>\n",
       "  </thead>\n",
       "  <tbody>\n",
       "    <tr>\n",
       "      <th>count</th>\n",
       "      <td>2970.000000</td>\n",
       "      <td>2970.000000</td>\n",
       "    </tr>\n",
       "    <tr>\n",
       "      <th>mean</th>\n",
       "      <td>2016.333333</td>\n",
       "      <td>3602.510438</td>\n",
       "    </tr>\n",
       "    <tr>\n",
       "      <th>std</th>\n",
       "      <td>4.497670</td>\n",
       "      <td>13180.475837</td>\n",
       "    </tr>\n",
       "    <tr>\n",
       "      <th>min</th>\n",
       "      <td>2011.000000</td>\n",
       "      <td>0.000000</td>\n",
       "    </tr>\n",
       "    <tr>\n",
       "      <th>25%</th>\n",
       "      <td>2011.000000</td>\n",
       "      <td>41.000000</td>\n",
       "    </tr>\n",
       "    <tr>\n",
       "      <th>50%</th>\n",
       "      <td>2016.000000</td>\n",
       "      <td>274.000000</td>\n",
       "    </tr>\n",
       "    <tr>\n",
       "      <th>75%</th>\n",
       "      <td>2022.000000</td>\n",
       "      <td>1844.000000</td>\n",
       "    </tr>\n",
       "    <tr>\n",
       "      <th>max</th>\n",
       "      <td>2022.000000</td>\n",
       "      <td>294369.000000</td>\n",
       "    </tr>\n",
       "  </tbody>\n",
       "</table>\n",
       "</div>"
      ],
      "text/plain": [
       "       Census_Year          Value\n",
       "count  2970.000000    2970.000000\n",
       "mean   2016.333333    3602.510438\n",
       "std       4.497670   13180.475837\n",
       "min    2011.000000       0.000000\n",
       "25%    2011.000000      41.000000\n",
       "50%    2016.000000     274.000000\n",
       "75%    2022.000000    1844.000000\n",
       "max    2022.000000  294369.000000"
      ]
     },
     "execution_count": 13,
     "metadata": {},
     "output_type": "execute_result"
    }
   ],
   "source": [
    "df.describe()"
   ]
  },
  {
   "cell_type": "code",
   "execution_count": 14,
   "id": "5ecf153f",
   "metadata": {},
   "outputs": [
    {
     "data": {
      "text/html": [
       "<div>\n",
       "<style scoped>\n",
       "    .dataframe tbody tr th:only-of-type {\n",
       "        vertical-align: middle;\n",
       "    }\n",
       "\n",
       "    .dataframe tbody tr th {\n",
       "        vertical-align: top;\n",
       "    }\n",
       "\n",
       "    .dataframe thead th {\n",
       "        text-align: right;\n",
       "    }\n",
       "</style>\n",
       "<table border=\"1\" class=\"dataframe\">\n",
       "  <thead>\n",
       "    <tr style=\"text-align: right;\">\n",
       "      <th></th>\n",
       "      <th>Sex</th>\n",
       "      <th>Regular_Unpaid_Help</th>\n",
       "      <th>Age_Group</th>\n",
       "      <th>Present_Economic_Status</th>\n",
       "    </tr>\n",
       "  </thead>\n",
       "  <tbody>\n",
       "    <tr>\n",
       "      <th>count</th>\n",
       "      <td>2970</td>\n",
       "      <td>2970</td>\n",
       "      <td>2970</td>\n",
       "      <td>2970</td>\n",
       "    </tr>\n",
       "    <tr>\n",
       "      <th>unique</th>\n",
       "      <td>3</td>\n",
       "      <td>6</td>\n",
       "      <td>5</td>\n",
       "      <td>11</td>\n",
       "    </tr>\n",
       "    <tr>\n",
       "      <th>top</th>\n",
       "      <td>Both sexes</td>\n",
       "      <td>All carers</td>\n",
       "      <td>All ages</td>\n",
       "      <td>All persons aged 15 years and over</td>\n",
       "    </tr>\n",
       "    <tr>\n",
       "      <th>freq</th>\n",
       "      <td>990</td>\n",
       "      <td>495</td>\n",
       "      <td>594</td>\n",
       "      <td>270</td>\n",
       "    </tr>\n",
       "  </tbody>\n",
       "</table>\n",
       "</div>"
      ],
      "text/plain": [
       "               Sex Regular_Unpaid_Help Age_Group  \\\n",
       "count         2970                2970      2970   \n",
       "unique           3                   6         5   \n",
       "top     Both sexes          All carers  All ages   \n",
       "freq           990                 495       594   \n",
       "\n",
       "                   Present_Economic_Status  \n",
       "count                                 2970  \n",
       "unique                                  11  \n",
       "top     All persons aged 15 years and over  \n",
       "freq                                   270  "
      ]
     },
     "execution_count": 14,
     "metadata": {},
     "output_type": "execute_result"
    }
   ],
   "source": [
    "df.describe(include=\"object\")"
   ]
  },
  {
   "cell_type": "code",
   "execution_count": 15,
   "id": "055466c7",
   "metadata": {},
   "outputs": [],
   "source": [
    "import seaborn as sns"
   ]
  },
  {
   "cell_type": "code",
   "execution_count": 16,
   "id": "ced0be62",
   "metadata": {},
   "outputs": [
    {
     "data": {
      "text/plain": [
       "<seaborn.axisgrid.PairGrid at 0x26505fac610>"
      ]
     },
     "execution_count": 16,
     "metadata": {},
     "output_type": "execute_result"
    },
    {
     "data": {
      "image/png": "[encoded data removed]",
      "text/plain": [
       "<Figure size 500x500 with 6 Axes>"
      ]
     },
     "metadata": {},
     "output_type": "display_data"
    }
   ],
   "source": [
    "sns.pairplot(df)"
   ]
  },
  {
   "cell_type": "code",
   "execution_count": 18,
   "id": "8ed8a6be",
   "metadata": {},
   "outputs": [
    {
     "data": {
      "image/png": "[encoded data removed]",
      "text/plain": [
       "<Figure size 640x480 with 1 Axes>"
      ]
     },
     "metadata": {},
     "output_type": "display_data"
    }
   ],
   "source": [
    "sns.boxplot(data=df[\"Value\"]);"
   ]
  },
  {
   "cell_type": "code",
   "execution_count": null,
   "id": "93b27325",
   "metadata": {},
   "outputs": [],
   "source": []
  }
 ],
 "metadata": {
  "kernelspec": {
   "display_name": "Python 3 (ipykernel)",
   "language": "python",
   "name": "python3"
  },
  "language_info": {
   "codemirror_mode": {
    "name": "ipython",
    "version": 3
   },
   "file_extension": ".py",
   "mimetype": "text/x-python",
   "name": "python",
   "nbconvert_exporter": "python",
   "pygments_lexer": "ipython3",
   "version": "3.11.4"
  }
 },
 "nbformat": 4,
 "nbformat_minor": 5
}
