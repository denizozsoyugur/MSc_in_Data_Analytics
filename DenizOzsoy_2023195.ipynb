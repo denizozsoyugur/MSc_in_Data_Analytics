{
 "cells": [
  {
   "cell_type": "code",
   "execution_count": 1,
   "id": "29138c3b",
   "metadata": {},
   "outputs": [],
   "source": [
    "import pandas as pd\n",
    "import numpy as np"
   ]
  },
  {
   "cell_type": "code",
   "execution_count": 2,
   "id": "734618e0",
   "metadata": {},
   "outputs": [],
   "source": [
    "df=pd.read_csv(\"DenizOzsoy_dependantDataBase.csv\")"
   ]
  },
  {
   "cell_type": "code",
   "execution_count": 3,
   "id": "d79f3d69",
   "metadata": {},
   "outputs": [
    {
     "data": {
      "text/html": [
       "<div>\n",
       "<style scoped>\n",
       "    .dataframe tbody tr th:only-of-type {\n",
       "        vertical-align: middle;\n",
       "    }\n",
       "\n",
       "    .dataframe tbody tr th {\n",
       "        vertical-align: top;\n",
       "    }\n",
       "\n",
       "    .dataframe thead th {\n",
       "        text-align: right;\n",
       "    }\n",
       "</style>\n",
       "<table border=\"1\" class=\"dataframe\">\n",
       "  <thead>\n",
       "    <tr style=\"text-align: right;\">\n",
       "      <th></th>\n",
       "      <th>Statistic_Label</th>\n",
       "      <th>Age_Dependents</th>\n",
       "      <th>Type_of_Urban_or_Rural_Area</th>\n",
       "      <th>Year</th>\n",
       "      <th>Unit</th>\n",
       "      <th>Value</th>\n",
       "    </tr>\n",
       "  </thead>\n",
       "  <tbody>\n",
       "    <tr>\n",
       "      <th>0</th>\n",
       "      <td>Family Units in Private Households</td>\n",
       "      <td>All Ages</td>\n",
       "      <td>State</td>\n",
       "      <td>2011</td>\n",
       "      <td>Number</td>\n",
       "      <td>4525281</td>\n",
       "    </tr>\n",
       "    <tr>\n",
       "      <th>1</th>\n",
       "      <td>Family Units in Private Households</td>\n",
       "      <td>All Ages</td>\n",
       "      <td>State</td>\n",
       "      <td>2016</td>\n",
       "      <td>Number</td>\n",
       "      <td>4689921</td>\n",
       "    </tr>\n",
       "    <tr>\n",
       "      <th>2</th>\n",
       "      <td>Family Units in Private Households</td>\n",
       "      <td>All Ages</td>\n",
       "      <td>Cities</td>\n",
       "      <td>2011</td>\n",
       "      <td>Number</td>\n",
       "      <td>1488409</td>\n",
       "    </tr>\n",
       "    <tr>\n",
       "      <th>3</th>\n",
       "      <td>Family Units in Private Households</td>\n",
       "      <td>All Ages</td>\n",
       "      <td>Cities</td>\n",
       "      <td>2016</td>\n",
       "      <td>Number</td>\n",
       "      <td>1567945</td>\n",
       "    </tr>\n",
       "    <tr>\n",
       "      <th>4</th>\n",
       "      <td>Family Units in Private Households</td>\n",
       "      <td>All Ages</td>\n",
       "      <td>Satellite urban towns</td>\n",
       "      <td>2011</td>\n",
       "      <td>Number</td>\n",
       "      <td>581284</td>\n",
       "    </tr>\n",
       "  </tbody>\n",
       "</table>\n",
       "</div>"
      ],
      "text/plain": [
       "                      Statistic_Label Age_Dependents  \\\n",
       "0  Family Units in Private Households       All Ages   \n",
       "1  Family Units in Private Households       All Ages   \n",
       "2  Family Units in Private Households       All Ages   \n",
       "3  Family Units in Private Households       All Ages   \n",
       "4  Family Units in Private Households       All Ages   \n",
       "\n",
       "  Type_of_Urban_or_Rural_Area  Year    Unit    Value  \n",
       "0                       State  2011  Number  4525281  \n",
       "1                       State  2016  Number  4689921  \n",
       "2                      Cities  2011  Number  1488409  \n",
       "3                      Cities  2016  Number  1567945  \n",
       "4       Satellite urban towns  2011  Number   581284  "
      ]
     },
     "execution_count": 3,
     "metadata": {},
     "output_type": "execute_result"
    }
   ],
   "source": [
    "df.head()"
   ]
  },
  {
   "cell_type": "code",
   "execution_count": 4,
   "id": "7be31ce8",
   "metadata": {},
   "outputs": [],
   "source": [
    "df.drop(columns=[\"Statistic_Label\", \"Unit\"],  axis=1, inplace=True)"
   ]
  },
  {
   "cell_type": "code",
   "execution_count": 5,
   "id": "3f9226ff",
   "metadata": {},
   "outputs": [
    {
     "data": {
      "text/plain": [
       "(70, 4)"
      ]
     },
     "execution_count": 5,
     "metadata": {},
     "output_type": "execute_result"
    }
   ],
   "source": [
    "df.shape"
   ]
  },
  {
   "cell_type": "code",
   "execution_count": 6,
   "id": "c9ce2961",
   "metadata": {},
   "outputs": [
    {
     "name": "stdout",
     "output_type": "stream",
     "text": [
      "<class 'pandas.core.frame.DataFrame'>\n",
      "RangeIndex: 70 entries, 0 to 69\n",
      "Data columns (total 4 columns):\n",
      " #   Column                       Non-Null Count  Dtype \n",
      "---  ------                       --------------  ----- \n",
      " 0   Age_Dependents               70 non-null     object\n",
      " 1   Type_of_Urban_or_Rural_Area  70 non-null     object\n",
      " 2   Year                         70 non-null     int64 \n",
      " 3   Value                        70 non-null     int64 \n",
      "dtypes: int64(2), object(2)\n",
      "memory usage: 2.3+ KB\n"
     ]
    }
   ],
   "source": [
    "df.info()"
   ]
  },
  {
   "cell_type": "code",
   "execution_count": 7,
   "id": "69aff5c8",
   "metadata": {},
   "outputs": [
    {
     "data": {
      "text/html": [
       "<div>\n",
       "<style scoped>\n",
       "    .dataframe tbody tr th:only-of-type {\n",
       "        vertical-align: middle;\n",
       "    }\n",
       "\n",
       "    .dataframe tbody tr th {\n",
       "        vertical-align: top;\n",
       "    }\n",
       "\n",
       "    .dataframe thead th {\n",
       "        text-align: right;\n",
       "    }\n",
       "</style>\n",
       "<table border=\"1\" class=\"dataframe\">\n",
       "  <thead>\n",
       "    <tr style=\"text-align: right;\">\n",
       "      <th></th>\n",
       "      <th>Year</th>\n",
       "      <th>Value</th>\n",
       "    </tr>\n",
       "  </thead>\n",
       "  <tbody>\n",
       "    <tr>\n",
       "      <th>count</th>\n",
       "      <td>70.000000</td>\n",
       "      <td>7.000000e+01</td>\n",
       "    </tr>\n",
       "    <tr>\n",
       "      <th>mean</th>\n",
       "      <td>2013.500000</td>\n",
       "      <td>6.160434e+05</td>\n",
       "    </tr>\n",
       "    <tr>\n",
       "      <th>std</th>\n",
       "      <td>2.518051</td>\n",
       "      <td>9.000944e+05</td>\n",
       "    </tr>\n",
       "    <tr>\n",
       "      <th>min</th>\n",
       "      <td>2011.000000</td>\n",
       "      <td>4.635100e+04</td>\n",
       "    </tr>\n",
       "    <tr>\n",
       "      <th>25%</th>\n",
       "      <td>2011.000000</td>\n",
       "      <td>1.598830e+05</td>\n",
       "    </tr>\n",
       "    <tr>\n",
       "      <th>50%</th>\n",
       "      <td>2013.500000</td>\n",
       "      <td>2.879135e+05</td>\n",
       "    </tr>\n",
       "    <tr>\n",
       "      <th>75%</th>\n",
       "      <td>2016.000000</td>\n",
       "      <td>5.947765e+05</td>\n",
       "    </tr>\n",
       "    <tr>\n",
       "      <th>max</th>\n",
       "      <td>2016.000000</td>\n",
       "      <td>4.689921e+06</td>\n",
       "    </tr>\n",
       "  </tbody>\n",
       "</table>\n",
       "</div>"
      ],
      "text/plain": [
       "              Year         Value\n",
       "count    70.000000  7.000000e+01\n",
       "mean   2013.500000  6.160434e+05\n",
       "std       2.518051  9.000944e+05\n",
       "min    2011.000000  4.635100e+04\n",
       "25%    2011.000000  1.598830e+05\n",
       "50%    2013.500000  2.879135e+05\n",
       "75%    2016.000000  5.947765e+05\n",
       "max    2016.000000  4.689921e+06"
      ]
     },
     "execution_count": 7,
     "metadata": {},
     "output_type": "execute_result"
    }
   ],
   "source": [
    "df.describe()"
   ]
  },
  {
   "cell_type": "code",
   "execution_count": 8,
   "id": "5720f891",
   "metadata": {},
   "outputs": [
    {
     "data": {
      "text/plain": [
       "Age_Dependents                 0\n",
       "Type_of_Urban_or_Rural_Area    0\n",
       "Year                           0\n",
       "Value                          0\n",
       "dtype: int64"
      ]
     },
     "execution_count": 8,
     "metadata": {},
     "output_type": "execute_result"
    }
   ],
   "source": [
    "df.isnull().sum()"
   ]
  },
  {
   "cell_type": "code",
   "execution_count": 9,
   "id": "ffd491ca",
   "metadata": {},
   "outputs": [
    {
     "data": {
      "text/html": [
       "<div>\n",
       "<style scoped>\n",
       "    .dataframe tbody tr th:only-of-type {\n",
       "        vertical-align: middle;\n",
       "    }\n",
       "\n",
       "    .dataframe tbody tr th {\n",
       "        vertical-align: top;\n",
       "    }\n",
       "\n",
       "    .dataframe thead th {\n",
       "        text-align: right;\n",
       "    }\n",
       "</style>\n",
       "<table border=\"1\" class=\"dataframe\">\n",
       "  <thead>\n",
       "    <tr style=\"text-align: right;\">\n",
       "      <th></th>\n",
       "      <th>Age_Dependents</th>\n",
       "      <th>Type_of_Urban_or_Rural_Area</th>\n",
       "      <th>Year</th>\n",
       "      <th>Value</th>\n",
       "    </tr>\n",
       "  </thead>\n",
       "  <tbody>\n",
       "    <tr>\n",
       "      <th>0</th>\n",
       "      <td>All Ages</td>\n",
       "      <td>State</td>\n",
       "      <td>2011</td>\n",
       "      <td>4525281</td>\n",
       "    </tr>\n",
       "    <tr>\n",
       "      <th>1</th>\n",
       "      <td>All Ages</td>\n",
       "      <td>State</td>\n",
       "      <td>2016</td>\n",
       "      <td>4689921</td>\n",
       "    </tr>\n",
       "    <tr>\n",
       "      <th>2</th>\n",
       "      <td>All Ages</td>\n",
       "      <td>Cities</td>\n",
       "      <td>2011</td>\n",
       "      <td>1488409</td>\n",
       "    </tr>\n",
       "    <tr>\n",
       "      <th>3</th>\n",
       "      <td>All Ages</td>\n",
       "      <td>Cities</td>\n",
       "      <td>2016</td>\n",
       "      <td>1567945</td>\n",
       "    </tr>\n",
       "    <tr>\n",
       "      <th>4</th>\n",
       "      <td>All Ages</td>\n",
       "      <td>Satellite urban towns</td>\n",
       "      <td>2011</td>\n",
       "      <td>581284</td>\n",
       "    </tr>\n",
       "    <tr>\n",
       "      <th>5</th>\n",
       "      <td>All Ages</td>\n",
       "      <td>Satellite urban towns</td>\n",
       "      <td>2016</td>\n",
       "      <td>597355</td>\n",
       "    </tr>\n",
       "    <tr>\n",
       "      <th>6</th>\n",
       "      <td>All Ages</td>\n",
       "      <td>Independent urban towns</td>\n",
       "      <td>2011</td>\n",
       "      <td>730327</td>\n",
       "    </tr>\n",
       "    <tr>\n",
       "      <th>7</th>\n",
       "      <td>All Ages</td>\n",
       "      <td>Independent urban towns</td>\n",
       "      <td>2016</td>\n",
       "      <td>770329</td>\n",
       "    </tr>\n",
       "    <tr>\n",
       "      <th>8</th>\n",
       "      <td>All Ages</td>\n",
       "      <td>Rural areas with high urban influence</td>\n",
       "      <td>2011</td>\n",
       "      <td>732636</td>\n",
       "    </tr>\n",
       "    <tr>\n",
       "      <th>9</th>\n",
       "      <td>All Ages</td>\n",
       "      <td>Rural areas with high urban influence</td>\n",
       "      <td>2016</td>\n",
       "      <td>754794</td>\n",
       "    </tr>\n",
       "  </tbody>\n",
       "</table>\n",
       "</div>"
      ],
      "text/plain": [
       "  Age_Dependents            Type_of_Urban_or_Rural_Area  Year    Value\n",
       "0       All Ages                                  State  2011  4525281\n",
       "1       All Ages                                  State  2016  4689921\n",
       "2       All Ages                                 Cities  2011  1488409\n",
       "3       All Ages                                 Cities  2016  1567945\n",
       "4       All Ages                  Satellite urban towns  2011   581284\n",
       "5       All Ages                  Satellite urban towns  2016   597355\n",
       "6       All Ages                Independent urban towns  2011   730327\n",
       "7       All Ages                Independent urban towns  2016   770329\n",
       "8       All Ages  Rural areas with high urban influence  2011   732636\n",
       "9       All Ages  Rural areas with high urban influence  2016   754794"
      ]
     },
     "execution_count": 9,
     "metadata": {},
     "output_type": "execute_result"
    }
   ],
   "source": [
    "df.head(10)"
   ]
  },
  {
   "cell_type": "code",
   "execution_count": 10,
   "id": "12e17da8",
   "metadata": {},
   "outputs": [
    {
     "data": {
      "text/html": [
       "<div>\n",
       "<style scoped>\n",
       "    .dataframe tbody tr th:only-of-type {\n",
       "        vertical-align: middle;\n",
       "    }\n",
       "\n",
       "    .dataframe tbody tr th {\n",
       "        vertical-align: top;\n",
       "    }\n",
       "\n",
       "    .dataframe thead th {\n",
       "        text-align: right;\n",
       "    }\n",
       "</style>\n",
       "<table border=\"1\" class=\"dataframe\">\n",
       "  <thead>\n",
       "    <tr style=\"text-align: right;\">\n",
       "      <th></th>\n",
       "      <th>Age_Dependents</th>\n",
       "      <th>Type_of_Urban_or_Rural_Area</th>\n",
       "    </tr>\n",
       "  </thead>\n",
       "  <tbody>\n",
       "    <tr>\n",
       "      <th>count</th>\n",
       "      <td>70</td>\n",
       "      <td>70</td>\n",
       "    </tr>\n",
       "    <tr>\n",
       "      <th>unique</th>\n",
       "      <td>5</td>\n",
       "      <td>7</td>\n",
       "    </tr>\n",
       "    <tr>\n",
       "      <th>top</th>\n",
       "      <td>All Ages</td>\n",
       "      <td>State</td>\n",
       "    </tr>\n",
       "    <tr>\n",
       "      <th>freq</th>\n",
       "      <td>14</td>\n",
       "      <td>10</td>\n",
       "    </tr>\n",
       "  </tbody>\n",
       "</table>\n",
       "</div>"
      ],
      "text/plain": [
       "       Age_Dependents Type_of_Urban_or_Rural_Area\n",
       "count              70                          70\n",
       "unique              5                           7\n",
       "top          All Ages                       State\n",
       "freq               14                          10"
      ]
     },
     "execution_count": 10,
     "metadata": {},
     "output_type": "execute_result"
    }
   ],
   "source": [
    "df.describe(include=\"object\")"
   ]
  },
  {
   "cell_type": "code",
   "execution_count": 11,
   "id": "946bc705",
   "metadata": {},
   "outputs": [
    {
     "data": {
      "text/plain": [
       "array([4525281, 4689921, 1488409, 1567945,  581284,  597355,  730327,\n",
       "        770329,  732636,  754794,  577748,  587041,  414877,  412457,\n",
       "       1502703, 1628413,  451609,  493164,  189772,  206786,  245609,\n",
       "        272036,  256761,  275945,  206890,  220287,  152062,  160195,\n",
       "        528711,  626077,  170796,  198150,   46351,   57296,   85830,\n",
       "         99682,   81380,  100484,   76860,   91617,   67494,   78848,\n",
       "       3022578, 3061508, 1036800, 1074781,  391512,  390569,  484718,\n",
       "        498293,  475875,  478849,  370858,  366754,  262815,  252262,\n",
       "        973992, 1002336,  280813,  295014,  143421,  149490,  159779,\n",
       "        172354,  175381,  175461,  130030,  128670,   84568,   81347],\n",
       "      dtype=int64)"
      ]
     },
     "execution_count": 11,
     "metadata": {},
     "output_type": "execute_result"
    }
   ],
   "source": [
    "df[\"Value\"].unique()"
   ]
  },
  {
   "cell_type": "code",
   "execution_count": 12,
   "id": "19005eff",
   "metadata": {},
   "outputs": [],
   "source": [
    "import seaborn as sns"
   ]
  },
  {
   "cell_type": "code",
   "execution_count": 13,
   "id": "fed2b055",
   "metadata": {},
   "outputs": [
    {
     "data": {
      "image/png": "[encoded data removed]",
      "text/plain": [
       "<Figure size 640x480 with 1 Axes>"
      ]
     },
     "metadata": {},
     "output_type": "display_data"
    }
   ],
   "source": [
    "sns.boxplot(data=df[\"Value\"]);"
   ]
  },
  {
   "cell_type": "code",
   "execution_count": 14,
   "id": "e1e4e898",
   "metadata": {},
   "outputs": [
    {
     "data": {
      "image/png": "[encoded data removed]",
      "text/plain": [
       "<Figure size 640x480 with 1 Axes>"
      ]
     },
     "metadata": {},
     "output_type": "display_data"
    }
   ],
   "source": [
    "sns.histplot(data=df, x=\"Value\");"
   ]
  },
  {
   "cell_type": "code",
   "execution_count": 15,
   "id": "54300a46",
   "metadata": {},
   "outputs": [
    {
     "data": {
      "image/png": "[encoded data removed]",
      "text/plain": [
       "<Figure size 500x500 with 1 Axes>"
      ]
     },
     "metadata": {},
     "output_type": "display_data"
    }
   ],
   "source": [
    "sns.lmplot(x='Year', y='Value', data=df);"
   ]
  },
  {
   "cell_type": "code",
   "execution_count": null,
   "id": "e4b2b365",
   "metadata": {},
   "outputs": [],
   "source": []
  }
 ],
 "metadata": {
  "kernelspec": {
   "display_name": "Python 3 (ipykernel)",
   "language": "python",
   "name": "python3"
  },
  "language_info": {
   "codemirror_mode": {
    "name": "ipython",
    "version": 3
   },
   "file_extension": ".py",
   "mimetype": "text/x-python",
   "name": "python",
   "nbconvert_exporter": "python",
   "pygments_lexer": "ipython3",
   "version": "3.11.4"
  }
 },
 "nbformat": 4,
 "nbformat_minor": 5
}
