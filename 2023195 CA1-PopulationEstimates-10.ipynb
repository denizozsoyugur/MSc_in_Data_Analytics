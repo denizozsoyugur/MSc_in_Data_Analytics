{
 "cells": [
  {
   "cell_type": "code",
   "execution_count": 1,
   "id": "de2813d5",
   "metadata": {},
   "outputs": [],
   "source": [
    "import numpy as np\n",
    "import pandas as pd\n",
    "from matplotlib import pyplot as plt\n",
    "import seaborn as sns\n",
    "from sklearn.preprocessing import OrdinalEncoder\n",
    "from sklearn.preprocessing import LabelEncoder\n",
    "\n",
    "# Import libraries "
   ]
  },
  {
   "cell_type": "code",
   "execution_count": 2,
   "id": "5b61b6bc",
   "metadata": {},
   "outputs": [],
   "source": [
    "import warnings\n",
    "\n",
    "warnings.filterwarnings('ignore')\n",
    "\n",
    "# We can suppress the warnings"
   ]
  },
  {
   "cell_type": "markdown",
   "id": "734c6ac7",
   "metadata": {},
   "source": [
    "Link to the dataset:\n",
    "\n",
    "https://data.cso.ie/table/PEA11\n",
    "\n"
   ]
  },
  {
   "cell_type": "code",
   "execution_count": 3,
   "id": "c5fe0367",
   "metadata": {},
   "outputs": [],
   "source": [
    "df = pd.read_csv(\"PopulationEstimatesDatabase1.csv\")\n",
    "\n",
    "# pd.read_csv function in order to read the csv file containing the population estimated construction status report"
   ]
  },
  {
   "cell_type": "code",
   "execution_count": 4,
   "id": "8509e183",
   "metadata": {},
   "outputs": [],
   "source": [
    "missing_values = ['/',' ','-','--','na','Na','n/a','NA','n.a.','?','nan','Nan','nul','Nul','null','Null']\n",
    "\n",
    "df= pd.read_csv('PopulationEstimatesDatabase1.csv',na_values=missing_values)\n",
    "\n",
    "# Create a list with all the possible missing value formats. Create a name for the dataframe as report\n",
    "# ('PopulationEstimatesDatabase1')and apply the pd.read_csv function \n",
    "# Include the variable 'na_values' and define it with the 'missing values' list previously created"
   ]
  },
  {
   "cell_type": "code",
   "execution_count": 5,
   "id": "8ecc6fa1",
   "metadata": {},
   "outputs": [
    {
     "data": {
      "text/plain": [
       "STATISTIC Label       0\n",
       "Year                  0\n",
       "Single Year of Age    0\n",
       "Sex                   0\n",
       "UNIT                  0\n",
       "VALUE                 0\n",
       "dtype: int64"
      ]
     },
     "execution_count": 5,
     "metadata": {},
     "output_type": "execute_result"
    }
   ],
   "source": [
    "df.isnull().sum()\n",
    "\n",
    "# Check missing values by applying the .isnull().sum method to the dataframe"
   ]
  },
  {
   "cell_type": "code",
   "execution_count": 6,
   "id": "8aaed91a",
   "metadata": {},
   "outputs": [
    {
     "name": "stdout",
     "output_type": "stream",
     "text": [
      "<class 'pandas.core.frame.DataFrame'>\n",
      "RangeIndex: 11817 entries, 0 to 11816\n",
      "Data columns (total 6 columns):\n",
      " #   Column              Non-Null Count  Dtype \n",
      "---  ------              --------------  ----- \n",
      " 0   STATISTIC Label     11817 non-null  object\n",
      " 1   Year                11817 non-null  int64 \n",
      " 2   Single Year of Age  11817 non-null  object\n",
      " 3   Sex                 11817 non-null  object\n",
      " 4   UNIT                11817 non-null  object\n",
      " 5   VALUE               11817 non-null  int64 \n",
      "dtypes: int64(2), object(4)\n",
      "memory usage: 554.1+ KB\n"
     ]
    }
   ],
   "source": [
    "df.info()\n",
    "\n",
    "# Check the information of the dataframe by applying the .info() function"
   ]
  },
  {
   "cell_type": "code",
   "execution_count": 7,
   "id": "83b4b4bb",
   "metadata": {},
   "outputs": [
    {
     "data": {
      "text/html": [
       "<div>\n",
       "<style scoped>\n",
       "    .dataframe tbody tr th:only-of-type {\n",
       "        vertical-align: middle;\n",
       "    }\n",
       "\n",
       "    .dataframe tbody tr th {\n",
       "        vertical-align: top;\n",
       "    }\n",
       "\n",
       "    .dataframe thead th {\n",
       "        text-align: right;\n",
       "    }\n",
       "</style>\n",
       "<table border=\"1\" class=\"dataframe\">\n",
       "  <thead>\n",
       "    <tr style=\"text-align: right;\">\n",
       "      <th></th>\n",
       "      <th>STATISTIC Label</th>\n",
       "      <th>Year</th>\n",
       "      <th>Single Year of Age</th>\n",
       "      <th>Sex</th>\n",
       "      <th>UNIT</th>\n",
       "      <th>VALUE</th>\n",
       "    </tr>\n",
       "  </thead>\n",
       "  <tbody>\n",
       "    <tr>\n",
       "      <th>0</th>\n",
       "      <td>Population estimates from 1926</td>\n",
       "      <td>1926</td>\n",
       "      <td>All ages</td>\n",
       "      <td>Both sexes</td>\n",
       "      <td>Number</td>\n",
       "      <td>2971992</td>\n",
       "    </tr>\n",
       "    <tr>\n",
       "      <th>1</th>\n",
       "      <td>Population estimates from 1926</td>\n",
       "      <td>1926</td>\n",
       "      <td>All ages</td>\n",
       "      <td>Male</td>\n",
       "      <td>Number</td>\n",
       "      <td>1506889</td>\n",
       "    </tr>\n",
       "    <tr>\n",
       "      <th>2</th>\n",
       "      <td>Population estimates from 1926</td>\n",
       "      <td>1926</td>\n",
       "      <td>All ages</td>\n",
       "      <td>Female</td>\n",
       "      <td>Number</td>\n",
       "      <td>1465103</td>\n",
       "    </tr>\n",
       "    <tr>\n",
       "      <th>3</th>\n",
       "      <td>Population estimates from 1926</td>\n",
       "      <td>1926</td>\n",
       "      <td>Under 1 year</td>\n",
       "      <td>Both sexes</td>\n",
       "      <td>Number</td>\n",
       "      <td>55391</td>\n",
       "    </tr>\n",
       "    <tr>\n",
       "      <th>4</th>\n",
       "      <td>Population estimates from 1926</td>\n",
       "      <td>1926</td>\n",
       "      <td>Under 1 year</td>\n",
       "      <td>Male</td>\n",
       "      <td>Number</td>\n",
       "      <td>28084</td>\n",
       "    </tr>\n",
       "  </tbody>\n",
       "</table>\n",
       "</div>"
      ],
      "text/plain": [
       "                  STATISTIC Label  Year Single Year of Age         Sex  \\\n",
       "0  Population estimates from 1926  1926           All ages  Both sexes   \n",
       "1  Population estimates from 1926  1926           All ages        Male   \n",
       "2  Population estimates from 1926  1926           All ages      Female   \n",
       "3  Population estimates from 1926  1926       Under 1 year  Both sexes   \n",
       "4  Population estimates from 1926  1926       Under 1 year        Male   \n",
       "\n",
       "     UNIT    VALUE  \n",
       "0  Number  2971992  \n",
       "1  Number  1506889  \n",
       "2  Number  1465103  \n",
       "3  Number    55391  \n",
       "4  Number    28084  "
      ]
     },
     "execution_count": 7,
     "metadata": {},
     "output_type": "execute_result"
    }
   ],
   "source": [
    "df.head(5)\n",
    "\n",
    "# Print the first 5 rows of the dataframe by applying the.head() function"
   ]
  },
  {
   "cell_type": "code",
   "execution_count": 8,
   "id": "88837161",
   "metadata": {},
   "outputs": [
    {
     "data": {
      "text/html": [
       "<div>\n",
       "<style scoped>\n",
       "    .dataframe tbody tr th:only-of-type {\n",
       "        vertical-align: middle;\n",
       "    }\n",
       "\n",
       "    .dataframe tbody tr th {\n",
       "        vertical-align: top;\n",
       "    }\n",
       "\n",
       "    .dataframe thead th {\n",
       "        text-align: right;\n",
       "    }\n",
       "</style>\n",
       "<table border=\"1\" class=\"dataframe\">\n",
       "  <thead>\n",
       "    <tr style=\"text-align: right;\">\n",
       "      <th></th>\n",
       "      <th>STATISTIC Label</th>\n",
       "      <th>Year</th>\n",
       "      <th>Single Year of Age</th>\n",
       "      <th>Sex</th>\n",
       "      <th>UNIT</th>\n",
       "      <th>VALUE</th>\n",
       "    </tr>\n",
       "  </thead>\n",
       "  <tbody>\n",
       "    <tr>\n",
       "      <th>11812</th>\n",
       "      <td>Population estimates from 1926</td>\n",
       "      <td>2023</td>\n",
       "      <td>98 years</td>\n",
       "      <td>Male</td>\n",
       "      <td>Number</td>\n",
       "      <td>197</td>\n",
       "    </tr>\n",
       "    <tr>\n",
       "      <th>11813</th>\n",
       "      <td>Population estimates from 1926</td>\n",
       "      <td>2023</td>\n",
       "      <td>98 years</td>\n",
       "      <td>Female</td>\n",
       "      <td>Number</td>\n",
       "      <td>632</td>\n",
       "    </tr>\n",
       "    <tr>\n",
       "      <th>11814</th>\n",
       "      <td>Population estimates from 1926</td>\n",
       "      <td>2023</td>\n",
       "      <td>99 years and over</td>\n",
       "      <td>Both sexes</td>\n",
       "      <td>Number</td>\n",
       "      <td>1600</td>\n",
       "    </tr>\n",
       "    <tr>\n",
       "      <th>11815</th>\n",
       "      <td>Population estimates from 1926</td>\n",
       "      <td>2023</td>\n",
       "      <td>99 years and over</td>\n",
       "      <td>Male</td>\n",
       "      <td>Number</td>\n",
       "      <td>352</td>\n",
       "    </tr>\n",
       "    <tr>\n",
       "      <th>11816</th>\n",
       "      <td>Population estimates from 1926</td>\n",
       "      <td>2023</td>\n",
       "      <td>99 years and over</td>\n",
       "      <td>Female</td>\n",
       "      <td>Number</td>\n",
       "      <td>1248</td>\n",
       "    </tr>\n",
       "  </tbody>\n",
       "</table>\n",
       "</div>"
      ],
      "text/plain": [
       "                      STATISTIC Label  Year Single Year of Age         Sex  \\\n",
       "11812  Population estimates from 1926  2023           98 years        Male   \n",
       "11813  Population estimates from 1926  2023           98 years      Female   \n",
       "11814  Population estimates from 1926  2023  99 years and over  Both sexes   \n",
       "11815  Population estimates from 1926  2023  99 years and over        Male   \n",
       "11816  Population estimates from 1926  2023  99 years and over      Female   \n",
       "\n",
       "         UNIT  VALUE  \n",
       "11812  Number    197  \n",
       "11813  Number    632  \n",
       "11814  Number   1600  \n",
       "11815  Number    352  \n",
       "11816  Number   1248  "
      ]
     },
     "execution_count": 8,
     "metadata": {},
     "output_type": "execute_result"
    }
   ],
   "source": [
    "df.tail(5)\n",
    "\n",
    "# Print the last 5 rows of the dataframe by applying the .tail() function"
   ]
  },
  {
   "cell_type": "code",
   "execution_count": 9,
   "id": "d1067407",
   "metadata": {},
   "outputs": [
    {
     "data": {
      "text/plain": [
       "(11817, 6)"
      ]
     },
     "execution_count": 9,
     "metadata": {},
     "output_type": "execute_result"
    }
   ],
   "source": [
    "df.shape\n",
    "\n",
    "# The number of rows and columns of the dataframe by applying the .shape function"
   ]
  },
  {
   "cell_type": "markdown",
   "id": "3d7f622a",
   "metadata": {},
   "source": [
    "This dataframe contains 11817 rows and 6 columns"
   ]
  },
  {
   "cell_type": "code",
   "execution_count": 10,
   "id": "395612df",
   "metadata": {},
   "outputs": [
    {
     "data": {
      "text/plain": [
       "STATISTIC Label       object\n",
       "Year                   int64\n",
       "Single Year of Age    object\n",
       "Sex                   object\n",
       "UNIT                  object\n",
       "VALUE                  int64\n",
       "dtype: object"
      ]
     },
     "execution_count": 10,
     "metadata": {},
     "output_type": "execute_result"
    }
   ],
   "source": [
    "df.dtypes\n",
    "\n",
    "# The data types of the dataframe by applying the .dtypes attribute to the dataframe"
   ]
  },
  {
   "cell_type": "code",
   "execution_count": 11,
   "id": "5a36e59e",
   "metadata": {},
   "outputs": [
    {
     "data": {
      "text/plain": [
       "Index(['STATISTIC Label', 'Year', 'Single Year of Age', 'Sex', 'UNIT',\n",
       "       'VALUE'],\n",
       "      dtype='object')"
      ]
     },
     "execution_count": 11,
     "metadata": {},
     "output_type": "execute_result"
    }
   ],
   "source": [
    "df.columns\n",
    "\n",
    "# Check the column names of the dataframe by applying the .columns attribute"
   ]
  },
  {
   "cell_type": "code",
   "execution_count": 12,
   "id": "4ae13e9b",
   "metadata": {},
   "outputs": [],
   "source": [
    "df.drop(columns=[\"STATISTIC Label\", \"UNIT\"], inplace=True)\n",
    "\n",
    "# Apply .drop() to remove the spesific column as it contains the same index values"
   ]
  },
  {
   "cell_type": "code",
   "execution_count": 13,
   "id": "9673275e",
   "metadata": {},
   "outputs": [
    {
     "data": {
      "text/html": [
       "<div>\n",
       "<style scoped>\n",
       "    .dataframe tbody tr th:only-of-type {\n",
       "        vertical-align: middle;\n",
       "    }\n",
       "\n",
       "    .dataframe tbody tr th {\n",
       "        vertical-align: top;\n",
       "    }\n",
       "\n",
       "    .dataframe thead th {\n",
       "        text-align: right;\n",
       "    }\n",
       "</style>\n",
       "<table border=\"1\" class=\"dataframe\">\n",
       "  <thead>\n",
       "    <tr style=\"text-align: right;\">\n",
       "      <th></th>\n",
       "      <th>Year</th>\n",
       "      <th>Single Year of Age</th>\n",
       "      <th>Sex</th>\n",
       "      <th>VALUE</th>\n",
       "    </tr>\n",
       "  </thead>\n",
       "  <tbody>\n",
       "    <tr>\n",
       "      <th>0</th>\n",
       "      <td>1926</td>\n",
       "      <td>All ages</td>\n",
       "      <td>Both sexes</td>\n",
       "      <td>2971992</td>\n",
       "    </tr>\n",
       "    <tr>\n",
       "      <th>1</th>\n",
       "      <td>1926</td>\n",
       "      <td>All ages</td>\n",
       "      <td>Male</td>\n",
       "      <td>1506889</td>\n",
       "    </tr>\n",
       "    <tr>\n",
       "      <th>2</th>\n",
       "      <td>1926</td>\n",
       "      <td>All ages</td>\n",
       "      <td>Female</td>\n",
       "      <td>1465103</td>\n",
       "    </tr>\n",
       "    <tr>\n",
       "      <th>3</th>\n",
       "      <td>1926</td>\n",
       "      <td>Under 1 year</td>\n",
       "      <td>Both sexes</td>\n",
       "      <td>55391</td>\n",
       "    </tr>\n",
       "    <tr>\n",
       "      <th>4</th>\n",
       "      <td>1926</td>\n",
       "      <td>Under 1 year</td>\n",
       "      <td>Male</td>\n",
       "      <td>28084</td>\n",
       "    </tr>\n",
       "  </tbody>\n",
       "</table>\n",
       "</div>"
      ],
      "text/plain": [
       "   Year Single Year of Age         Sex    VALUE\n",
       "0  1926           All ages  Both sexes  2971992\n",
       "1  1926           All ages        Male  1506889\n",
       "2  1926           All ages      Female  1465103\n",
       "3  1926       Under 1 year  Both sexes    55391\n",
       "4  1926       Under 1 year        Male    28084"
      ]
     },
     "execution_count": 13,
     "metadata": {},
     "output_type": "execute_result"
    }
   ],
   "source": [
    "df.head(5)"
   ]
  },
  {
   "cell_type": "code",
   "execution_count": 14,
   "id": "47207904",
   "metadata": {},
   "outputs": [],
   "source": [
    "df = df.rename(columns={'Single Year of Age': 'Single_Year_of_Age','VALUE': 'Value'})\n",
    "\n",
    "# To correct only the \"VALUE\" spelling in columns-Rename the columns of the dataframe by applying the .rename() method,\n",
    "# spaces between words in column names have been replaced by \"_\" in order to Other columns are suitable."
   ]
  },
  {
   "cell_type": "code",
   "execution_count": 15,
   "id": "db6358ab",
   "metadata": {},
   "outputs": [
    {
     "data": {
      "text/plain": [
       "Index(['Year', 'Single_Year_of_Age', 'Sex', 'Value'], dtype='object')"
      ]
     },
     "execution_count": 15,
     "metadata": {},
     "output_type": "execute_result"
    }
   ],
   "source": [
    "df.columns\n",
    "\n",
    "#check the rename columns again"
   ]
  },
  {
   "cell_type": "code",
   "execution_count": 16,
   "id": "7247a281",
   "metadata": {
    "scrolled": true
   },
   "outputs": [
    {
     "data": {
      "text/html": [
       "<div>\n",
       "<style scoped>\n",
       "    .dataframe tbody tr th:only-of-type {\n",
       "        vertical-align: middle;\n",
       "    }\n",
       "\n",
       "    .dataframe tbody tr th {\n",
       "        vertical-align: top;\n",
       "    }\n",
       "\n",
       "    .dataframe thead th {\n",
       "        text-align: right;\n",
       "    }\n",
       "</style>\n",
       "<table border=\"1\" class=\"dataframe\">\n",
       "  <thead>\n",
       "    <tr style=\"text-align: right;\">\n",
       "      <th></th>\n",
       "      <th>Year</th>\n",
       "      <th>Single_Year_of_Age</th>\n",
       "      <th>Sex</th>\n",
       "      <th>Value</th>\n",
       "    </tr>\n",
       "  </thead>\n",
       "  <tbody>\n",
       "    <tr>\n",
       "      <th>0</th>\n",
       "      <td>1926</td>\n",
       "      <td>All ages</td>\n",
       "      <td>Both sexes</td>\n",
       "      <td>2971992</td>\n",
       "    </tr>\n",
       "    <tr>\n",
       "      <th>1</th>\n",
       "      <td>1926</td>\n",
       "      <td>All ages</td>\n",
       "      <td>Male</td>\n",
       "      <td>1506889</td>\n",
       "    </tr>\n",
       "    <tr>\n",
       "      <th>2</th>\n",
       "      <td>1926</td>\n",
       "      <td>All ages</td>\n",
       "      <td>Female</td>\n",
       "      <td>1465103</td>\n",
       "    </tr>\n",
       "    <tr>\n",
       "      <th>3</th>\n",
       "      <td>1926</td>\n",
       "      <td>Under 1 year</td>\n",
       "      <td>Both sexes</td>\n",
       "      <td>55391</td>\n",
       "    </tr>\n",
       "    <tr>\n",
       "      <th>4</th>\n",
       "      <td>1926</td>\n",
       "      <td>Under 1 year</td>\n",
       "      <td>Male</td>\n",
       "      <td>28084</td>\n",
       "    </tr>\n",
       "  </tbody>\n",
       "</table>\n",
       "</div>"
      ],
      "text/plain": [
       "   Year Single_Year_of_Age         Sex    Value\n",
       "0  1926           All ages  Both sexes  2971992\n",
       "1  1926           All ages        Male  1506889\n",
       "2  1926           All ages      Female  1465103\n",
       "3  1926       Under 1 year  Both sexes    55391\n",
       "4  1926       Under 1 year        Male    28084"
      ]
     },
     "execution_count": 16,
     "metadata": {},
     "output_type": "execute_result"
    }
   ],
   "source": [
    "df.head(5)"
   ]
  },
  {
   "cell_type": "code",
   "execution_count": 17,
   "id": "4b234aa3",
   "metadata": {},
   "outputs": [
    {
     "data": {
      "text/html": [
       "<div>\n",
       "<style scoped>\n",
       "    .dataframe tbody tr th:only-of-type {\n",
       "        vertical-align: middle;\n",
       "    }\n",
       "\n",
       "    .dataframe tbody tr th {\n",
       "        vertical-align: top;\n",
       "    }\n",
       "\n",
       "    .dataframe thead th {\n",
       "        text-align: right;\n",
       "    }\n",
       "</style>\n",
       "<table border=\"1\" class=\"dataframe\">\n",
       "  <thead>\n",
       "    <tr style=\"text-align: right;\">\n",
       "      <th></th>\n",
       "      <th>Single_Year_of_Age</th>\n",
       "      <th>Sex</th>\n",
       "    </tr>\n",
       "  </thead>\n",
       "  <tbody>\n",
       "    <tr>\n",
       "      <th>count</th>\n",
       "      <td>11817</td>\n",
       "      <td>11817</td>\n",
       "    </tr>\n",
       "    <tr>\n",
       "      <th>unique</th>\n",
       "      <td>101</td>\n",
       "      <td>3</td>\n",
       "    </tr>\n",
       "    <tr>\n",
       "      <th>top</th>\n",
       "      <td>All ages</td>\n",
       "      <td>Both sexes</td>\n",
       "    </tr>\n",
       "    <tr>\n",
       "      <th>freq</th>\n",
       "      <td>117</td>\n",
       "      <td>3939</td>\n",
       "    </tr>\n",
       "  </tbody>\n",
       "</table>\n",
       "</div>"
      ],
      "text/plain": [
       "       Single_Year_of_Age         Sex\n",
       "count               11817       11817\n",
       "unique                101           3\n",
       "top              All ages  Both sexes\n",
       "freq                  117        3939"
      ]
     },
     "execution_count": 17,
     "metadata": {},
     "output_type": "execute_result"
    }
   ],
   "source": [
    "df.describe(include = \"object\")\n",
    "\n",
    "#Detailed information about the categorical column"
   ]
  },
  {
   "cell_type": "code",
   "execution_count": 18,
   "id": "56b19663",
   "metadata": {},
   "outputs": [
    {
     "data": {
      "text/html": [
       "<div>\n",
       "<style scoped>\n",
       "    .dataframe tbody tr th:only-of-type {\n",
       "        vertical-align: middle;\n",
       "    }\n",
       "\n",
       "    .dataframe tbody tr th {\n",
       "        vertical-align: top;\n",
       "    }\n",
       "\n",
       "    .dataframe thead th {\n",
       "        text-align: right;\n",
       "    }\n",
       "</style>\n",
       "<table border=\"1\" class=\"dataframe\">\n",
       "  <thead>\n",
       "    <tr style=\"text-align: right;\">\n",
       "      <th></th>\n",
       "      <th>Year</th>\n",
       "      <th>Single_Year_of_Age</th>\n",
       "      <th>Sex</th>\n",
       "      <th>Value</th>\n",
       "    </tr>\n",
       "  </thead>\n",
       "  <tbody>\n",
       "    <tr>\n",
       "      <th>0</th>\n",
       "      <td>1926</td>\n",
       "      <td>All ages</td>\n",
       "      <td>Both sexes</td>\n",
       "      <td>2971992</td>\n",
       "    </tr>\n",
       "    <tr>\n",
       "      <th>1</th>\n",
       "      <td>1926</td>\n",
       "      <td>All ages</td>\n",
       "      <td>Male</td>\n",
       "      <td>1506889</td>\n",
       "    </tr>\n",
       "    <tr>\n",
       "      <th>2</th>\n",
       "      <td>1926</td>\n",
       "      <td>All ages</td>\n",
       "      <td>Female</td>\n",
       "      <td>1465103</td>\n",
       "    </tr>\n",
       "    <tr>\n",
       "      <th>3</th>\n",
       "      <td>1926</td>\n",
       "      <td>Under 1 year</td>\n",
       "      <td>Both sexes</td>\n",
       "      <td>55391</td>\n",
       "    </tr>\n",
       "    <tr>\n",
       "      <th>4</th>\n",
       "      <td>1926</td>\n",
       "      <td>Under 1 year</td>\n",
       "      <td>Male</td>\n",
       "      <td>28084</td>\n",
       "    </tr>\n",
       "  </tbody>\n",
       "</table>\n",
       "</div>"
      ],
      "text/plain": [
       "   Year Single_Year_of_Age         Sex    Value\n",
       "0  1926           All ages  Both sexes  2971992\n",
       "1  1926           All ages        Male  1506889\n",
       "2  1926           All ages      Female  1465103\n",
       "3  1926       Under 1 year  Both sexes    55391\n",
       "4  1926       Under 1 year        Male    28084"
      ]
     },
     "execution_count": 18,
     "metadata": {},
     "output_type": "execute_result"
    }
   ],
   "source": [
    "df.head(5)"
   ]
  },
  {
   "cell_type": "code",
   "execution_count": 19,
   "id": "f0f60209",
   "metadata": {},
   "outputs": [
    {
     "name": "stdout",
     "output_type": "stream",
     "text": [
      "       Year Single_Year_of_Age         Sex    Value\n",
      "0      1926           All ages  Both sexes  2971992\n",
      "303    1936           All ages  Both sexes  2968420\n",
      "606    1946           All ages  Both sexes  2955107\n",
      "909    1951           All ages  Both sexes  2960593\n",
      "1212   1961           All ages  Both sexes  2818341\n",
      "1515   1966           All ages  Both sexes  2884002\n",
      "1818   1971           All ages  Both sexes  2978248\n",
      "2121   1979           All ages  Both sexes  3368217\n",
      "2424   1981           All ages  Both sexes  3443405\n",
      "2727   1986           All ages  Both sexes  3540643\n",
      "3030   1991           All ages  Both sexes  3525719\n",
      "3333   1996           All ages  Both sexes  3626087\n",
      "3636   1997           All ages  Both sexes  3664313\n",
      "3939   1998           All ages  Both sexes  3703082\n",
      "4242   1999           All ages  Both sexes  3741647\n",
      "4545   2000           All ages  Both sexes  3789536\n",
      "4848   2001           All ages  Both sexes  3847198\n",
      "5151   2002           All ages  Both sexes  3917203\n",
      "5454   2003           All ages  Both sexes  3979853\n",
      "5757   2004           All ages  Both sexes  4045188\n",
      "6060   2005           All ages  Both sexes  4133839\n",
      "6363   2006           All ages  Both sexes  4232929\n",
      "6666   2007           All ages  Both sexes  4375842\n",
      "6969   2008           All ages  Both sexes  4485070\n",
      "7272   2009           All ages  Both sexes  4533395\n",
      "7575   2010           All ages  Both sexes  4554763\n",
      "7878   2011           All ages  Both sexes  4574888\n",
      "8181   2012           All ages  Both sexes  4593697\n",
      "8484   2013           All ages  Both sexes  4614669\n",
      "8787   2014           All ages  Both sexes  4645440\n",
      "9090   2015           All ages  Both sexes  4687787\n",
      "9393   2016           All ages  Both sexes  4739597\n",
      "9696   2017           All ages  Both sexes  4810895\n",
      "9999   2018           All ages  Both sexes  4884896\n",
      "10302  2019           All ages  Both sexes  4958471\n",
      "10605  2020           All ages  Both sexes  5029875\n",
      "10908  2021           All ages  Both sexes  5074668\n",
      "11211  2022           All ages  Both sexes  5183966\n",
      "11514  2023           All ages  Both sexes  5281612\n"
     ]
    }
   ],
   "source": [
    "df_frame = pd.DataFrame(df)\n",
    "\n",
    "df1 = df_frame[(df_frame['Single_Year_of_Age'] == 'All ages') & (df_frame['Sex'] == 'Both sexes')]\n",
    "\n",
    "print(df1)\n",
    "\n",
    "# Select only the row with 'All ages' and 'Both Sexes' and the matching column 'value'\n",
    "# and print"
   ]
  },
  {
   "cell_type": "markdown",
   "id": "0e574ad6",
   "metadata": {},
   "source": [
    "Our aim here is to prevent the evaluations from being accurate since the total year of data and the separately stated values are shown as a whole in the single year of age column.\n",
    "\n",
    "We will ensure that the evaluations will accurate results by creating new data frames separately."
   ]
  },
  {
   "cell_type": "code",
   "execution_count": 20,
   "id": "d17b83bb",
   "metadata": {},
   "outputs": [
    {
     "name": "stdout",
     "output_type": "stream",
     "text": [
      "       Year Single_Year_of_Age     Sex    Value\n",
      "1      1926           All ages    Male  1506889\n",
      "2      1926           All ages  Female  1465103\n",
      "4      1926       Under 1 year    Male    28084\n",
      "5      1926       Under 1 year  Female    27307\n",
      "7      1926             1 year    Male    28374\n",
      "...     ...                ...     ...      ...\n",
      "11810  2023           97 years  Female      821\n",
      "11812  2023           98 years    Male      197\n",
      "11813  2023           98 years  Female      632\n",
      "11815  2023  99 years and over    Male      352\n",
      "11816  2023  99 years and over  Female     1248\n",
      "\n",
      "[7878 rows x 4 columns]\n"
     ]
    }
   ],
   "source": [
    "df2 = df_frame.drop(df_frame[(df_frame['Sex'] == 'Both sexes')].index)\n",
    "\n",
    "print(df2)\n"
   ]
  },
  {
   "cell_type": "code",
   "execution_count": 21,
   "id": "3a5be725",
   "metadata": {},
   "outputs": [
    {
     "name": "stdout",
     "output_type": "stream",
     "text": [
      "       Year Single_Year_of_Age     Sex  Value\n",
      "4      1926       Under 1 year    Male  28084\n",
      "5      1926       Under 1 year  Female  27307\n",
      "7      1926             1 year    Male  28374\n",
      "8      1926             1 year  Female  27502\n",
      "10     1926            2 years    Male  29728\n",
      "...     ...                ...     ...    ...\n",
      "11810  2023           97 years  Female    821\n",
      "11812  2023           98 years    Male    197\n",
      "11813  2023           98 years  Female    632\n",
      "11815  2023  99 years and over    Male    352\n",
      "11816  2023  99 years and over  Female   1248\n",
      "\n",
      "[7800 rows x 4 columns]\n"
     ]
    }
   ],
   "source": [
    "df2_frame = pd.DataFrame(df2)\n",
    "\n",
    "df3 = df2_frame.drop(df2_frame[(df2_frame['Single_Year_of_Age'] == 'All ages')].index)\n",
    "\n",
    "print(df3)"
   ]
  },
  {
   "cell_type": "markdown",
   "id": "3e4f1a5e",
   "metadata": {},
   "source": [
    "df data set is the data set that contains all the data. After data editing, another data set was created for graphics and evaluations,\n",
    "\n",
    "df1 data set is a data set showing the total population of Ireland for both genders by years.\n",
    "\n",
    "df2 data set was used to create the df3 data set, df3 data set shows the population totals of male and female genders according to each age.\n",
    "\n",
    "Necessary adjustments were made to obtain more consistent estimates from the data sets."
   ]
  },
  {
   "cell_type": "code",
   "execution_count": 22,
   "id": "f1557e8e",
   "metadata": {},
   "outputs": [],
   "source": [
    "l_encoder = LabelEncoder()\n",
    "\n",
    "# Put the type of all data of object type into the same shape (float).with the Encoder function."
   ]
  },
  {
   "cell_type": "code",
   "execution_count": 23,
   "id": "c93c12d4",
   "metadata": {},
   "outputs": [],
   "source": [
    "df[\"Sex_Encoded\"] =l_encoder.fit_transform(df[\"Sex\"])\n",
    "\n",
    "#To convert the numeric value of the 'Sex' column .l_encoder.fit_transform function"
   ]
  },
  {
   "cell_type": "code",
   "execution_count": 24,
   "id": "d3217340",
   "metadata": {},
   "outputs": [],
   "source": [
    "df[\"Single_Year_of_Age_Encoded\"] = l_encoder.fit_transform(df[\"Single_Year_of_Age\"])"
   ]
  },
  {
   "cell_type": "code",
   "execution_count": 25,
   "id": "72f9a15b",
   "metadata": {},
   "outputs": [],
   "source": [
    "df.drop(columns=[\"Single_Year_of_Age\", \"Sex\"], inplace=True)\n",
    "\n",
    "#We delete unnecessary columns"
   ]
  },
  {
   "cell_type": "code",
   "execution_count": 26,
   "id": "8e6434b3",
   "metadata": {},
   "outputs": [],
   "source": [
    "df1[\"Sex_Encoded\"] = l_encoder.fit_transform(df1[\"Sex\"])"
   ]
  },
  {
   "cell_type": "code",
   "execution_count": 27,
   "id": "3910b938",
   "metadata": {},
   "outputs": [],
   "source": [
    "df1[\"Single_Year_of_Age_Encoded\"] = l_encoder.fit_transform(df1[\"Single_Year_of_Age\"])"
   ]
  },
  {
   "cell_type": "code",
   "execution_count": 28,
   "id": "dc7d175d",
   "metadata": {},
   "outputs": [],
   "source": [
    "df1.drop(columns=[\"Single_Year_of_Age\", \"Sex\",\"Single_Year_of_Age_Encoded\", \"Sex_Encoded\"], inplace=True)"
   ]
  },
  {
   "cell_type": "code",
   "execution_count": 29,
   "id": "2b8c4815",
   "metadata": {},
   "outputs": [],
   "source": [
    "df3[\"Sex_Encoded\"] = l_encoder.fit_transform(df3[\"Sex\"])"
   ]
  },
  {
   "cell_type": "code",
   "execution_count": 30,
   "id": "a7a62178",
   "metadata": {},
   "outputs": [],
   "source": [
    "df3[\"Single_Year_of_Age_Encoded\"] = l_encoder.fit_transform(df3[\"Single_Year_of_Age\"])"
   ]
  },
  {
   "cell_type": "code",
   "execution_count": 31,
   "id": "77da1426",
   "metadata": {},
   "outputs": [],
   "source": [
    "df3.drop(columns=[\"Single_Year_of_Age\", \"Sex\"], inplace=True)"
   ]
  },
  {
   "cell_type": "code",
   "execution_count": 32,
   "id": "f75affbe",
   "metadata": {},
   "outputs": [
    {
     "data": {
      "text/html": [
       "<div>\n",
       "<style scoped>\n",
       "    .dataframe tbody tr th:only-of-type {\n",
       "        vertical-align: middle;\n",
       "    }\n",
       "\n",
       "    .dataframe tbody tr th {\n",
       "        vertical-align: top;\n",
       "    }\n",
       "\n",
       "    .dataframe thead th {\n",
       "        text-align: right;\n",
       "    }\n",
       "</style>\n",
       "<table border=\"1\" class=\"dataframe\">\n",
       "  <thead>\n",
       "    <tr style=\"text-align: right;\">\n",
       "      <th></th>\n",
       "      <th>Year</th>\n",
       "      <th>Value</th>\n",
       "      <th>Sex_Encoded</th>\n",
       "      <th>Single_Year_of_Age_Encoded</th>\n",
       "    </tr>\n",
       "  </thead>\n",
       "  <tbody>\n",
       "    <tr>\n",
       "      <th>0</th>\n",
       "      <td>1926</td>\n",
       "      <td>2971992</td>\n",
       "      <td>0</td>\n",
       "      <td>99</td>\n",
       "    </tr>\n",
       "    <tr>\n",
       "      <th>1</th>\n",
       "      <td>1926</td>\n",
       "      <td>1506889</td>\n",
       "      <td>2</td>\n",
       "      <td>99</td>\n",
       "    </tr>\n",
       "    <tr>\n",
       "      <th>2</th>\n",
       "      <td>1926</td>\n",
       "      <td>1465103</td>\n",
       "      <td>1</td>\n",
       "      <td>99</td>\n",
       "    </tr>\n",
       "    <tr>\n",
       "      <th>3</th>\n",
       "      <td>1926</td>\n",
       "      <td>55391</td>\n",
       "      <td>0</td>\n",
       "      <td>100</td>\n",
       "    </tr>\n",
       "    <tr>\n",
       "      <th>4</th>\n",
       "      <td>1926</td>\n",
       "      <td>28084</td>\n",
       "      <td>2</td>\n",
       "      <td>100</td>\n",
       "    </tr>\n",
       "  </tbody>\n",
       "</table>\n",
       "</div>"
      ],
      "text/plain": [
       "   Year    Value  Sex_Encoded  Single_Year_of_Age_Encoded\n",
       "0  1926  2971992            0                          99\n",
       "1  1926  1506889            2                          99\n",
       "2  1926  1465103            1                          99\n",
       "3  1926    55391            0                         100\n",
       "4  1926    28084            2                         100"
      ]
     },
     "execution_count": 32,
     "metadata": {},
     "output_type": "execute_result"
    }
   ],
   "source": [
    "df.head(5)\n",
    "\n",
    "# We check all new dataframes with .head() function"
   ]
  },
  {
   "cell_type": "code",
   "execution_count": 33,
   "id": "0962bb36",
   "metadata": {},
   "outputs": [
    {
     "data": {
      "text/html": [
       "<div>\n",
       "<style scoped>\n",
       "    .dataframe tbody tr th:only-of-type {\n",
       "        vertical-align: middle;\n",
       "    }\n",
       "\n",
       "    .dataframe tbody tr th {\n",
       "        vertical-align: top;\n",
       "    }\n",
       "\n",
       "    .dataframe thead th {\n",
       "        text-align: right;\n",
       "    }\n",
       "</style>\n",
       "<table border=\"1\" class=\"dataframe\">\n",
       "  <thead>\n",
       "    <tr style=\"text-align: right;\">\n",
       "      <th></th>\n",
       "      <th>Year</th>\n",
       "      <th>Value</th>\n",
       "    </tr>\n",
       "  </thead>\n",
       "  <tbody>\n",
       "    <tr>\n",
       "      <th>0</th>\n",
       "      <td>1926</td>\n",
       "      <td>2971992</td>\n",
       "    </tr>\n",
       "    <tr>\n",
       "      <th>303</th>\n",
       "      <td>1936</td>\n",
       "      <td>2968420</td>\n",
       "    </tr>\n",
       "    <tr>\n",
       "      <th>606</th>\n",
       "      <td>1946</td>\n",
       "      <td>2955107</td>\n",
       "    </tr>\n",
       "    <tr>\n",
       "      <th>909</th>\n",
       "      <td>1951</td>\n",
       "      <td>2960593</td>\n",
       "    </tr>\n",
       "    <tr>\n",
       "      <th>1212</th>\n",
       "      <td>1961</td>\n",
       "      <td>2818341</td>\n",
       "    </tr>\n",
       "  </tbody>\n",
       "</table>\n",
       "</div>"
      ],
      "text/plain": [
       "      Year    Value\n",
       "0     1926  2971992\n",
       "303   1936  2968420\n",
       "606   1946  2955107\n",
       "909   1951  2960593\n",
       "1212  1961  2818341"
      ]
     },
     "execution_count": 33,
     "metadata": {},
     "output_type": "execute_result"
    }
   ],
   "source": [
    "df1.head(5)"
   ]
  },
  {
   "cell_type": "code",
   "execution_count": 34,
   "id": "dbfcea93",
   "metadata": {},
   "outputs": [
    {
     "data": {
      "text/html": [
       "<div>\n",
       "<style scoped>\n",
       "    .dataframe tbody tr th:only-of-type {\n",
       "        vertical-align: middle;\n",
       "    }\n",
       "\n",
       "    .dataframe tbody tr th {\n",
       "        vertical-align: top;\n",
       "    }\n",
       "\n",
       "    .dataframe thead th {\n",
       "        text-align: right;\n",
       "    }\n",
       "</style>\n",
       "<table border=\"1\" class=\"dataframe\">\n",
       "  <thead>\n",
       "    <tr style=\"text-align: right;\">\n",
       "      <th></th>\n",
       "      <th>Year</th>\n",
       "      <th>Value</th>\n",
       "      <th>Sex_Encoded</th>\n",
       "      <th>Single_Year_of_Age_Encoded</th>\n",
       "    </tr>\n",
       "  </thead>\n",
       "  <tbody>\n",
       "    <tr>\n",
       "      <th>4</th>\n",
       "      <td>1926</td>\n",
       "      <td>28084</td>\n",
       "      <td>1</td>\n",
       "      <td>99</td>\n",
       "    </tr>\n",
       "    <tr>\n",
       "      <th>5</th>\n",
       "      <td>1926</td>\n",
       "      <td>27307</td>\n",
       "      <td>0</td>\n",
       "      <td>99</td>\n",
       "    </tr>\n",
       "    <tr>\n",
       "      <th>7</th>\n",
       "      <td>1926</td>\n",
       "      <td>28374</td>\n",
       "      <td>1</td>\n",
       "      <td>0</td>\n",
       "    </tr>\n",
       "    <tr>\n",
       "      <th>8</th>\n",
       "      <td>1926</td>\n",
       "      <td>27502</td>\n",
       "      <td>0</td>\n",
       "      <td>0</td>\n",
       "    </tr>\n",
       "    <tr>\n",
       "      <th>10</th>\n",
       "      <td>1926</td>\n",
       "      <td>29728</td>\n",
       "      <td>1</td>\n",
       "      <td>11</td>\n",
       "    </tr>\n",
       "  </tbody>\n",
       "</table>\n",
       "</div>"
      ],
      "text/plain": [
       "    Year  Value  Sex_Encoded  Single_Year_of_Age_Encoded\n",
       "4   1926  28084            1                          99\n",
       "5   1926  27307            0                          99\n",
       "7   1926  28374            1                           0\n",
       "8   1926  27502            0                           0\n",
       "10  1926  29728            1                          11"
      ]
     },
     "execution_count": 34,
     "metadata": {},
     "output_type": "execute_result"
    }
   ],
   "source": [
    "df3.head(5)"
   ]
  },
  {
   "cell_type": "code",
   "execution_count": 35,
   "id": "287bc9ff",
   "metadata": {
    "scrolled": true
   },
   "outputs": [
    {
     "name": "stdout",
     "output_type": "stream",
     "text": [
      "<class 'pandas.core.frame.DataFrame'>\n",
      "RangeIndex: 11817 entries, 0 to 11816\n",
      "Data columns (total 4 columns):\n",
      " #   Column                      Non-Null Count  Dtype\n",
      "---  ------                      --------------  -----\n",
      " 0   Year                        11817 non-null  int64\n",
      " 1   Value                       11817 non-null  int64\n",
      " 2   Sex_Encoded                 11817 non-null  int32\n",
      " 3   Single_Year_of_Age_Encoded  11817 non-null  int32\n",
      "dtypes: int32(2), int64(2)\n",
      "memory usage: 277.1 KB\n"
     ]
    }
   ],
   "source": [
    "df.info()"
   ]
  },
  {
   "cell_type": "code",
   "execution_count": 36,
   "id": "539460d9",
   "metadata": {},
   "outputs": [
    {
     "name": "stdout",
     "output_type": "stream",
     "text": [
      "<class 'pandas.core.frame.DataFrame'>\n",
      "Int64Index: 7800 entries, 4 to 11816\n",
      "Data columns (total 4 columns):\n",
      " #   Column                      Non-Null Count  Dtype\n",
      "---  ------                      --------------  -----\n",
      " 0   Year                        7800 non-null   int64\n",
      " 1   Value                       7800 non-null   int64\n",
      " 2   Sex_Encoded                 7800 non-null   int32\n",
      " 3   Single_Year_of_Age_Encoded  7800 non-null   int32\n",
      "dtypes: int32(2), int64(2)\n",
      "memory usage: 243.8 KB\n"
     ]
    }
   ],
   "source": [
    "df3.info()"
   ]
  },
  {
   "cell_type": "code",
   "execution_count": 37,
   "id": "bab62825",
   "metadata": {},
   "outputs": [
    {
     "data": {
      "text/plain": [
       "(11817, 4)"
      ]
     },
     "execution_count": 37,
     "metadata": {},
     "output_type": "execute_result"
    }
   ],
   "source": [
    "df.shape"
   ]
  },
  {
   "cell_type": "code",
   "execution_count": 38,
   "id": "911ff2db",
   "metadata": {},
   "outputs": [
    {
     "data": {
      "text/plain": [
       "(39, 2)"
      ]
     },
     "execution_count": 38,
     "metadata": {},
     "output_type": "execute_result"
    }
   ],
   "source": [
    "df1.shape"
   ]
  },
  {
   "cell_type": "code",
   "execution_count": 39,
   "id": "70af9bc4",
   "metadata": {},
   "outputs": [
    {
     "data": {
      "text/plain": [
       "(7800, 4)"
      ]
     },
     "execution_count": 39,
     "metadata": {},
     "output_type": "execute_result"
    }
   ],
   "source": [
    "df3.shape"
   ]
  },
  {
   "cell_type": "code",
   "execution_count": 40,
   "id": "1c9aff15",
   "metadata": {},
   "outputs": [
    {
     "data": {
      "text/html": [
       "<div>\n",
       "<style scoped>\n",
       "    .dataframe tbody tr th:only-of-type {\n",
       "        vertical-align: middle;\n",
       "    }\n",
       "\n",
       "    .dataframe tbody tr th {\n",
       "        vertical-align: top;\n",
       "    }\n",
       "\n",
       "    .dataframe thead th {\n",
       "        text-align: right;\n",
       "    }\n",
       "</style>\n",
       "<table border=\"1\" class=\"dataframe\">\n",
       "  <thead>\n",
       "    <tr style=\"text-align: right;\">\n",
       "      <th></th>\n",
       "      <th>count</th>\n",
       "      <th>mean</th>\n",
       "      <th>std</th>\n",
       "      <th>min</th>\n",
       "      <th>25%</th>\n",
       "      <th>50%</th>\n",
       "      <th>75%</th>\n",
       "      <th>max</th>\n",
       "    </tr>\n",
       "  </thead>\n",
       "  <tbody>\n",
       "    <tr>\n",
       "      <th>Year</th>\n",
       "      <td>39.0</td>\n",
       "      <td>1.996410e+03</td>\n",
       "      <td>24.78191</td>\n",
       "      <td>1926.0</td>\n",
       "      <td>1988.5</td>\n",
       "      <td>2004.0</td>\n",
       "      <td>2013.5</td>\n",
       "      <td>2023.0</td>\n",
       "    </tr>\n",
       "    <tr>\n",
       "      <th>Value</th>\n",
       "      <td>39.0</td>\n",
       "      <td>4.054490e+06</td>\n",
       "      <td>737168.69898</td>\n",
       "      <td>2818341.0</td>\n",
       "      <td>3533181.0</td>\n",
       "      <td>4045188.0</td>\n",
       "      <td>4630054.5</td>\n",
       "      <td>5281612.0</td>\n",
       "    </tr>\n",
       "  </tbody>\n",
       "</table>\n",
       "</div>"
      ],
      "text/plain": [
       "       count          mean           std        min        25%        50%  \\\n",
       "Year    39.0  1.996410e+03      24.78191     1926.0     1988.5     2004.0   \n",
       "Value   39.0  4.054490e+06  737168.69898  2818341.0  3533181.0  4045188.0   \n",
       "\n",
       "             75%        max  \n",
       "Year      2013.5     2023.0  \n",
       "Value  4630054.5  5281612.0  "
      ]
     },
     "execution_count": 40,
     "metadata": {},
     "output_type": "execute_result"
    }
   ],
   "source": [
    "df1.describe().T\n",
    "\n",
    "# Apply .describe().T to check the mean, standard deviation, and quantiles of all the columns in the dataframe"
   ]
  },
  {
   "cell_type": "markdown",
   "id": "ac530bb7",
   "metadata": {},
   "source": [
    "Year vary from 1926 to 2023. Value vary from 281834 to 5281612 with a mean of 4.054490 and a standard deviation of 737168.69 which means this shows that the range is very large. We can say that we need to do a prediction success test in order to say that we have enough prediction information to make a successful prediction"
   ]
  },
  {
   "cell_type": "code",
   "execution_count": 41,
   "id": "63646edb",
   "metadata": {},
   "outputs": [
    {
     "data": {
      "text/html": [
       "<div>\n",
       "<style scoped>\n",
       "    .dataframe tbody tr th:only-of-type {\n",
       "        vertical-align: middle;\n",
       "    }\n",
       "\n",
       "    .dataframe tbody tr th {\n",
       "        vertical-align: top;\n",
       "    }\n",
       "\n",
       "    .dataframe thead th {\n",
       "        text-align: right;\n",
       "    }\n",
       "</style>\n",
       "<table border=\"1\" class=\"dataframe\">\n",
       "  <thead>\n",
       "    <tr style=\"text-align: right;\">\n",
       "      <th></th>\n",
       "      <th>count</th>\n",
       "      <th>mean</th>\n",
       "      <th>std</th>\n",
       "      <th>min</th>\n",
       "      <th>25%</th>\n",
       "      <th>50%</th>\n",
       "      <th>75%</th>\n",
       "      <th>max</th>\n",
       "    </tr>\n",
       "  </thead>\n",
       "  <tbody>\n",
       "    <tr>\n",
       "      <th>Year</th>\n",
       "      <td>7800.0</td>\n",
       "      <td>1996.410256</td>\n",
       "      <td>24.463698</td>\n",
       "      <td>1926.0</td>\n",
       "      <td>1986.00</td>\n",
       "      <td>2004.0</td>\n",
       "      <td>2014.00</td>\n",
       "      <td>2023.0</td>\n",
       "    </tr>\n",
       "    <tr>\n",
       "      <th>Value</th>\n",
       "      <td>7800.0</td>\n",
       "      <td>20272.447821</td>\n",
       "      <td>11910.053644</td>\n",
       "      <td>6.0</td>\n",
       "      <td>10576.75</td>\n",
       "      <td>22863.0</td>\n",
       "      <td>30243.00</td>\n",
       "      <td>44954.0</td>\n",
       "    </tr>\n",
       "    <tr>\n",
       "      <th>Sex_Encoded</th>\n",
       "      <td>7800.0</td>\n",
       "      <td>0.500000</td>\n",
       "      <td>0.500032</td>\n",
       "      <td>0.0</td>\n",
       "      <td>0.00</td>\n",
       "      <td>0.5</td>\n",
       "      <td>1.00</td>\n",
       "      <td>1.0</td>\n",
       "    </tr>\n",
       "    <tr>\n",
       "      <th>Single_Year_of_Age_Encoded</th>\n",
       "      <td>7800.0</td>\n",
       "      <td>49.500000</td>\n",
       "      <td>28.867921</td>\n",
       "      <td>0.0</td>\n",
       "      <td>24.75</td>\n",
       "      <td>49.5</td>\n",
       "      <td>74.25</td>\n",
       "      <td>99.0</td>\n",
       "    </tr>\n",
       "  </tbody>\n",
       "</table>\n",
       "</div>"
      ],
      "text/plain": [
       "                             count          mean           std     min  \\\n",
       "Year                        7800.0   1996.410256     24.463698  1926.0   \n",
       "Value                       7800.0  20272.447821  11910.053644     6.0   \n",
       "Sex_Encoded                 7800.0      0.500000      0.500032     0.0   \n",
       "Single_Year_of_Age_Encoded  7800.0     49.500000     28.867921     0.0   \n",
       "\n",
       "                                 25%      50%       75%      max  \n",
       "Year                         1986.00   2004.0   2014.00   2023.0  \n",
       "Value                       10576.75  22863.0  30243.00  44954.0  \n",
       "Sex_Encoded                     0.00      0.5      1.00      1.0  \n",
       "Single_Year_of_Age_Encoded     24.75     49.5     74.25     99.0  "
      ]
     },
     "execution_count": 41,
     "metadata": {},
     "output_type": "execute_result"
    }
   ],
   "source": [
    "df3.describe().T"
   ]
  },
  {
   "cell_type": "markdown",
   "id": "3c9d813e",
   "metadata": {},
   "source": [
    "Year vary from 1926 to 2023. Value vary from 6 to 44954 with a mean of 20272.44 and a standard deviation of 11910.053 which means this shows that the range is very large. We can say that we need to do a prediction success test in order to say that we have enough prediction information to make a successful prediction."
   ]
  },
  {
   "cell_type": "code",
   "execution_count": 42,
   "id": "7451dc62",
   "metadata": {},
   "outputs": [
    {
     "data": {
      "text/html": [
       "<div>\n",
       "<style scoped>\n",
       "    .dataframe tbody tr th:only-of-type {\n",
       "        vertical-align: middle;\n",
       "    }\n",
       "\n",
       "    .dataframe tbody tr th {\n",
       "        vertical-align: top;\n",
       "    }\n",
       "\n",
       "    .dataframe thead th {\n",
       "        text-align: right;\n",
       "    }\n",
       "</style>\n",
       "<table border=\"1\" class=\"dataframe\">\n",
       "  <thead>\n",
       "    <tr style=\"text-align: right;\">\n",
       "      <th></th>\n",
       "      <th>variable</th>\n",
       "      <th>value</th>\n",
       "    </tr>\n",
       "  </thead>\n",
       "  <tbody>\n",
       "    <tr>\n",
       "      <th>0</th>\n",
       "      <td>Year</td>\n",
       "      <td>1926</td>\n",
       "    </tr>\n",
       "    <tr>\n",
       "      <th>1</th>\n",
       "      <td>Year</td>\n",
       "      <td>1926</td>\n",
       "    </tr>\n",
       "    <tr>\n",
       "      <th>2</th>\n",
       "      <td>Year</td>\n",
       "      <td>1926</td>\n",
       "    </tr>\n",
       "    <tr>\n",
       "      <th>3</th>\n",
       "      <td>Year</td>\n",
       "      <td>1926</td>\n",
       "    </tr>\n",
       "    <tr>\n",
       "      <th>4</th>\n",
       "      <td>Year</td>\n",
       "      <td>1926</td>\n",
       "    </tr>\n",
       "    <tr>\n",
       "      <th>...</th>\n",
       "      <td>...</td>\n",
       "      <td>...</td>\n",
       "    </tr>\n",
       "    <tr>\n",
       "      <th>31195</th>\n",
       "      <td>Single_Year_of_Age_Encoded</td>\n",
       "      <td>96</td>\n",
       "    </tr>\n",
       "    <tr>\n",
       "      <th>31196</th>\n",
       "      <td>Single_Year_of_Age_Encoded</td>\n",
       "      <td>97</td>\n",
       "    </tr>\n",
       "    <tr>\n",
       "      <th>31197</th>\n",
       "      <td>Single_Year_of_Age_Encoded</td>\n",
       "      <td>97</td>\n",
       "    </tr>\n",
       "    <tr>\n",
       "      <th>31198</th>\n",
       "      <td>Single_Year_of_Age_Encoded</td>\n",
       "      <td>98</td>\n",
       "    </tr>\n",
       "    <tr>\n",
       "      <th>31199</th>\n",
       "      <td>Single_Year_of_Age_Encoded</td>\n",
       "      <td>98</td>\n",
       "    </tr>\n",
       "  </tbody>\n",
       "</table>\n",
       "<p>31200 rows × 2 columns</p>\n",
       "</div>"
      ],
      "text/plain": [
       "                         variable  value\n",
       "0                            Year   1926\n",
       "1                            Year   1926\n",
       "2                            Year   1926\n",
       "3                            Year   1926\n",
       "4                            Year   1926\n",
       "...                           ...    ...\n",
       "31195  Single_Year_of_Age_Encoded     96\n",
       "31196  Single_Year_of_Age_Encoded     97\n",
       "31197  Single_Year_of_Age_Encoded     97\n",
       "31198  Single_Year_of_Age_Encoded     98\n",
       "31199  Single_Year_of_Age_Encoded     98\n",
       "\n",
       "[31200 rows x 2 columns]"
      ]
     },
     "execution_count": 42,
     "metadata": {},
     "output_type": "execute_result"
    }
   ],
   "source": [
    "df3.melt()\n",
    "\n",
    "# .melt() function for changing and seeing values and variable "
   ]
  },
  {
   "cell_type": "code",
   "execution_count": 43,
   "id": "10cdca13",
   "metadata": {},
   "outputs": [
    {
     "data": {
      "image/png": "[encoded data removed]",
      "text/plain": [
       "<Figure size 640x480 with 1 Axes>"
      ]
     },
     "metadata": {},
     "output_type": "display_data"
    }
   ],
   "source": [
    "import matplotlib.ticker as ticker\n",
    "\n",
    "sns.boxplot(data=df1, x='Year')\n",
    "\n",
    "plt.title('Population Over The Years')\n",
    "\n",
    "plt.gca().xaxis.set_major_locator(ticker.MaxNLocator(integer=True))\n",
    "\n",
    "plt.show()\n",
    "\n",
    "# Import the `ticker` module from the `matplotlib` library\n",
    "# Apply sns.boxplot to visualize the age range of the population by year. Use the 'Year' dataframe \n",
    "# as the data source and specify 'Population Over The Years' as the column by which to group the data.\n",
    "# Set the title of the box plot using the plt.title() function\n",
    "# Convert the years in the y-axis to integers for better visualization\n",
    "# Apply the .gca() method to get the current axes and apply the xaxis attribute set the x-axis tick locator to display\n",
    "# integers only\n",
    "# Call the plt.show() function to display the box plot"
   ]
  },
  {
   "cell_type": "markdown",
   "id": "cf2d3b94",
   "metadata": {},
   "source": [
    "In this box plot we can see that the population density was between after 1980 and after 2010. On the x-axis, two outliers that require further investigation are observed."
   ]
  },
  {
   "cell_type": "code",
   "execution_count": 44,
   "id": "522ddef9",
   "metadata": {},
   "outputs": [
    {
     "data": {
      "image/png": "[encoded data removed]",
      "text/plain": [
       "<Figure size 2000x800 with 1 Axes>"
      ]
     },
     "metadata": {},
     "output_type": "display_data"
    }
   ],
   "source": [
    "Years_Value = df1.groupby('Year')['Value'].sum().reset_index()\n",
    "\n",
    "Years_Value = Years_Value.sort_values('Value', ascending=False)\n",
    "\n",
    "plt.figure(figsize=(20, 8))\n",
    "\n",
    "sns.barplot(data=Years_Value, x='Year', y='Value')\n",
    "\n",
    "plt.title('Population Distribution by Years')\n",
    "plt.xlabel('Years')\n",
    "plt.ylabel('Population Numbers')\n",
    "\n",
    "plt.xticks(rotation=30)\n",
    "\n",
    "plt.show()\n",
    "\n",
    "#Calculate the number of population by year and store the result in a new data frame called Years_Value\n",
    "# Sort the Years_Value data frame in descending order by total number of units\n",
    "# I found the shape size by experimenting due to the size of the data set.\n",
    "# Create a count chart to visualize data\n",
    "# the title, x label and y label of the chart by applying plt.title() function, plt.xlabel() function,\n",
    "# and use plt.ylabel() function \n",
    "# Rotate x-axis labels using xticks() for better readability\n",
    "# View the drawing using the Show() function\n",
    "# View the drawing using the Show() function"
   ]
  },
  {
   "cell_type": "markdown",
   "id": "347a0c12",
   "metadata": {},
   "source": [
    "Visualized that the population has increased in Dublin over the years.To understand the years with the highest population, examine the 10 years with the highest population."
   ]
  },
  {
   "cell_type": "code",
   "execution_count": 45,
   "id": "62dfbb3f",
   "metadata": {},
   "outputs": [],
   "source": [
    "Population = df1['Year'].value_counts()\n",
    "\n",
    "# draw the 'Year' column in the 'Value' df that we will create."
   ]
  },
  {
   "cell_type": "code",
   "execution_count": 46,
   "id": "65262ade",
   "metadata": {},
   "outputs": [],
   "source": [
    "top10 = Population.head(10).index.tolist()\n",
    "\n",
    "#In the 'Year' column, select the 10 years with the highest value"
   ]
  },
  {
   "cell_type": "code",
   "execution_count": 47,
   "id": "48e9724e",
   "metadata": {},
   "outputs": [
    {
     "data": {
      "text/plain": [
       "[1926, 2014, 2007, 2008, 2009, 2010, 2011, 2012, 2013, 2015]"
      ]
     },
     "execution_count": 47,
     "metadata": {},
     "output_type": "execute_result"
    }
   ],
   "source": [
    "top10\n",
    "\n",
    "#print top10"
   ]
  },
  {
   "cell_type": "code",
   "execution_count": 48,
   "id": "7e633cec",
   "metadata": {},
   "outputs": [],
   "source": [
    "top10_Years = df1[df1['Year'].isin(top10)]\n",
    "\n",
    "# Filter the Value dataframe by the first 10 years by applying the .isin() method"
   ]
  },
  {
   "cell_type": "code",
   "execution_count": 49,
   "id": "81a6f11a",
   "metadata": {},
   "outputs": [
    {
     "data": {
      "text/plain": [
       "Year\n",
       "2015    4687787\n",
       "2014    4645440\n",
       "2013    4614669\n",
       "2012    4593697\n",
       "2011    4574888\n",
       "2010    4554763\n",
       "2009    4533395\n",
       "2008    4485070\n",
       "2007    4375842\n",
       "1926    2971992\n",
       "Name: Value, dtype: int64"
      ]
     },
     "execution_count": 49,
     "metadata": {},
     "output_type": "execute_result"
    }
   ],
   "source": [
    "top10_Years.groupby('Year')['Value'].sum().sort_values(ascending=False)"
   ]
  },
  {
   "cell_type": "markdown",
   "id": "601bd0b5",
   "metadata": {},
   "source": [
    "This code performs a grouping operation on the \"Year\" and \"Value\" columns in the DataFrame named top10_Years. It creates groups based on the \"Year\" column and calculates the total \"Value\" values for each year. It then sorts these values ​​from largest to smallest according to their total value."
   ]
  },
  {
   "cell_type": "code",
   "execution_count": 50,
   "id": "0b15b65f",
   "metadata": {},
   "outputs": [
    {
     "data": {
      "image/png": "[encoded data removed]",
      "text/plain": [
       "<Figure size 1400x600 with 1 Axes>"
      ]
     },
     "metadata": {},
     "output_type": "display_data"
    }
   ],
   "source": [
    "top10_Years_Value = top10_Years.groupby('Year')['Value'].sum().reset_index()\n",
    "\n",
    "top10_Years_Value = top10_Years_Value.sort_values('Value', ascending=False)\n",
    "\n",
    "plt.figure(figsize=(14, 6))\n",
    "\n",
    "sns.barplot(x='Year', y='Value', data = top10_Years_Value)\n",
    "\n",
    "plt.title('Highest Population by Year (top 10)')\n",
    "plt.xlabel('Year')\n",
    "plt.ylabel('Population Value')\n",
    "\n",
    "plt.xticks(rotation=30)\n",
    "\n",
    "plt.show()\n",
    "\n",
    "# Calculate the number of population units and store the result in a new data frame called top10_Years_Value \n",
    "# Sort the top10_Years_Value  data frame in descending order by total number of units\n",
    "# We find the shape size by trying\n",
    "# Create a count chart to visualize high population years\n",
    "# Set the title, x label and y label of the chart by applying plt.title() function, plt.xlabel() function,\n",
    "# and use plt.ylabel() function\n",
    "# Rotate x-axis labels using xticks() for better readability\n",
    "# View the drawing using the Show() function"
   ]
  },
  {
   "cell_type": "markdown",
   "id": "16e9d5f2",
   "metadata": {},
   "source": [
    "There is no significant difference between the number of high population units in Dublin City and the number of units in the other top 10 population values. Only a lower value was observed in the first year compared to the other years.\n",
    "\n",
    "We can also express the relevant observation as follows; except for the first observation, there is no difference between the other observations."
   ]
  },
  {
   "cell_type": "code",
   "execution_count": 51,
   "id": "6d07359f",
   "metadata": {},
   "outputs": [
    {
     "data": {
      "image/png": "[encoded data removed]",
      "text/plain": [
       "<Figure size 800x400 with 1 Axes>"
      ]
     },
     "metadata": {},
     "output_type": "display_data"
    }
   ],
   "source": [
    "plt.figure(figsize=(8, 4))\n",
    "plt.bar(df1.groupby('Year')['Year'].count().index,df1.groupby('Year')['Value'].mean())\n",
    "plt.xlabel(\"Year\",fontsize=15, color='Red')\n",
    "plt.ylabel(\"Avg Value\",fontsize=15,color='Red')\n",
    "plt.title(\"Population by Years\",color='Red')\n",
    "plt.show()\n",
    "\n",
    "\n",
    "# Create a histogram plot using Seaborn\n",
    "# the figure size to (8,4) inches by applying the plt.figure() function with the figsize attribute\n",
    "# Display the plot by calling the the plt.show() function, sns.histplot() function from Seaborn, specify 'Value' as the dataframe containing the data to be plotted,specify \n",
    "# 'Year' as the column name in the dataframe to be plotted on the x-axis,\n",
    "# defines the number of bins (15) to use in the histogram plot. The number of bins have been choses based on different attempts\n",
    "# with the aim of  of providing sufficient detail to capture important patterns in the data while maintaining visual clarity\n",
    "# and avoiding excessive noise or oversimplification."
   ]
  },
  {
   "cell_type": "markdown",
   "id": "f4c3c704",
   "metadata": {},
   "source": [
    "From this histogram, we can observe that the majority of projects (almost 70000) approved from after 2020 units. This is the most common range of units within the dataset. The histogram appears skewed to the right, and this should be taken into account for future possible analysis."
   ]
  },
  {
   "cell_type": "markdown",
   "id": "eb289f10",
   "metadata": {},
   "source": [
    "# MACHINE LEARNING"
   ]
  },
  {
   "cell_type": "code",
   "execution_count": 52,
   "id": "d5d42f2c",
   "metadata": {},
   "outputs": [],
   "source": [
    "# Import libraries\n",
    "\n",
    "from sklearn.linear_model import LinearRegression\n",
    "from sklearn.metrics import mean_squared_error, mean_absolute_error\n",
    "from sklearn.model_selection import train_test_split, cross_val_score\n",
    "\n",
    "from sklearn.metrics import r2_score\n",
    "from sklearn import linear_model\n",
    "from sklearn.preprocessing import OrdinalEncoder\n",
    "from sklearn.preprocessing import LabelEncoder\n",
    "from sklearn.linear_model import Ridge, Lasso\n",
    "from sklearn.preprocessing import StandardScaler\n",
    "\n",
    "pd.set_option('display.float_format', lambda x: '%.2f' % x)\n",
    "\n",
    "from sklearn.linear_model import LinearRegression\n",
    "from sklearn.metrics import mean_squared_error, mean_absolute_error\n",
    "from sklearn.model_selection import train_test_split, cross_val_score\n",
    "from sklearn.metrics import classification_report, roc_auc_score\n",
    "from sklearn.model_selection import GridSearchCV, cross_validate\n",
    "from sklearn.neighbors import KNeighborsClassifier\n",
    "from sklearn.preprocessing import StandardScaler\n",
    "pd.set_option('display.max_columns', None)\n",
    "pd.set_option('display.width', 500)\n",
    "from sklearn.ensemble import RandomForestClassifier, GradientBoostingClassifier, VotingClassifier\n",
    "from sklearn.model_selection import GridSearchCV, cross_validate, RandomizedSearchCV, validation_curve\n",
    "import matplotlib.gridspec as gridspec\n",
    "import itertools\n",
    "from sklearn.svm import SVC\n",
    "from sklearn.ensemble import RandomForestClassifier\n",
    "from mlxtend.classifier import EnsembleVoteClassifier\n",
    "from mlxtend.plotting import plot_decision_regions\n",
    "from sklearn.metrics import r2_score\n",
    "from sklearn import linear_model\n",
    "from sklearn.metrics import mean_squared_error, mean_absolute_error\n",
    "from sklearn.model_selection import train_test_split, cross_val_score\n",
    "\n",
    "%matplotlib inline\n",
    "\n",
    "pd.set_option('display.float_format', lambda x: '%.2f' % x)\n",
    "\n",
    "\n",
    "from sklearn.impute import SimpleImputer  \n",
    "from sklearn.preprocessing import LabelEncoder, StandardScaler  \n",
    "from sklearn.model_selection import train_test_split,cross_val_score, GridSearchCV \n",
    "import numpy as np\n",
    "from sklearn import metrics\n",
    "from sklearn.metrics import r2_score\n",
    "from sklearn.preprocessing import StandardScaler\n",
    "from scipy.stats import wilcoxon\n",
    "from scipy.stats import ttest_1samp\n",
    "from scipy.stats import ttest_ind\n",
    "from scipy.stats import f_oneway\n",
    "from scipy.stats import chisquare\n",
    "\n",
    "from scipy.stats.mstats import winsorize\n",
    "import scipy.stats as stats\n",
    "from sklearn.preprocessing import normalize\n",
    "from sklearn.model_selection import train_test_split\n",
    "from sklearn.preprocessing import StandardScaler\n",
    "from sklearn.metrics import r2_score, mean_squared_error, mean_absolute_error,explained_variance_score\n",
    "from sklearn.linear_model import LinearRegression,Ridge,Lasso\n",
    "from sklearn.ensemble import RandomForestRegressor\n",
    "from sklearn.model_selection import (GridSearchCV, cross_val_score, cross_val_predict, StratifiedKFold, learning_curve)\n",
    "\n",
    "from statsmodels.tools.eval_measures import mse, rmse\n",
    "from sklearn import preprocessing"
   ]
  },
  {
   "cell_type": "code",
   "execution_count": 53,
   "id": "d21b4e15",
   "metadata": {},
   "outputs": [
    {
     "data": {
      "text/html": [
       "<div>\n",
       "<style scoped>\n",
       "    .dataframe tbody tr th:only-of-type {\n",
       "        vertical-align: middle;\n",
       "    }\n",
       "\n",
       "    .dataframe tbody tr th {\n",
       "        vertical-align: top;\n",
       "    }\n",
       "\n",
       "    .dataframe thead th {\n",
       "        text-align: right;\n",
       "    }\n",
       "</style>\n",
       "<table border=\"1\" class=\"dataframe\">\n",
       "  <thead>\n",
       "    <tr style=\"text-align: right;\">\n",
       "      <th></th>\n",
       "      <th>Year</th>\n",
       "      <th>Value</th>\n",
       "      <th>Sex_Encoded</th>\n",
       "      <th>Single_Year_of_Age_Encoded</th>\n",
       "    </tr>\n",
       "  </thead>\n",
       "  <tbody>\n",
       "    <tr>\n",
       "      <th>4</th>\n",
       "      <td>1926</td>\n",
       "      <td>28084</td>\n",
       "      <td>1</td>\n",
       "      <td>99</td>\n",
       "    </tr>\n",
       "    <tr>\n",
       "      <th>5</th>\n",
       "      <td>1926</td>\n",
       "      <td>27307</td>\n",
       "      <td>0</td>\n",
       "      <td>99</td>\n",
       "    </tr>\n",
       "    <tr>\n",
       "      <th>7</th>\n",
       "      <td>1926</td>\n",
       "      <td>28374</td>\n",
       "      <td>1</td>\n",
       "      <td>0</td>\n",
       "    </tr>\n",
       "    <tr>\n",
       "      <th>8</th>\n",
       "      <td>1926</td>\n",
       "      <td>27502</td>\n",
       "      <td>0</td>\n",
       "      <td>0</td>\n",
       "    </tr>\n",
       "    <tr>\n",
       "      <th>10</th>\n",
       "      <td>1926</td>\n",
       "      <td>29728</td>\n",
       "      <td>1</td>\n",
       "      <td>11</td>\n",
       "    </tr>\n",
       "  </tbody>\n",
       "</table>\n",
       "</div>"
      ],
      "text/plain": [
       "    Year  Value  Sex_Encoded  Single_Year_of_Age_Encoded\n",
       "4   1926  28084            1                          99\n",
       "5   1926  27307            0                          99\n",
       "7   1926  28374            1                           0\n",
       "8   1926  27502            0                           0\n",
       "10  1926  29728            1                          11"
      ]
     },
     "execution_count": 53,
     "metadata": {},
     "output_type": "execute_result"
    }
   ],
   "source": [
    "df3.head()"
   ]
  },
  {
   "cell_type": "code",
   "execution_count": 54,
   "id": "aec5a861",
   "metadata": {},
   "outputs": [
    {
     "data": {
      "text/html": [
       "<div>\n",
       "<style scoped>\n",
       "    .dataframe tbody tr th:only-of-type {\n",
       "        vertical-align: middle;\n",
       "    }\n",
       "\n",
       "    .dataframe tbody tr th {\n",
       "        vertical-align: top;\n",
       "    }\n",
       "\n",
       "    .dataframe thead th {\n",
       "        text-align: right;\n",
       "    }\n",
       "</style>\n",
       "<table border=\"1\" class=\"dataframe\">\n",
       "  <thead>\n",
       "    <tr style=\"text-align: right;\">\n",
       "      <th></th>\n",
       "      <th>Year</th>\n",
       "      <th>Value</th>\n",
       "      <th>Sex_Encoded</th>\n",
       "      <th>Single_Year_of_Age_Encoded</th>\n",
       "    </tr>\n",
       "  </thead>\n",
       "  <tbody>\n",
       "    <tr>\n",
       "      <th>4</th>\n",
       "      <td>1926</td>\n",
       "      <td>28084</td>\n",
       "      <td>1</td>\n",
       "      <td>99</td>\n",
       "    </tr>\n",
       "    <tr>\n",
       "      <th>5</th>\n",
       "      <td>1926</td>\n",
       "      <td>27307</td>\n",
       "      <td>0</td>\n",
       "      <td>99</td>\n",
       "    </tr>\n",
       "    <tr>\n",
       "      <th>7</th>\n",
       "      <td>1926</td>\n",
       "      <td>28374</td>\n",
       "      <td>1</td>\n",
       "      <td>0</td>\n",
       "    </tr>\n",
       "    <tr>\n",
       "      <th>8</th>\n",
       "      <td>1926</td>\n",
       "      <td>27502</td>\n",
       "      <td>0</td>\n",
       "      <td>0</td>\n",
       "    </tr>\n",
       "    <tr>\n",
       "      <th>10</th>\n",
       "      <td>1926</td>\n",
       "      <td>29728</td>\n",
       "      <td>1</td>\n",
       "      <td>11</td>\n",
       "    </tr>\n",
       "  </tbody>\n",
       "</table>\n",
       "</div>"
      ],
      "text/plain": [
       "    Year  Value  Sex_Encoded  Single_Year_of_Age_Encoded\n",
       "4   1926  28084            1                          99\n",
       "5   1926  27307            0                          99\n",
       "7   1926  28374            1                           0\n",
       "8   1926  27502            0                           0\n",
       "10  1926  29728            1                          11"
      ]
     },
     "execution_count": 54,
     "metadata": {},
     "output_type": "execute_result"
    }
   ],
   "source": [
    "df3.columns = ['Year', 'Value', 'Sex_Encoded', 'Single_Year_of_Age_Encoded']\n",
    "\n",
    "df3.head()\n",
    "\n",
    "# Assign the names to the columns of the dataset\n",
    "# Display first 5 records"
   ]
  },
  {
   "cell_type": "code",
   "execution_count": 55,
   "id": "cfa6cbd7",
   "metadata": {},
   "outputs": [],
   "source": [
    "X = df3.drop('Value', axis=1)\n",
    "\n",
    "y = df3[[\"Value\"]]\n",
    "\n",
    "# Declare a variable named as 'X' and 'y'"
   ]
  },
  {
   "cell_type": "code",
   "execution_count": 56,
   "id": "1383ad65",
   "metadata": {},
   "outputs": [],
   "source": [
    "X_train, X_test, y_train, y_test = train_test_split(X, y, test_size=0.20, random_state=42)\n",
    "\n",
    "# Split the data into 80% and 20% by using a parameter test_size = 20"
   ]
  },
  {
   "cell_type": "code",
   "execution_count": 57,
   "id": "01a30eed",
   "metadata": {},
   "outputs": [
    {
     "data": {
      "text/plain": [
       "(1560, 1)"
      ]
     },
     "execution_count": 57,
     "metadata": {},
     "output_type": "execute_result"
    }
   ],
   "source": [
    "y_test.shape\n",
    "\n",
    "# The test set should be 4 times the train set for control with .shape function"
   ]
  },
  {
   "cell_type": "code",
   "execution_count": 58,
   "id": "d9b77539",
   "metadata": {},
   "outputs": [
    {
     "data": {
      "text/plain": [
       "(6240, 1)"
      ]
     },
     "execution_count": 58,
     "metadata": {},
     "output_type": "execute_result"
    }
   ],
   "source": [
    "y_train.shape"
   ]
  },
  {
   "cell_type": "code",
   "execution_count": 59,
   "id": "848c41a1",
   "metadata": {},
   "outputs": [],
   "source": [
    "reg_model = LinearRegression().fit(X_train, y_train)"
   ]
  },
  {
   "cell_type": "code",
   "execution_count": 60,
   "id": "324e1b68",
   "metadata": {},
   "outputs": [
    {
     "data": {
      "text/plain": [
       "array([-236166.46842112])"
      ]
     },
     "execution_count": 60,
     "metadata": {},
     "output_type": "execute_result"
    }
   ],
   "source": [
    "reg_model.intercept_"
   ]
  },
  {
   "cell_type": "code",
   "execution_count": 61,
   "id": "1a7fb2fc",
   "metadata": {},
   "outputs": [
    {
     "data": {
      "text/plain": [
       "136.4235354147235"
      ]
     },
     "execution_count": 61,
     "metadata": {},
     "output_type": "execute_result"
    }
   ],
   "source": [
    "reg_model.coef_[0][0]"
   ]
  },
  {
   "cell_type": "code",
   "execution_count": 62,
   "id": "a41fbb21",
   "metadata": {},
   "outputs": [
    {
     "data": {
      "text/plain": [
       "6733.640652541306"
      ]
     },
     "execution_count": 62,
     "metadata": {},
     "output_type": "execute_result"
    }
   ],
   "source": [
    "# Train RMSE\n",
    "y_pred = reg_model.predict(X_train)\n",
    "np.sqrt(mean_squared_error(y_train, y_pred))"
   ]
  },
  {
   "cell_type": "code",
   "execution_count": 63,
   "id": "dd347d9a",
   "metadata": {},
   "outputs": [
    {
     "data": {
      "text/plain": [
       "0.6819873135648632"
      ]
     },
     "execution_count": 63,
     "metadata": {},
     "output_type": "execute_result"
    }
   ],
   "source": [
    "# Train R2\n",
    "reg_model.score(X_train, y_train)"
   ]
  },
  {
   "cell_type": "code",
   "execution_count": 64,
   "id": "59a55728",
   "metadata": {},
   "outputs": [
    {
     "data": {
      "text/plain": [
       "0.6375685806925154"
      ]
     },
     "execution_count": 64,
     "metadata": {},
     "output_type": "execute_result"
    }
   ],
   "source": [
    "# Test R2\n",
    "reg_model.score(X_test, y_test)"
   ]
  },
  {
   "cell_type": "code",
   "execution_count": 65,
   "id": "1a534094",
   "metadata": {},
   "outputs": [
    {
     "data": {
      "text/plain": [
       "7086.50487136968"
      ]
     },
     "execution_count": 65,
     "metadata": {},
     "output_type": "execute_result"
    }
   ],
   "source": [
    "np.mean(np.sqrt(-cross_val_score(reg_model,\n",
    "                                 X,\n",
    "                                 y,\n",
    "                                 cv=10,\n",
    "                                 scoring=\"neg_mean_squared_error\")))\n",
    "\n",
    "#10-fold CV RMSE"
   ]
  },
  {
   "cell_type": "code",
   "execution_count": 66,
   "id": "1e6367b9",
   "metadata": {},
   "outputs": [
    {
     "data": {
      "text/plain": [
       "7086.50487136968"
      ]
     },
     "execution_count": 66,
     "metadata": {},
     "output_type": "execute_result"
    }
   ],
   "source": [
    "np.mean(np.sqrt(-cross_val_score(reg_model,X,y,cv=10,scoring=\"neg_mean_squared_error\")))"
   ]
  },
  {
   "cell_type": "code",
   "execution_count": 67,
   "id": "f027f8c0",
   "metadata": {},
   "outputs": [
    {
     "data": {
      "text/plain": [
       "7544.1103304241315"
      ]
     },
     "execution_count": 67,
     "metadata": {},
     "output_type": "execute_result"
    }
   ],
   "source": [
    "np.mean(np.sqrt(-cross_val_score(reg_model,X,y,cv=5,scoring=\"neg_mean_squared_error\")))"
   ]
  },
  {
   "cell_type": "code",
   "execution_count": 68,
   "id": "412ccc39",
   "metadata": {},
   "outputs": [],
   "source": [
    "#The functions we will use in the future have been defined\n",
    "def label_graph(ticksfont, x_label, y_label, title_label, fontsize):\n",
    "    plt.xticks(fontsize=ticksfont)\n",
    "    plt.yticks(fontsize=ticksfont)\n",
    "    plt.xlabel(x_label, fontsize=fontsize)\n",
    "    plt.ylabel(y_label, fontsize=fontsize)\n",
    "    plt.title(title_label, fontsize=fontsize)\n",
    "def median(array):\n",
    "    median = np.median(array)\n",
    "    return print(\"Median:\", median)\n",
    "def mean(array):\n",
    "    mean = np.mean(array)\n",
    "    return print(\"Mean:\", mean)\n",
    "def variance(array):\n",
    "    variance = np.var(array)\n",
    "    return print(\"Variance:\", variance)"
   ]
  },
  {
   "cell_type": "code",
   "execution_count": 69,
   "id": "80bfe9c6",
   "metadata": {},
   "outputs": [
    {
     "name": "stdout",
     "output_type": "stream",
     "text": [
      "Median: 22863.0\n",
      "Mean: 20272.44782051282\n",
      "Variance: 141831191.98061046\n"
     ]
    },
    {
     "data": {
      "text/html": [
       "<div>\n",
       "<style scoped>\n",
       "    .dataframe tbody tr th:only-of-type {\n",
       "        vertical-align: middle;\n",
       "    }\n",
       "\n",
       "    .dataframe tbody tr th {\n",
       "        vertical-align: top;\n",
       "    }\n",
       "\n",
       "    .dataframe thead th {\n",
       "        text-align: right;\n",
       "    }\n",
       "</style>\n",
       "<table border=\"1\" class=\"dataframe\">\n",
       "  <thead>\n",
       "    <tr style=\"text-align: right;\">\n",
       "      <th></th>\n",
       "      <th>Year</th>\n",
       "      <th>Value</th>\n",
       "      <th>Sex_Encoded</th>\n",
       "      <th>Single_Year_of_Age_Encoded</th>\n",
       "    </tr>\n",
       "  </thead>\n",
       "  <tbody>\n",
       "    <tr>\n",
       "      <th>0</th>\n",
       "      <td>1926</td>\n",
       "      <td>2971992</td>\n",
       "      <td>0</td>\n",
       "      <td>99</td>\n",
       "    </tr>\n",
       "    <tr>\n",
       "      <th>1</th>\n",
       "      <td>1926</td>\n",
       "      <td>1506889</td>\n",
       "      <td>2</td>\n",
       "      <td>99</td>\n",
       "    </tr>\n",
       "    <tr>\n",
       "      <th>2</th>\n",
       "      <td>1926</td>\n",
       "      <td>1465103</td>\n",
       "      <td>1</td>\n",
       "      <td>99</td>\n",
       "    </tr>\n",
       "    <tr>\n",
       "      <th>3</th>\n",
       "      <td>1926</td>\n",
       "      <td>55391</td>\n",
       "      <td>0</td>\n",
       "      <td>100</td>\n",
       "    </tr>\n",
       "    <tr>\n",
       "      <th>4</th>\n",
       "      <td>1926</td>\n",
       "      <td>28084</td>\n",
       "      <td>2</td>\n",
       "      <td>100</td>\n",
       "    </tr>\n",
       "    <tr>\n",
       "      <th>...</th>\n",
       "      <td>...</td>\n",
       "      <td>...</td>\n",
       "      <td>...</td>\n",
       "      <td>...</td>\n",
       "    </tr>\n",
       "    <tr>\n",
       "      <th>11812</th>\n",
       "      <td>2023</td>\n",
       "      <td>197</td>\n",
       "      <td>2</td>\n",
       "      <td>97</td>\n",
       "    </tr>\n",
       "    <tr>\n",
       "      <th>11813</th>\n",
       "      <td>2023</td>\n",
       "      <td>632</td>\n",
       "      <td>1</td>\n",
       "      <td>97</td>\n",
       "    </tr>\n",
       "    <tr>\n",
       "      <th>11814</th>\n",
       "      <td>2023</td>\n",
       "      <td>1600</td>\n",
       "      <td>0</td>\n",
       "      <td>98</td>\n",
       "    </tr>\n",
       "    <tr>\n",
       "      <th>11815</th>\n",
       "      <td>2023</td>\n",
       "      <td>352</td>\n",
       "      <td>2</td>\n",
       "      <td>98</td>\n",
       "    </tr>\n",
       "    <tr>\n",
       "      <th>11816</th>\n",
       "      <td>2023</td>\n",
       "      <td>1248</td>\n",
       "      <td>1</td>\n",
       "      <td>98</td>\n",
       "    </tr>\n",
       "  </tbody>\n",
       "</table>\n",
       "<p>11817 rows × 4 columns</p>\n",
       "</div>"
      ],
      "text/plain": [
       "       Year    Value  Sex_Encoded  Single_Year_of_Age_Encoded\n",
       "0      1926  2971992            0                          99\n",
       "1      1926  1506889            2                          99\n",
       "2      1926  1465103            1                          99\n",
       "3      1926    55391            0                         100\n",
       "4      1926    28084            2                         100\n",
       "...     ...      ...          ...                         ...\n",
       "11812  2023      197            2                          97\n",
       "11813  2023      632            1                          97\n",
       "11814  2023     1600            0                          98\n",
       "11815  2023      352            2                          98\n",
       "11816  2023     1248            1                          98\n",
       "\n",
       "[11817 rows x 4 columns]"
      ]
     },
     "execution_count": 69,
     "metadata": {},
     "output_type": "execute_result"
    }
   ],
   "source": [
    "median(df3[\"Value\"])\n",
    "mean(df3[\"Value\"])\n",
    "variance(df3[\"Value\"])\n",
    "df"
   ]
  },
  {
   "cell_type": "code",
   "execution_count": 70,
   "id": "cb681a2e",
   "metadata": {},
   "outputs": [],
   "source": [
    "def lin_regplot(X, y, model):\n",
    "    plt.scatter(X, y, c = 'blue')\n",
    "    plt.plot(X, model.predict(X), color = 'red', linewidth = 2)    \n",
    "    return\n",
    "\n",
    "# Method or Function for Linear Regression plot"
   ]
  },
  {
   "cell_type": "code",
   "execution_count": 71,
   "id": "e976aa83",
   "metadata": {
    "scrolled": true
   },
   "outputs": [
    {
     "data": {
      "image/png": "[encoded data removed]",
      "text/plain": [
       "<Figure size 1200x1200 with 20 Axes>"
      ]
     },
     "metadata": {},
     "output_type": "display_data"
    }
   ],
   "source": [
    "sns.set(style='whitegrid', context='notebook')\n",
    "\n",
    "cols = ['Year', 'Value', 'Sex_Encoded', 'Single_Year_of_Age_Encoded']\n",
    "\n",
    "sns.pairplot(df[cols], height = 3)\n",
    "\n",
    "plt.tight_layout()\n",
    "\n",
    "plt.show()\n",
    "\n",
    "# import the libraries for the plot\n",
    "# Set the style for the plot using swaborn library\n",
    "# Consider the following columns from the entire dataset\n",
    "# Display the pairplot using the above-mentioned columns\n",
    "# plt.savefig('./figures/scatter.png', dpi=300)"
   ]
  },
  {
   "cell_type": "markdown",
   "id": "6c68bf2b",
   "metadata": {},
   "source": [
    "# BERNOULLI AND BINOMIAL AND POISSON"
   ]
  },
  {
   "cell_type": "code",
   "execution_count": 72,
   "id": "2088da2e",
   "metadata": {},
   "outputs": [],
   "source": [
    "import pandas as pd\n",
    "import numpy as np\n",
    "import seaborn as sns\n",
    "from scipy.stats import bernoulli\n",
    "from scipy.stats import binom\n",
    "from scipy.stats import poisson\n",
    "from scipy.stats import norm\n",
    "import matplotlib.pyplot as plt\n",
    "from empiricaldist import Pmf, Cdf\n",
    "from matplotlib.ticker import PercentFormatter"
   ]
  },
  {
   "cell_type": "code",
   "execution_count": 73,
   "id": "083ae6e4",
   "metadata": {},
   "outputs": [
    {
     "name": "stdout",
     "output_type": "stream",
     "text": [
      "Requirement already satisfied: empiricaldist in c:\\users\\deniz\\anaconda3\\lib\\site-packages (0.6.8)\n"
     ]
    }
   ],
   "source": [
    "!pip install empiricaldist"
   ]
  },
  {
   "cell_type": "code",
   "execution_count": 74,
   "id": "dd942967",
   "metadata": {
    "scrolled": true
   },
   "outputs": [
    {
     "data": {
      "text/html": [
       "<div>\n",
       "<style scoped>\n",
       "    .dataframe tbody tr th:only-of-type {\n",
       "        vertical-align: middle;\n",
       "    }\n",
       "\n",
       "    .dataframe tbody tr th {\n",
       "        vertical-align: top;\n",
       "    }\n",
       "\n",
       "    .dataframe thead th {\n",
       "        text-align: right;\n",
       "    }\n",
       "</style>\n",
       "<table border=\"1\" class=\"dataframe\">\n",
       "  <thead>\n",
       "    <tr style=\"text-align: right;\">\n",
       "      <th></th>\n",
       "      <th>Year</th>\n",
       "      <th>Value</th>\n",
       "      <th>Sex_Encoded</th>\n",
       "      <th>Single_Year_of_Age_Encoded</th>\n",
       "    </tr>\n",
       "  </thead>\n",
       "  <tbody>\n",
       "    <tr>\n",
       "      <th>4</th>\n",
       "      <td>1926</td>\n",
       "      <td>28084</td>\n",
       "      <td>1</td>\n",
       "      <td>99</td>\n",
       "    </tr>\n",
       "    <tr>\n",
       "      <th>5</th>\n",
       "      <td>1926</td>\n",
       "      <td>27307</td>\n",
       "      <td>0</td>\n",
       "      <td>99</td>\n",
       "    </tr>\n",
       "    <tr>\n",
       "      <th>7</th>\n",
       "      <td>1926</td>\n",
       "      <td>28374</td>\n",
       "      <td>1</td>\n",
       "      <td>0</td>\n",
       "    </tr>\n",
       "    <tr>\n",
       "      <th>8</th>\n",
       "      <td>1926</td>\n",
       "      <td>27502</td>\n",
       "      <td>0</td>\n",
       "      <td>0</td>\n",
       "    </tr>\n",
       "    <tr>\n",
       "      <th>10</th>\n",
       "      <td>1926</td>\n",
       "      <td>29728</td>\n",
       "      <td>1</td>\n",
       "      <td>11</td>\n",
       "    </tr>\n",
       "  </tbody>\n",
       "</table>\n",
       "</div>"
      ],
      "text/plain": [
       "    Year  Value  Sex_Encoded  Single_Year_of_Age_Encoded\n",
       "4   1926  28084            1                          99\n",
       "5   1926  27307            0                          99\n",
       "7   1926  28374            1                           0\n",
       "8   1926  27502            0                           0\n",
       "10  1926  29728            1                          11"
      ]
     },
     "execution_count": 74,
     "metadata": {},
     "output_type": "execute_result"
    }
   ],
   "source": [
    "df3.head(5)"
   ]
  },
  {
   "cell_type": "code",
   "execution_count": 75,
   "id": "f1b760c7",
   "metadata": {},
   "outputs": [
    {
     "name": "stdout",
     "output_type": "stream",
     "text": [
      "Random Result from Bernoulli Distribution: 1\n"
     ]
    }
   ],
   "source": [
    "import pandas as pd\n",
    "from scipy.stats import bernoulli, binom\n",
    "\n",
    "df3 = pd.DataFrame(df3)\n",
    "\n",
    "# Bernoulli dağılımı için 'Sex_Encoded' sütunu kullanımı\n",
    "p = df3['Sex_Encoded'].mean()  # Cinsiyet '1' olma olasılığı\n",
    "bernoulli_dist = bernoulli(p)\n",
    "\n",
    "# Rastgele bir sonuç elde etme\n",
    "result = bernoulli_dist.rvs()\n",
    "print(\"Random Result from Bernoulli Distribution:\", result)\n"
   ]
  },
  {
   "cell_type": "markdown",
   "id": "1cf6f8ab",
   "metadata": {},
   "source": [
    "0 male and 1 female"
   ]
  },
  {
   "cell_type": "code",
   "execution_count": 76,
   "id": "aced9149",
   "metadata": {
    "scrolled": true
   },
   "outputs": [
    {
     "data": {
      "image/png": "[encoded data removed]",
      "text/plain": [
       "<Figure size 500x300 with 1 Axes>"
      ]
     },
     "metadata": {},
     "output_type": "display_data"
    }
   ],
   "source": [
    "sns.set_style('white')\n",
    "fig,ax=plt.subplots(figsize=(5,3))\n",
    "x = [0, 1]\n",
    "pmf = bernoulli_dist.pmf(x)\n",
    "plt.bar(x, pmf)\n",
    "plt.title('Bernoulli Distribution')\n",
    "plt.xlabel('Value')\n",
    "plt.ylabel('Probability')\n",
    "plt.xticks(x, ['Male', 'Female'])  \n",
    "plt.show()\n"
   ]
  },
  {
   "cell_type": "code",
   "execution_count": 77,
   "id": "c3faffdb",
   "metadata": {},
   "outputs": [
    {
     "name": "stdout",
     "output_type": "stream",
     "text": [
      "[0.02824752 0.12106082]\n"
     ]
    },
    {
     "data": {
      "image/png": "[encoded data removed]",
      "text/plain": [
       "<Figure size 800x600 with 1 Axes>"
      ]
     },
     "metadata": {},
     "output_type": "display_data"
    }
   ],
   "source": [
    "Sex_Encoded=df3[df3['Sex_Encoded']== 1]\n",
    "Sex_Encoded['Value'].value_counts(normalize=True)\n",
    "n=10\n",
    "p=0.30\n",
    "x=np.arange(0,2)\n",
    "fig,ax=plt.subplots(figsize=(8,6))\n",
    "pmf=stats.binom.pmf(x,n,p)\n",
    "pps=plt.bar(x,pmf)\n",
    "print(pmf)\n",
    "for w in pps:\n",
    "    height=w.get_height()\n",
    "    ax.text(x=w.get_x()+w.get_width()/2,y=height+0.001,\n",
    "           s='{}%'.format(round(height,2)),ha='center',fontsize=20,color='r')\n",
    "plt.locator_params(integer=True)\n",
    "label_graph(15,'Gender', 'Probability', 'Binomial Distribution (n={n},p={p})',15)"
   ]
  },
  {
   "cell_type": "markdown",
   "id": "ab0425ef",
   "metadata": {},
   "source": [
    "## NORMAL DISTRIBUTION"
   ]
  },
  {
   "cell_type": "code",
   "execution_count": 78,
   "id": "8ff7539d",
   "metadata": {
    "scrolled": true
   },
   "outputs": [
    {
     "data": {
      "image/png": "[encoded data removed]",
      "text/plain": [
       "<Figure size 640x480 with 1 Axes>"
      ]
     },
     "metadata": {},
     "output_type": "display_data"
    },
    {
     "name": "stdout",
     "output_type": "stream",
     "text": [
      "Mean: 20272.44782051282\n",
      "Standard Deviation: 11910.053643803494\n"
     ]
    }
   ],
   "source": [
    "mean = df3['Value'].mean()\n",
    "std_dev = df3['Value'].std()\n",
    "\n",
    "normal_dist = norm(loc=mean, scale=std_dev)\n",
    "\n",
    "#Statistical analysis of the 'Value' value found in the df3 data set\n",
    "#Creating a normal distribution\n",
    "\n",
    "plt.hist(df3['Value'], bins=5, density=True, alpha=0.6, color='g')\n",
    "\n",
    "# Histogram distribution\n",
    "\n",
    "\n",
    "x = np.linspace(df3['Value'].min(), df3['Value'].max(), 100)\n",
    "plt.plot(x, normal_dist.pdf(x), 'k', linewidth=2)\n",
    "plt.title('Normal Distribution')\n",
    "plt.xlabel('Value')\n",
    "plt.ylabel('Density')\n",
    "\n",
    "#Let's plot the normal distribution probability and density\n",
    "\n",
    "\n",
    "plt.show()\n",
    "\n",
    "print(f\"Mean: {mean}\")\n",
    "print(f\"Standard Deviation: {std_dev}\")\n",
    "\n",
    "#statistical values\n",
    "\n"
   ]
  },
  {
   "cell_type": "markdown",
   "id": "5d2d4872",
   "metadata": {},
   "source": [
    "# RIDGE"
   ]
  },
  {
   "cell_type": "code",
   "execution_count": 79,
   "id": "de2efa40",
   "metadata": {},
   "outputs": [],
   "source": [
    "from sklearn.linear_model import Ridge\n",
    "from sklearn.linear_model import Lasso\n",
    "from sklearn.metrics import mean_squared_error\n",
    "from sklearn.linear_model import LinearRegression\n",
    "\n",
    "# import yhe libraries"
   ]
  },
  {
   "cell_type": "code",
   "execution_count": 80,
   "id": "715c42ec",
   "metadata": {},
   "outputs": [
    {
     "data": {
      "text/html": [
       "<div>\n",
       "<style scoped>\n",
       "    .dataframe tbody tr th:only-of-type {\n",
       "        vertical-align: middle;\n",
       "    }\n",
       "\n",
       "    .dataframe tbody tr th {\n",
       "        vertical-align: top;\n",
       "    }\n",
       "\n",
       "    .dataframe thead th {\n",
       "        text-align: right;\n",
       "    }\n",
       "</style>\n",
       "<table border=\"1\" class=\"dataframe\">\n",
       "  <thead>\n",
       "    <tr style=\"text-align: right;\">\n",
       "      <th></th>\n",
       "      <th>Year</th>\n",
       "      <th>Value</th>\n",
       "    </tr>\n",
       "  </thead>\n",
       "  <tbody>\n",
       "    <tr>\n",
       "      <th>0</th>\n",
       "      <td>1926</td>\n",
       "      <td>2971992</td>\n",
       "    </tr>\n",
       "    <tr>\n",
       "      <th>303</th>\n",
       "      <td>1936</td>\n",
       "      <td>2968420</td>\n",
       "    </tr>\n",
       "    <tr>\n",
       "      <th>606</th>\n",
       "      <td>1946</td>\n",
       "      <td>2955107</td>\n",
       "    </tr>\n",
       "    <tr>\n",
       "      <th>909</th>\n",
       "      <td>1951</td>\n",
       "      <td>2960593</td>\n",
       "    </tr>\n",
       "    <tr>\n",
       "      <th>1212</th>\n",
       "      <td>1961</td>\n",
       "      <td>2818341</td>\n",
       "    </tr>\n",
       "  </tbody>\n",
       "</table>\n",
       "</div>"
      ],
      "text/plain": [
       "      Year    Value\n",
       "0     1926  2971992\n",
       "303   1936  2968420\n",
       "606   1946  2955107\n",
       "909   1951  2960593\n",
       "1212  1961  2818341"
      ]
     },
     "execution_count": 80,
     "metadata": {},
     "output_type": "execute_result"
    }
   ],
   "source": [
    "df1.head(5)"
   ]
  },
  {
   "cell_type": "code",
   "execution_count": 81,
   "id": "17b6412f",
   "metadata": {},
   "outputs": [
    {
     "data": {
      "text/plain": [
       "(39, 2)"
      ]
     },
     "execution_count": 81,
     "metadata": {},
     "output_type": "execute_result"
    }
   ],
   "source": [
    "df1.shape"
   ]
  },
  {
   "cell_type": "code",
   "execution_count": 82,
   "id": "77dd97c6",
   "metadata": {},
   "outputs": [],
   "source": [
    "y = df1[\"Value\"]\n",
    "X = df1.drop([\"Value\"], axis=1)"
   ]
  },
  {
   "cell_type": "code",
   "execution_count": 83,
   "id": "98ba8706",
   "metadata": {},
   "outputs": [
    {
     "data": {
      "text/plain": [
       "(39, 1)"
      ]
     },
     "execution_count": 83,
     "metadata": {},
     "output_type": "execute_result"
    }
   ],
   "source": [
    "X.shape"
   ]
  },
  {
   "cell_type": "code",
   "execution_count": 84,
   "id": "31ed0bec",
   "metadata": {},
   "outputs": [
    {
     "data": {
      "text/plain": [
       "(39,)"
      ]
     },
     "execution_count": 84,
     "metadata": {},
     "output_type": "execute_result"
    }
   ],
   "source": [
    "y.shape"
   ]
  },
  {
   "cell_type": "markdown",
   "id": "7f019ec9",
   "metadata": {},
   "source": [
    "We observe that the population has increased over the years, and on some dates the population has decreased. Migration data may need to be examined due to historical factors, economic aspects, or other reasons. We cannot make these evaluations because we do not have this data."
   ]
  },
  {
   "cell_type": "code",
   "execution_count": 85,
   "id": "11b90421",
   "metadata": {},
   "outputs": [
    {
     "name": "stdout",
     "output_type": "stream",
     "text": [
      "Root Mean Squared Error: 209577.111136819\n"
     ]
    }
   ],
   "source": [
    "X_train, X_test, y_train, y_test = train_test_split(X, y, test_size = 0.2, random_state = 1)\n",
    "reg_all = LinearRegression()\n",
    "reg_all.fit(X_train, y_train)\n",
    "y_pred = reg_all.predict(X_test)\n",
    "rmse = np.sqrt(mean_squared_error(y_test, y_pred))\n",
    "print(\"Root Mean Squared Error: {}\".format(rmse))\n"
   ]
  },
  {
   "cell_type": "markdown",
   "id": "cbb4336b",
   "metadata": {},
   "source": [
    "Root Mean Squared Error is one of the metrics used to measure the difference between the values predicted by a model (or estimator) and the actual (observed) values. If this metric is 0, it means that the model makes no errors. Simply, it adds the squares of the errors (losses), first takes the average, and then takes the square root."
   ]
  },
  {
   "cell_type": "code",
   "execution_count": 86,
   "id": "18c3581e",
   "metadata": {},
   "outputs": [
    {
     "data": {
      "image/png": "[encoded data removed]",
      "text/plain": [
       "<Figure size 640x480 with 1 Axes>"
      ]
     },
     "metadata": {},
     "output_type": "display_data"
    }
   ],
   "source": [
    "model = LinearRegression()\n",
    "model.fit(X,y)\n",
    "\n",
    "y_pred = model.predict(X)\n",
    "\n",
    "plt.scatter(X,y,color='blue')\n",
    "plt.plot(X, y_pred, color='red')\n",
    "plt.xlabel('Years')\n",
    "plt.ylabel('Population')\n",
    "plt.title('Lineer Regression Model')\n",
    "plt.show()\n",
    "# Draw a plot using linear regression iterations and VALUE\n",
    "# SSE means 'sum of squares error'\n",
    "# The number of epochs is a hyperparameter that defines the number times \n",
    "# that the learning algorithm will work through the entire training dataset. \n",
    "#One epoch means that each sample in the training dataset has \n",
    "# had an opportunity to update the internal model parameters. \n",
    "# An epoch is comprised of one or more batches."
   ]
  },
  {
   "cell_type": "code",
   "execution_count": 87,
   "id": "eebc3e05",
   "metadata": {},
   "outputs": [
    {
     "name": "stdout",
     "output_type": "stream",
     "text": [
      "[-98.27166248 -15.09167578  -0.28555288  -7.21200702 -11.49178796]\n"
     ]
    }
   ],
   "source": [
    "cv_results = cross_val_score(reg_all, X,y,cv=5)\n",
    "print(cv_results)"
   ]
  },
  {
   "cell_type": "code",
   "execution_count": 88,
   "id": "85f85c52",
   "metadata": {},
   "outputs": [
    {
     "name": "stdout",
     "output_type": "stream",
     "text": [
      "Average 5-Fold CV Score: -26.47053722455948\n"
     ]
    }
   ],
   "source": [
    "print(\"Average 5-Fold CV Score: {}\".format(np.mean(cv_results)))"
   ]
  },
  {
   "cell_type": "code",
   "execution_count": 89,
   "id": "87d0f6b6",
   "metadata": {
    "scrolled": false
   },
   "outputs": [
    {
     "name": "stdout",
     "output_type": "stream",
     "text": [
      "Root Mean Squared Error: 209577.06176735327\n",
      "[-98.27062548 -15.091678    -0.28555203  -7.21202922 -11.49180438]\n",
      "Average 5-Fold CV Score: -26.470337822788785\n"
     ]
    }
   ],
   "source": [
    "X_train, X_test, y_train, y_test = train_test_split(X, y, test_size = 0.2, random_state = 1)\n",
    "ridge = Ridge(alpha=0.01)\n",
    "ridge.fit(X_train,y_train)\n",
    "ridge_pred = ridge.predict(X_test)\n",
    "rmse = np.sqrt(mean_squared_error(y_test, ridge_pred))\n",
    "print(\"Root Mean Squared Error: {}\".format(rmse))\n",
    "cv_results = cross_val_score(ridge, X, y, cv=5)\n",
    "print(cv_results)\n",
    "print(\"Average 5-Fold CV Score: {}\".format(np.mean(cv_results)))"
   ]
  },
  {
   "cell_type": "code",
   "execution_count": 90,
   "id": "2f7d924f",
   "metadata": {
    "scrolled": false
   },
   "outputs": [
    {
     "name": "stdout",
     "output_type": "stream",
     "text": [
      "Tuned Ridge Regression Parameters: {'alpha': 1.0} \n",
      "Best score is 0.4557062177189006\n"
     ]
    }
   ],
   "source": [
    "alpha_space = np.linspace(0, 1, 100)\n",
    "param_grid = {'alpha': alpha_space}\n",
    "ridge_grid = GridSearchCV(ridge, param_grid, cv=5)\n",
    "X_train, X_test, y_train, y_test = train_test_split(X, y,test_size = 0.2, random_state=1) \n",
    "ridge_grid.fit(X_train, y_train)\n",
    "print(\"Tuned Ridge Regression Parameters: {} \".format(ridge_grid.best_params_)) \n",
    "print(\"Best score is {}\".format(ridge_grid.best_score_))"
   ]
  },
  {
   "cell_type": "code",
   "execution_count": 91,
   "id": "dcdc35ec",
   "metadata": {},
   "outputs": [
    {
     "name": "stdout",
     "output_type": "stream",
     "text": [
      "Training set score: 0.78\n",
      "Test set score: 0.92\n"
     ]
    }
   ],
   "source": [
    "# alpha = 0.1 is a parameter using a fit() method\n",
    "ridge01 = Ridge(alpha = 0.1).fit(X_train, y_train)\n",
    "\n",
    "# Display the score values for Ridge function\n",
    "print(\"Training set score: {:.2f}\".format(ridge01.score(X_train, y_train)))\n",
    "print(\"Test set score: {:.2f}\".format(ridge01.score(X_test, y_test)))"
   ]
  },
  {
   "cell_type": "code",
   "execution_count": 92,
   "id": "905f8c4b",
   "metadata": {},
   "outputs": [
    {
     "name": "stdout",
     "output_type": "stream",
     "text": [
      "[2655138.93600173 4523049.36176407 2790494.76395553 4279408.87144724\n",
      " 4414764.69940104 4468907.03058255 4306480.037038   4685476.35530862]\n"
     ]
    }
   ],
   "source": [
    "print(ridge_pred)"
   ]
  },
  {
   "cell_type": "markdown",
   "id": "83ff45d7",
   "metadata": {},
   "source": [
    "# LASSO REGRESSION"
   ]
  },
  {
   "cell_type": "code",
   "execution_count": 93,
   "id": "ae8fa9ba",
   "metadata": {},
   "outputs": [],
   "source": [
    "lasso = Lasso(alpha=1.0)"
   ]
  },
  {
   "cell_type": "code",
   "execution_count": 94,
   "id": "9458a320",
   "metadata": {},
   "outputs": [
    {
     "data": {
      "text/html": [
       "<style>#sk-container-id-1 {color: black;}#sk-container-id-1 pre{padding: 0;}#sk-container-id-1 div.sk-toggleable {background-color: white;}#sk-container-id-1 label.sk-toggleable__label {cursor: pointer;display: block;width: 100%;margin-bottom: 0;padding: 0.3em;box-sizing: border-box;text-align: center;}#sk-container-id-1 label.sk-toggleable__label-arrow:before {content: \"▸\";float: left;margin-right: 0.25em;color: #696969;}#sk-container-id-1 label.sk-toggleable__label-arrow:hover:before {color: black;}#sk-container-id-1 div.sk-estimator:hover label.sk-toggleable__label-arrow:before {color: black;}#sk-container-id-1 div.sk-toggleable__content {max-height: 0;max-width: 0;overflow: hidden;text-align: left;background-color: #f0f8ff;}#sk-container-id-1 div.sk-toggleable__content pre {margin: 0.2em;color: black;border-radius: 0.25em;background-color: #f0f8ff;}#sk-container-id-1 input.sk-toggleable__control:checked~div.sk-toggleable__content {max-height: 200px;max-width: 100%;overflow: auto;}#sk-container-id-1 input.sk-toggleable__control:checked~label.sk-toggleable__label-arrow:before {content: \"▾\";}#sk-container-id-1 div.sk-estimator input.sk-toggleable__control:checked~label.sk-toggleable__label {background-color: #d4ebff;}#sk-container-id-1 div.sk-label input.sk-toggleable__control:checked~label.sk-toggleable__label {background-color: #d4ebff;}#sk-container-id-1 input.sk-hidden--visually {border: 0;clip: rect(1px 1px 1px 1px);clip: rect(1px, 1px, 1px, 1px);height: 1px;margin: -1px;overflow: hidden;padding: 0;position: absolute;width: 1px;}#sk-container-id-1 div.sk-estimator {font-family: monospace;background-color: #f0f8ff;border: 1px dotted black;border-radius: 0.25em;box-sizing: border-box;margin-bottom: 0.5em;}#sk-container-id-1 div.sk-estimator:hover {background-color: #d4ebff;}#sk-container-id-1 div.sk-parallel-item::after {content: \"\";width: 100%;border-bottom: 1px solid gray;flex-grow: 1;}#sk-container-id-1 div.sk-label:hover label.sk-toggleable__label {background-color: #d4ebff;}#sk-container-id-1 div.sk-serial::before {content: \"\";position: absolute;border-left: 1px solid gray;box-sizing: border-box;top: 0;bottom: 0;left: 50%;z-index: 0;}#sk-container-id-1 div.sk-serial {display: flex;flex-direction: column;align-items: center;background-color: white;padding-right: 0.2em;padding-left: 0.2em;position: relative;}#sk-container-id-1 div.sk-item {position: relative;z-index: 1;}#sk-container-id-1 div.sk-parallel {display: flex;align-items: stretch;justify-content: center;background-color: white;position: relative;}#sk-container-id-1 div.sk-item::before, #sk-container-id-1 div.sk-parallel-item::before {content: \"\";position: absolute;border-left: 1px solid gray;box-sizing: border-box;top: 0;bottom: 0;left: 50%;z-index: -1;}#sk-container-id-1 div.sk-parallel-item {display: flex;flex-direction: column;z-index: 1;position: relative;background-color: white;}#sk-container-id-1 div.sk-parallel-item:first-child::after {align-self: flex-end;width: 50%;}#sk-container-id-1 div.sk-parallel-item:last-child::after {align-self: flex-start;width: 50%;}#sk-container-id-1 div.sk-parallel-item:only-child::after {width: 0;}#sk-container-id-1 div.sk-dashed-wrapped {border: 1px dashed gray;margin: 0 0.4em 0.5em 0.4em;box-sizing: border-box;padding-bottom: 0.4em;background-color: white;}#sk-container-id-1 div.sk-label label {font-family: monospace;font-weight: bold;display: inline-block;line-height: 1.2em;}#sk-container-id-1 div.sk-label-container {text-align: center;}#sk-container-id-1 div.sk-container {/* jupyter's `normalize.less` sets `[hidden] { display: none; }` but bootstrap.min.css set `[hidden] { display: none !important; }` so we also need the `!important` here to be able to override the default hidden behavior on the sphinx rendered scikit-learn.org. See: https://github.com/scikit-learn/scikit-learn/issues/21755 */display: inline-block !important;position: relative;}#sk-container-id-1 div.sk-text-repr-fallback {display: none;}</style><div id=\"sk-container-id-1\" class=\"sk-top-container\"><div class=\"sk-text-repr-fallback\"><pre>Lasso()</pre><b>In a Jupyter environment, please rerun this cell to show the HTML representation or trust the notebook. <br />On GitHub, the HTML representation is unable to render, please try loading this page with nbviewer.org.</b></div><div class=\"sk-container\" hidden><div class=\"sk-item\"><div class=\"sk-estimator sk-toggleable\"><input class=\"sk-toggleable__control sk-hidden--visually\" id=\"sk-estimator-id-1\" type=\"checkbox\" checked><label for=\"sk-estimator-id-1\" class=\"sk-toggleable__label sk-toggleable__label-arrow\">Lasso</label><div class=\"sk-toggleable__content\"><pre>Lasso()</pre></div></div></div></div></div>"
      ],
      "text/plain": [
       "Lasso()"
      ]
     },
     "execution_count": 94,
     "metadata": {},
     "output_type": "execute_result"
    }
   ],
   "source": [
    "lasso.fit(X_train, y_train)"
   ]
  },
  {
   "cell_type": "code",
   "execution_count": 95,
   "id": "d1b383c3",
   "metadata": {},
   "outputs": [
    {
     "name": "stdout",
     "output_type": "stream",
     "text": [
      "Training set score: 0.78\n",
      "Test set score: 0.92\n",
      "Number of features used: 1\n"
     ]
    }
   ],
   "source": [
    "from sklearn.linear_model import Lasso\n",
    "lasso = Lasso().fit(X_train, y_train)\n",
    "print(\"Training set score: {:.2f}\".format(lasso.score(X_train, y_train)))\n",
    "print(\"Test set score: {:.2f}\".format(lasso.score(X_test, y_test)))\n",
    "print(\"Number of features used: {}\".format(np.sum(lasso.coef_ != 0)))"
   ]
  },
  {
   "cell_type": "code",
   "execution_count": 96,
   "id": "653cc976",
   "metadata": {},
   "outputs": [
    {
     "name": "stdout",
     "output_type": "stream",
     "text": [
      "Mean_Squared_Error:  43922563142.76849\n"
     ]
    }
   ],
   "source": [
    "lasso_model = Lasso(alpha=1)  # Alpha parametresi, ceza teriminin gücünü kontrol eder\n",
    "lasso_model.fit(X_train, y_train)  # Eğitim seti üzerinde modeli eğitmek\n",
    "\n",
    "# Tahmin yapma\n",
    "predicted_population = lasso_model.predict(X_test)\n",
    "\n",
    "# Hata ölçümü (örneğin, ortalama karesel hata)\n",
    "from sklearn.metrics import mean_squared_error\n",
    "mse = mean_squared_error(y_test, predicted_population)\n",
    "print(\"Mean_Squared_Error: \", mse)"
   ]
  },
  {
   "cell_type": "code",
   "execution_count": 97,
   "id": "fcd5b87a",
   "metadata": {},
   "outputs": [
    {
     "name": "stdout",
     "output_type": "stream",
     "text": [
      "Training set score: 0.78\n",
      "Test set score: 0.92\n",
      "Number of features used: 1\n"
     ]
    }
   ],
   "source": [
    "# we increase the default setting of \"max_iter\",\n",
    "# otherwise the model would warn us that we should increase max_iter.\n",
    "lasso001 = Lasso(alpha=0.01).fit(X_train, y_train)\n",
    "print(\"Training set score: {:.2f}\".format(lasso001.score(X_train, y_train)))\n",
    "print(\"Test set score: {:.2f}\".format(lasso001.score(X_test, y_test)))\n",
    "print(\"Number of features used: {}\".format(np.sum(lasso001.coef_ != 0)))"
   ]
  },
  {
   "cell_type": "code",
   "execution_count": 98,
   "id": "124e8b89",
   "metadata": {},
   "outputs": [
    {
     "name": "stdout",
     "output_type": "stream",
     "text": [
      "Mean_Squared_Error:  43922565488.75813\n"
     ]
    }
   ],
   "source": [
    "lasso_model = Lasso(alpha=0.01)  # Alpha parametresi, ceza teriminin gücünü kontrol eder\n",
    "lasso_model.fit(X_train, y_train)  # Eğitim seti üzerinde modeli eğitmek\n",
    "\n",
    "# Tahmin yapma\n",
    "predicted_population = lasso_model.predict(X_test)\n",
    "\n",
    "# Hata ölçümü (örneğin, ortalama karesel hata)\n",
    "from sklearn.metrics import mean_squared_error\n",
    "mse = mean_squared_error(y_test, predicted_population)\n",
    "print(\"Mean_Squared_Error: \", mse)"
   ]
  },
  {
   "cell_type": "code",
   "execution_count": 99,
   "id": "a2c33c98",
   "metadata": {
    "scrolled": true
   },
   "outputs": [
    {
     "name": "stdout",
     "output_type": "stream",
     "text": [
      "Training set score: 0.78\n",
      "Test set score: 0.92\n",
      "Number of features used: 1\n"
     ]
    }
   ],
   "source": [
    "lasso00001 = Lasso(alpha=0.0001).fit(X_train, y_train)\n",
    "print(\"Training set score: {:.2f}\".format(lasso00001.score(X_train, y_train)))\n",
    "print(\"Test set score: {:.2f}\".format(lasso00001.score(X_test, y_test)))\n",
    "print(\"Number of features used: {}\".format(np.sum(lasso00001.coef_ != 0)))"
   ]
  },
  {
   "cell_type": "code",
   "execution_count": 100,
   "id": "b50583dd",
   "metadata": {},
   "outputs": [
    {
     "name": "stdout",
     "output_type": "stream",
     "text": [
      "Mean_Squared_Error:  43922565512.2175\n"
     ]
    }
   ],
   "source": [
    "lasso_model = Lasso(alpha=0.0001)  # Alpha parametresi, ceza teriminin gücünü kontrol eder\n",
    "lasso_model.fit(X_train, y_train)  # Eğitim seti üzerinde modeli eğitmek\n",
    "\n",
    "# Tahmin yapma\n",
    "predicted_population = lasso_model.predict(X_test)\n",
    "\n",
    "# Hata ölçümü (örneğin, ortalama karesel hata)\n",
    "from sklearn.metrics import mean_squared_error\n",
    "mse = mean_squared_error(y_test, predicted_population)\n",
    "print(\"Mean_Squared_Error: \", mse)"
   ]
  },
  {
   "cell_type": "code",
   "execution_count": 101,
   "id": "9cd5fe8d",
   "metadata": {},
   "outputs": [
    {
     "name": "stdout",
     "output_type": "stream",
     "text": [
      "[2655138.93600173 4523049.36176407 2790494.76395553 4279408.87144724\n",
      " 4414764.69940104 4468907.03058255 4306480.037038   4685476.35530862]\n"
     ]
    }
   ],
   "source": [
    "lasso_model = Lasso(alpha=1)  \n",
    "lasso_model.fit(X_train, y_train)\n",
    "predicted_population = lasso_model.predict(X_test)\n",
    "print(ridge_pred)"
   ]
  },
  {
   "cell_type": "code",
   "execution_count": 102,
   "id": "0cc02e7d",
   "metadata": {},
   "outputs": [
    {
     "name": "stdout",
     "output_type": "stream",
     "text": [
      "[2655138.93600173 4523049.36176407 2790494.76395553 4279408.87144724\n",
      " 4414764.69940104 4468907.03058255 4306480.037038   4685476.35530862]\n"
     ]
    }
   ],
   "source": [
    "lasso_model = Lasso(alpha=0.01)  \n",
    "lasso_model.fit(X_train, y_train)\n",
    "predicted_population = lasso_model.predict(X_test)\n",
    "print(ridge_pred)"
   ]
  },
  {
   "cell_type": "code",
   "execution_count": 103,
   "id": "00d2d03e",
   "metadata": {},
   "outputs": [
    {
     "name": "stdout",
     "output_type": "stream",
     "text": [
      "[2655138.93600173 4523049.36176407 2790494.76395553 4279408.87144724\n",
      " 4414764.69940104 4468907.03058255 4306480.037038   4685476.35530862]\n"
     ]
    }
   ],
   "source": [
    "lasso_model = Lasso(alpha=0.0001)  \n",
    "lasso_model.fit(X_train, y_train)\n",
    "predicted_population = lasso_model.predict(X_test)\n",
    "print(ridge_pred)"
   ]
  },
  {
   "cell_type": "markdown",
   "id": "ee9af250",
   "metadata": {},
   "source": [
    "# YILLARA GORE HEATMAP"
   ]
  },
  {
   "cell_type": "code",
   "execution_count": 104,
   "id": "f673d6e7",
   "metadata": {},
   "outputs": [],
   "source": [
    "Year = df3.loc[df['Year'] != 0]\n",
    "\n",
    "# Filter the dataframe to select rows where the 'Year' column is not equal to 0 and store the result in a \n",
    "# new dataframe called 'Year'. This is done because missing values in all the years columns had been previously replaced by\n",
    "# the value '0'."
   ]
  },
  {
   "cell_type": "markdown",
   "id": "26214585",
   "metadata": {},
   "source": [
    "Examine whether there is a correlation between years and population with a single independent variable. When all variables are examined, it should be checked whether the population increases or decreases according to years."
   ]
  },
  {
   "cell_type": "code",
   "execution_count": 105,
   "id": "6949e726",
   "metadata": {},
   "outputs": [
    {
     "data": {
      "text/html": [
       "<div>\n",
       "<style scoped>\n",
       "    .dataframe tbody tr th:only-of-type {\n",
       "        vertical-align: middle;\n",
       "    }\n",
       "\n",
       "    .dataframe tbody tr th {\n",
       "        vertical-align: top;\n",
       "    }\n",
       "\n",
       "    .dataframe thead th {\n",
       "        text-align: right;\n",
       "    }\n",
       "</style>\n",
       "<table border=\"1\" class=\"dataframe\">\n",
       "  <thead>\n",
       "    <tr style=\"text-align: right;\">\n",
       "      <th></th>\n",
       "      <th>Year</th>\n",
       "      <th>Value</th>\n",
       "      <th>Sex_Encoded</th>\n",
       "      <th>Single_Year_of_Age_Encoded</th>\n",
       "    </tr>\n",
       "  </thead>\n",
       "  <tbody>\n",
       "    <tr>\n",
       "      <th>4</th>\n",
       "      <td>1926</td>\n",
       "      <td>28084</td>\n",
       "      <td>1</td>\n",
       "      <td>99</td>\n",
       "    </tr>\n",
       "    <tr>\n",
       "      <th>5</th>\n",
       "      <td>1926</td>\n",
       "      <td>27307</td>\n",
       "      <td>0</td>\n",
       "      <td>99</td>\n",
       "    </tr>\n",
       "    <tr>\n",
       "      <th>7</th>\n",
       "      <td>1926</td>\n",
       "      <td>28374</td>\n",
       "      <td>1</td>\n",
       "      <td>0</td>\n",
       "    </tr>\n",
       "    <tr>\n",
       "      <th>8</th>\n",
       "      <td>1926</td>\n",
       "      <td>27502</td>\n",
       "      <td>0</td>\n",
       "      <td>0</td>\n",
       "    </tr>\n",
       "    <tr>\n",
       "      <th>10</th>\n",
       "      <td>1926</td>\n",
       "      <td>29728</td>\n",
       "      <td>1</td>\n",
       "      <td>11</td>\n",
       "    </tr>\n",
       "  </tbody>\n",
       "</table>\n",
       "</div>"
      ],
      "text/plain": [
       "    Year  Value  Sex_Encoded  Single_Year_of_Age_Encoded\n",
       "4   1926  28084            1                          99\n",
       "5   1926  27307            0                          99\n",
       "7   1926  28374            1                           0\n",
       "8   1926  27502            0                           0\n",
       "10  1926  29728            1                          11"
      ]
     },
     "execution_count": 105,
     "metadata": {},
     "output_type": "execute_result"
    }
   ],
   "source": [
    "Year.head()"
   ]
  },
  {
   "cell_type": "code",
   "execution_count": 106,
   "id": "a01c9fce",
   "metadata": {},
   "outputs": [
    {
     "data": {
      "text/html": [
       "<div>\n",
       "<style scoped>\n",
       "    .dataframe tbody tr th:only-of-type {\n",
       "        vertical-align: middle;\n",
       "    }\n",
       "\n",
       "    .dataframe tbody tr th {\n",
       "        vertical-align: top;\n",
       "    }\n",
       "\n",
       "    .dataframe thead th {\n",
       "        text-align: right;\n",
       "    }\n",
       "</style>\n",
       "<table border=\"1\" class=\"dataframe\">\n",
       "  <thead>\n",
       "    <tr style=\"text-align: right;\">\n",
       "      <th></th>\n",
       "      <th>Year</th>\n",
       "      <th>Years_of_Population</th>\n",
       "      <th>Sex_Encoded</th>\n",
       "    </tr>\n",
       "  </thead>\n",
       "  <tbody>\n",
       "    <tr>\n",
       "      <th>0</th>\n",
       "      <td>1926</td>\n",
       "      <td>2971992</td>\n",
       "      <td>200</td>\n",
       "    </tr>\n",
       "    <tr>\n",
       "      <th>1</th>\n",
       "      <td>1936</td>\n",
       "      <td>2968420</td>\n",
       "      <td>200</td>\n",
       "    </tr>\n",
       "    <tr>\n",
       "      <th>2</th>\n",
       "      <td>1946</td>\n",
       "      <td>2955107</td>\n",
       "      <td>200</td>\n",
       "    </tr>\n",
       "    <tr>\n",
       "      <th>3</th>\n",
       "      <td>1951</td>\n",
       "      <td>2960593</td>\n",
       "      <td>200</td>\n",
       "    </tr>\n",
       "    <tr>\n",
       "      <th>4</th>\n",
       "      <td>1961</td>\n",
       "      <td>2818341</td>\n",
       "      <td>200</td>\n",
       "    </tr>\n",
       "    <tr>\n",
       "      <th>5</th>\n",
       "      <td>1966</td>\n",
       "      <td>2884002</td>\n",
       "      <td>200</td>\n",
       "    </tr>\n",
       "    <tr>\n",
       "      <th>6</th>\n",
       "      <td>1971</td>\n",
       "      <td>2978248</td>\n",
       "      <td>200</td>\n",
       "    </tr>\n",
       "    <tr>\n",
       "      <th>7</th>\n",
       "      <td>1979</td>\n",
       "      <td>3368217</td>\n",
       "      <td>200</td>\n",
       "    </tr>\n",
       "    <tr>\n",
       "      <th>8</th>\n",
       "      <td>1981</td>\n",
       "      <td>3443405</td>\n",
       "      <td>200</td>\n",
       "    </tr>\n",
       "    <tr>\n",
       "      <th>9</th>\n",
       "      <td>1986</td>\n",
       "      <td>3540643</td>\n",
       "      <td>200</td>\n",
       "    </tr>\n",
       "    <tr>\n",
       "      <th>10</th>\n",
       "      <td>1991</td>\n",
       "      <td>3525719</td>\n",
       "      <td>200</td>\n",
       "    </tr>\n",
       "    <tr>\n",
       "      <th>11</th>\n",
       "      <td>1996</td>\n",
       "      <td>3626087</td>\n",
       "      <td>200</td>\n",
       "    </tr>\n",
       "    <tr>\n",
       "      <th>12</th>\n",
       "      <td>1997</td>\n",
       "      <td>3664313</td>\n",
       "      <td>200</td>\n",
       "    </tr>\n",
       "    <tr>\n",
       "      <th>13</th>\n",
       "      <td>1998</td>\n",
       "      <td>3703082</td>\n",
       "      <td>200</td>\n",
       "    </tr>\n",
       "    <tr>\n",
       "      <th>14</th>\n",
       "      <td>1999</td>\n",
       "      <td>3741647</td>\n",
       "      <td>200</td>\n",
       "    </tr>\n",
       "    <tr>\n",
       "      <th>15</th>\n",
       "      <td>2000</td>\n",
       "      <td>3789536</td>\n",
       "      <td>200</td>\n",
       "    </tr>\n",
       "    <tr>\n",
       "      <th>16</th>\n",
       "      <td>2001</td>\n",
       "      <td>3847198</td>\n",
       "      <td>200</td>\n",
       "    </tr>\n",
       "    <tr>\n",
       "      <th>17</th>\n",
       "      <td>2002</td>\n",
       "      <td>3917203</td>\n",
       "      <td>200</td>\n",
       "    </tr>\n",
       "    <tr>\n",
       "      <th>18</th>\n",
       "      <td>2003</td>\n",
       "      <td>3979853</td>\n",
       "      <td>200</td>\n",
       "    </tr>\n",
       "    <tr>\n",
       "      <th>19</th>\n",
       "      <td>2004</td>\n",
       "      <td>4045188</td>\n",
       "      <td>200</td>\n",
       "    </tr>\n",
       "    <tr>\n",
       "      <th>20</th>\n",
       "      <td>2005</td>\n",
       "      <td>4133839</td>\n",
       "      <td>200</td>\n",
       "    </tr>\n",
       "    <tr>\n",
       "      <th>21</th>\n",
       "      <td>2006</td>\n",
       "      <td>4232929</td>\n",
       "      <td>200</td>\n",
       "    </tr>\n",
       "    <tr>\n",
       "      <th>22</th>\n",
       "      <td>2007</td>\n",
       "      <td>4375842</td>\n",
       "      <td>200</td>\n",
       "    </tr>\n",
       "    <tr>\n",
       "      <th>23</th>\n",
       "      <td>2008</td>\n",
       "      <td>4485070</td>\n",
       "      <td>200</td>\n",
       "    </tr>\n",
       "    <tr>\n",
       "      <th>24</th>\n",
       "      <td>2009</td>\n",
       "      <td>4533395</td>\n",
       "      <td>200</td>\n",
       "    </tr>\n",
       "    <tr>\n",
       "      <th>25</th>\n",
       "      <td>2010</td>\n",
       "      <td>4554763</td>\n",
       "      <td>200</td>\n",
       "    </tr>\n",
       "    <tr>\n",
       "      <th>26</th>\n",
       "      <td>2011</td>\n",
       "      <td>4574888</td>\n",
       "      <td>200</td>\n",
       "    </tr>\n",
       "    <tr>\n",
       "      <th>27</th>\n",
       "      <td>2012</td>\n",
       "      <td>4593697</td>\n",
       "      <td>200</td>\n",
       "    </tr>\n",
       "    <tr>\n",
       "      <th>28</th>\n",
       "      <td>2013</td>\n",
       "      <td>4614669</td>\n",
       "      <td>200</td>\n",
       "    </tr>\n",
       "    <tr>\n",
       "      <th>29</th>\n",
       "      <td>2014</td>\n",
       "      <td>4645440</td>\n",
       "      <td>200</td>\n",
       "    </tr>\n",
       "    <tr>\n",
       "      <th>30</th>\n",
       "      <td>2015</td>\n",
       "      <td>4687787</td>\n",
       "      <td>200</td>\n",
       "    </tr>\n",
       "    <tr>\n",
       "      <th>31</th>\n",
       "      <td>2016</td>\n",
       "      <td>4739597</td>\n",
       "      <td>200</td>\n",
       "    </tr>\n",
       "    <tr>\n",
       "      <th>32</th>\n",
       "      <td>2017</td>\n",
       "      <td>4810895</td>\n",
       "      <td>200</td>\n",
       "    </tr>\n",
       "    <tr>\n",
       "      <th>33</th>\n",
       "      <td>2018</td>\n",
       "      <td>4884896</td>\n",
       "      <td>200</td>\n",
       "    </tr>\n",
       "    <tr>\n",
       "      <th>34</th>\n",
       "      <td>2019</td>\n",
       "      <td>4958471</td>\n",
       "      <td>200</td>\n",
       "    </tr>\n",
       "    <tr>\n",
       "      <th>35</th>\n",
       "      <td>2020</td>\n",
       "      <td>5029875</td>\n",
       "      <td>200</td>\n",
       "    </tr>\n",
       "    <tr>\n",
       "      <th>36</th>\n",
       "      <td>2021</td>\n",
       "      <td>5074668</td>\n",
       "      <td>200</td>\n",
       "    </tr>\n",
       "    <tr>\n",
       "      <th>37</th>\n",
       "      <td>2022</td>\n",
       "      <td>5183966</td>\n",
       "      <td>200</td>\n",
       "    </tr>\n",
       "    <tr>\n",
       "      <th>38</th>\n",
       "      <td>2023</td>\n",
       "      <td>5281612</td>\n",
       "      <td>200</td>\n",
       "    </tr>\n",
       "  </tbody>\n",
       "</table>\n",
       "</div>"
      ],
      "text/plain": [
       "    Year  Years_of_Population  Sex_Encoded\n",
       "0   1926              2971992          200\n",
       "1   1936              2968420          200\n",
       "2   1946              2955107          200\n",
       "3   1951              2960593          200\n",
       "4   1961              2818341          200\n",
       "5   1966              2884002          200\n",
       "6   1971              2978248          200\n",
       "7   1979              3368217          200\n",
       "8   1981              3443405          200\n",
       "9   1986              3540643          200\n",
       "10  1991              3525719          200\n",
       "11  1996              3626087          200\n",
       "12  1997              3664313          200\n",
       "13  1998              3703082          200\n",
       "14  1999              3741647          200\n",
       "15  2000              3789536          200\n",
       "16  2001              3847198          200\n",
       "17  2002              3917203          200\n",
       "18  2003              3979853          200\n",
       "19  2004              4045188          200\n",
       "20  2005              4133839          200\n",
       "21  2006              4232929          200\n",
       "22  2007              4375842          200\n",
       "23  2008              4485070          200\n",
       "24  2009              4533395          200\n",
       "25  2010              4554763          200\n",
       "26  2011              4574888          200\n",
       "27  2012              4593697          200\n",
       "28  2013              4614669          200\n",
       "29  2014              4645440          200\n",
       "30  2015              4687787          200\n",
       "31  2016              4739597          200\n",
       "32  2017              4810895          200\n",
       "33  2018              4884896          200\n",
       "34  2019              4958471          200\n",
       "35  2020              5029875          200\n",
       "36  2021              5074668          200\n",
       "37  2022              5183966          200\n",
       "38  2023              5281612          200"
      ]
     },
     "execution_count": 106,
     "metadata": {},
     "output_type": "execute_result"
    }
   ],
   "source": [
    "Year_of_Values = Year.groupby('Year').agg({'Value': 'sum', 'Sex_Encoded': 'count'})\n",
    "\n",
    "Year_of_Values  = Year_of_Values .rename(columns={'Year': 'Year', 'Value': 'Years_of_Population'})\n",
    "\n",
    "Year_of_Values.reset_index(inplace=True)\n",
    "\n",
    "Year_of_Values\n",
    "\n",
    "# Group the DataFrame by 'Year' and aggregate the sum of 'Value' and count of rows\n",
    "# Rename the columns for clarity by applying the .rename() function\n",
    "# Apply the .reset_index() method with the inplace=True attribute to reset the index to make 'Years_of_Population' a regular \n",
    "#column and make the change permanent"
   ]
  },
  {
   "cell_type": "code",
   "execution_count": 107,
   "id": "2bbc18c6",
   "metadata": {},
   "outputs": [],
   "source": [
    "Values_Of_Years = Year[['Value','Year']]\n",
    "\n",
    "# Years are readjusted according to the data set 'Values_Of_Years'"
   ]
  },
  {
   "cell_type": "code",
   "execution_count": 108,
   "id": "8d2d20b7",
   "metadata": {},
   "outputs": [
    {
     "data": {
      "text/html": [
       "<div>\n",
       "<style scoped>\n",
       "    .dataframe tbody tr th:only-of-type {\n",
       "        vertical-align: middle;\n",
       "    }\n",
       "\n",
       "    .dataframe tbody tr th {\n",
       "        vertical-align: top;\n",
       "    }\n",
       "\n",
       "    .dataframe thead th {\n",
       "        text-align: right;\n",
       "    }\n",
       "</style>\n",
       "<table border=\"1\" class=\"dataframe\">\n",
       "  <thead>\n",
       "    <tr style=\"text-align: right;\">\n",
       "      <th></th>\n",
       "      <th>Value</th>\n",
       "      <th>Year</th>\n",
       "    </tr>\n",
       "  </thead>\n",
       "  <tbody>\n",
       "    <tr>\n",
       "      <th>Value</th>\n",
       "      <td>1.00</td>\n",
       "      <td>0.28</td>\n",
       "    </tr>\n",
       "    <tr>\n",
       "      <th>Year</th>\n",
       "      <td>0.28</td>\n",
       "      <td>1.00</td>\n",
       "    </tr>\n",
       "  </tbody>\n",
       "</table>\n",
       "</div>"
      ],
      "text/plain": [
       "       Value  Year\n",
       "Value   1.00  0.28\n",
       "Year    0.28  1.00"
      ]
     },
     "execution_count": 108,
     "metadata": {},
     "output_type": "execute_result"
    },
    {
     "data": {
      "image/png": "[encoded data removed]",
      "text/plain": [
       "<Figure size 800x400 with 2 Axes>"
      ]
     },
     "metadata": {},
     "output_type": "display_data"
    }
   ],
   "source": [
    "plt.figure(figsize=(8,4))\n",
    "\n",
    "c= Values_Of_Years.corr()\n",
    "\n",
    "sns.heatmap(c,annot=True)\n",
    "\n",
    "c\n",
    "\n",
    "# We draw a correlation heat map to see the correlation coefficient between the number of Value and Year.\n",
    "# To determine the dimensions of the correlation heat map, call the plt.figure() function. I determine the dimensions by trying\n",
    "# We define variable 'c' which will be a table containing correlation coefficients\n",
    "# annot=True so the correlation coefficients appear in the heat map\n",
    "# print 'c' to show a table with correlation coefficients"
   ]
  },
  {
   "cell_type": "markdown",
   "id": "27d77bab",
   "metadata": {},
   "source": [
    "It can be observed from this heatmap that there is a very weak and close-to-zero correlation between number of Value and Year. Therefore, there is almost no linear relationship between the two variables."
   ]
  },
  {
   "cell_type": "markdown",
   "id": "9091143b",
   "metadata": {},
   "source": [
    "# DF3 BUTUN DEGERLERLE KORELASYON MATRISI"
   ]
  },
  {
   "cell_type": "code",
   "execution_count": 109,
   "id": "6591c84a",
   "metadata": {},
   "outputs": [
    {
     "name": "stdout",
     "output_type": "stream",
     "text": [
      "                            Year  Value  Sex_Encoded  Single_Year_of_Age_Encoded\n",
      "Year                        1.00   0.28         0.00                       -0.00\n",
      "Value                       0.28   1.00        -0.01                       -0.77\n",
      "Sex_Encoded                 0.00  -0.01         1.00                        0.00\n",
      "Single_Year_of_Age_Encoded -0.00  -0.77         0.00                        1.00\n"
     ]
    }
   ],
   "source": [
    "correlation = df3.corr()\n",
    "print(correlation)"
   ]
  },
  {
   "cell_type": "code",
   "execution_count": 110,
   "id": "4409034d",
   "metadata": {},
   "outputs": [
    {
     "data": {
      "image/png": "[encoded data removed]",
      "text/plain": [
       "<Figure size 640x480 with 2 Axes>"
      ]
     },
     "metadata": {},
     "output_type": "display_data"
    }
   ],
   "source": [
    "import seaborn as sns\n",
    "sns.heatmap(df3.corr(), annot = True, fmt = '.2f', linewidths = 2);"
   ]
  },
  {
   "cell_type": "code",
   "execution_count": 111,
   "id": "e574134d",
   "metadata": {},
   "outputs": [
    {
     "data": {
      "image/png": "[encoded data removed]",
      "text/plain": [
       "<Figure size 800x400 with 2 Axes>"
      ]
     },
     "metadata": {},
     "output_type": "display_data"
    }
   ],
   "source": [
    "plt.figure(figsize=(8,4))\n",
    "sns.heatmap(correlation,annot=True,linecolor=\"blue\",lw=0.5);"
   ]
  },
  {
   "cell_type": "markdown",
   "id": "ad2f97b7",
   "metadata": {},
   "source": [
    "It can be observed from this heatmap that there is a very weak and close-to-zero correlation between number of units and years. Therefore, there is almost no linear relationship between the four variables."
   ]
  },
  {
   "cell_type": "markdown",
   "id": "6c4b5e05",
   "metadata": {},
   "source": [
    "# KNN"
   ]
  },
  {
   "cell_type": "code",
   "execution_count": 112,
   "id": "2557e433",
   "metadata": {},
   "outputs": [],
   "source": [
    "import pandas as pd\n",
    "from sklearn.metrics import classification_report, roc_auc_score\n",
    "from sklearn.model_selection import GridSearchCV, cross_validate\n",
    "from sklearn.neighbors import KNeighborsClassifier\n",
    "from sklearn.preprocessing import StandardScaler\n",
    "pd.set_option('display.max_columns', None)"
   ]
  },
  {
   "cell_type": "code",
   "execution_count": 190,
   "id": "b62a2877",
   "metadata": {},
   "outputs": [],
   "source": [
    "y = df3[\"Value\"]\n",
    "X = df3.drop([\"Value\"], axis=1)"
   ]
  },
  {
   "cell_type": "code",
   "execution_count": 191,
   "id": "e785f47d",
   "metadata": {},
   "outputs": [
    {
     "data": {
      "text/plain": [
       "(7800,)"
      ]
     },
     "execution_count": 191,
     "metadata": {},
     "output_type": "execute_result"
    }
   ],
   "source": [
    "y.shape"
   ]
  },
  {
   "cell_type": "code",
   "execution_count": 192,
   "id": "168db833",
   "metadata": {},
   "outputs": [
    {
     "data": {
      "text/plain": [
       "(7800, 3)"
      ]
     },
     "execution_count": 192,
     "metadata": {},
     "output_type": "execute_result"
    }
   ],
   "source": [
    "X.shape"
   ]
  },
  {
   "cell_type": "code",
   "execution_count": 193,
   "id": "b2692300",
   "metadata": {},
   "outputs": [],
   "source": [
    "X_train, X_test, Y_train, Y_test = train_test_split(X, y, test_size=0.2, random_state= 42)"
   ]
  },
  {
   "cell_type": "code",
   "execution_count": 196,
   "id": "f423b343",
   "metadata": {},
   "outputs": [],
   "source": [
    "knn_model = KNeighborsClassifier(n_neighbors=5)"
   ]
  },
  {
   "cell_type": "code",
   "execution_count": 197,
   "id": "978208c6",
   "metadata": {},
   "outputs": [
    {
     "name": "stdout",
     "output_type": "stream",
     "text": [
      "Fitting 5 folds for each of 98 candidates, totalling 490 fits\n"
     ]
    }
   ],
   "source": [
    "knn_gs_best = GridSearchCV(knn_model, knn_params, cv=5, n_jobs=-1, verbose=1).fit(X, y)"
   ]
  },
  {
   "cell_type": "code",
   "execution_count": 198,
   "id": "1c9cca4a",
   "metadata": {},
   "outputs": [
    {
     "data": {
      "text/plain": [
       "{'n_neighbors': 3}"
      ]
     },
     "execution_count": 198,
     "metadata": {},
     "output_type": "execute_result"
    }
   ],
   "source": [
    "knn_gs_best.best_params_"
   ]
  },
  {
   "cell_type": "code",
   "execution_count": 204,
   "id": "a154b162",
   "metadata": {},
   "outputs": [
    {
     "data": {
      "text/html": [
       "<style>#sk-container-id-4 {color: black;}#sk-container-id-4 pre{padding: 0;}#sk-container-id-4 div.sk-toggleable {background-color: white;}#sk-container-id-4 label.sk-toggleable__label {cursor: pointer;display: block;width: 100%;margin-bottom: 0;padding: 0.3em;box-sizing: border-box;text-align: center;}#sk-container-id-4 label.sk-toggleable__label-arrow:before {content: \"▸\";float: left;margin-right: 0.25em;color: #696969;}#sk-container-id-4 label.sk-toggleable__label-arrow:hover:before {color: black;}#sk-container-id-4 div.sk-estimator:hover label.sk-toggleable__label-arrow:before {color: black;}#sk-container-id-4 div.sk-toggleable__content {max-height: 0;max-width: 0;overflow: hidden;text-align: left;background-color: #f0f8ff;}#sk-container-id-4 div.sk-toggleable__content pre {margin: 0.2em;color: black;border-radius: 0.25em;background-color: #f0f8ff;}#sk-container-id-4 input.sk-toggleable__control:checked~div.sk-toggleable__content {max-height: 200px;max-width: 100%;overflow: auto;}#sk-container-id-4 input.sk-toggleable__control:checked~label.sk-toggleable__label-arrow:before {content: \"▾\";}#sk-container-id-4 div.sk-estimator input.sk-toggleable__control:checked~label.sk-toggleable__label {background-color: #d4ebff;}#sk-container-id-4 div.sk-label input.sk-toggleable__control:checked~label.sk-toggleable__label {background-color: #d4ebff;}#sk-container-id-4 input.sk-hidden--visually {border: 0;clip: rect(1px 1px 1px 1px);clip: rect(1px, 1px, 1px, 1px);height: 1px;margin: -1px;overflow: hidden;padding: 0;position: absolute;width: 1px;}#sk-container-id-4 div.sk-estimator {font-family: monospace;background-color: #f0f8ff;border: 1px dotted black;border-radius: 0.25em;box-sizing: border-box;margin-bottom: 0.5em;}#sk-container-id-4 div.sk-estimator:hover {background-color: #d4ebff;}#sk-container-id-4 div.sk-parallel-item::after {content: \"\";width: 100%;border-bottom: 1px solid gray;flex-grow: 1;}#sk-container-id-4 div.sk-label:hover label.sk-toggleable__label {background-color: #d4ebff;}#sk-container-id-4 div.sk-serial::before {content: \"\";position: absolute;border-left: 1px solid gray;box-sizing: border-box;top: 0;bottom: 0;left: 50%;z-index: 0;}#sk-container-id-4 div.sk-serial {display: flex;flex-direction: column;align-items: center;background-color: white;padding-right: 0.2em;padding-left: 0.2em;position: relative;}#sk-container-id-4 div.sk-item {position: relative;z-index: 1;}#sk-container-id-4 div.sk-parallel {display: flex;align-items: stretch;justify-content: center;background-color: white;position: relative;}#sk-container-id-4 div.sk-item::before, #sk-container-id-4 div.sk-parallel-item::before {content: \"\";position: absolute;border-left: 1px solid gray;box-sizing: border-box;top: 0;bottom: 0;left: 50%;z-index: -1;}#sk-container-id-4 div.sk-parallel-item {display: flex;flex-direction: column;z-index: 1;position: relative;background-color: white;}#sk-container-id-4 div.sk-parallel-item:first-child::after {align-self: flex-end;width: 50%;}#sk-container-id-4 div.sk-parallel-item:last-child::after {align-self: flex-start;width: 50%;}#sk-container-id-4 div.sk-parallel-item:only-child::after {width: 0;}#sk-container-id-4 div.sk-dashed-wrapped {border: 1px dashed gray;margin: 0 0.4em 0.5em 0.4em;box-sizing: border-box;padding-bottom: 0.4em;background-color: white;}#sk-container-id-4 div.sk-label label {font-family: monospace;font-weight: bold;display: inline-block;line-height: 1.2em;}#sk-container-id-4 div.sk-label-container {text-align: center;}#sk-container-id-4 div.sk-container {/* jupyter's `normalize.less` sets `[hidden] { display: none; }` but bootstrap.min.css set `[hidden] { display: none !important; }` so we also need the `!important` here to be able to override the default hidden behavior on the sphinx rendered scikit-learn.org. See: https://github.com/scikit-learn/scikit-learn/issues/21755 */display: inline-block !important;position: relative;}#sk-container-id-4 div.sk-text-repr-fallback {display: none;}</style><div id=\"sk-container-id-4\" class=\"sk-top-container\"><div class=\"sk-text-repr-fallback\"><pre>KNeighborsClassifier(n_neighbors=3)</pre><b>In a Jupyter environment, please rerun this cell to show the HTML representation or trust the notebook. <br />On GitHub, the HTML representation is unable to render, please try loading this page with nbviewer.org.</b></div><div class=\"sk-container\" hidden><div class=\"sk-item\"><div class=\"sk-estimator sk-toggleable\"><input class=\"sk-toggleable__control sk-hidden--visually\" id=\"sk-estimator-id-4\" type=\"checkbox\" checked><label for=\"sk-estimator-id-4\" class=\"sk-toggleable__label sk-toggleable__label-arrow\">KNeighborsClassifier</label><div class=\"sk-toggleable__content\"><pre>KNeighborsClassifier(n_neighbors=3)</pre></div></div></div></div></div>"
      ],
      "text/plain": [
       "KNeighborsClassifier(n_neighbors=3)"
      ]
     },
     "execution_count": 204,
     "metadata": {},
     "output_type": "execute_result"
    }
   ],
   "source": [
    "knn_final = KNeighborsClassifier(n_neighbors=3)\n",
    "knn_final.fit(X,y)"
   ]
  },
  {
   "cell_type": "code",
   "execution_count": 205,
   "id": "a20caa8b",
   "metadata": {},
   "outputs": [
    {
     "name": "stdout",
     "output_type": "stream",
     "text": [
      "[13910 22752 15942 ... 24830 19351 29233]\n"
     ]
    }
   ],
   "source": [
    "y_pred = knn_final.predict(X_test)\n",
    "print(y_pred)"
   ]
  },
  {
   "cell_type": "code",
   "execution_count": 207,
   "id": "b7645cce",
   "metadata": {},
   "outputs": [
    {
     "data": {
      "text/plain": [
       "46334169.70570248"
      ]
     },
     "execution_count": 207,
     "metadata": {},
     "output_type": "execute_result"
    }
   ],
   "source": [
    "y_pred = reg_model.predict(X)\n",
    "mean_squared_error(y, y_pred)"
   ]
  },
  {
   "cell_type": "code",
   "execution_count": 167,
   "id": "ff38256b",
   "metadata": {},
   "outputs": [
    {
     "data": {
      "text/plain": [
       "0.6733146703580077"
      ]
     },
     "execution_count": 167,
     "metadata": {},
     "output_type": "execute_result"
    }
   ],
   "source": [
    "reg_model.score(X, y)"
   ]
  },
  {
   "cell_type": "code",
   "execution_count": 209,
   "id": "2872ab76",
   "metadata": {},
   "outputs": [
    {
     "data": {
      "image/png": "[encoded data removed]",
      "text/plain": [
       "<Figure size 640x480 with 1 Axes>"
      ]
     },
     "metadata": {},
     "output_type": "display_data"
    }
   ],
   "source": [
    "# Import the `ticker` module from the `matplotlib` library\n",
    "\n",
    "import matplotlib.ticker as ticker\n",
    "\n",
    "# Apply sns.boxplot to visualise the population by ages.\n",
    "\n",
    "# Use the 'years' dataframe as the data source and specify 'Single_Year_of_Age_Encoded' as the column to group the data by and change the colour\n",
    "\n",
    "sns.boxplot(data=df, x='Year')\n",
    "\n",
    "# Set the title of the box plot using the plt.title() function\n",
    "\n",
    "plt.title('Population by Year')\n",
    "\n",
    "# Convert the years in the y-axis to integers for better visualization\n",
    "\n",
    "# Apply the .gca() method to get the current axes and apply the xaxis attribute set the x-axis tick locator to display\n",
    "# integers only\n",
    "\n",
    "plt.gca().xaxis.set_major_locator(ticker.MaxNLocator(integer=True))\n",
    "\n",
    "# Call the plt.show() function to display the box plot\n",
    "\n",
    "plt.show()"
   ]
  },
  {
   "cell_type": "markdown",
   "id": "f403246e",
   "metadata": {},
   "source": [
    "In this boxplot, we can say that the age majority is 25-75."
   ]
  },
  {
   "cell_type": "code",
   "execution_count": 139,
   "id": "f94bd783",
   "metadata": {},
   "outputs": [
    {
     "data": {
      "text/plain": [
       "1560"
      ]
     },
     "execution_count": 139,
     "metadata": {},
     "output_type": "execute_result"
    }
   ],
   "source": [
    "train_validation = df3.sample(frac = 0.8, random_state = 12345)\n",
    "test = df3.drop(train_validation.index)\n",
    "len(test)"
   ]
  },
  {
   "cell_type": "markdown",
   "id": "ea5cc2c7",
   "metadata": {},
   "source": [
    "We allocated 80% of the data as the training and validation set, and the remaining 20% as the test set. I stated what percentage I would divide the amount of “.example” by the accumulation of “frak”. The “random_state” command, like most commands, enables the division of progress by setting the “seed” part. The “.drop” cut in the second line throws the remaining data from the original data, except the parts we reserved for train and verification, to the test set."
   ]
  },
  {
   "cell_type": "code",
   "execution_count": 140,
   "id": "33c97008",
   "metadata": {},
   "outputs": [
    {
     "data": {
      "text/plain": [
       "6240"
      ]
     },
     "execution_count": 140,
     "metadata": {},
     "output_type": "execute_result"
    }
   ],
   "source": [
    "len(train_validation)"
   ]
  },
  {
   "cell_type": "code",
   "execution_count": 141,
   "id": "39dd9a8c",
   "metadata": {},
   "outputs": [
    {
     "data": {
      "text/plain": [
       "1560"
      ]
     },
     "execution_count": 141,
     "metadata": {},
     "output_type": "execute_result"
    }
   ],
   "source": [
    "len(test)"
   ]
  },
  {
   "cell_type": "markdown",
   "id": "2a0f5b51",
   "metadata": {},
   "source": [
    "In the last 2 lines, we look at the line numbers in order to verify the operation. The number of rows of the train and validation set almost should be equal to 4 times the number of rows of the test set."
   ]
  },
  {
   "cell_type": "code",
   "execution_count": 142,
   "id": "8c6efb41",
   "metadata": {},
   "outputs": [
    {
     "data": {
      "text/plain": [
       "{1: {'feature_idx': (2,),\n",
       "  'cv_scores': array([0.60070746]),\n",
       "  'avg_score': 0.6007074584332518,\n",
       "  'feature_names': ('2',)},\n",
       " 2: {'feature_idx': (0, 2),\n",
       "  'cv_scores': array([0.68122486]),\n",
       "  'avg_score': 0.6812248582644274,\n",
       "  'feature_names': ('0', '2')},\n",
       " 3: {'feature_idx': (0, 1, 2),\n",
       "  'cv_scores': array([0.68127244]),\n",
       "  'avg_score': 0.6812724358769253,\n",
       "  'feature_names': ('0', '1', '2')}}"
      ]
     },
     "execution_count": 142,
     "metadata": {},
     "output_type": "execute_result"
    }
   ],
   "source": [
    "from sklearn.linear_model import LinearRegression\n",
    "y = train_validation[\"Value\"]\n",
    "x = train_validation.drop(\"Value\", axis = 1)\n",
    "lr = LinearRegression()\n",
    "from mlxtend.feature_selection import SequentialFeatureSelector as SFS\n",
    "sfs = SFS(estimator = lr,\n",
    "k_features = (1, 3),forward = True,floating = False,cv = 0)\n",
    "sfs_fit = sfs.fit(X = x.values, y = y.values)\n",
    "sfs_fit.subsets_"
   ]
  },
  {
   "cell_type": "markdown",
   "id": "59fc464f",
   "metadata": {},
   "source": [
    "First of all, I import LinearRegression from the sklearn.linear_model module with the \"import\" command. The commands we will use are in this library. Then, I introduce to the program what the dependent and independent variables are for feature selection. Since \"y\", the dependent variable, will be the population value, I filter the number rate from the train_validation set. I assign everything else to the “x” object as estimators, that is, independent variables, by giving the necessary arguments to the “.drop” command. In the next line, I assign the method I will use for estimation to the “lr” object. Since I will be selecting features using Linear Regression, I perform this process with the “LinearRegression()” command. In the next step, I create the method for selecting the feature and assign it to the \"sfs\" object. The “SFS” command here is the abbreviation of “Sequential Feature Selection”, that is, the method that selects features in an incremental manner. After giving the \"lr\" object as an estimator in the function's arguments, I tell it to choose the best feature combination in a certain range in the \"k_features\" argument. Since I have 3 columns, I want it to find the best combination of variables starting from 1 to 3. The “Forward” argument being “True” means that the selection should be forward-looking, that is, by adding the features sequentially. The “Floating” argument adds an intermediate step to each step and continues the algorithm by removing variables that reduce performance. This argument was selected as “False”. Finally, when I said “cv = 0”, I stated that we did not want any cross-validation. I did not use the cross-validation method at this stage. This will allow us to see the difference clearly. After determining this method, we started the process with the “sfs.fit” command. In the last line of the code block, I used the “.subsets_” command to see the models at each step."
   ]
  },
  {
   "cell_type": "markdown",
   "id": "335e66fc",
   "metadata": {},
   "source": [
    "{1: {'feature_idx': (2,),\n",
    "  'cv_scores': array([0.01508134]),\n",
    "  'avg_score': 0.015081342429616673\n",
    "  \n",
    "I only took the first line of the result of the command, this will be enough for us. In the first step, train_validation was the second variable that minimized the average error in the set. It can be seen in the “avg_score” section that the average score for this variable is around 0.015081."
   ]
  },
  {
   "cell_type": "code",
   "execution_count": 143,
   "id": "849c1258",
   "metadata": {},
   "outputs": [],
   "source": [
    "scaler = StandardScaler()\n",
    "\n",
    "df3_scale = pd.DataFrame(scaler.fit_transform(df3),columns=df3.columns)"
   ]
  },
  {
   "cell_type": "code",
   "execution_count": 144,
   "id": "a60bbca1",
   "metadata": {},
   "outputs": [
    {
     "data": {
      "text/html": [
       "<div>\n",
       "<style scoped>\n",
       "    .dataframe tbody tr th:only-of-type {\n",
       "        vertical-align: middle;\n",
       "    }\n",
       "\n",
       "    .dataframe tbody tr th {\n",
       "        vertical-align: top;\n",
       "    }\n",
       "\n",
       "    .dataframe thead th {\n",
       "        text-align: right;\n",
       "    }\n",
       "</style>\n",
       "<table border=\"1\" class=\"dataframe\">\n",
       "  <thead>\n",
       "    <tr style=\"text-align: right;\">\n",
       "      <th></th>\n",
       "      <th>Year</th>\n",
       "      <th>Value</th>\n",
       "      <th>Sex_Encoded</th>\n",
       "      <th>Single_Year_of_Age_Encoded</th>\n",
       "    </tr>\n",
       "  </thead>\n",
       "  <tbody>\n",
       "    <tr>\n",
       "      <th>0</th>\n",
       "      <td>-2.88</td>\n",
       "      <td>0.66</td>\n",
       "      <td>1.00</td>\n",
       "      <td>1.71</td>\n",
       "    </tr>\n",
       "    <tr>\n",
       "      <th>1</th>\n",
       "      <td>-2.88</td>\n",
       "      <td>0.59</td>\n",
       "      <td>-1.00</td>\n",
       "      <td>1.71</td>\n",
       "    </tr>\n",
       "    <tr>\n",
       "      <th>2</th>\n",
       "      <td>-2.88</td>\n",
       "      <td>0.68</td>\n",
       "      <td>1.00</td>\n",
       "      <td>-1.71</td>\n",
       "    </tr>\n",
       "    <tr>\n",
       "      <th>3</th>\n",
       "      <td>-2.88</td>\n",
       "      <td>0.61</td>\n",
       "      <td>-1.00</td>\n",
       "      <td>-1.71</td>\n",
       "    </tr>\n",
       "    <tr>\n",
       "      <th>4</th>\n",
       "      <td>-2.88</td>\n",
       "      <td>0.79</td>\n",
       "      <td>1.00</td>\n",
       "      <td>-1.33</td>\n",
       "    </tr>\n",
       "  </tbody>\n",
       "</table>\n",
       "</div>"
      ],
      "text/plain": [
       "   Year  Value  Sex_Encoded  Single_Year_of_Age_Encoded\n",
       "0 -2.88   0.66         1.00                        1.71\n",
       "1 -2.88   0.59        -1.00                        1.71\n",
       "2 -2.88   0.68         1.00                       -1.71\n",
       "3 -2.88   0.61        -1.00                       -1.71\n",
       "4 -2.88   0.79         1.00                       -1.33"
      ]
     },
     "execution_count": 144,
     "metadata": {},
     "output_type": "execute_result"
    }
   ],
   "source": [
    "df3_scale.head()"
   ]
  },
  {
   "cell_type": "code",
   "execution_count": 145,
   "id": "fa3fbd03",
   "metadata": {},
   "outputs": [],
   "source": [
    "y = df3['Value']\n",
    "X = df3_scale.drop(['Value'],axis=1)"
   ]
  },
  {
   "cell_type": "code",
   "execution_count": 146,
   "id": "78567618",
   "metadata": {},
   "outputs": [],
   "source": [
    "X_train, X_test, Y_train, Y_test = train_test_split(X, y, test_size=0.2, random_state= 42)"
   ]
  },
  {
   "cell_type": "code",
   "execution_count": 147,
   "id": "a48229c7",
   "metadata": {},
   "outputs": [
    {
     "name": "stdout",
     "output_type": "stream",
     "text": [
      "(6240, 3)\n",
      "(1560, 3)\n",
      "(6240,)\n",
      "(1560,)\n"
     ]
    }
   ],
   "source": [
    "print(X_train.shape)\n",
    "print(X_test.shape)\n",
    "print(Y_train.shape)\n",
    "print(Y_test.shape)"
   ]
  },
  {
   "cell_type": "code",
   "execution_count": 148,
   "id": "d0349cce",
   "metadata": {},
   "outputs": [
    {
     "data": {
      "text/html": [
       "<style>#sk-container-id-2 {color: black;}#sk-container-id-2 pre{padding: 0;}#sk-container-id-2 div.sk-toggleable {background-color: white;}#sk-container-id-2 label.sk-toggleable__label {cursor: pointer;display: block;width: 100%;margin-bottom: 0;padding: 0.3em;box-sizing: border-box;text-align: center;}#sk-container-id-2 label.sk-toggleable__label-arrow:before {content: \"▸\";float: left;margin-right: 0.25em;color: #696969;}#sk-container-id-2 label.sk-toggleable__label-arrow:hover:before {color: black;}#sk-container-id-2 div.sk-estimator:hover label.sk-toggleable__label-arrow:before {color: black;}#sk-container-id-2 div.sk-toggleable__content {max-height: 0;max-width: 0;overflow: hidden;text-align: left;background-color: #f0f8ff;}#sk-container-id-2 div.sk-toggleable__content pre {margin: 0.2em;color: black;border-radius: 0.25em;background-color: #f0f8ff;}#sk-container-id-2 input.sk-toggleable__control:checked~div.sk-toggleable__content {max-height: 200px;max-width: 100%;overflow: auto;}#sk-container-id-2 input.sk-toggleable__control:checked~label.sk-toggleable__label-arrow:before {content: \"▾\";}#sk-container-id-2 div.sk-estimator input.sk-toggleable__control:checked~label.sk-toggleable__label {background-color: #d4ebff;}#sk-container-id-2 div.sk-label input.sk-toggleable__control:checked~label.sk-toggleable__label {background-color: #d4ebff;}#sk-container-id-2 input.sk-hidden--visually {border: 0;clip: rect(1px 1px 1px 1px);clip: rect(1px, 1px, 1px, 1px);height: 1px;margin: -1px;overflow: hidden;padding: 0;position: absolute;width: 1px;}#sk-container-id-2 div.sk-estimator {font-family: monospace;background-color: #f0f8ff;border: 1px dotted black;border-radius: 0.25em;box-sizing: border-box;margin-bottom: 0.5em;}#sk-container-id-2 div.sk-estimator:hover {background-color: #d4ebff;}#sk-container-id-2 div.sk-parallel-item::after {content: \"\";width: 100%;border-bottom: 1px solid gray;flex-grow: 1;}#sk-container-id-2 div.sk-label:hover label.sk-toggleable__label {background-color: #d4ebff;}#sk-container-id-2 div.sk-serial::before {content: \"\";position: absolute;border-left: 1px solid gray;box-sizing: border-box;top: 0;bottom: 0;left: 50%;z-index: 0;}#sk-container-id-2 div.sk-serial {display: flex;flex-direction: column;align-items: center;background-color: white;padding-right: 0.2em;padding-left: 0.2em;position: relative;}#sk-container-id-2 div.sk-item {position: relative;z-index: 1;}#sk-container-id-2 div.sk-parallel {display: flex;align-items: stretch;justify-content: center;background-color: white;position: relative;}#sk-container-id-2 div.sk-item::before, #sk-container-id-2 div.sk-parallel-item::before {content: \"\";position: absolute;border-left: 1px solid gray;box-sizing: border-box;top: 0;bottom: 0;left: 50%;z-index: -1;}#sk-container-id-2 div.sk-parallel-item {display: flex;flex-direction: column;z-index: 1;position: relative;background-color: white;}#sk-container-id-2 div.sk-parallel-item:first-child::after {align-self: flex-end;width: 50%;}#sk-container-id-2 div.sk-parallel-item:last-child::after {align-self: flex-start;width: 50%;}#sk-container-id-2 div.sk-parallel-item:only-child::after {width: 0;}#sk-container-id-2 div.sk-dashed-wrapped {border: 1px dashed gray;margin: 0 0.4em 0.5em 0.4em;box-sizing: border-box;padding-bottom: 0.4em;background-color: white;}#sk-container-id-2 div.sk-label label {font-family: monospace;font-weight: bold;display: inline-block;line-height: 1.2em;}#sk-container-id-2 div.sk-label-container {text-align: center;}#sk-container-id-2 div.sk-container {/* jupyter's `normalize.less` sets `[hidden] { display: none; }` but bootstrap.min.css set `[hidden] { display: none !important; }` so we also need the `!important` here to be able to override the default hidden behavior on the sphinx rendered scikit-learn.org. See: https://github.com/scikit-learn/scikit-learn/issues/21755 */display: inline-block !important;position: relative;}#sk-container-id-2 div.sk-text-repr-fallback {display: none;}</style><div id=\"sk-container-id-2\" class=\"sk-top-container\"><div class=\"sk-text-repr-fallback\"><pre>LinearRegression()</pre><b>In a Jupyter environment, please rerun this cell to show the HTML representation or trust the notebook. <br />On GitHub, the HTML representation is unable to render, please try loading this page with nbviewer.org.</b></div><div class=\"sk-container\" hidden><div class=\"sk-item\"><div class=\"sk-estimator sk-toggleable\"><input class=\"sk-toggleable__control sk-hidden--visually\" id=\"sk-estimator-id-2\" type=\"checkbox\" checked><label for=\"sk-estimator-id-2\" class=\"sk-toggleable__label sk-toggleable__label-arrow\">LinearRegression</label><div class=\"sk-toggleable__content\"><pre>LinearRegression()</pre></div></div></div></div></div>"
      ],
      "text/plain": [
       "LinearRegression()"
      ]
     },
     "execution_count": 148,
     "metadata": {},
     "output_type": "execute_result"
    }
   ],
   "source": [
    "lrm = LinearRegression()\n",
    "lrm.fit(X_train, Y_train) #fit an OLS model"
   ]
  },
  {
   "cell_type": "code",
   "execution_count": 149,
   "id": "d8e9159f",
   "metadata": {},
   "outputs": [],
   "source": [
    "y_preds_train = lrm.predict(X_train)\n",
    "y_preds_test = lrm.predict(X_test)  \n",
    "\n",
    "# making predictions"
   ]
  },
  {
   "cell_type": "raw",
   "id": "2ce1b835",
   "metadata": {},
   "source": [
    "print(\"R-squared of the model in training set is: {}\".format(lrm.score(X_train, Y_train)))\n",
    "print(\"-----Test set statistics-----\")\n",
    "print(\"R-squared of the model in test set is: {}\".format(lrm.score(X_test, Y_test)))\n",
    "print(\"Root mean squared error of the prediction is: {}\".format(rmse(Y_train, y_pred)))\n",
    "print(\"Mean absolute percentage error of the prediction is: {}\".format(np.mean(np.abs((Y_test - y_pred) / Y_test)) * 100))"
   ]
  },
  {
   "cell_type": "raw",
   "id": "713331d4",
   "metadata": {},
   "source": [
    "R-squared of the model in training set is: 0.6819873135648631\n",
    "-----Test set statistics-----\n",
    "R-squared of the model in test set is: 0.6375685806925153"
   ]
  },
  {
   "cell_type": "code",
   "execution_count": 151,
   "id": "6913a35d",
   "metadata": {},
   "outputs": [
    {
     "name": "stdout",
     "output_type": "stream",
     "text": [
      "[18653.41509247 24438.99819718 21671.252379   ... 24836.58912809\n",
      " 18255.52228747 26989.38968773]\n"
     ]
    }
   ],
   "source": [
    "predicted_population = lrm.predict(X_test)\n",
    "print(predicted_population)"
   ]
  },
  {
   "cell_type": "markdown",
   "id": "f5fc1854",
   "metadata": {},
   "source": [
    "# DATA VISULATION"
   ]
  },
  {
   "cell_type": "code",
   "execution_count": null,
   "id": "c704f323",
   "metadata": {},
   "outputs": [],
   "source": [
    "sns.pairplot(df3);"
   ]
  },
  {
   "cell_type": "code",
   "execution_count": null,
   "id": "9ea20ff6",
   "metadata": {},
   "outputs": [],
   "source": [
    "fig = plt.figure(figsize = (16,9))\n",
    "plt.xticks(rotation=30)\n",
    "sns.barplot(x ='Year', y = 'Value', palette = 'mako', data = df3);"
   ]
  },
  {
   "cell_type": "code",
   "execution_count": null,
   "id": "e0f4ab68",
   "metadata": {},
   "outputs": [],
   "source": [
    "fig = plt.figure(figsize = (16,9))\n",
    "sns.lineplot(x ='Year', y = 'Value', data = df3);"
   ]
  },
  {
   "cell_type": "markdown",
   "id": "f2a7c465",
   "metadata": {},
   "source": [
    "# RANDOM FOREST"
   ]
  },
  {
   "cell_type": "code",
   "execution_count": null,
   "id": "09a13cd8",
   "metadata": {},
   "outputs": [],
   "source": [
    "from sklearn.model_selection import train_test_split\n",
    "from sklearn.ensemble import RandomForestClassifier\n",
    "from sklearn.metrics import accuracy_score \n",
    "from sklearn.metrics import confusion_matrix as cm\n",
    "from sklearn.preprocessing import StandardScaler\n",
    "\n",
    "# Import the libraries"
   ]
  },
  {
   "cell_type": "code",
   "execution_count": null,
   "id": "3c545d84",
   "metadata": {
    "scrolled": true
   },
   "outputs": [],
   "source": [
    "df3.head(5)"
   ]
  },
  {
   "cell_type": "code",
   "execution_count": null,
   "id": "1a68a3f5",
   "metadata": {},
   "outputs": [],
   "source": [
    "y = df3[\"Value\"]\n",
    "X = df3.drop([\"Value\"], axis=1)\n",
    "\n",
    "# Declaration of Varaibles"
   ]
  },
  {
   "cell_type": "code",
   "execution_count": null,
   "id": "0225787a",
   "metadata": {},
   "outputs": [],
   "source": [
    "# Load the library 'sklearn.preprocessing'\n",
    "from sklearn.preprocessing import StandardScaler\n",
    "\n",
    "# Create and initialise an object by calling a method 'StandardScaler()'\n",
    "sc = StandardScaler()\n",
    "\n",
    "# Convert the X_train and X_test into standised format\n",
    "X_train = sc.fit_transform(X_train)\n",
    "X_test = sc.transform(X_test)\n",
    "\n",
    "# Display the trandofrmed values\n",
    "# X_train, X_test"
   ]
  },
  {
   "cell_type": "code",
   "execution_count": null,
   "id": "b33cfb2b",
   "metadata": {},
   "outputs": [],
   "source": [
    "# import RandomForestRegressor from sklearn\n",
    "from sklearn.ensemble import RandomForestRegressor\n",
    "\n",
    "# Create an object forest by calling a method RandomForestRegressor()\n",
    "forest = RandomForestRegressor(n_estimators = 1000, \n",
    "                               criterion='squared_error',  # Change 'mse' to 'squared_error'\n",
    "                               random_state = 1, \n",
    "                               n_jobs = -1)\n",
    "\n",
    "# Train the Model by calling a fit() method\n",
    "forest.fit(X_train, y_train)\n",
    "\n",
    "y_train_pred = forest.predict(X_train)\n",
    "y_test_pred = forest.predict(X_test)\n",
    "\n",
    "# Display the r2 score values\n",
    "print('R^2 train: %.3f, test: %.3f' % (r2_score(y_train, y_train_pred), r2_score(y_test, y_test_pred)))"
   ]
  },
  {
   "cell_type": "code",
   "execution_count": null,
   "id": "cbb7659f",
   "metadata": {},
   "outputs": [],
   "source": [
    "predicted_population = forest.predict(X_test)\n",
    "print(predicted_population)"
   ]
  },
  {
   "cell_type": "code",
   "execution_count": null,
   "id": "716364f3",
   "metadata": {
    "scrolled": true
   },
   "outputs": [],
   "source": [
    "# Draw a scatter plot\n",
    "plt.scatter(y_train_pred,  \n",
    "            y_train_pred - y_train, \n",
    "            c = 'black', \n",
    "            marker = 'o', \n",
    "            s = 50,\n",
    "            alpha = 1,\n",
    "            label = 'Training data')\n",
    "plt.scatter(y_test_pred,  \n",
    "            y_test_pred - y_test, \n",
    "            c = 'blue', \n",
    "            marker = 's', \n",
    "            s = 50,\n",
    "            alpha = 1,\n",
    "            label = 'Test data')\n",
    "\n",
    "plt.xlabel('Predicted values')\n",
    "plt.ylabel('Residuals')\n",
    "plt.legend(loc = 'upper left')\n",
    "plt.hlines(y = 0, xmin = -10, xmax = 10000, lw = 2, color = 'red')\n",
    "plt.xlim([-10, 50])\n",
    "plt.tight_layout()\n",
    "\n",
    "# plt.savefig('./figures/slr_residuals.png', dpi=300)\n",
    "plt.show()"
   ]
  },
  {
   "cell_type": "code",
   "execution_count": null,
   "id": "deae1663",
   "metadata": {},
   "outputs": [],
   "source": []
  },
  {
   "cell_type": "code",
   "execution_count": null,
   "id": "427ac607",
   "metadata": {},
   "outputs": [],
   "source": []
  }
 ],
 "metadata": {
  "kernelspec": {
   "display_name": "Python 3 (ipykernel)",
   "language": "python",
   "name": "python3"
  },
  "language_info": {
   "codemirror_mode": {
    "name": "ipython",
    "version": 3
   },
   "file_extension": ".py",
   "mimetype": "text/x-python",
   "name": "python",
   "nbconvert_exporter": "python",
   "pygments_lexer": "ipython3",
   "version": "3.11.4"
  }
 },
 "nbformat": 4,
 "nbformat_minor": 5
}
