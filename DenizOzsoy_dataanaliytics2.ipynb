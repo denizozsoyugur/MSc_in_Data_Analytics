{
 "cells": [
  {
   "cell_type": "code",
   "execution_count": 1,
   "id": "29138c3b",
   "metadata": {},
   "outputs": [],
   "source": [
    "import numpy as np\n",
    "import pandas as pd\n",
    "from matplotlib import pyplot as plt\n",
    "import seaborn as sns"
   ]
  },
  {
   "cell_type": "markdown",
   "id": "f9c05b8f",
   "metadata": {},
   "source": [
    "Link to the dataset:\n",
    "\n",
    "https://data.cso.ie/table/URA03"
   ]
  },
  {
   "cell_type": "code",
   "execution_count": 2,
   "id": "734618e0",
   "metadata": {},
   "outputs": [],
   "source": [
    "df=pd.read_csv(\"DenizOzsoy_dependentDataBase.csv\")"
   ]
  },
  {
   "cell_type": "code",
   "execution_count": 3,
   "id": "d79f3d69",
   "metadata": {},
   "outputs": [
    {
     "data": {
      "text/html": [
       "<div>\n",
       "<style scoped>\n",
       "    .dataframe tbody tr th:only-of-type {\n",
       "        vertical-align: middle;\n",
       "    }\n",
       "\n",
       "    .dataframe tbody tr th {\n",
       "        vertical-align: top;\n",
       "    }\n",
       "\n",
       "    .dataframe thead th {\n",
       "        text-align: right;\n",
       "    }\n",
       "</style>\n",
       "<table border=\"1\" class=\"dataframe\">\n",
       "  <thead>\n",
       "    <tr style=\"text-align: right;\">\n",
       "      <th></th>\n",
       "      <th>Statistic_Label</th>\n",
       "      <th>Age_Dependents</th>\n",
       "      <th>Type_of_Urban_or_Rural_Area</th>\n",
       "      <th>Year</th>\n",
       "      <th>Unit</th>\n",
       "      <th>Value</th>\n",
       "    </tr>\n",
       "  </thead>\n",
       "  <tbody>\n",
       "    <tr>\n",
       "      <th>0</th>\n",
       "      <td>Family Units in Private Households</td>\n",
       "      <td>All Ages</td>\n",
       "      <td>State</td>\n",
       "      <td>2011</td>\n",
       "      <td>Number</td>\n",
       "      <td>4525281</td>\n",
       "    </tr>\n",
       "    <tr>\n",
       "      <th>1</th>\n",
       "      <td>Family Units in Private Households</td>\n",
       "      <td>All Ages</td>\n",
       "      <td>State</td>\n",
       "      <td>2016</td>\n",
       "      <td>Number</td>\n",
       "      <td>4689921</td>\n",
       "    </tr>\n",
       "    <tr>\n",
       "      <th>2</th>\n",
       "      <td>Family Units in Private Households</td>\n",
       "      <td>All Ages</td>\n",
       "      <td>Cities</td>\n",
       "      <td>2011</td>\n",
       "      <td>Number</td>\n",
       "      <td>1488409</td>\n",
       "    </tr>\n",
       "    <tr>\n",
       "      <th>3</th>\n",
       "      <td>Family Units in Private Households</td>\n",
       "      <td>All Ages</td>\n",
       "      <td>Cities</td>\n",
       "      <td>2016</td>\n",
       "      <td>Number</td>\n",
       "      <td>1567945</td>\n",
       "    </tr>\n",
       "    <tr>\n",
       "      <th>4</th>\n",
       "      <td>Family Units in Private Households</td>\n",
       "      <td>All Ages</td>\n",
       "      <td>Satellite urban towns</td>\n",
       "      <td>2011</td>\n",
       "      <td>Number</td>\n",
       "      <td>581284</td>\n",
       "    </tr>\n",
       "    <tr>\n",
       "      <th>5</th>\n",
       "      <td>Family Units in Private Households</td>\n",
       "      <td>All Ages</td>\n",
       "      <td>Satellite urban towns</td>\n",
       "      <td>2016</td>\n",
       "      <td>Number</td>\n",
       "      <td>597355</td>\n",
       "    </tr>\n",
       "    <tr>\n",
       "      <th>6</th>\n",
       "      <td>Family Units in Private Households</td>\n",
       "      <td>All Ages</td>\n",
       "      <td>Independent urban towns</td>\n",
       "      <td>2011</td>\n",
       "      <td>Number</td>\n",
       "      <td>730327</td>\n",
       "    </tr>\n",
       "    <tr>\n",
       "      <th>7</th>\n",
       "      <td>Family Units in Private Households</td>\n",
       "      <td>All Ages</td>\n",
       "      <td>Independent urban towns</td>\n",
       "      <td>2016</td>\n",
       "      <td>Number</td>\n",
       "      <td>770329</td>\n",
       "    </tr>\n",
       "    <tr>\n",
       "      <th>8</th>\n",
       "      <td>Family Units in Private Households</td>\n",
       "      <td>All Ages</td>\n",
       "      <td>Rural areas with high urban influence</td>\n",
       "      <td>2011</td>\n",
       "      <td>Number</td>\n",
       "      <td>732636</td>\n",
       "    </tr>\n",
       "    <tr>\n",
       "      <th>9</th>\n",
       "      <td>Family Units in Private Households</td>\n",
       "      <td>All Ages</td>\n",
       "      <td>Rural areas with high urban influence</td>\n",
       "      <td>2016</td>\n",
       "      <td>Number</td>\n",
       "      <td>754794</td>\n",
       "    </tr>\n",
       "  </tbody>\n",
       "</table>\n",
       "</div>"
      ],
      "text/plain": [
       "                      Statistic_Label Age_Dependents  \\\n",
       "0  Family Units in Private Households       All Ages   \n",
       "1  Family Units in Private Households       All Ages   \n",
       "2  Family Units in Private Households       All Ages   \n",
       "3  Family Units in Private Households       All Ages   \n",
       "4  Family Units in Private Households       All Ages   \n",
       "5  Family Units in Private Households       All Ages   \n",
       "6  Family Units in Private Households       All Ages   \n",
       "7  Family Units in Private Households       All Ages   \n",
       "8  Family Units in Private Households       All Ages   \n",
       "9  Family Units in Private Households       All Ages   \n",
       "\n",
       "             Type_of_Urban_or_Rural_Area  Year    Unit    Value  \n",
       "0                                  State  2011  Number  4525281  \n",
       "1                                  State  2016  Number  4689921  \n",
       "2                                 Cities  2011  Number  1488409  \n",
       "3                                 Cities  2016  Number  1567945  \n",
       "4                  Satellite urban towns  2011  Number   581284  \n",
       "5                  Satellite urban towns  2016  Number   597355  \n",
       "6                Independent urban towns  2011  Number   730327  \n",
       "7                Independent urban towns  2016  Number   770329  \n",
       "8  Rural areas with high urban influence  2011  Number   732636  \n",
       "9  Rural areas with high urban influence  2016  Number   754794  "
      ]
     },
     "execution_count": 3,
     "metadata": {},
     "output_type": "execute_result"
    }
   ],
   "source": [
    "df.head(10) # Print the first 10 rows of the dataframe by applying the.head() function"
   ]
  },
  {
   "cell_type": "code",
   "execution_count": 4,
   "id": "eb565fa1",
   "metadata": {},
   "outputs": [
    {
     "data": {
      "text/html": [
       "<div>\n",
       "<style scoped>\n",
       "    .dataframe tbody tr th:only-of-type {\n",
       "        vertical-align: middle;\n",
       "    }\n",
       "\n",
       "    .dataframe tbody tr th {\n",
       "        vertical-align: top;\n",
       "    }\n",
       "\n",
       "    .dataframe thead th {\n",
       "        text-align: right;\n",
       "    }\n",
       "</style>\n",
       "<table border=\"1\" class=\"dataframe\">\n",
       "  <thead>\n",
       "    <tr style=\"text-align: right;\">\n",
       "      <th></th>\n",
       "      <th>Statistic_Label</th>\n",
       "      <th>Age_Dependents</th>\n",
       "      <th>Type_of_Urban_or_Rural_Area</th>\n",
       "      <th>Year</th>\n",
       "      <th>Unit</th>\n",
       "      <th>Value</th>\n",
       "    </tr>\n",
       "  </thead>\n",
       "  <tbody>\n",
       "    <tr>\n",
       "      <th>60</th>\n",
       "      <td>Family Units in Private Households</td>\n",
       "      <td>Young dependents (0 - 14 years)</td>\n",
       "      <td>Satellite urban towns</td>\n",
       "      <td>2011</td>\n",
       "      <td>Number</td>\n",
       "      <td>143421</td>\n",
       "    </tr>\n",
       "    <tr>\n",
       "      <th>61</th>\n",
       "      <td>Family Units in Private Households</td>\n",
       "      <td>Young dependents (0 - 14 years)</td>\n",
       "      <td>Satellite urban towns</td>\n",
       "      <td>2016</td>\n",
       "      <td>Number</td>\n",
       "      <td>149490</td>\n",
       "    </tr>\n",
       "    <tr>\n",
       "      <th>62</th>\n",
       "      <td>Family Units in Private Households</td>\n",
       "      <td>Young dependents (0 - 14 years)</td>\n",
       "      <td>Independent urban towns</td>\n",
       "      <td>2011</td>\n",
       "      <td>Number</td>\n",
       "      <td>159779</td>\n",
       "    </tr>\n",
       "    <tr>\n",
       "      <th>63</th>\n",
       "      <td>Family Units in Private Households</td>\n",
       "      <td>Young dependents (0 - 14 years)</td>\n",
       "      <td>Independent urban towns</td>\n",
       "      <td>2016</td>\n",
       "      <td>Number</td>\n",
       "      <td>172354</td>\n",
       "    </tr>\n",
       "    <tr>\n",
       "      <th>64</th>\n",
       "      <td>Family Units in Private Households</td>\n",
       "      <td>Young dependents (0 - 14 years)</td>\n",
       "      <td>Rural areas with high urban influence</td>\n",
       "      <td>2011</td>\n",
       "      <td>Number</td>\n",
       "      <td>175381</td>\n",
       "    </tr>\n",
       "    <tr>\n",
       "      <th>65</th>\n",
       "      <td>Family Units in Private Households</td>\n",
       "      <td>Young dependents (0 - 14 years)</td>\n",
       "      <td>Rural areas with high urban influence</td>\n",
       "      <td>2016</td>\n",
       "      <td>Number</td>\n",
       "      <td>175461</td>\n",
       "    </tr>\n",
       "    <tr>\n",
       "      <th>66</th>\n",
       "      <td>Family Units in Private Households</td>\n",
       "      <td>Young dependents (0 - 14 years)</td>\n",
       "      <td>Rural areas with moderate urban influence</td>\n",
       "      <td>2011</td>\n",
       "      <td>Number</td>\n",
       "      <td>130030</td>\n",
       "    </tr>\n",
       "    <tr>\n",
       "      <th>67</th>\n",
       "      <td>Family Units in Private Households</td>\n",
       "      <td>Young dependents (0 - 14 years)</td>\n",
       "      <td>Rural areas with moderate urban influence</td>\n",
       "      <td>2016</td>\n",
       "      <td>Number</td>\n",
       "      <td>128670</td>\n",
       "    </tr>\n",
       "    <tr>\n",
       "      <th>68</th>\n",
       "      <td>Family Units in Private Households</td>\n",
       "      <td>Young dependents (0 - 14 years)</td>\n",
       "      <td>Highly rural/remote areas</td>\n",
       "      <td>2011</td>\n",
       "      <td>Number</td>\n",
       "      <td>84568</td>\n",
       "    </tr>\n",
       "    <tr>\n",
       "      <th>69</th>\n",
       "      <td>Family Units in Private Households</td>\n",
       "      <td>Young dependents (0 - 14 years)</td>\n",
       "      <td>Highly rural/remote areas</td>\n",
       "      <td>2016</td>\n",
       "      <td>Number</td>\n",
       "      <td>81347</td>\n",
       "    </tr>\n",
       "  </tbody>\n",
       "</table>\n",
       "</div>"
      ],
      "text/plain": [
       "                       Statistic_Label                   Age_Dependents  \\\n",
       "60  Family Units in Private Households  Young dependents (0 - 14 years)   \n",
       "61  Family Units in Private Households  Young dependents (0 - 14 years)   \n",
       "62  Family Units in Private Households  Young dependents (0 - 14 years)   \n",
       "63  Family Units in Private Households  Young dependents (0 - 14 years)   \n",
       "64  Family Units in Private Households  Young dependents (0 - 14 years)   \n",
       "65  Family Units in Private Households  Young dependents (0 - 14 years)   \n",
       "66  Family Units in Private Households  Young dependents (0 - 14 years)   \n",
       "67  Family Units in Private Households  Young dependents (0 - 14 years)   \n",
       "68  Family Units in Private Households  Young dependents (0 - 14 years)   \n",
       "69  Family Units in Private Households  Young dependents (0 - 14 years)   \n",
       "\n",
       "                  Type_of_Urban_or_Rural_Area  Year    Unit   Value  \n",
       "60                      Satellite urban towns  2011  Number  143421  \n",
       "61                      Satellite urban towns  2016  Number  149490  \n",
       "62                    Independent urban towns  2011  Number  159779  \n",
       "63                    Independent urban towns  2016  Number  172354  \n",
       "64      Rural areas with high urban influence  2011  Number  175381  \n",
       "65      Rural areas with high urban influence  2016  Number  175461  \n",
       "66  Rural areas with moderate urban influence  2011  Number  130030  \n",
       "67  Rural areas with moderate urban influence  2016  Number  128670  \n",
       "68                  Highly rural/remote areas  2011  Number   84568  \n",
       "69                  Highly rural/remote areas  2016  Number   81347  "
      ]
     },
     "execution_count": 4,
     "metadata": {},
     "output_type": "execute_result"
    }
   ],
   "source": [
    "df.tail(10) # Print the last 10 rows of the dataframe by applying the .tail() function"
   ]
  },
  {
   "cell_type": "code",
   "execution_count": 5,
   "id": "f6680176",
   "metadata": {},
   "outputs": [
    {
     "data": {
      "text/plain": [
       "(70, 6)"
      ]
     },
     "execution_count": 5,
     "metadata": {},
     "output_type": "execute_result"
    }
   ],
   "source": [
    "df.shape  # DenizOzsoy_dependentDataBase.csv dataframe contains 70 rows and 6 columns"
   ]
  },
  {
   "cell_type": "code",
   "execution_count": 6,
   "id": "c9ce2961",
   "metadata": {},
   "outputs": [
    {
     "name": "stdout",
     "output_type": "stream",
     "text": [
      "<class 'pandas.core.frame.DataFrame'>\n",
      "RangeIndex: 70 entries, 0 to 69\n",
      "Data columns (total 6 columns):\n",
      " #   Column                       Non-Null Count  Dtype \n",
      "---  ------                       --------------  ----- \n",
      " 0   Statistic_Label              70 non-null     object\n",
      " 1   Age_Dependents               70 non-null     object\n",
      " 2   Type_of_Urban_or_Rural_Area  70 non-null     object\n",
      " 3   Year                         70 non-null     int64 \n",
      " 4   Unit                         70 non-null     object\n",
      " 5   Value                        70 non-null     int64 \n",
      "dtypes: int64(2), object(4)\n",
      "memory usage: 3.4+ KB\n"
     ]
    }
   ],
   "source": [
    "df.info()  "
   ]
  },
  {
   "cell_type": "code",
   "execution_count": 7,
   "id": "69aff5c8",
   "metadata": {},
   "outputs": [
    {
     "data": {
      "text/html": [
       "<div>\n",
       "<style scoped>\n",
       "    .dataframe tbody tr th:only-of-type {\n",
       "        vertical-align: middle;\n",
       "    }\n",
       "\n",
       "    .dataframe tbody tr th {\n",
       "        vertical-align: top;\n",
       "    }\n",
       "\n",
       "    .dataframe thead th {\n",
       "        text-align: right;\n",
       "    }\n",
       "</style>\n",
       "<table border=\"1\" class=\"dataframe\">\n",
       "  <thead>\n",
       "    <tr style=\"text-align: right;\">\n",
       "      <th></th>\n",
       "      <th>Year</th>\n",
       "      <th>Value</th>\n",
       "    </tr>\n",
       "  </thead>\n",
       "  <tbody>\n",
       "    <tr>\n",
       "      <th>count</th>\n",
       "      <td>70.000000</td>\n",
       "      <td>7.000000e+01</td>\n",
       "    </tr>\n",
       "    <tr>\n",
       "      <th>mean</th>\n",
       "      <td>2013.500000</td>\n",
       "      <td>6.160434e+05</td>\n",
       "    </tr>\n",
       "    <tr>\n",
       "      <th>std</th>\n",
       "      <td>2.518051</td>\n",
       "      <td>9.000944e+05</td>\n",
       "    </tr>\n",
       "    <tr>\n",
       "      <th>min</th>\n",
       "      <td>2011.000000</td>\n",
       "      <td>4.635100e+04</td>\n",
       "    </tr>\n",
       "    <tr>\n",
       "      <th>25%</th>\n",
       "      <td>2011.000000</td>\n",
       "      <td>1.598830e+05</td>\n",
       "    </tr>\n",
       "    <tr>\n",
       "      <th>50%</th>\n",
       "      <td>2013.500000</td>\n",
       "      <td>2.879135e+05</td>\n",
       "    </tr>\n",
       "    <tr>\n",
       "      <th>75%</th>\n",
       "      <td>2016.000000</td>\n",
       "      <td>5.947765e+05</td>\n",
       "    </tr>\n",
       "    <tr>\n",
       "      <th>max</th>\n",
       "      <td>2016.000000</td>\n",
       "      <td>4.689921e+06</td>\n",
       "    </tr>\n",
       "  </tbody>\n",
       "</table>\n",
       "</div>"
      ],
      "text/plain": [
       "              Year         Value\n",
       "count    70.000000  7.000000e+01\n",
       "mean   2013.500000  6.160434e+05\n",
       "std       2.518051  9.000944e+05\n",
       "min    2011.000000  4.635100e+04\n",
       "25%    2011.000000  1.598830e+05\n",
       "50%    2013.500000  2.879135e+05\n",
       "75%    2016.000000  5.947765e+05\n",
       "max    2016.000000  4.689921e+06"
      ]
     },
     "execution_count": 7,
     "metadata": {},
     "output_type": "execute_result"
    }
   ],
   "source": [
    "df.describe()"
   ]
  },
  {
   "cell_type": "code",
   "execution_count": 8,
   "id": "5720f891",
   "metadata": {},
   "outputs": [
    {
     "data": {
      "text/plain": [
       "Statistic_Label                0\n",
       "Age_Dependents                 0\n",
       "Type_of_Urban_or_Rural_Area    0\n",
       "Year                           0\n",
       "Unit                           0\n",
       "Value                          0\n",
       "dtype: int64"
      ]
     },
     "execution_count": 8,
     "metadata": {},
     "output_type": "execute_result"
    }
   ],
   "source": [
    "df.isnull().sum()"
   ]
  },
  {
   "cell_type": "code",
   "execution_count": 9,
   "id": "12e17da8",
   "metadata": {},
   "outputs": [
    {
     "data": {
      "text/html": [
       "<div>\n",
       "<style scoped>\n",
       "    .dataframe tbody tr th:only-of-type {\n",
       "        vertical-align: middle;\n",
       "    }\n",
       "\n",
       "    .dataframe tbody tr th {\n",
       "        vertical-align: top;\n",
       "    }\n",
       "\n",
       "    .dataframe thead th {\n",
       "        text-align: right;\n",
       "    }\n",
       "</style>\n",
       "<table border=\"1\" class=\"dataframe\">\n",
       "  <thead>\n",
       "    <tr style=\"text-align: right;\">\n",
       "      <th></th>\n",
       "      <th>Statistic_Label</th>\n",
       "      <th>Age_Dependents</th>\n",
       "      <th>Type_of_Urban_or_Rural_Area</th>\n",
       "      <th>Unit</th>\n",
       "    </tr>\n",
       "  </thead>\n",
       "  <tbody>\n",
       "    <tr>\n",
       "      <th>count</th>\n",
       "      <td>70</td>\n",
       "      <td>70</td>\n",
       "      <td>70</td>\n",
       "      <td>70</td>\n",
       "    </tr>\n",
       "    <tr>\n",
       "      <th>unique</th>\n",
       "      <td>1</td>\n",
       "      <td>5</td>\n",
       "      <td>7</td>\n",
       "      <td>1</td>\n",
       "    </tr>\n",
       "    <tr>\n",
       "      <th>top</th>\n",
       "      <td>Family Units in Private Households</td>\n",
       "      <td>All Ages</td>\n",
       "      <td>State</td>\n",
       "      <td>Number</td>\n",
       "    </tr>\n",
       "    <tr>\n",
       "      <th>freq</th>\n",
       "      <td>70</td>\n",
       "      <td>14</td>\n",
       "      <td>10</td>\n",
       "      <td>70</td>\n",
       "    </tr>\n",
       "  </tbody>\n",
       "</table>\n",
       "</div>"
      ],
      "text/plain": [
       "                           Statistic_Label Age_Dependents  \\\n",
       "count                                   70             70   \n",
       "unique                                   1              5   \n",
       "top     Family Units in Private Households       All Ages   \n",
       "freq                                    70             14   \n",
       "\n",
       "       Type_of_Urban_or_Rural_Area    Unit  \n",
       "count                           70      70  \n",
       "unique                           7       1  \n",
       "top                          State  Number  \n",
       "freq                            10      70  "
      ]
     },
     "execution_count": 9,
     "metadata": {},
     "output_type": "execute_result"
    }
   ],
   "source": [
    "df.describe(include=\"object\")"
   ]
  },
  {
   "cell_type": "code",
   "execution_count": 10,
   "id": "946bc705",
   "metadata": {},
   "outputs": [
    {
     "data": {
      "text/plain": [
       "array([4525281, 4689921, 1488409, 1567945,  581284,  597355,  730327,\n",
       "        770329,  732636,  754794,  577748,  587041,  414877,  412457,\n",
       "       1502703, 1628413,  451609,  493164,  189772,  206786,  245609,\n",
       "        272036,  256761,  275945,  206890,  220287,  152062,  160195,\n",
       "        528711,  626077,  170796,  198150,   46351,   57296,   85830,\n",
       "         99682,   81380,  100484,   76860,   91617,   67494,   78848,\n",
       "       3022578, 3061508, 1036800, 1074781,  391512,  390569,  484718,\n",
       "        498293,  475875,  478849,  370858,  366754,  262815,  252262,\n",
       "        973992, 1002336,  280813,  295014,  143421,  149490,  159779,\n",
       "        172354,  175381,  175461,  130030,  128670,   84568,   81347],\n",
       "      dtype=int64)"
      ]
     },
     "execution_count": 10,
     "metadata": {},
     "output_type": "execute_result"
    }
   ],
   "source": [
    "df[\"Value\"].unique()"
   ]
  },
  {
   "cell_type": "code",
   "execution_count": 11,
   "id": "4025ce58",
   "metadata": {},
   "outputs": [],
   "source": [
    "missing_values = [\"n.a.\", \"?\", \"NA\", \"n/a\", \"na\", \"--\"]\n",
    "df=pd.read_csv(\"DenizOzsoy_dependentDataBase.csv\", na_values=missing_values)"
   ]
  },
  {
   "cell_type": "code",
   "execution_count": 12,
   "id": "c6b14af4",
   "metadata": {},
   "outputs": [
    {
     "name": "stdout",
     "output_type": "stream",
     "text": [
      "<class 'pandas.core.frame.DataFrame'>\n",
      "RangeIndex: 70 entries, 0 to 69\n",
      "Data columns (total 6 columns):\n",
      " #   Column                       Non-Null Count  Dtype \n",
      "---  ------                       --------------  ----- \n",
      " 0   Statistic_Label              70 non-null     object\n",
      " 1   Age_Dependents               70 non-null     object\n",
      " 2   Type_of_Urban_or_Rural_Area  70 non-null     object\n",
      " 3   Year                         70 non-null     int64 \n",
      " 4   Unit                         70 non-null     object\n",
      " 5   Value                        70 non-null     int64 \n",
      "dtypes: int64(2), object(4)\n",
      "memory usage: 3.4+ KB\n"
     ]
    }
   ],
   "source": [
    "df.info()   # DenizOzsoy_dependentDataBase.csv dataframe contains 70 rows and 6 columns"
   ]
  },
  {
   "cell_type": "markdown",
   "id": "6f7a797d",
   "metadata": {},
   "source": [
    "#The data frame contains 70 rows and 6 columns. 2 columns are numeric and 4 columns are categorical. \n",
    "There is no missing information in any line."
   ]
  },
  {
   "cell_type": "code",
   "execution_count": 13,
   "id": "586875c5",
   "metadata": {},
   "outputs": [
    {
     "data": {
      "text/plain": [
       "Statistic_Label                object\n",
       "Age_Dependents                 object\n",
       "Type_of_Urban_or_Rural_Area    object\n",
       "Year                            int64\n",
       "Unit                           object\n",
       "Value                           int64\n",
       "dtype: object"
      ]
     },
     "execution_count": 13,
     "metadata": {},
     "output_type": "execute_result"
    }
   ],
   "source": [
    "df.dtypes  "
   ]
  },
  {
   "cell_type": "code",
   "execution_count": 14,
   "id": "8795c9ea",
   "metadata": {},
   "outputs": [],
   "source": [
    "# Checked the data types of the \"DenizOzsoy_dependentDataBase.csv\" data frame by applying the .dtypes property to the data frame"
   ]
  },
  {
   "cell_type": "code",
   "execution_count": 15,
   "id": "032742ec",
   "metadata": {},
   "outputs": [
    {
     "data": {
      "text/plain": [
       "Index(['Statistic_Label', 'Age_Dependents', 'Type_of_Urban_or_Rural_Area',\n",
       "       'Year', 'Unit', 'Value'],\n",
       "      dtype='object')"
      ]
     },
     "execution_count": 15,
     "metadata": {},
     "output_type": "execute_result"
    }
   ],
   "source": [
    "df.columns"
   ]
  },
  {
   "cell_type": "code",
   "execution_count": 16,
   "id": "d6670089",
   "metadata": {},
   "outputs": [],
   "source": [
    "df.drop(columns=[\"Statistic_Label\", \"Unit\"], inplace=True)"
   ]
  },
  {
   "cell_type": "code",
   "execution_count": 17,
   "id": "1f9c532d",
   "metadata": {},
   "outputs": [
    {
     "data": {
      "text/html": [
       "<div>\n",
       "<style scoped>\n",
       "    .dataframe tbody tr th:only-of-type {\n",
       "        vertical-align: middle;\n",
       "    }\n",
       "\n",
       "    .dataframe tbody tr th {\n",
       "        vertical-align: top;\n",
       "    }\n",
       "\n",
       "    .dataframe thead th {\n",
       "        text-align: right;\n",
       "    }\n",
       "</style>\n",
       "<table border=\"1\" class=\"dataframe\">\n",
       "  <thead>\n",
       "    <tr style=\"text-align: right;\">\n",
       "      <th></th>\n",
       "      <th>Age_Dependents</th>\n",
       "      <th>Type_of_Urban_or_Rural_Area</th>\n",
       "      <th>Year</th>\n",
       "      <th>Value</th>\n",
       "    </tr>\n",
       "  </thead>\n",
       "  <tbody>\n",
       "    <tr>\n",
       "      <th>0</th>\n",
       "      <td>All Ages</td>\n",
       "      <td>State</td>\n",
       "      <td>2011</td>\n",
       "      <td>4525281</td>\n",
       "    </tr>\n",
       "    <tr>\n",
       "      <th>1</th>\n",
       "      <td>All Ages</td>\n",
       "      <td>State</td>\n",
       "      <td>2016</td>\n",
       "      <td>4689921</td>\n",
       "    </tr>\n",
       "    <tr>\n",
       "      <th>2</th>\n",
       "      <td>All Ages</td>\n",
       "      <td>Cities</td>\n",
       "      <td>2011</td>\n",
       "      <td>1488409</td>\n",
       "    </tr>\n",
       "    <tr>\n",
       "      <th>3</th>\n",
       "      <td>All Ages</td>\n",
       "      <td>Cities</td>\n",
       "      <td>2016</td>\n",
       "      <td>1567945</td>\n",
       "    </tr>\n",
       "    <tr>\n",
       "      <th>4</th>\n",
       "      <td>All Ages</td>\n",
       "      <td>Satellite urban towns</td>\n",
       "      <td>2011</td>\n",
       "      <td>581284</td>\n",
       "    </tr>\n",
       "    <tr>\n",
       "      <th>5</th>\n",
       "      <td>All Ages</td>\n",
       "      <td>Satellite urban towns</td>\n",
       "      <td>2016</td>\n",
       "      <td>597355</td>\n",
       "    </tr>\n",
       "    <tr>\n",
       "      <th>6</th>\n",
       "      <td>All Ages</td>\n",
       "      <td>Independent urban towns</td>\n",
       "      <td>2011</td>\n",
       "      <td>730327</td>\n",
       "    </tr>\n",
       "    <tr>\n",
       "      <th>7</th>\n",
       "      <td>All Ages</td>\n",
       "      <td>Independent urban towns</td>\n",
       "      <td>2016</td>\n",
       "      <td>770329</td>\n",
       "    </tr>\n",
       "    <tr>\n",
       "      <th>8</th>\n",
       "      <td>All Ages</td>\n",
       "      <td>Rural areas with high urban influence</td>\n",
       "      <td>2011</td>\n",
       "      <td>732636</td>\n",
       "    </tr>\n",
       "    <tr>\n",
       "      <th>9</th>\n",
       "      <td>All Ages</td>\n",
       "      <td>Rural areas with high urban influence</td>\n",
       "      <td>2016</td>\n",
       "      <td>754794</td>\n",
       "    </tr>\n",
       "  </tbody>\n",
       "</table>\n",
       "</div>"
      ],
      "text/plain": [
       "  Age_Dependents            Type_of_Urban_or_Rural_Area  Year    Value\n",
       "0       All Ages                                  State  2011  4525281\n",
       "1       All Ages                                  State  2016  4689921\n",
       "2       All Ages                                 Cities  2011  1488409\n",
       "3       All Ages                                 Cities  2016  1567945\n",
       "4       All Ages                  Satellite urban towns  2011   581284\n",
       "5       All Ages                  Satellite urban towns  2016   597355\n",
       "6       All Ages                Independent urban towns  2011   730327\n",
       "7       All Ages                Independent urban towns  2016   770329\n",
       "8       All Ages  Rural areas with high urban influence  2011   732636\n",
       "9       All Ages  Rural areas with high urban influence  2016   754794"
      ]
     },
     "execution_count": 17,
     "metadata": {},
     "output_type": "execute_result"
    }
   ],
   "source": [
    "df.head(10)"
   ]
  },
  {
   "cell_type": "code",
   "execution_count": 18,
   "id": "db2a8ac6",
   "metadata": {},
   "outputs": [
    {
     "data": {
      "text/html": [
       "<div>\n",
       "<style scoped>\n",
       "    .dataframe tbody tr th:only-of-type {\n",
       "        vertical-align: middle;\n",
       "    }\n",
       "\n",
       "    .dataframe tbody tr th {\n",
       "        vertical-align: top;\n",
       "    }\n",
       "\n",
       "    .dataframe thead th {\n",
       "        text-align: right;\n",
       "    }\n",
       "</style>\n",
       "<table border=\"1\" class=\"dataframe\">\n",
       "  <thead>\n",
       "    <tr style=\"text-align: right;\">\n",
       "      <th></th>\n",
       "      <th>Age_Dependents</th>\n",
       "      <th>Type_of_Urban_or_Rural_Area</th>\n",
       "      <th>Year</th>\n",
       "      <th>Value</th>\n",
       "    </tr>\n",
       "  </thead>\n",
       "  <tbody>\n",
       "    <tr>\n",
       "      <th>60</th>\n",
       "      <td>Young dependents (0 - 14 years)</td>\n",
       "      <td>Satellite urban towns</td>\n",
       "      <td>2011</td>\n",
       "      <td>143421</td>\n",
       "    </tr>\n",
       "    <tr>\n",
       "      <th>61</th>\n",
       "      <td>Young dependents (0 - 14 years)</td>\n",
       "      <td>Satellite urban towns</td>\n",
       "      <td>2016</td>\n",
       "      <td>149490</td>\n",
       "    </tr>\n",
       "    <tr>\n",
       "      <th>62</th>\n",
       "      <td>Young dependents (0 - 14 years)</td>\n",
       "      <td>Independent urban towns</td>\n",
       "      <td>2011</td>\n",
       "      <td>159779</td>\n",
       "    </tr>\n",
       "    <tr>\n",
       "      <th>63</th>\n",
       "      <td>Young dependents (0 - 14 years)</td>\n",
       "      <td>Independent urban towns</td>\n",
       "      <td>2016</td>\n",
       "      <td>172354</td>\n",
       "    </tr>\n",
       "    <tr>\n",
       "      <th>64</th>\n",
       "      <td>Young dependents (0 - 14 years)</td>\n",
       "      <td>Rural areas with high urban influence</td>\n",
       "      <td>2011</td>\n",
       "      <td>175381</td>\n",
       "    </tr>\n",
       "    <tr>\n",
       "      <th>65</th>\n",
       "      <td>Young dependents (0 - 14 years)</td>\n",
       "      <td>Rural areas with high urban influence</td>\n",
       "      <td>2016</td>\n",
       "      <td>175461</td>\n",
       "    </tr>\n",
       "    <tr>\n",
       "      <th>66</th>\n",
       "      <td>Young dependents (0 - 14 years)</td>\n",
       "      <td>Rural areas with moderate urban influence</td>\n",
       "      <td>2011</td>\n",
       "      <td>130030</td>\n",
       "    </tr>\n",
       "    <tr>\n",
       "      <th>67</th>\n",
       "      <td>Young dependents (0 - 14 years)</td>\n",
       "      <td>Rural areas with moderate urban influence</td>\n",
       "      <td>2016</td>\n",
       "      <td>128670</td>\n",
       "    </tr>\n",
       "    <tr>\n",
       "      <th>68</th>\n",
       "      <td>Young dependents (0 - 14 years)</td>\n",
       "      <td>Highly rural/remote areas</td>\n",
       "      <td>2011</td>\n",
       "      <td>84568</td>\n",
       "    </tr>\n",
       "    <tr>\n",
       "      <th>69</th>\n",
       "      <td>Young dependents (0 - 14 years)</td>\n",
       "      <td>Highly rural/remote areas</td>\n",
       "      <td>2016</td>\n",
       "      <td>81347</td>\n",
       "    </tr>\n",
       "  </tbody>\n",
       "</table>\n",
       "</div>"
      ],
      "text/plain": [
       "                     Age_Dependents  \\\n",
       "60  Young dependents (0 - 14 years)   \n",
       "61  Young dependents (0 - 14 years)   \n",
       "62  Young dependents (0 - 14 years)   \n",
       "63  Young dependents (0 - 14 years)   \n",
       "64  Young dependents (0 - 14 years)   \n",
       "65  Young dependents (0 - 14 years)   \n",
       "66  Young dependents (0 - 14 years)   \n",
       "67  Young dependents (0 - 14 years)   \n",
       "68  Young dependents (0 - 14 years)   \n",
       "69  Young dependents (0 - 14 years)   \n",
       "\n",
       "                  Type_of_Urban_or_Rural_Area  Year   Value  \n",
       "60                      Satellite urban towns  2011  143421  \n",
       "61                      Satellite urban towns  2016  149490  \n",
       "62                    Independent urban towns  2011  159779  \n",
       "63                    Independent urban towns  2016  172354  \n",
       "64      Rural areas with high urban influence  2011  175381  \n",
       "65      Rural areas with high urban influence  2016  175461  \n",
       "66  Rural areas with moderate urban influence  2011  130030  \n",
       "67  Rural areas with moderate urban influence  2016  128670  \n",
       "68                  Highly rural/remote areas  2011   84568  \n",
       "69                  Highly rural/remote areas  2016   81347  "
      ]
     },
     "execution_count": 18,
     "metadata": {},
     "output_type": "execute_result"
    }
   ],
   "source": [
    "df.tail(10) # Column names in Excel were corrected manually to avoid any errors in the data in the application."
   ]
  },
  {
   "cell_type": "code",
   "execution_count": 19,
   "id": "aa3a75a3",
   "metadata": {},
   "outputs": [
    {
     "data": {
      "text/plain": [
       "array(['All Ages', 'All Dependents (0 - 14 years plus 65 years and over)',\n",
       "       'Elderly Dependents (65 years and over)',\n",
       "       'Working Age (15 - 64 years)', 'Young dependents (0 - 14 years)'],\n",
       "      dtype=object)"
      ]
     },
     "execution_count": 19,
     "metadata": {},
     "output_type": "execute_result"
    }
   ],
   "source": [
    "df[\"Age_Dependents\"].unique()"
   ]
  },
  {
   "cell_type": "code",
   "execution_count": 20,
   "id": "1cb343f5",
   "metadata": {},
   "outputs": [
    {
     "data": {
      "text/plain": [
       "array(['State', 'Cities', 'Satellite urban towns',\n",
       "       'Independent urban towns', 'Rural areas with high urban influence',\n",
       "       'Rural areas with moderate urban influence',\n",
       "       'Highly rural/remote areas'], dtype=object)"
      ]
     },
     "execution_count": 20,
     "metadata": {},
     "output_type": "execute_result"
    }
   ],
   "source": [
    "df[\"Type_of_Urban_or_Rural_Area\"].unique()  # Both column no change are required."
   ]
  },
  {
   "cell_type": "code",
   "execution_count": 21,
   "id": "9de8258a",
   "metadata": {},
   "outputs": [
    {
     "data": {
      "text/html": [
       "<div>\n",
       "<style scoped>\n",
       "    .dataframe tbody tr th:only-of-type {\n",
       "        vertical-align: middle;\n",
       "    }\n",
       "\n",
       "    .dataframe tbody tr th {\n",
       "        vertical-align: top;\n",
       "    }\n",
       "\n",
       "    .dataframe thead th {\n",
       "        text-align: right;\n",
       "    }\n",
       "</style>\n",
       "<table border=\"1\" class=\"dataframe\">\n",
       "  <thead>\n",
       "    <tr style=\"text-align: right;\">\n",
       "      <th></th>\n",
       "      <th>count</th>\n",
       "      <th>mean</th>\n",
       "      <th>std</th>\n",
       "      <th>min</th>\n",
       "      <th>25%</th>\n",
       "      <th>50%</th>\n",
       "      <th>75%</th>\n",
       "      <th>max</th>\n",
       "    </tr>\n",
       "  </thead>\n",
       "  <tbody>\n",
       "    <tr>\n",
       "      <th>Year</th>\n",
       "      <td>70.0</td>\n",
       "      <td>2013.500000</td>\n",
       "      <td>2.518051</td>\n",
       "      <td>2011.0</td>\n",
       "      <td>2011.0</td>\n",
       "      <td>2013.5</td>\n",
       "      <td>2016.0</td>\n",
       "      <td>2016.0</td>\n",
       "    </tr>\n",
       "    <tr>\n",
       "      <th>Value</th>\n",
       "      <td>70.0</td>\n",
       "      <td>616043.428571</td>\n",
       "      <td>900094.393314</td>\n",
       "      <td>46351.0</td>\n",
       "      <td>159883.0</td>\n",
       "      <td>287913.5</td>\n",
       "      <td>594776.5</td>\n",
       "      <td>4689921.0</td>\n",
       "    </tr>\n",
       "  </tbody>\n",
       "</table>\n",
       "</div>"
      ],
      "text/plain": [
       "       count           mean            std      min       25%       50%  \\\n",
       "Year    70.0    2013.500000       2.518051   2011.0    2011.0    2013.5   \n",
       "Value   70.0  616043.428571  900094.393314  46351.0  159883.0  287913.5   \n",
       "\n",
       "            75%        max  \n",
       "Year     2016.0     2016.0  \n",
       "Value  594776.5  4689921.0  "
      ]
     },
     "execution_count": 21,
     "metadata": {},
     "output_type": "execute_result"
    }
   ],
   "source": [
    "df.describe().T # Apply .describe().T to check the mean, standard deviation, and quantiles of all the columns in the dataframe"
   ]
  },
  {
   "cell_type": "code",
   "execution_count": 22,
   "id": "b618fbe5",
   "metadata": {},
   "outputs": [],
   "source": [
    "# columns include years 2011 to 2016, with a mean of 2013.500000 and a standard deviation of 2.518051."
   ]
  },
  {
   "cell_type": "code",
   "execution_count": 23,
   "id": "f9a2c853",
   "metadata": {},
   "outputs": [
    {
     "data": {
      "image/png": "[encoded data removed]",
      "text/plain": [
       "<Figure size 800x400 with 1 Axes>"
      ]
     },
     "metadata": {},
     "output_type": "display_data"
    }
   ],
   "source": [
    "plt.figure(figsize=(8, 4))\n",
    "\n",
    "sns.histplot(data=df, x='Value', color='Blue', bins=18)\n",
    "\n",
    "plt.title('Number of Dependent People')\n",
    "\n",
    "plt.xticks(range(0, 150, 10))\n",
    "\n",
    "plt.show()"
   ]
  },
  {
   "cell_type": "markdown",
   "id": "5029895d",
   "metadata": {},
   "source": [
    "From this histogram, we can observe that the majority of projects approved. This is the most common range of units within the dataset. The histogram appears skewed to the right."
   ]
  },
  {
   "cell_type": "code",
   "execution_count": 39,
   "id": "484b0010",
   "metadata": {},
   "outputs": [],
   "source": [
    "years = df.loc[df['Value']!= 0]"
   ]
  },
  {
   "cell_type": "code",
   "execution_count": 38,
   "id": "f19da981",
   "metadata": {
    "scrolled": false
   },
   "outputs": [
    {
     "data": {
      "image/png": "[encoded data removed]",
      "text/plain": [
       "<Figure size 640x480 with 1 Axes>"
      ]
     },
     "metadata": {},
     "output_type": "display_data"
    }
   ],
   "source": [
    "sns.boxplot(data=years , x='Value')\n",
    "plt.title('Dependent People in Years')\n",
    "plt.gca().xaxis.set_major_locator(ticker.MaxNLocator(integer=True))\n",
    "plt.show()"
   ]
  },
  {
   "cell_type": "code",
   "execution_count": 28,
   "id": "fed2b055",
   "metadata": {},
   "outputs": [
    {
     "data": {
      "image/png": "[encoded data removed]",
      "text/plain": [
       "<Figure size 640x480 with 1 Axes>"
      ]
     },
     "metadata": {},
     "output_type": "display_data"
    }
   ],
   "source": [
    "sns.boxplot(data=df[\"Value\"]);"
   ]
  },
  {
   "cell_type": "code",
   "execution_count": 34,
   "id": "54300a46",
   "metadata": {},
   "outputs": [
    {
     "data": {
      "image/png": "[encoded data removed]",
      "text/plain": [
       "<Figure size 500x500 with 1 Axes>"
      ]
     },
     "metadata": {},
     "output_type": "display_data"
    }
   ],
   "source": [
    "sns.lmplot(x='Year', y='Value', data=df);"
   ]
  },
  {
   "cell_type": "code",
   "execution_count": null,
   "id": "e4b2b365",
   "metadata": {},
   "outputs": [],
   "source": []
  }
 ],
 "metadata": {
  "kernelspec": {
   "display_name": "Python 3 (ipykernel)",
   "language": "python",
   "name": "python3"
  },
  "language_info": {
   "codemirror_mode": {
    "name": "ipython",
    "version": 3
   },
   "file_extension": ".py",
   "mimetype": "text/x-python",
   "name": "python",
   "nbconvert_exporter": "python",
   "pygments_lexer": "ipython3",
   "version": "3.11.4"
  }
 },
 "nbformat": 4,
 "nbformat_minor": 5
}
