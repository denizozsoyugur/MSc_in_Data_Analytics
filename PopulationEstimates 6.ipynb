{
 "cells": [
  {
   "cell_type": "code",
   "execution_count": 1,
   "id": "de2813d5",
   "metadata": {},
   "outputs": [],
   "source": [
    "import numpy as np\n",
    "import pandas as pd\n",
    "from matplotlib import pyplot as plt\n",
    "import seaborn as sns\n",
    "from sklearn.metrics import r2_score\n",
    "from sklearn import linear_model\n",
    "from sklearn.preprocessing import OrdinalEncoder\n",
    "from sklearn.preprocessing import LabelEncoder\n",
    "\n",
    "# Import NumPy, Pandas, Matplotlib, Seaborn libraries libraries"
   ]
  },
  {
   "cell_type": "code",
   "execution_count": 2,
   "id": "5b61b6bc",
   "metadata": {},
   "outputs": [],
   "source": [
    "import warnings\n",
    "\n",
    "warnings.filterwarnings('ignore')\n",
    "\n",
    "# Suppress the warnings"
   ]
  },
  {
   "cell_type": "markdown",
   "id": "734c6ac7",
   "metadata": {},
   "source": [
    "Link to the dataset:\n",
    "\n",
    "https://data.cso.ie/table/PEA11\n",
    "\n"
   ]
  },
  {
   "cell_type": "code",
   "execution_count": 3,
   "id": "8509e183",
   "metadata": {},
   "outputs": [],
   "source": [
    "missing_values = ['/',' ','-','--','na','Na','n/a','NA','n.a.','?','nan','Nan','nul','Nul','null','Null']\n",
    "\n",
    "df= pd.read_csv('PopulationEstimatesDatabase1.csv',na_values=missing_values)\n",
    "\n",
    "# Create a list with all the possible missing value formats. Create a name for the dataframe as report\n",
    "# ('PopulationEstimatesDatabase1')and apply the pd.read_csv function \n",
    "# Include the variable 'na_values' and define it with the 'missing values' list previously created"
   ]
  },
  {
   "cell_type": "code",
   "execution_count": 4,
   "id": "8ecc6fa1",
   "metadata": {},
   "outputs": [
    {
     "data": {
      "text/plain": [
       "STATISTIC Label       0\n",
       "Year                  0\n",
       "Single Year of Age    0\n",
       "Sex                   0\n",
       "UNIT                  0\n",
       "VALUE                 0\n",
       "dtype: int64"
      ]
     },
     "execution_count": 4,
     "metadata": {},
     "output_type": "execute_result"
    }
   ],
   "source": [
    "df.isnull().sum()\n",
    "\n",
    "# Check missing values by applying the .isnull().sum method to the dataframe"
   ]
  },
  {
   "cell_type": "code",
   "execution_count": 5,
   "id": "8aaed91a",
   "metadata": {},
   "outputs": [
    {
     "name": "stdout",
     "output_type": "stream",
     "text": [
      "<class 'pandas.core.frame.DataFrame'>\n",
      "RangeIndex: 11817 entries, 0 to 11816\n",
      "Data columns (total 6 columns):\n",
      " #   Column              Non-Null Count  Dtype \n",
      "---  ------              --------------  ----- \n",
      " 0   STATISTIC Label     11817 non-null  object\n",
      " 1   Year                11817 non-null  int64 \n",
      " 2   Single Year of Age  11817 non-null  object\n",
      " 3   Sex                 11817 non-null  object\n",
      " 4   UNIT                11817 non-null  object\n",
      " 5   VALUE               11817 non-null  int64 \n",
      "dtypes: int64(2), object(4)\n",
      "memory usage: 554.1+ KB\n"
     ]
    }
   ],
   "source": [
    "df.info()\n",
    "\n",
    "# Check the information of the dataframe by applying the .info() function"
   ]
  },
  {
   "cell_type": "code",
   "execution_count": 6,
   "id": "83b4b4bb",
   "metadata": {},
   "outputs": [
    {
     "data": {
      "text/html": [
       "<div>\n",
       "<style scoped>\n",
       "    .dataframe tbody tr th:only-of-type {\n",
       "        vertical-align: middle;\n",
       "    }\n",
       "\n",
       "    .dataframe tbody tr th {\n",
       "        vertical-align: top;\n",
       "    }\n",
       "\n",
       "    .dataframe thead th {\n",
       "        text-align: right;\n",
       "    }\n",
       "</style>\n",
       "<table border=\"1\" class=\"dataframe\">\n",
       "  <thead>\n",
       "    <tr style=\"text-align: right;\">\n",
       "      <th></th>\n",
       "      <th>STATISTIC Label</th>\n",
       "      <th>Year</th>\n",
       "      <th>Single Year of Age</th>\n",
       "      <th>Sex</th>\n",
       "      <th>UNIT</th>\n",
       "      <th>VALUE</th>\n",
       "    </tr>\n",
       "  </thead>\n",
       "  <tbody>\n",
       "    <tr>\n",
       "      <th>0</th>\n",
       "      <td>Population estimates from 1926</td>\n",
       "      <td>1926</td>\n",
       "      <td>All ages</td>\n",
       "      <td>Both sexes</td>\n",
       "      <td>Number</td>\n",
       "      <td>2971992</td>\n",
       "    </tr>\n",
       "    <tr>\n",
       "      <th>1</th>\n",
       "      <td>Population estimates from 1926</td>\n",
       "      <td>1926</td>\n",
       "      <td>All ages</td>\n",
       "      <td>Male</td>\n",
       "      <td>Number</td>\n",
       "      <td>1506889</td>\n",
       "    </tr>\n",
       "    <tr>\n",
       "      <th>2</th>\n",
       "      <td>Population estimates from 1926</td>\n",
       "      <td>1926</td>\n",
       "      <td>All ages</td>\n",
       "      <td>Female</td>\n",
       "      <td>Number</td>\n",
       "      <td>1465103</td>\n",
       "    </tr>\n",
       "    <tr>\n",
       "      <th>3</th>\n",
       "      <td>Population estimates from 1926</td>\n",
       "      <td>1926</td>\n",
       "      <td>Under 1 year</td>\n",
       "      <td>Both sexes</td>\n",
       "      <td>Number</td>\n",
       "      <td>55391</td>\n",
       "    </tr>\n",
       "    <tr>\n",
       "      <th>4</th>\n",
       "      <td>Population estimates from 1926</td>\n",
       "      <td>1926</td>\n",
       "      <td>Under 1 year</td>\n",
       "      <td>Male</td>\n",
       "      <td>Number</td>\n",
       "      <td>28084</td>\n",
       "    </tr>\n",
       "  </tbody>\n",
       "</table>\n",
       "</div>"
      ],
      "text/plain": [
       "                  STATISTIC Label  Year Single Year of Age         Sex  \\\n",
       "0  Population estimates from 1926  1926           All ages  Both sexes   \n",
       "1  Population estimates from 1926  1926           All ages        Male   \n",
       "2  Population estimates from 1926  1926           All ages      Female   \n",
       "3  Population estimates from 1926  1926       Under 1 year  Both sexes   \n",
       "4  Population estimates from 1926  1926       Under 1 year        Male   \n",
       "\n",
       "     UNIT    VALUE  \n",
       "0  Number  2971992  \n",
       "1  Number  1506889  \n",
       "2  Number  1465103  \n",
       "3  Number    55391  \n",
       "4  Number    28084  "
      ]
     },
     "execution_count": 6,
     "metadata": {},
     "output_type": "execute_result"
    }
   ],
   "source": [
    "df.head(5)\n",
    "\n",
    "# Print the first 5 rows of the dataframe by applying the.head() function"
   ]
  },
  {
   "cell_type": "code",
   "execution_count": 7,
   "id": "88837161",
   "metadata": {},
   "outputs": [
    {
     "data": {
      "text/html": [
       "<div>\n",
       "<style scoped>\n",
       "    .dataframe tbody tr th:only-of-type {\n",
       "        vertical-align: middle;\n",
       "    }\n",
       "\n",
       "    .dataframe tbody tr th {\n",
       "        vertical-align: top;\n",
       "    }\n",
       "\n",
       "    .dataframe thead th {\n",
       "        text-align: right;\n",
       "    }\n",
       "</style>\n",
       "<table border=\"1\" class=\"dataframe\">\n",
       "  <thead>\n",
       "    <tr style=\"text-align: right;\">\n",
       "      <th></th>\n",
       "      <th>STATISTIC Label</th>\n",
       "      <th>Year</th>\n",
       "      <th>Single Year of Age</th>\n",
       "      <th>Sex</th>\n",
       "      <th>UNIT</th>\n",
       "      <th>VALUE</th>\n",
       "    </tr>\n",
       "  </thead>\n",
       "  <tbody>\n",
       "    <tr>\n",
       "      <th>11812</th>\n",
       "      <td>Population estimates from 1926</td>\n",
       "      <td>2023</td>\n",
       "      <td>98 years</td>\n",
       "      <td>Male</td>\n",
       "      <td>Number</td>\n",
       "      <td>197</td>\n",
       "    </tr>\n",
       "    <tr>\n",
       "      <th>11813</th>\n",
       "      <td>Population estimates from 1926</td>\n",
       "      <td>2023</td>\n",
       "      <td>98 years</td>\n",
       "      <td>Female</td>\n",
       "      <td>Number</td>\n",
       "      <td>632</td>\n",
       "    </tr>\n",
       "    <tr>\n",
       "      <th>11814</th>\n",
       "      <td>Population estimates from 1926</td>\n",
       "      <td>2023</td>\n",
       "      <td>99 years and over</td>\n",
       "      <td>Both sexes</td>\n",
       "      <td>Number</td>\n",
       "      <td>1600</td>\n",
       "    </tr>\n",
       "    <tr>\n",
       "      <th>11815</th>\n",
       "      <td>Population estimates from 1926</td>\n",
       "      <td>2023</td>\n",
       "      <td>99 years and over</td>\n",
       "      <td>Male</td>\n",
       "      <td>Number</td>\n",
       "      <td>352</td>\n",
       "    </tr>\n",
       "    <tr>\n",
       "      <th>11816</th>\n",
       "      <td>Population estimates from 1926</td>\n",
       "      <td>2023</td>\n",
       "      <td>99 years and over</td>\n",
       "      <td>Female</td>\n",
       "      <td>Number</td>\n",
       "      <td>1248</td>\n",
       "    </tr>\n",
       "  </tbody>\n",
       "</table>\n",
       "</div>"
      ],
      "text/plain": [
       "                      STATISTIC Label  Year Single Year of Age         Sex  \\\n",
       "11812  Population estimates from 1926  2023           98 years        Male   \n",
       "11813  Population estimates from 1926  2023           98 years      Female   \n",
       "11814  Population estimates from 1926  2023  99 years and over  Both sexes   \n",
       "11815  Population estimates from 1926  2023  99 years and over        Male   \n",
       "11816  Population estimates from 1926  2023  99 years and over      Female   \n",
       "\n",
       "         UNIT  VALUE  \n",
       "11812  Number    197  \n",
       "11813  Number    632  \n",
       "11814  Number   1600  \n",
       "11815  Number    352  \n",
       "11816  Number   1248  "
      ]
     },
     "execution_count": 7,
     "metadata": {},
     "output_type": "execute_result"
    }
   ],
   "source": [
    "df.tail(5)\n",
    "\n",
    "# Print the last 5 rows of the dataframe by applying the .tail() function"
   ]
  },
  {
   "cell_type": "code",
   "execution_count": 8,
   "id": "d1067407",
   "metadata": {},
   "outputs": [
    {
     "data": {
      "text/plain": [
       "(11817, 6)"
      ]
     },
     "execution_count": 8,
     "metadata": {},
     "output_type": "execute_result"
    }
   ],
   "source": [
    "df.shape\n",
    "\n",
    "# The number of rows and columns of the dataframe by applying the .shape function"
   ]
  },
  {
   "cell_type": "markdown",
   "id": "3d7f622a",
   "metadata": {},
   "source": [
    "This dataframe contains 11817 rows and 6 columns"
   ]
  },
  {
   "cell_type": "code",
   "execution_count": 9,
   "id": "395612df",
   "metadata": {},
   "outputs": [
    {
     "data": {
      "text/plain": [
       "STATISTIC Label       object\n",
       "Year                   int64\n",
       "Single Year of Age    object\n",
       "Sex                   object\n",
       "UNIT                  object\n",
       "VALUE                  int64\n",
       "dtype: object"
      ]
     },
     "execution_count": 9,
     "metadata": {},
     "output_type": "execute_result"
    }
   ],
   "source": [
    "df.dtypes\n",
    "\n",
    "# The data types of the dataframe by applying the .dtypes attribute to the dataframe"
   ]
  },
  {
   "cell_type": "code",
   "execution_count": 10,
   "id": "5a36e59e",
   "metadata": {},
   "outputs": [
    {
     "data": {
      "text/plain": [
       "Index(['STATISTIC Label', 'Year', 'Single Year of Age', 'Sex', 'UNIT',\n",
       "       'VALUE'],\n",
       "      dtype='object')"
      ]
     },
     "execution_count": 10,
     "metadata": {},
     "output_type": "execute_result"
    }
   ],
   "source": [
    "df.columns\n",
    "\n",
    "# Check the column names of the dataframe by applying the .columns attribute"
   ]
  },
  {
   "cell_type": "code",
   "execution_count": 11,
   "id": "4ae13e9b",
   "metadata": {},
   "outputs": [],
   "source": [
    "df.drop(columns=[\"STATISTIC Label\", \"UNIT\"], inplace=True)\n",
    "\n",
    "# Apply .drop() to remove the spesific column as it contains the same index values"
   ]
  },
  {
   "cell_type": "code",
   "execution_count": 12,
   "id": "9673275e",
   "metadata": {},
   "outputs": [
    {
     "data": {
      "text/html": [
       "<div>\n",
       "<style scoped>\n",
       "    .dataframe tbody tr th:only-of-type {\n",
       "        vertical-align: middle;\n",
       "    }\n",
       "\n",
       "    .dataframe tbody tr th {\n",
       "        vertical-align: top;\n",
       "    }\n",
       "\n",
       "    .dataframe thead th {\n",
       "        text-align: right;\n",
       "    }\n",
       "</style>\n",
       "<table border=\"1\" class=\"dataframe\">\n",
       "  <thead>\n",
       "    <tr style=\"text-align: right;\">\n",
       "      <th></th>\n",
       "      <th>Year</th>\n",
       "      <th>Single Year of Age</th>\n",
       "      <th>Sex</th>\n",
       "      <th>VALUE</th>\n",
       "    </tr>\n",
       "  </thead>\n",
       "  <tbody>\n",
       "    <tr>\n",
       "      <th>0</th>\n",
       "      <td>1926</td>\n",
       "      <td>All ages</td>\n",
       "      <td>Both sexes</td>\n",
       "      <td>2971992</td>\n",
       "    </tr>\n",
       "    <tr>\n",
       "      <th>1</th>\n",
       "      <td>1926</td>\n",
       "      <td>All ages</td>\n",
       "      <td>Male</td>\n",
       "      <td>1506889</td>\n",
       "    </tr>\n",
       "    <tr>\n",
       "      <th>2</th>\n",
       "      <td>1926</td>\n",
       "      <td>All ages</td>\n",
       "      <td>Female</td>\n",
       "      <td>1465103</td>\n",
       "    </tr>\n",
       "    <tr>\n",
       "      <th>3</th>\n",
       "      <td>1926</td>\n",
       "      <td>Under 1 year</td>\n",
       "      <td>Both sexes</td>\n",
       "      <td>55391</td>\n",
       "    </tr>\n",
       "    <tr>\n",
       "      <th>4</th>\n",
       "      <td>1926</td>\n",
       "      <td>Under 1 year</td>\n",
       "      <td>Male</td>\n",
       "      <td>28084</td>\n",
       "    </tr>\n",
       "  </tbody>\n",
       "</table>\n",
       "</div>"
      ],
      "text/plain": [
       "   Year Single Year of Age         Sex    VALUE\n",
       "0  1926           All ages  Both sexes  2971992\n",
       "1  1926           All ages        Male  1506889\n",
       "2  1926           All ages      Female  1465103\n",
       "3  1926       Under 1 year  Both sexes    55391\n",
       "4  1926       Under 1 year        Male    28084"
      ]
     },
     "execution_count": 12,
     "metadata": {},
     "output_type": "execute_result"
    }
   ],
   "source": [
    "df.head(5)"
   ]
  },
  {
   "cell_type": "code",
   "execution_count": 13,
   "id": "47207904",
   "metadata": {},
   "outputs": [],
   "source": [
    "df = df.rename(columns={'Single Year of Age': 'Single_Year_of_Age','VALUE': 'Value'})\n",
    "\n",
    "# To correct only the \"VALUE\" spelling in columns-Rename the columns of the dataframe by applying the .rename() method,\n",
    "# spaces between words in column names have been replaced by \"_\" in order to Other columns are suitable."
   ]
  },
  {
   "cell_type": "code",
   "execution_count": 14,
   "id": "7247a281",
   "metadata": {},
   "outputs": [
    {
     "data": {
      "text/html": [
       "<div>\n",
       "<style scoped>\n",
       "    .dataframe tbody tr th:only-of-type {\n",
       "        vertical-align: middle;\n",
       "    }\n",
       "\n",
       "    .dataframe tbody tr th {\n",
       "        vertical-align: top;\n",
       "    }\n",
       "\n",
       "    .dataframe thead th {\n",
       "        text-align: right;\n",
       "    }\n",
       "</style>\n",
       "<table border=\"1\" class=\"dataframe\">\n",
       "  <thead>\n",
       "    <tr style=\"text-align: right;\">\n",
       "      <th></th>\n",
       "      <th>Year</th>\n",
       "      <th>Single_Year_of_Age</th>\n",
       "      <th>Sex</th>\n",
       "      <th>Value</th>\n",
       "    </tr>\n",
       "  </thead>\n",
       "  <tbody>\n",
       "    <tr>\n",
       "      <th>0</th>\n",
       "      <td>1926</td>\n",
       "      <td>All ages</td>\n",
       "      <td>Both sexes</td>\n",
       "      <td>2971992</td>\n",
       "    </tr>\n",
       "    <tr>\n",
       "      <th>1</th>\n",
       "      <td>1926</td>\n",
       "      <td>All ages</td>\n",
       "      <td>Male</td>\n",
       "      <td>1506889</td>\n",
       "    </tr>\n",
       "    <tr>\n",
       "      <th>2</th>\n",
       "      <td>1926</td>\n",
       "      <td>All ages</td>\n",
       "      <td>Female</td>\n",
       "      <td>1465103</td>\n",
       "    </tr>\n",
       "    <tr>\n",
       "      <th>3</th>\n",
       "      <td>1926</td>\n",
       "      <td>Under 1 year</td>\n",
       "      <td>Both sexes</td>\n",
       "      <td>55391</td>\n",
       "    </tr>\n",
       "    <tr>\n",
       "      <th>4</th>\n",
       "      <td>1926</td>\n",
       "      <td>Under 1 year</td>\n",
       "      <td>Male</td>\n",
       "      <td>28084</td>\n",
       "    </tr>\n",
       "  </tbody>\n",
       "</table>\n",
       "</div>"
      ],
      "text/plain": [
       "   Year Single_Year_of_Age         Sex    Value\n",
       "0  1926           All ages  Both sexes  2971992\n",
       "1  1926           All ages        Male  1506889\n",
       "2  1926           All ages      Female  1465103\n",
       "3  1926       Under 1 year  Both sexes    55391\n",
       "4  1926       Under 1 year        Male    28084"
      ]
     },
     "execution_count": 14,
     "metadata": {},
     "output_type": "execute_result"
    }
   ],
   "source": [
    "df.head(5)"
   ]
  },
  {
   "cell_type": "code",
   "execution_count": 15,
   "id": "4b234aa3",
   "metadata": {},
   "outputs": [
    {
     "data": {
      "text/html": [
       "<div>\n",
       "<style scoped>\n",
       "    .dataframe tbody tr th:only-of-type {\n",
       "        vertical-align: middle;\n",
       "    }\n",
       "\n",
       "    .dataframe tbody tr th {\n",
       "        vertical-align: top;\n",
       "    }\n",
       "\n",
       "    .dataframe thead th {\n",
       "        text-align: right;\n",
       "    }\n",
       "</style>\n",
       "<table border=\"1\" class=\"dataframe\">\n",
       "  <thead>\n",
       "    <tr style=\"text-align: right;\">\n",
       "      <th></th>\n",
       "      <th>Single_Year_of_Age</th>\n",
       "      <th>Sex</th>\n",
       "    </tr>\n",
       "  </thead>\n",
       "  <tbody>\n",
       "    <tr>\n",
       "      <th>count</th>\n",
       "      <td>11817</td>\n",
       "      <td>11817</td>\n",
       "    </tr>\n",
       "    <tr>\n",
       "      <th>unique</th>\n",
       "      <td>101</td>\n",
       "      <td>3</td>\n",
       "    </tr>\n",
       "    <tr>\n",
       "      <th>top</th>\n",
       "      <td>All ages</td>\n",
       "      <td>Both sexes</td>\n",
       "    </tr>\n",
       "    <tr>\n",
       "      <th>freq</th>\n",
       "      <td>117</td>\n",
       "      <td>3939</td>\n",
       "    </tr>\n",
       "  </tbody>\n",
       "</table>\n",
       "</div>"
      ],
      "text/plain": [
       "       Single_Year_of_Age         Sex\n",
       "count               11817       11817\n",
       "unique                101           3\n",
       "top              All ages  Both sexes\n",
       "freq                  117        3939"
      ]
     },
     "execution_count": 15,
     "metadata": {},
     "output_type": "execute_result"
    }
   ],
   "source": [
    "df.describe(include = \"object\")"
   ]
  },
  {
   "cell_type": "code",
   "execution_count": 16,
   "id": "f1557e8e",
   "metadata": {},
   "outputs": [],
   "source": [
    "l_encoder = LabelEncoder()\n",
    "\n",
    "# Put the type of all data of object type into the same shape (float).with the Encoder function."
   ]
  },
  {
   "cell_type": "code",
   "execution_count": 17,
   "id": "8e6434b3",
   "metadata": {},
   "outputs": [],
   "source": [
    "df[\"Sex_Encoded\"] = l_encoder.fit_transform(df[\"Sex\"])"
   ]
  },
  {
   "cell_type": "code",
   "execution_count": 18,
   "id": "3910b938",
   "metadata": {},
   "outputs": [],
   "source": [
    "df[\"Single_Year_of_Age_Encoded\"] = l_encoder.fit_transform(df[\"Single_Year_of_Age\"])"
   ]
  },
  {
   "cell_type": "code",
   "execution_count": 19,
   "id": "840d7266",
   "metadata": {
    "scrolled": true
   },
   "outputs": [
    {
     "data": {
      "text/html": [
       "<div>\n",
       "<style scoped>\n",
       "    .dataframe tbody tr th:only-of-type {\n",
       "        vertical-align: middle;\n",
       "    }\n",
       "\n",
       "    .dataframe tbody tr th {\n",
       "        vertical-align: top;\n",
       "    }\n",
       "\n",
       "    .dataframe thead th {\n",
       "        text-align: right;\n",
       "    }\n",
       "</style>\n",
       "<table border=\"1\" class=\"dataframe\">\n",
       "  <thead>\n",
       "    <tr style=\"text-align: right;\">\n",
       "      <th></th>\n",
       "      <th>Year</th>\n",
       "      <th>Single_Year_of_Age</th>\n",
       "      <th>Sex</th>\n",
       "      <th>Value</th>\n",
       "      <th>Sex_Encoded</th>\n",
       "      <th>Single_Year_of_Age_Encoded</th>\n",
       "    </tr>\n",
       "  </thead>\n",
       "  <tbody>\n",
       "    <tr>\n",
       "      <th>0</th>\n",
       "      <td>1926</td>\n",
       "      <td>All ages</td>\n",
       "      <td>Both sexes</td>\n",
       "      <td>2971992</td>\n",
       "      <td>0</td>\n",
       "      <td>99</td>\n",
       "    </tr>\n",
       "    <tr>\n",
       "      <th>1</th>\n",
       "      <td>1926</td>\n",
       "      <td>All ages</td>\n",
       "      <td>Male</td>\n",
       "      <td>1506889</td>\n",
       "      <td>2</td>\n",
       "      <td>99</td>\n",
       "    </tr>\n",
       "    <tr>\n",
       "      <th>2</th>\n",
       "      <td>1926</td>\n",
       "      <td>All ages</td>\n",
       "      <td>Female</td>\n",
       "      <td>1465103</td>\n",
       "      <td>1</td>\n",
       "      <td>99</td>\n",
       "    </tr>\n",
       "    <tr>\n",
       "      <th>3</th>\n",
       "      <td>1926</td>\n",
       "      <td>Under 1 year</td>\n",
       "      <td>Both sexes</td>\n",
       "      <td>55391</td>\n",
       "      <td>0</td>\n",
       "      <td>100</td>\n",
       "    </tr>\n",
       "    <tr>\n",
       "      <th>4</th>\n",
       "      <td>1926</td>\n",
       "      <td>Under 1 year</td>\n",
       "      <td>Male</td>\n",
       "      <td>28084</td>\n",
       "      <td>2</td>\n",
       "      <td>100</td>\n",
       "    </tr>\n",
       "    <tr>\n",
       "      <th>...</th>\n",
       "      <td>...</td>\n",
       "      <td>...</td>\n",
       "      <td>...</td>\n",
       "      <td>...</td>\n",
       "      <td>...</td>\n",
       "      <td>...</td>\n",
       "    </tr>\n",
       "    <tr>\n",
       "      <th>95</th>\n",
       "      <td>1926</td>\n",
       "      <td>30 years</td>\n",
       "      <td>Female</td>\n",
       "      <td>27357</td>\n",
       "      <td>1</td>\n",
       "      <td>23</td>\n",
       "    </tr>\n",
       "    <tr>\n",
       "      <th>96</th>\n",
       "      <td>1926</td>\n",
       "      <td>31 years</td>\n",
       "      <td>Both sexes</td>\n",
       "      <td>28054</td>\n",
       "      <td>0</td>\n",
       "      <td>24</td>\n",
       "    </tr>\n",
       "    <tr>\n",
       "      <th>97</th>\n",
       "      <td>1926</td>\n",
       "      <td>31 years</td>\n",
       "      <td>Male</td>\n",
       "      <td>14666</td>\n",
       "      <td>2</td>\n",
       "      <td>24</td>\n",
       "    </tr>\n",
       "    <tr>\n",
       "      <th>98</th>\n",
       "      <td>1926</td>\n",
       "      <td>31 years</td>\n",
       "      <td>Female</td>\n",
       "      <td>13388</td>\n",
       "      <td>1</td>\n",
       "      <td>24</td>\n",
       "    </tr>\n",
       "    <tr>\n",
       "      <th>99</th>\n",
       "      <td>1926</td>\n",
       "      <td>32 years</td>\n",
       "      <td>Both sexes</td>\n",
       "      <td>37027</td>\n",
       "      <td>0</td>\n",
       "      <td>25</td>\n",
       "    </tr>\n",
       "  </tbody>\n",
       "</table>\n",
       "<p>100 rows × 6 columns</p>\n",
       "</div>"
      ],
      "text/plain": [
       "    Year Single_Year_of_Age         Sex    Value  Sex_Encoded  \\\n",
       "0   1926           All ages  Both sexes  2971992            0   \n",
       "1   1926           All ages        Male  1506889            2   \n",
       "2   1926           All ages      Female  1465103            1   \n",
       "3   1926       Under 1 year  Both sexes    55391            0   \n",
       "4   1926       Under 1 year        Male    28084            2   \n",
       "..   ...                ...         ...      ...          ...   \n",
       "95  1926           30 years      Female    27357            1   \n",
       "96  1926           31 years  Both sexes    28054            0   \n",
       "97  1926           31 years        Male    14666            2   \n",
       "98  1926           31 years      Female    13388            1   \n",
       "99  1926           32 years  Both sexes    37027            0   \n",
       "\n",
       "    Single_Year_of_Age_Encoded  \n",
       "0                           99  \n",
       "1                           99  \n",
       "2                           99  \n",
       "3                          100  \n",
       "4                          100  \n",
       "..                         ...  \n",
       "95                          23  \n",
       "96                          24  \n",
       "97                          24  \n",
       "98                          24  \n",
       "99                          25  \n",
       "\n",
       "[100 rows x 6 columns]"
      ]
     },
     "execution_count": 19,
     "metadata": {},
     "output_type": "execute_result"
    }
   ],
   "source": [
    "df.head(100)"
   ]
  },
  {
   "cell_type": "code",
   "execution_count": 20,
   "id": "89c151a4",
   "metadata": {},
   "outputs": [
    {
     "data": {
      "text/html": [
       "<div>\n",
       "<style scoped>\n",
       "    .dataframe tbody tr th:only-of-type {\n",
       "        vertical-align: middle;\n",
       "    }\n",
       "\n",
       "    .dataframe tbody tr th {\n",
       "        vertical-align: top;\n",
       "    }\n",
       "\n",
       "    .dataframe thead th {\n",
       "        text-align: right;\n",
       "    }\n",
       "</style>\n",
       "<table border=\"1\" class=\"dataframe\">\n",
       "  <thead>\n",
       "    <tr style=\"text-align: right;\">\n",
       "      <th></th>\n",
       "      <th>Year</th>\n",
       "      <th>Single_Year_of_Age</th>\n",
       "      <th>Sex</th>\n",
       "      <th>Value</th>\n",
       "      <th>Sex_Encoded</th>\n",
       "      <th>Single_Year_of_Age_Encoded</th>\n",
       "    </tr>\n",
       "  </thead>\n",
       "  <tbody>\n",
       "    <tr>\n",
       "      <th>0</th>\n",
       "      <td>1926</td>\n",
       "      <td>All ages</td>\n",
       "      <td>Both sexes</td>\n",
       "      <td>2971992</td>\n",
       "      <td>0</td>\n",
       "      <td>99</td>\n",
       "    </tr>\n",
       "    <tr>\n",
       "      <th>1</th>\n",
       "      <td>1926</td>\n",
       "      <td>All ages</td>\n",
       "      <td>Male</td>\n",
       "      <td>1506889</td>\n",
       "      <td>2</td>\n",
       "      <td>99</td>\n",
       "    </tr>\n",
       "    <tr>\n",
       "      <th>2</th>\n",
       "      <td>1926</td>\n",
       "      <td>All ages</td>\n",
       "      <td>Female</td>\n",
       "      <td>1465103</td>\n",
       "      <td>1</td>\n",
       "      <td>99</td>\n",
       "    </tr>\n",
       "    <tr>\n",
       "      <th>3</th>\n",
       "      <td>1926</td>\n",
       "      <td>Under 1 year</td>\n",
       "      <td>Both sexes</td>\n",
       "      <td>55391</td>\n",
       "      <td>0</td>\n",
       "      <td>100</td>\n",
       "    </tr>\n",
       "    <tr>\n",
       "      <th>4</th>\n",
       "      <td>1926</td>\n",
       "      <td>Under 1 year</td>\n",
       "      <td>Male</td>\n",
       "      <td>28084</td>\n",
       "      <td>2</td>\n",
       "      <td>100</td>\n",
       "    </tr>\n",
       "  </tbody>\n",
       "</table>\n",
       "</div>"
      ],
      "text/plain": [
       "   Year Single_Year_of_Age         Sex    Value  Sex_Encoded  \\\n",
       "0  1926           All ages  Both sexes  2971992            0   \n",
       "1  1926           All ages        Male  1506889            2   \n",
       "2  1926           All ages      Female  1465103            1   \n",
       "3  1926       Under 1 year  Both sexes    55391            0   \n",
       "4  1926       Under 1 year        Male    28084            2   \n",
       "\n",
       "   Single_Year_of_Age_Encoded  \n",
       "0                          99  \n",
       "1                          99  \n",
       "2                          99  \n",
       "3                         100  \n",
       "4                         100  "
      ]
     },
     "execution_count": 20,
     "metadata": {},
     "output_type": "execute_result"
    }
   ],
   "source": [
    "df.head()"
   ]
  },
  {
   "cell_type": "code",
   "execution_count": 21,
   "id": "f75affbe",
   "metadata": {},
   "outputs": [],
   "source": [
    "df.drop(columns=[\"Single_Year_of_Age\", \"Sex\"], inplace=True)"
   ]
  },
  {
   "cell_type": "code",
   "execution_count": 22,
   "id": "0962bb36",
   "metadata": {},
   "outputs": [
    {
     "data": {
      "text/html": [
       "<div>\n",
       "<style scoped>\n",
       "    .dataframe tbody tr th:only-of-type {\n",
       "        vertical-align: middle;\n",
       "    }\n",
       "\n",
       "    .dataframe tbody tr th {\n",
       "        vertical-align: top;\n",
       "    }\n",
       "\n",
       "    .dataframe thead th {\n",
       "        text-align: right;\n",
       "    }\n",
       "</style>\n",
       "<table border=\"1\" class=\"dataframe\">\n",
       "  <thead>\n",
       "    <tr style=\"text-align: right;\">\n",
       "      <th></th>\n",
       "      <th>Year</th>\n",
       "      <th>Value</th>\n",
       "      <th>Sex_Encoded</th>\n",
       "      <th>Single_Year_of_Age_Encoded</th>\n",
       "    </tr>\n",
       "  </thead>\n",
       "  <tbody>\n",
       "    <tr>\n",
       "      <th>0</th>\n",
       "      <td>1926</td>\n",
       "      <td>2971992</td>\n",
       "      <td>0</td>\n",
       "      <td>99</td>\n",
       "    </tr>\n",
       "    <tr>\n",
       "      <th>1</th>\n",
       "      <td>1926</td>\n",
       "      <td>1506889</td>\n",
       "      <td>2</td>\n",
       "      <td>99</td>\n",
       "    </tr>\n",
       "    <tr>\n",
       "      <th>2</th>\n",
       "      <td>1926</td>\n",
       "      <td>1465103</td>\n",
       "      <td>1</td>\n",
       "      <td>99</td>\n",
       "    </tr>\n",
       "    <tr>\n",
       "      <th>3</th>\n",
       "      <td>1926</td>\n",
       "      <td>55391</td>\n",
       "      <td>0</td>\n",
       "      <td>100</td>\n",
       "    </tr>\n",
       "    <tr>\n",
       "      <th>4</th>\n",
       "      <td>1926</td>\n",
       "      <td>28084</td>\n",
       "      <td>2</td>\n",
       "      <td>100</td>\n",
       "    </tr>\n",
       "    <tr>\n",
       "      <th>5</th>\n",
       "      <td>1926</td>\n",
       "      <td>27307</td>\n",
       "      <td>1</td>\n",
       "      <td>100</td>\n",
       "    </tr>\n",
       "    <tr>\n",
       "      <th>6</th>\n",
       "      <td>1926</td>\n",
       "      <td>55876</td>\n",
       "      <td>0</td>\n",
       "      <td>0</td>\n",
       "    </tr>\n",
       "    <tr>\n",
       "      <th>7</th>\n",
       "      <td>1926</td>\n",
       "      <td>28374</td>\n",
       "      <td>2</td>\n",
       "      <td>0</td>\n",
       "    </tr>\n",
       "    <tr>\n",
       "      <th>8</th>\n",
       "      <td>1926</td>\n",
       "      <td>27502</td>\n",
       "      <td>1</td>\n",
       "      <td>0</td>\n",
       "    </tr>\n",
       "    <tr>\n",
       "      <th>9</th>\n",
       "      <td>1926</td>\n",
       "      <td>58273</td>\n",
       "      <td>0</td>\n",
       "      <td>11</td>\n",
       "    </tr>\n",
       "  </tbody>\n",
       "</table>\n",
       "</div>"
      ],
      "text/plain": [
       "   Year    Value  Sex_Encoded  Single_Year_of_Age_Encoded\n",
       "0  1926  2971992            0                          99\n",
       "1  1926  1506889            2                          99\n",
       "2  1926  1465103            1                          99\n",
       "3  1926    55391            0                         100\n",
       "4  1926    28084            2                         100\n",
       "5  1926    27307            1                         100\n",
       "6  1926    55876            0                           0\n",
       "7  1926    28374            2                           0\n",
       "8  1926    27502            1                           0\n",
       "9  1926    58273            0                          11"
      ]
     },
     "execution_count": 22,
     "metadata": {},
     "output_type": "execute_result"
    }
   ],
   "source": [
    "df.head(10)"
   ]
  },
  {
   "cell_type": "code",
   "execution_count": 23,
   "id": "287bc9ff",
   "metadata": {
    "scrolled": true
   },
   "outputs": [
    {
     "name": "stdout",
     "output_type": "stream",
     "text": [
      "<class 'pandas.core.frame.DataFrame'>\n",
      "RangeIndex: 11817 entries, 0 to 11816\n",
      "Data columns (total 4 columns):\n",
      " #   Column                      Non-Null Count  Dtype\n",
      "---  ------                      --------------  -----\n",
      " 0   Year                        11817 non-null  int64\n",
      " 1   Value                       11817 non-null  int64\n",
      " 2   Sex_Encoded                 11817 non-null  int32\n",
      " 3   Single_Year_of_Age_Encoded  11817 non-null  int32\n",
      "dtypes: int32(2), int64(2)\n",
      "memory usage: 277.1 KB\n"
     ]
    }
   ],
   "source": [
    "df.info()"
   ]
  },
  {
   "cell_type": "code",
   "execution_count": 24,
   "id": "bab62825",
   "metadata": {},
   "outputs": [
    {
     "data": {
      "text/plain": [
       "(11817, 4)"
      ]
     },
     "execution_count": 24,
     "metadata": {},
     "output_type": "execute_result"
    }
   ],
   "source": [
    "df.shape"
   ]
  },
  {
   "cell_type": "code",
   "execution_count": 25,
   "id": "f058d13f",
   "metadata": {},
   "outputs": [
    {
     "data": {
      "text/plain": [
       "11817"
      ]
     },
     "execution_count": 25,
     "metadata": {},
     "output_type": "execute_result"
    }
   ],
   "source": [
    "len(df)"
   ]
  },
  {
   "cell_type": "code",
   "execution_count": 26,
   "id": "1c9aff15",
   "metadata": {},
   "outputs": [
    {
     "data": {
      "text/html": [
       "<div>\n",
       "<style scoped>\n",
       "    .dataframe tbody tr th:only-of-type {\n",
       "        vertical-align: middle;\n",
       "    }\n",
       "\n",
       "    .dataframe tbody tr th {\n",
       "        vertical-align: top;\n",
       "    }\n",
       "\n",
       "    .dataframe thead th {\n",
       "        text-align: right;\n",
       "    }\n",
       "</style>\n",
       "<table border=\"1\" class=\"dataframe\">\n",
       "  <thead>\n",
       "    <tr style=\"text-align: right;\">\n",
       "      <th></th>\n",
       "      <th>count</th>\n",
       "      <th>mean</th>\n",
       "      <th>std</th>\n",
       "      <th>min</th>\n",
       "      <th>25%</th>\n",
       "      <th>50%</th>\n",
       "      <th>75%</th>\n",
       "      <th>max</th>\n",
       "    </tr>\n",
       "  </thead>\n",
       "  <tbody>\n",
       "    <tr>\n",
       "      <th>Year</th>\n",
       "      <td>11817.0</td>\n",
       "      <td>1996.410256</td>\n",
       "      <td>24.463165</td>\n",
       "      <td>1926.0</td>\n",
       "      <td>1986.0</td>\n",
       "      <td>2004.0</td>\n",
       "      <td>2014.0</td>\n",
       "      <td>2023.0</td>\n",
       "    </tr>\n",
       "    <tr>\n",
       "      <th>Value</th>\n",
       "      <td>11817.0</td>\n",
       "      <td>53524.614708</td>\n",
       "      <td>286775.372374</td>\n",
       "      <td>6.0</td>\n",
       "      <td>12427.0</td>\n",
       "      <td>26675.0</td>\n",
       "      <td>35577.0</td>\n",
       "      <td>5281612.0</td>\n",
       "    </tr>\n",
       "    <tr>\n",
       "      <th>Sex_Encoded</th>\n",
       "      <td>11817.0</td>\n",
       "      <td>1.000000</td>\n",
       "      <td>0.816531</td>\n",
       "      <td>0.0</td>\n",
       "      <td>0.0</td>\n",
       "      <td>1.0</td>\n",
       "      <td>2.0</td>\n",
       "      <td>2.0</td>\n",
       "    </tr>\n",
       "    <tr>\n",
       "      <th>Single_Year_of_Age_Encoded</th>\n",
       "      <td>11817.0</td>\n",
       "      <td>50.000000</td>\n",
       "      <td>29.155993</td>\n",
       "      <td>0.0</td>\n",
       "      <td>25.0</td>\n",
       "      <td>50.0</td>\n",
       "      <td>75.0</td>\n",
       "      <td>100.0</td>\n",
       "    </tr>\n",
       "  </tbody>\n",
       "</table>\n",
       "</div>"
      ],
      "text/plain": [
       "                              count          mean            std     min  \\\n",
       "Year                        11817.0   1996.410256      24.463165  1926.0   \n",
       "Value                       11817.0  53524.614708  286775.372374     6.0   \n",
       "Sex_Encoded                 11817.0      1.000000       0.816531     0.0   \n",
       "Single_Year_of_Age_Encoded  11817.0     50.000000      29.155993     0.0   \n",
       "\n",
       "                                25%      50%      75%        max  \n",
       "Year                         1986.0   2004.0   2014.0     2023.0  \n",
       "Value                       12427.0  26675.0  35577.0  5281612.0  \n",
       "Sex_Encoded                     0.0      1.0      2.0        2.0  \n",
       "Single_Year_of_Age_Encoded     25.0     50.0     75.0      100.0  "
      ]
     },
     "execution_count": 26,
     "metadata": {},
     "output_type": "execute_result"
    }
   ],
   "source": [
    "df.describe().T\n",
    "\n",
    "# Apply .describe().T to check the mean, standard deviation, and quantiles of all the columns in the nh dataframe"
   ]
  },
  {
   "cell_type": "markdown",
   "id": "3c9d813e",
   "metadata": {},
   "source": [
    "Year vary from 1926 to 2023. Value vary from 6 to 5.281.612 with a mean of 53.524,61 and a standard deviation of 286.775,37 which means this shows that the range is very large. We can say that we need to do a prediction success test in order to say that we have enough prediction information to make a successful prediction."
   ]
  },
  {
   "cell_type": "code",
   "execution_count": 84,
   "id": "989239bc",
   "metadata": {},
   "outputs": [
    {
     "data": {
      "image/png": "[encoded data removed]",
      "text/plain": [
       "<Figure size 640x480 with 1 Axes>"
      ]
     },
     "metadata": {},
     "output_type": "display_data"
    }
   ],
   "source": [
    "plt.hist(df['Year'])\n",
    "\n",
    "plt.title('Years Distribution')\n",
    "\n",
    "plt.show()\n",
    "\n",
    "# Plot a histogram to determine the units distribution by applying plt.hist()\n",
    "# title by applying plt.title()\n",
    "# the histogram by applying plt.show()\n"
   ]
  },
  {
   "cell_type": "code",
   "execution_count": 82,
   "id": "462343e3",
   "metadata": {},
   "outputs": [
    {
     "name": "stdout",
     "output_type": "stream",
     "text": [
      "95.0% Confidence interval of population distribution according to years': [48353.54, 58695.69]\n"
     ]
    }
   ],
   "source": [
    "from scipy import stats\n",
    "\n",
    "Value = df['Value']\n",
    "\n",
    "sample_mean = np.mean(Value)\n",
    "sample_std = np.std(Value, ddof=1) \n",
    "n = len(Value)\n",
    "\n",
    "confidence_level = 0.95\n",
    "alpha = 1 - confidence_level\n",
    "\n",
    "margin_of_error = stats.t.ppf(1 - alpha/2, n-1) * sample_std / np.sqrt(n)\n",
    "\n",
    "ci_lower = sample_mean - margin_of_error\n",
    "ci_upper = sample_mean + margin_of_error\n",
    "\n",
    "print(f\"{confidence_level*100:.1f}% Confidence interval of population distribution according to years': [{ci_lower:.2f}, {ci_upper:.2f}]\")\n",
    "\n",
    "# Extract the data for the 'Value' variable\n",
    "# Calculate the sample mean and standard deviation, use ddof=1 to get the sample standard deviation\n",
    "# Set the desired confidence level\n",
    "# Calculate the margin of error\n",
    "# Calculate the confidence interval\n",
    "# Calculate the confidence intervals"
   ]
  },
  {
   "cell_type": "markdown",
   "id": "561b932e",
   "metadata": {},
   "source": [
    "We can be 95% sure that the mean of the population values is between 48353.54, 58695.69.\n",
    "\n",
    "It refers to the 95% confidence interval of the population distribution for a specific year interval.\n",
    "\n",
    "The forecast for the general situation for a given year falls within this range and a 95% confidence level of this forecast is achieved. That is, the outer values of this range have the potential to exceed this estimate with a certain level of confidence.\n",
    "\n",
    "In the data set I am considering, increasing values are observed over the years, so we can make observations for the year 2024."
   ]
  },
  {
   "cell_type": "code",
   "execution_count": 80,
   "id": "5963694a",
   "metadata": {},
   "outputs": [
    {
     "data": {
      "image/png": "[encoded data removed]",
      "text/plain": [
       "<Figure size 2000x800 with 1 Axes>"
      ]
     },
     "metadata": {},
     "output_type": "display_data"
    }
   ],
   "source": [
    "Years_Value = df.groupby('Year')['Value'].sum().reset_index()\n",
    "\n",
    "Years_Value = Years_Value.sort_values('Value', ascending=False)\n",
    "\n",
    "plt.figure(figsize=(20, 8))\n",
    "\n",
    "sns.barplot(data=Years_Value, x='Year', y='Value')\n",
    "\n",
    "plt.title('Population Distribution by Years')\n",
    "plt.xlabel('Years')\n",
    "plt.ylabel('Population Numbers')\n",
    "\n",
    "plt.xticks(rotation=30)\n",
    "\n",
    "plt.show()\n",
    "\n",
    "#Calculate the number of population by year and store the result in a new data frame called county_units\n",
    "# Sort the Years_Value data frame in descending order by total number of units\n",
    "# I found the shape size by experimenting due to the size of the data set.\n",
    "# Create a count chart to visualize data\n",
    "# the title, x label and y label of the chart by applying plt.title() function, plt.xlabel() function,\n",
    "# and use plt.ylabel() function \n",
    "# Rotate x-axis labels using xticks() for better readability\n",
    "# View the drawing using the Show() function\n",
    "# View the drawing using the Show() function"
   ]
  },
  {
   "cell_type": "markdown",
   "id": "a7a07386",
   "metadata": {},
   "source": [
    "Visualized that the population has increased in Dublin over the years.To understand the years with the highest population, let's examine the 10 years with the highest population."
   ]
  },
  {
   "cell_type": "code",
   "execution_count": 57,
   "id": "23490e78",
   "metadata": {},
   "outputs": [],
   "source": [
    "Population = df['Year'].value_counts()"
   ]
  },
  {
   "cell_type": "code",
   "execution_count": 58,
   "id": "7da13078",
   "metadata": {},
   "outputs": [],
   "source": [
    "top10 = Population.head(10).index.tolist()"
   ]
  },
  {
   "cell_type": "code",
   "execution_count": 59,
   "id": "db5d1423",
   "metadata": {},
   "outputs": [
    {
     "data": {
      "text/plain": [
       "[1926, 2014, 2007, 2008, 2009, 2010, 2011, 2012, 2013, 2015]"
      ]
     },
     "execution_count": 59,
     "metadata": {},
     "output_type": "execute_result"
    }
   ],
   "source": [
    "top10"
   ]
  },
  {
   "cell_type": "code",
   "execution_count": 61,
   "id": "efe68ca9",
   "metadata": {},
   "outputs": [],
   "source": [
    "top10_Years = df[df['Year'].isin(top10)]\n",
    "\n",
    "# Filter the Value dataframe by the first 10 years by applying the .isin() method"
   ]
  },
  {
   "cell_type": "code",
   "execution_count": 62,
   "id": "fa0df776",
   "metadata": {},
   "outputs": [
    {
     "data": {
      "text/plain": [
       "Year\n",
       "2015    18751148\n",
       "2014    18581760\n",
       "2013    18458676\n",
       "2012    18374788\n",
       "2011    18299552\n",
       "2010    18219052\n",
       "2009    18133580\n",
       "2008    17940280\n",
       "2007    17503368\n",
       "1926    11887968\n",
       "Name: Value, dtype: int64"
      ]
     },
     "execution_count": 62,
     "metadata": {},
     "output_type": "execute_result"
    }
   ],
   "source": [
    "top10_Years.groupby('Year')['Value'].sum().sort_values(ascending=False)"
   ]
  },
  {
   "cell_type": "code",
   "execution_count": 79,
   "id": "49a3c16e",
   "metadata": {},
   "outputs": [
    {
     "data": {
      "image/png": "[encoded data removed]",
      "text/plain": [
       "<Figure size 1400x600 with 1 Axes>"
      ]
     },
     "metadata": {},
     "output_type": "display_data"
    }
   ],
   "source": [
    "top10_Years_Value = top10_Years.groupby('Year')['Value'].sum().reset_index()\n",
    "\n",
    "top10_Years_Value = top10_Years_Value.sort_values('Value', ascending=False)\n",
    "\n",
    "plt.figure(figsize=(14, 6))\n",
    "\n",
    "sns.barplot(x='Year', y='Value', data = top10_Years_Value)\n",
    "\n",
    "plt.title('Highest Population by Year (top 10)')\n",
    "plt.xlabel('Year')\n",
    "plt.ylabel('Population Value')\n",
    "\n",
    "plt.xticks(rotation=30)\n",
    "\n",
    "plt.show()\n",
    "\n",
    "# Calculate the number of population units and store the result in a new data frame called top10_Years_Value \n",
    "# Sort the top10_Years_Value  data frame in descending order by total number of units\n",
    "# We find the shape size by trying\n",
    "# Create a count chart to visualize high population years\n",
    "# Set the title, x label and y label of the chart by applying plt.title() function, plt.xlabel() function,\n",
    "# and use plt.ylabel() function\n",
    "# Rotate x-axis labels using xticks() for better readability\n",
    "# View the drawing using the Show() function"
   ]
  },
  {
   "cell_type": "markdown",
   "id": "5c30c3c0",
   "metadata": {},
   "source": [
    "There is no significant difference between the number of high population units in Dublin City and the number of units in the other top 10 population values. Only a lower value was observed in the first year compared to the other years.\n",
    "\n",
    "We can also express the relevant observation as follows; except for the first observation, there is no difference between the other observations."
   ]
  },
  {
   "cell_type": "code",
   "execution_count": 89,
   "id": "6d07359f",
   "metadata": {},
   "outputs": [
    {
     "data": {
      "image/png": "[encoded data removed]",
      "text/plain": [
       "<Figure size 800x400 with 1 Axes>"
      ]
     },
     "metadata": {},
     "output_type": "display_data"
    }
   ],
   "source": [
    "plt.figure(figsize=(8, 4))\n",
    "plt.bar(df.groupby('Year')['Year'].count().index,df.groupby('Year')['Value'].mean())\n",
    "plt.xlabel(\"Year\",fontsize=15, color='Red')\n",
    "plt.ylabel(\"Avg Value\",fontsize=15,color='Red')\n",
    "plt.title(\"Population by Years\",color='Red')\n",
    "plt.show()\n",
    "\n",
    "\n",
    "# Create a histogram plot using Seaborn\n",
    "# the figure size to (8,4) inches by applying the plt.figure() function with the figsize attribute\n",
    "# Display the plot by calling the the plt.show() function, sns.histplot() function from Seaborn, specify 'Value' as the dataframe containing the data to be plotted,specify \n",
    "# 'Year' as the column name in the dataframe to be plotted on the x-axis,\n",
    "# defines the number of bins (15) to use in the histogram plot. The number of bins have been choses based on different attempts\n",
    "# with the aim of  of providing sufficient detail to capture important patterns in the data while maintaining visual clarity\n",
    "# and avoiding excessive noise or oversimplification."
   ]
  },
  {
   "cell_type": "markdown",
   "id": "f4c3c704",
   "metadata": {},
   "source": [
    "From this histogram, we can observe that the majority of projects (almost 70000) approved from after 2020 units. This is the most common range of units within the dataset. The histogram appears skewed to the right, and this should be taken into account for future possible analysis."
   ]
  },
  {
   "cell_type": "code",
   "execution_count": 28,
   "id": "1ab77acf",
   "metadata": {},
   "outputs": [
    {
     "data": {
      "image/png": "[encoded data removed]",
      "text/plain": [
       "<Figure size 640x480 with 1 Axes>"
      ]
     },
     "metadata": {},
     "output_type": "display_data"
    }
   ],
   "source": [
    "import matplotlib.ticker as ticker\n",
    "\n",
    "sns.boxplot(data=df, x='Single_Year_of_Age_Encoded')\n",
    "\n",
    "plt.title('Age Range in The Population')\n",
    "\n",
    "# Import the `ticker` module from the `matplotlib` library\n",
    "# Apply sns.boxplot to visualize the age range of the population by year. Use the 'Single_Year_of_Age_Encoded' dataframe \n",
    "# as the data source and specify 'Age Range in The Population' as the column by which to group the data.\n",
    "# Set the title of the box plot using the plt.title() function\n",
    "# Convert the years in the y-axis to integers for better visualization\n",
    "# Apply the .gca() method to get the current axes and apply the xaxis attribute set the x-axis tick locator to display\n",
    "# integers only\n",
    "\n",
    "plt.gca().xaxis.set_major_locator(ticker.MaxNLocator(integer=True))\n",
    "\n",
    "# Call the plt.show() function to display the box plot\n",
    "\n",
    "plt.show()"
   ]
  },
  {
   "cell_type": "markdown",
   "id": "2655be79",
   "metadata": {},
   "source": [
    "In this box plot, we can see that the majority of ages are between the ages of after 25 and 75. There is no contrary observation."
   ]
  },
  {
   "cell_type": "markdown",
   "id": "7d095882",
   "metadata": {},
   "source": [
    "# LINNEAR REGRESSION"
   ]
  },
  {
   "cell_type": "code",
   "execution_count": null,
   "id": "fd90aa35",
   "metadata": {},
   "outputs": [],
   "source": [
    "Year = df.loc[df['Year'] != 0]\n",
    "\n",
    "# Filter the dataframe to select rows where the 'Year' column is not equal to 0 and store the result in a \n",
    "# new dataframe called 'Year'. This is done because missing values in all the years columns had been previously replaced by\n",
    "# the value '0'."
   ]
  },
  {
   "cell_type": "markdown",
   "id": "4aed782a",
   "metadata": {},
   "source": [
    "Examine whether there is a correlation between years and population with a single independent variable. When all variables are examined, it should be checked whether the population increases or decreases according to years."
   ]
  },
  {
   "cell_type": "code",
   "execution_count": null,
   "id": "216ebddb",
   "metadata": {},
   "outputs": [],
   "source": [
    "Year.head()"
   ]
  },
  {
   "cell_type": "code",
   "execution_count": null,
   "id": "3e5cd422",
   "metadata": {},
   "outputs": [],
   "source": [
    "Year_of_Values = Year.groupby('Year').agg({'Value': 'sum', 'Sex_Encoded': 'count'})\n",
    "\n",
    "Year_of_Values  = Year_of_Values .rename(columns={'Year': 'Year', 'Value': 'Years_of_Population'})\n",
    "\n",
    "Year_of_Values.reset_index(inplace=True)\n",
    "\n",
    "Year_of_Values\n",
    "\n",
    "# Group the DataFrame by 'Year' and aggregate the sum of 'Value' and count of rows\n",
    "# Rename the columns for clarity by applying the .rename() function\n",
    "# Apply the .reset_index() method with the inplace=True attribute to reset the index to make 'Years_of_Population' a regular \n",
    "#column and make the change permanent"
   ]
  },
  {
   "cell_type": "code",
   "execution_count": null,
   "id": "3c0b626b",
   "metadata": {},
   "outputs": [],
   "source": [
    "Values_Of_Years = Year[['Value','Year']]\n",
    "\n",
    "# Years are readjusted according to the data set 'Values_Of_Years'\n"
   ]
  },
  {
   "cell_type": "code",
   "execution_count": null,
   "id": "02504b6d",
   "metadata": {},
   "outputs": [],
   "source": [
    "plt.figure(figsize=(15,5))\n",
    "\n",
    "c= Values_Of_Years.corr()\n",
    "\n",
    "sns.heatmap(c,annot=True)\n",
    "\n",
    "c\n",
    "\n",
    "# We draw a correlation heat map to see the correlation coefficient between the number of Value and Year.\n",
    "# To determine the dimensions of the correlation heat map, call the plt.figure() function. I determine the dimensions by trying\n",
    "# We define variable 'c' which will be a table containing correlation coefficients\n",
    "# annot=True so the correlation coefficients appear in the heat map\n",
    "# print 'c' to show a table with correlation coefficients\n"
   ]
  },
  {
   "cell_type": "markdown",
   "id": "6d7ad27c",
   "metadata": {},
   "source": [
    "It can be observed from this heatmap that there is a very weak and close-to-zero correlation between number of Value and Year. Therefore, there is almost no linear relationship between the two variables."
   ]
  },
  {
   "cell_type": "markdown",
   "id": "cc83ec4a",
   "metadata": {},
   "source": [
    "In this box plot, we can see that the majority of ages are between the ages of after 25 and 75. There is no contrary observation."
   ]
  },
  {
   "cell_type": "code",
   "execution_count": null,
   "id": "200c9626",
   "metadata": {},
   "outputs": [],
   "source": [
    "sns.scatterplot(x=df['Year'], y=df['Value'], hue=df['Sex_Encoded'] );"
   ]
  },
  {
   "cell_type": "code",
   "execution_count": null,
   "id": "2f494c67",
   "metadata": {},
   "outputs": [],
   "source": [
    "from sklearn.linear_model import LinearRegression\n",
    "from sklearn.metrics import mean_squared_error, mean_absolute_error\n",
    "from sklearn.model_selection import train_test_split, cross_val_score\n",
    "\n",
    "from sklearn.metrics import r2_score\n",
    "from sklearn import linear_model\n",
    "from sklearn.preprocessing import OrdinalEncoder\n",
    "from sklearn.preprocessing import LabelEncoder\n",
    "from sklearn.linear_model import Ridge, Lasso\n",
    "from sklearn.preprocessing import StandardScaler\n",
    "\n",
    "pd.set_option('display.float_format', lambda x: '%.2f' % x)\n",
    "\n",
    "from sklearn.linear_model import LinearRegression\n",
    "from sklearn.metrics import mean_squared_error, mean_absolute_error\n",
    "from sklearn.model_selection import train_test_split, cross_val_score\n",
    "\n",
    "# Import libraries"
   ]
  },
  {
   "cell_type": "code",
   "execution_count": null,
   "id": "28f0be34",
   "metadata": {},
   "outputs": [],
   "source": [
    "correlation = df.corr()\n",
    "print(correlation)"
   ]
  },
  {
   "cell_type": "code",
   "execution_count": null,
   "id": "81b1bd7d",
   "metadata": {},
   "outputs": [],
   "source": [
    "import seaborn as sns\n",
    "sns.heatmap(df.corr(), annot = True, fmt = '.2f', linewidths = 2);"
   ]
  },
  {
   "cell_type": "code",
   "execution_count": null,
   "id": "7fc28d8d",
   "metadata": {},
   "outputs": [],
   "source": [
    "plt.figure(figsize=(18,14))\n",
    "sns.heatmap(correlation,annot=True,linecolor=\"blue\",lw=0.5);"
   ]
  },
  {
   "cell_type": "markdown",
   "id": "fabcc130",
   "metadata": {},
   "source": [
    "It can be observed from this heatmap that there is a very weak and close-to-zero correlation between number of units and years. Therefore, there is almost no linear relationship between the four variables."
   ]
  },
  {
   "cell_type": "markdown",
   "id": "9acc00b2",
   "metadata": {},
   "source": [
    "## Decision tree regression"
   ]
  },
  {
   "cell_type": "code",
   "execution_count": null,
   "id": "2b1a7047",
   "metadata": {},
   "outputs": [],
   "source": []
  },
  {
   "cell_type": "code",
   "execution_count": null,
   "id": "0f196ba0",
   "metadata": {},
   "outputs": [],
   "source": []
  },
  {
   "cell_type": "code",
   "execution_count": null,
   "id": "22bb8ebb",
   "metadata": {},
   "outputs": [],
   "source": []
  },
  {
   "cell_type": "code",
   "execution_count": null,
   "id": "1d489cfc",
   "metadata": {},
   "outputs": [],
   "source": [
    "warnings.simplefilter(action='ignore', category=Warning)"
   ]
  },
  {
   "cell_type": "code",
   "execution_count": null,
   "id": "e6c260dd",
   "metadata": {},
   "outputs": [],
   "source": [
    "df.describe().T"
   ]
  },
  {
   "cell_type": "code",
   "execution_count": null,
   "id": "c5eea3b6",
   "metadata": {},
   "outputs": [],
   "source": [
    "X = df.drop('Value', axis=1)\n",
    "y = df[[\"Value\"]]"
   ]
  },
  {
   "cell_type": "code",
   "execution_count": null,
   "id": "3abbd5a3",
   "metadata": {},
   "outputs": [],
   "source": [
    "# Hold out yöntemi uygulayıp veri setini eğitim ve test olarak ikiye ayırıyoruz.\n",
    "X_train, X_test, y_train, y_test = train_test_split(X, y, test_size=0.20, random_state=12345)"
   ]
  },
  {
   "cell_type": "code",
   "execution_count": null,
   "id": "ec8770a2",
   "metadata": {},
   "outputs": [],
   "source": [
    "X_test.shape"
   ]
  },
  {
   "cell_type": "code",
   "execution_count": null,
   "id": "f3501ee1",
   "metadata": {},
   "outputs": [],
   "source": [
    "X_train.shape"
   ]
  },
  {
   "cell_type": "code",
   "execution_count": null,
   "id": "c9a3e722",
   "metadata": {},
   "outputs": [],
   "source": [
    "reg_model = LinearRegression().fit(X_train, y_train)"
   ]
  },
  {
   "cell_type": "code",
   "execution_count": null,
   "id": "20a1588d",
   "metadata": {},
   "outputs": [],
   "source": [
    "# sabit (b - bias)\n",
    "reg_model.intercept_"
   ]
  },
  {
   "cell_type": "code",
   "execution_count": null,
   "id": "9ccf3ad8",
   "metadata": {},
   "outputs": [],
   "source": [
    "# coefficients (w - weights)\n",
    "reg_model.coef_"
   ]
  },
  {
   "cell_type": "code",
   "execution_count": null,
   "id": "9954695a",
   "metadata": {},
   "outputs": [],
   "source": [
    "# Train RMSE\n",
    "y_pred = reg_model.predict(X_train)\n",
    "np.sqrt(mean_squared_error(y_train, y_pred))"
   ]
  },
  {
   "cell_type": "code",
   "execution_count": null,
   "id": "e1cc6b19",
   "metadata": {},
   "outputs": [],
   "source": [
    "# TRAIN RKARE\n",
    "reg_model.score(X_train, y_train)"
   ]
  },
  {
   "cell_type": "code",
   "execution_count": null,
   "id": "30694e5b",
   "metadata": {},
   "outputs": [],
   "source": [
    "# Test RMSE\n",
    "y_pred = reg_model.predict(X_test)\n",
    "np.sqrt(mean_squared_error(y_test, y_pred))"
   ]
  },
  {
   "cell_type": "markdown",
   "id": "2912434a",
   "metadata": {},
   "source": [
    "# PREDICTION"
   ]
  },
  {
   "cell_type": "code",
   "execution_count": null,
   "id": "f34f0599",
   "metadata": {},
   "outputs": [],
   "source": [
    "np.mean(np.sqrt(-cross_val_score(reg_model,X,y,cv=10,scoring=\"neg_mean_squared_error\")))"
   ]
  },
  {
   "cell_type": "code",
   "execution_count": null,
   "id": "34aaffb0",
   "metadata": {},
   "outputs": [],
   "source": [
    "np.mean(np.sqrt(-cross_val_score(reg_model,X,y,cv=5,scoring=\"neg_mean_squared_error\")))"
   ]
  },
  {
   "cell_type": "markdown",
   "id": "ac9e8219",
   "metadata": {},
   "source": [
    "# RANDOM FOREST"
   ]
  },
  {
   "cell_type": "code",
   "execution_count": null,
   "id": "7f8fd99e",
   "metadata": {},
   "outputs": [],
   "source": [
    "import warnings\n",
    "import numpy as np\n",
    "import pandas as pd\n",
    "import seaborn as sns\n",
    "from matplotlib import pyplot as plt\n",
    "from sklearn.ensemble import RandomForestClassifier, GradientBoostingClassifier, VotingClassifier\n",
    "from sklearn.model_selection import GridSearchCV, cross_validate, RandomizedSearchCV, validation_curve"
   ]
  },
  {
   "cell_type": "code",
   "execution_count": null,
   "id": "0cc027b6",
   "metadata": {},
   "outputs": [],
   "source": [
    "rf_model = RandomForestClassifier(random_state=45)\n",
    "rf_model.get_params()"
   ]
  },
  {
   "cell_type": "code",
   "execution_count": null,
   "id": "1c8d768f",
   "metadata": {},
   "outputs": [],
   "source": [
    "pd.set_option('display.max_columns', None)\n",
    "pd.set_option('display.width', 500)"
   ]
  },
  {
   "cell_type": "code",
   "execution_count": null,
   "id": "0dce8a60",
   "metadata": {},
   "outputs": [],
   "source": [
    "warnings.simplefilter(action='ignore', category=Warning)"
   ]
  },
  {
   "cell_type": "code",
   "execution_count": null,
   "id": "2d143bcc",
   "metadata": {
    "scrolled": true
   },
   "outputs": [],
   "source": [
    "rf_model = RandomForestClassifier(random_state=45)\n",
    "rf_model.get_params()"
   ]
  },
  {
   "cell_type": "code",
   "execution_count": null,
   "id": "3e9663fb",
   "metadata": {},
   "outputs": [],
   "source": [
    "cv_results = cross_validate(rf_model, X, y, cv=10, scoring=[\"accuracy\", \"f1\", \"roc_auc\"])"
   ]
  },
  {
   "cell_type": "code",
   "execution_count": null,
   "id": "14eea399",
   "metadata": {},
   "outputs": [],
   "source": []
  },
  {
   "cell_type": "code",
   "execution_count": null,
   "id": "9bdeb152",
   "metadata": {},
   "outputs": [],
   "source": []
  },
  {
   "cell_type": "code",
   "execution_count": null,
   "id": "4567374f",
   "metadata": {},
   "outputs": [],
   "source": []
  },
  {
   "cell_type": "code",
   "execution_count": null,
   "id": "6b794ad1",
   "metadata": {},
   "outputs": [],
   "source": []
  },
  {
   "cell_type": "code",
   "execution_count": null,
   "id": "bf1542b5",
   "metadata": {},
   "outputs": [],
   "source": []
  },
  {
   "cell_type": "markdown",
   "id": "6fa1e1d3",
   "metadata": {},
   "source": [
    "##  Data Preprocessing"
   ]
  },
  {
   "cell_type": "markdown",
   "id": "47d9450d",
   "metadata": {},
   "source": [
    "# KNN"
   ]
  },
  {
   "cell_type": "code",
   "execution_count": null,
   "id": "e1f154fb",
   "metadata": {},
   "outputs": [],
   "source": [
    "print(df.groupby('Year').size())"
   ]
  },
  {
   "cell_type": "code",
   "execution_count": null,
   "id": "e4b2d2aa",
   "metadata": {},
   "outputs": [],
   "source": [
    "print(df.groupby('Sex_Encoded').size())"
   ]
  },
  {
   "cell_type": "code",
   "execution_count": null,
   "id": "b3051092",
   "metadata": {},
   "outputs": [],
   "source": [
    "neighbors = np.arange(1, 9)                  # number of neighbors\n",
    "train_accuracy = np.zeros(len(neighbors))    # Declare and initialise the matrix\n",
    "test_accuracy = np.zeros(len(neighbors)) "
   ]
  },
  {
   "cell_type": "code",
   "execution_count": null,
   "id": "6e80ecfd",
   "metadata": {},
   "outputs": [],
   "source": [
    "for i,k in enumerate(neighbors):                          # for loop that checks the model for neighbor values 1, 2, 3, ..., 9\n",
    "    knn = KNeighborsClassifier(n_neighbors = k)           # Initialise an object knn using KNeighborsClassifier method\n",
    "\n",
    "    #Fit the model\n",
    "    knn.fit(train_data, train_label)                      # Call fit method to implement the ML KNeighborsClassifier model\n",
    "\n",
    "    #Compute accuracy on the training set\n",
    "    train_accuracy[i] = knn.score(train_data, train_label)   # Save the score value in the train_accuracy array\n",
    "\n",
    "    #Compute accuracy on the test set\n",
    "    test_accuracy[i] = knn.score(test_data, test_label)      # Save the score value in the train_accuracy array"
   ]
  },
  {
   "cell_type": "code",
   "execution_count": null,
   "id": "d55d3969",
   "metadata": {},
   "outputs": [],
   "source": []
  },
  {
   "cell_type": "code",
   "execution_count": null,
   "id": "18c049d7",
   "metadata": {},
   "outputs": [],
   "source": [
    "import pandas as pd\n",
    "from sklearn.metrics import classification_report, roc_auc_score\n",
    "from sklearn.model_selection import GridSearchCV, cross_validate\n",
    "from sklearn.neighbors import KNeighborsClassifier\n",
    "from sklearn.preprocessing import StandardScaler\n",
    "pd.set_option('display.max_columns', None)\n",
    "pd.set_option('display.width', 500)\n"
   ]
  },
  {
   "cell_type": "code",
   "execution_count": null,
   "id": "c3e9b29e",
   "metadata": {},
   "outputs": [],
   "source": [
    "y = df[\"Value\"]\n",
    "X = df.drop([\"Value\"], axis=1)"
   ]
  },
  {
   "cell_type": "code",
   "execution_count": null,
   "id": "c1ddeb14",
   "metadata": {},
   "outputs": [],
   "source": [
    "X_scaled = StandardScaler().fit_transform(X)"
   ]
  },
  {
   "cell_type": "code",
   "execution_count": null,
   "id": "ed29f06e",
   "metadata": {},
   "outputs": [],
   "source": [
    "X = pd.DataFrame(X_scaled, columns=X.columns)"
   ]
  },
  {
   "cell_type": "code",
   "execution_count": null,
   "id": "0b727918",
   "metadata": {},
   "outputs": [],
   "source": [
    "knn_model = KNeighborsClassifier().fit(X, y)"
   ]
  },
  {
   "cell_type": "code",
   "execution_count": null,
   "id": "a558ab3d",
   "metadata": {},
   "outputs": [],
   "source": [
    "random_user = X.sample(1, random_state=245)"
   ]
  },
  {
   "cell_type": "code",
   "execution_count": null,
   "id": "3a3e220e",
   "metadata": {},
   "outputs": [],
   "source": [
    "knn_model.predict(random_user)"
   ]
  },
  {
   "cell_type": "markdown",
   "id": "89dfcc74",
   "metadata": {},
   "source": [
    "# MODEL BASARISINI DEGERLENDIRME"
   ]
  },
  {
   "cell_type": "code",
   "execution_count": null,
   "id": "b92b742d",
   "metadata": {},
   "outputs": [],
   "source": [
    "# Confusion matrix için y_pred:\n",
    "y_pred = knn_model.predict(X)"
   ]
  },
  {
   "cell_type": "code",
   "execution_count": null,
   "id": "8ee8b6cc",
   "metadata": {},
   "outputs": [],
   "source": [
    "# AUC için y_prob:\n",
    "y_prob = knn_model.predict_proba(X)[:, 1]"
   ]
  },
  {
   "cell_type": "code",
   "execution_count": null,
   "id": "a324384e",
   "metadata": {},
   "outputs": [],
   "source": [
    "print(classification_report(y, y_pred))"
   ]
  },
  {
   "cell_type": "code",
   "execution_count": null,
   "id": "5101cec3",
   "metadata": {},
   "outputs": [],
   "source": [
    "cv_results = cross_validate(knn_model, X, y, cv=5, scoring=[\"accuracy\", \"f1\", \"roc_auc\"])"
   ]
  },
  {
   "cell_type": "code",
   "execution_count": null,
   "id": "71aaa666",
   "metadata": {},
   "outputs": [],
   "source": [
    "cv_results['test_accuracy'].mean()"
   ]
  },
  {
   "cell_type": "code",
   "execution_count": null,
   "id": "b1395911",
   "metadata": {},
   "outputs": [],
   "source": [
    "knn_model.get_params()"
   ]
  },
  {
   "cell_type": "code",
   "execution_count": null,
   "id": "f423b343",
   "metadata": {},
   "outputs": [],
   "source": [
    "knn_model = KNeighborsClassifier()"
   ]
  },
  {
   "cell_type": "code",
   "execution_count": null,
   "id": "7612110e",
   "metadata": {},
   "outputs": [],
   "source": [
    "knn_params = {\"n_neighbors\": range(2, 100)}"
   ]
  },
  {
   "cell_type": "code",
   "execution_count": null,
   "id": "978208c6",
   "metadata": {},
   "outputs": [],
   "source": [
    "knn_gs_best = GridSearchCV(knn_model, knn_params, cv=5, n_jobs=-1, verbose=1).fit(X, y)"
   ]
  },
  {
   "cell_type": "code",
   "execution_count": null,
   "id": "1c9cca4a",
   "metadata": {},
   "outputs": [],
   "source": [
    "knn_gs_best.best_params_"
   ]
  },
  {
   "cell_type": "code",
   "execution_count": null,
   "id": "a154b162",
   "metadata": {},
   "outputs": [],
   "source": [
    "knn_final = knn_model.set_params(**knn_gs_best.best_params_).fit(X, y)"
   ]
  },
  {
   "cell_type": "code",
   "execution_count": null,
   "id": "bb9c5752",
   "metadata": {},
   "outputs": [],
   "source": [
    "cv_results = cross_validate(knn_final,\n",
    "                            X,\n",
    "                            y,\n",
    "                            cv=5,\n",
    "                            scoring=[\"accuracy\"])"
   ]
  },
  {
   "cell_type": "code",
   "execution_count": null,
   "id": "45c1ca4a",
   "metadata": {},
   "outputs": [],
   "source": [
    "cv_results['test_accuracy'].mean()"
   ]
  },
  {
   "cell_type": "code",
   "execution_count": null,
   "id": "d81eae60",
   "metadata": {},
   "outputs": [],
   "source": [
    "# basariyi nasil arttirabilirim, ilgili algoritma icin optimizasyin yapildi"
   ]
  },
  {
   "cell_type": "code",
   "execution_count": null,
   "id": "ecb5a0f0",
   "metadata": {},
   "outputs": [],
   "source": []
  },
  {
   "cell_type": "code",
   "execution_count": null,
   "id": "ccb2f559",
   "metadata": {},
   "outputs": [],
   "source": [
    "g = sns.regplot(x=X, y=y, scatter_kws={'color': 'b', 's': 9}, ci=False, color=\"r\")\n",
    "\n",
    "g.set_title(f\"Model Denklemi: Value = {round(reg_model.intercept_[0], 2)} + Year *{round(reg_model.coef_[0][0], 2)}\")\n",
    "g.set_ylabel(\"Year\")\n",
    "g.set_xlabel(\"Value\")\n",
    "plt.xlim(-10, 310)\n",
    "plt.ylim(bottom=0)\n",
    "plt.show()"
   ]
  },
  {
   "cell_type": "code",
   "execution_count": null,
   "id": "b7645cce",
   "metadata": {},
   "outputs": [],
   "source": [
    "y_pred = reg_model.predict(X)\n",
    "mean_squared_error(y, y_pred)"
   ]
  },
  {
   "cell_type": "code",
   "execution_count": null,
   "id": "9b5df487",
   "metadata": {},
   "outputs": [],
   "source": [
    "y.mean()\n",
    "y.std()"
   ]
  },
  {
   "cell_type": "code",
   "execution_count": null,
   "id": "4c688626",
   "metadata": {},
   "outputs": [],
   "source": [
    "np.sqrt(mean_squared_error(y, y_pred))"
   ]
  },
  {
   "cell_type": "code",
   "execution_count": null,
   "id": "03eb5adf",
   "metadata": {},
   "outputs": [],
   "source": [
    "mean_absolute_error(y, y_pred)"
   ]
  },
  {
   "cell_type": "code",
   "execution_count": null,
   "id": "4ea13dea",
   "metadata": {},
   "outputs": [],
   "source": [
    "mean_absolute_error(y, y_pred)"
   ]
  },
  {
   "cell_type": "code",
   "execution_count": null,
   "id": "ff38256b",
   "metadata": {},
   "outputs": [],
   "source": [
    "reg_model.score(X, y)"
   ]
  },
  {
   "cell_type": "code",
   "execution_count": null,
   "id": "2872ab76",
   "metadata": {},
   "outputs": [],
   "source": [
    "# Import the `ticker` module from the `matplotlib` library\n",
    "\n",
    "import matplotlib.ticker as ticker\n",
    "\n",
    "# Apply sns.boxplot to visualise the population by ages.\n",
    "\n",
    "# Use the 'years' dataframe as the data source and specify 'Single_Year_of_Age_Encoded' as the column to group the data by and change the colour\n",
    "\n",
    "sns.boxplot(data=df, x='Single_Year_of_Age_Encoded', color='Deeppink')\n",
    "\n",
    "# Set the title of the box plot using the plt.title() function\n",
    "\n",
    "plt.title('Population_by_Age')\n",
    "\n",
    "# Convert the years in the y-axis to integers for better visualization\n",
    "\n",
    "# Apply the .gca() method to get the current axes and apply the xaxis attribute set the x-axis tick locator to display\n",
    "# integers only\n",
    "\n",
    "plt.gca().xaxis.set_major_locator(ticker.MaxNLocator(integer=True))\n",
    "\n",
    "# Call the plt.show() function to display the box plot\n",
    "\n",
    "plt.show()"
   ]
  },
  {
   "cell_type": "markdown",
   "id": "f403246e",
   "metadata": {},
   "source": [
    "In this boxplot, we can say that the age majority is 25-75."
   ]
  },
  {
   "cell_type": "code",
   "execution_count": null,
   "id": "f94bd783",
   "metadata": {},
   "outputs": [],
   "source": [
    "train_validation = df.sample(frac = 0.8, random_state = 200)\n",
    "test = df.drop(train_validation.index)\n",
    "len(test)"
   ]
  },
  {
   "cell_type": "markdown",
   "id": "ea5cc2c7",
   "metadata": {},
   "source": [
    "We allocated 80% of the data as the training and validation set, and the remaining 20% as the test set. I stated what percentage I would divide the amount of “.example” by the accumulation of “frak”. The “random_state” command, like most commands, enables the division of progress by setting the “seed” part. The “.drop” cut in the second line throws the remaining data from the original data, except the parts we reserved for train and verification, to the test set."
   ]
  },
  {
   "cell_type": "code",
   "execution_count": null,
   "id": "33c97008",
   "metadata": {},
   "outputs": [],
   "source": [
    "len(train_validation)"
   ]
  },
  {
   "cell_type": "code",
   "execution_count": null,
   "id": "39dd9a8c",
   "metadata": {},
   "outputs": [],
   "source": [
    "len(test)"
   ]
  },
  {
   "cell_type": "markdown",
   "id": "2a0f5b51",
   "metadata": {},
   "source": [
    "In the last 2 lines, we look at the line numbers in order to verify the operation. The number of rows of the train and validation set almost should be equal to 4 times the number of rows of the test set."
   ]
  },
  {
   "cell_type": "code",
   "execution_count": null,
   "id": "8c6efb41",
   "metadata": {},
   "outputs": [],
   "source": [
    "from sklearn.linear_model import LinearRegression\n",
    "y = train_validation[\"Value\"]\n",
    "x = train_validation.drop(\"Value\", axis = 1)\n",
    "lr = LinearRegression()\n",
    "from mlxtend.feature_selection import SequentialFeatureSelector as SFS\n",
    "sfs = SFS(estimator = lr,\n",
    "k_features = (1, 3),forward = True,floating = False,cv = 0)\n",
    "sfs_fit = sfs.fit(X = x.values, y = y.values)\n",
    "sfs_fit.subsets_"
   ]
  },
  {
   "cell_type": "markdown",
   "id": "59fc464f",
   "metadata": {},
   "source": [
    "First of all, I import LinearRegression from the sklearn.linear_model module with the \"import\" command. The commands we will use are in this library. Then, I introduce to the program what the dependent and independent variables are for feature selection. Since \"y\", the dependent variable, will be the population value, I filter the number rate from the train_validation set. I assign everything else to the “x” object as estimators, that is, independent variables, by giving the necessary arguments to the “.drop” command. In the next line, I assign the method I will use for estimation to the “lr” object. Since I will be selecting features using Linear Regression, I perform this process with the “LinearRegression()” command. In the next step, I create the method for selecting the feature and assign it to the \"sfs\" object. The “SFS” command here is the abbreviation of “Sequential Feature Selection”, that is, the method that selects features in an incremental manner. After giving the \"lr\" object as an estimator in the function's arguments, I tell it to choose the best feature combination in a certain range in the \"k_features\" argument. Since I have 3 columns, I want it to find the best combination of variables starting from 1 to 3. The “Forward” argument being “True” means that the selection should be forward-looking, that is, by adding the features sequentially. The “Floating” argument adds an intermediate step to each step and continues the algorithm by removing variables that reduce performance. This argument was selected as “False”. Finally, when I said “cv = 0”, I stated that we did not want any cross-validation. I did not use the cross-validation method at this stage. This will allow us to see the difference clearly. After determining this method, we started the process with the “sfs.fit” command. In the last line of the code block, I used the “.subsets_” command to see the models at each step."
   ]
  },
  {
   "cell_type": "markdown",
   "id": "335e66fc",
   "metadata": {},
   "source": [
    "{1: {'feature_idx': (2,),\n",
    "  'cv_scores': array([0.01508134]),\n",
    "  'avg_score': 0.015081342429616673\n",
    "  \n",
    "I only took the first line of the result of the command, this will be enough for us. In the first step, train_validation was the second variable that minimized the average error in the set. It can be seen in the “avg_score” section that the average score for this variable is around 0.015081."
   ]
  },
  {
   "cell_type": "code",
   "execution_count": null,
   "id": "14cdde70",
   "metadata": {},
   "outputs": [],
   "source": [
    "from scipy.stats.mstats import winsorize\n",
    "import scipy.stats as stats\n",
    "from sklearn.preprocessing import normalize\n",
    "from sklearn.model_selection import train_test_split\n",
    "from sklearn.preprocessing import StandardScaler\n",
    "from sklearn.metrics import r2_score, mean_squared_error, mean_absolute_error,explained_variance_score\n",
    "from sklearn.linear_model import LinearRegression,Ridge,Lasso\n",
    "from sklearn.ensemble import RandomForestRegressor\n",
    "from sklearn.model_selection import (GridSearchCV, cross_val_score, cross_val_predict, StratifiedKFold, learning_curve)\n",
    "\n",
    "from statsmodels.tools.eval_measures import mse, rmse\n",
    "from sklearn import preprocessing"
   ]
  },
  {
   "cell_type": "markdown",
   "id": "827c24e8",
   "metadata": {},
   "source": [
    "## DECISION TREE"
   ]
  },
  {
   "cell_type": "code",
   "execution_count": null,
   "id": "8048e360",
   "metadata": {},
   "outputs": [],
   "source": [
    "# Use only 'Year' and 'Value' features into X\n",
    "X = df.iloc[:, [1, 0]].values\n",
    "\n",
    "# Store the 'Sex' feature into 'y'\n",
    "y = df.iloc[:, 2].values\n",
    "\n",
    "# Display X and y \n",
    "# X, y"
   ]
  },
  {
   "cell_type": "code",
   "execution_count": null,
   "id": "55cff60c",
   "metadata": {},
   "outputs": [],
   "source": [
    "# Load the library 'sklearn.model_selection'\n",
    "from sklearn.model_selection import train_test_split\n",
    "\n",
    "# Split the data set into Training and Testing parts\n",
    "X_train, X_test, y_train, y_test = train_test_split(X, y, test_size = 0.25, random_state = 0)\n",
    "\n",
    "# Display the Number of rows and columns before (X, y) and after Splitting (X_train, X_test, y_train, y_test)\n",
    "X.shape, y.shape, X_train.shape, X_test.shape, y_train.shape, y_test.shape"
   ]
  },
  {
   "cell_type": "code",
   "execution_count": null,
   "id": "8b448885",
   "metadata": {},
   "outputs": [],
   "source": [
    "# Load the library 'sklearn.preprocessing'\n",
    "from sklearn.preprocessing import StandardScaler\n",
    "\n",
    "# Create and initialise an object by calling a method 'StandardScaler()'\n",
    "sc = StandardScaler()\n",
    "\n",
    "# Convert the X_train and X_test into standised format\n",
    "X_train = sc.fit_transform(X_train)\n",
    "X_test = sc.transform(X_test)\n",
    "\n",
    "# Display the trandofrmed values\n",
    "# X_train, X_test"
   ]
  },
  {
   "cell_type": "code",
   "execution_count": null,
   "id": "98111f35",
   "metadata": {},
   "outputs": [],
   "source": [
    "# Load the library 'sklearn.tree'\n",
    "from sklearn.tree import DecisionTreeClassifier\n",
    "\n",
    "# Create and initialise a DecisionTreeClassifier\n",
    "classifier = DecisionTreeClassifier(max_depth = 3, random_state = 0)\n",
    "\n",
    "# Train the classifier by calling a method 'fit()'\n",
    "classifier.fit(X_train, y_train)"
   ]
  },
  {
   "cell_type": "code",
   "execution_count": null,
   "id": "9a8465ee",
   "metadata": {},
   "outputs": [],
   "source": [
    "# Calculate the predicted vlaue by calling a method predict()\n",
    "y_pred = classifier.predict(X_test)"
   ]
  },
  {
   "cell_type": "code",
   "execution_count": null,
   "id": "cd223d2f",
   "metadata": {},
   "outputs": [],
   "source": [
    "from sklearn.metrics import classification_report, confusion_matrix\n",
    "import seaborn as sns\n",
    "\n",
    "# Calculate cm by calling a method named as 'confusion_matrix'\n",
    "cm = confusion_matrix(y_test, y_pred)\n",
    "\n",
    "# Call a method heatmap() to plot confusion matrix\n",
    "sns.heatmap(cm, annot = True)\n",
    "\n",
    "# print the classification_report based on y_test and y_predict\n",
    "print(classification_report(y_test, y_pred))"
   ]
  },
  {
   "cell_type": "code",
   "execution_count": null,
   "id": "98ebc8d2",
   "metadata": {},
   "outputs": [],
   "source": [
    "from sklearn import metrics                           \n",
    "# Import scikit-learn metrics module for accuracy calculation\n",
    "import warnings\n",
    "warnings.filterwarnings('ignore') \n",
    "# We can suppress the warnings\n",
    "\n",
    "# Model Accuracy, how often is the classifier correct?\n",
    "print(\"Accuracy:\",metrics.accuracy_score(y_test, y_pred))"
   ]
  },
  {
   "cell_type": "code",
   "execution_count": null,
   "id": "706f0d58",
   "metadata": {},
   "outputs": [],
   "source": [
    "import matplotlib.pyplot as plt\n",
    "from sklearn import tree\n",
    "\n",
    "# Set the size of the figure\n",
    "plt.figure(figsize = (12, 8))\n",
    "\n",
    "# Display the tree by calling a method plot_tree()\n",
    "tree.plot_tree(classifier.fit(X_train, y_train)) "
   ]
  },
  {
   "cell_type": "code",
   "execution_count": null,
   "id": "01eed233",
   "metadata": {},
   "outputs": [],
   "source": [
    "from matplotlib.colors import ListedColormap\n",
    "X_set, y_set = X_train, y_train\n",
    "X1, X2 = np.meshgrid(np.arange(start = X_set[:, 0].min() - 1, stop = X_set[:, 0].max() + 1, step = 0.01),\n",
    "                     np.arange(start = X_set[:, 1].min() - 1, stop = X_set[:, 1].max() + 1, step = 0.01))\n",
    "plt.contourf(X1, X2, classifier.predict(np.array([X1.ravel(), X2.ravel()]).T).reshape(X1.shape),\n",
    "             alpha = 0.75, cmap = ListedColormap(('red', 'green')))\n",
    "plt.xlim(X1.min(), X1.max())\n",
    "plt.ylim(X2.min(), X2.max())\n",
    "for i, j in enumerate(np.unique(y_set)):\n",
    "    plt.scatter(X_set[y_set == j, 0], X_set[y_set == j, 1],\n",
    "                c = ListedColormap(('white', 'green'))(i), label = j)\n",
    "plt.title('Decision Tree Classification (Training set)')\n",
    "plt.xlabel('Value')\n",
    "plt.ylabel('Age')\n",
    "plt.legend()\n",
    "plt.show()"
   ]
  },
  {
   "cell_type": "code",
   "execution_count": null,
   "id": "8c62a318",
   "metadata": {},
   "outputs": [],
   "source": [
    "correlation = df.corr()\n",
    "print(correlation)"
   ]
  },
  {
   "cell_type": "code",
   "execution_count": null,
   "id": "7e13c990",
   "metadata": {},
   "outputs": [],
   "source": [
    "plt.figure(figsize=(18,14))\n",
    "sns.heatmap(correlation,annot=True,linecolor=\"blue\",lw=0.5);"
   ]
  },
  {
   "cell_type": "code",
   "execution_count": null,
   "id": "849c1258",
   "metadata": {},
   "outputs": [],
   "source": [
    "scaler = StandardScaler()\n",
    "\n",
    "df_scale = pd.DataFrame(scaler.fit_transform(df),columns=df.columns)"
   ]
  },
  {
   "cell_type": "code",
   "execution_count": null,
   "id": "a60bbca1",
   "metadata": {},
   "outputs": [],
   "source": [
    "df_scale.head()"
   ]
  },
  {
   "cell_type": "code",
   "execution_count": null,
   "id": "fa3fbd03",
   "metadata": {},
   "outputs": [],
   "source": [
    "y = df['Value']\n",
    "X = df_scale.drop(['Value'],axis=1)"
   ]
  },
  {
   "cell_type": "code",
   "execution_count": null,
   "id": "78567618",
   "metadata": {},
   "outputs": [],
   "source": [
    "X_train, X_test, Y_train, Y_test = train_test_split(X, y, test_size=0.2, random_state= 42)"
   ]
  },
  {
   "cell_type": "code",
   "execution_count": null,
   "id": "a48229c7",
   "metadata": {},
   "outputs": [],
   "source": [
    "print(X_train.shape)\n",
    "print(X_test.shape)\n",
    "print(Y_train.shape)\n",
    "print(Y_test.shape)"
   ]
  },
  {
   "cell_type": "code",
   "execution_count": null,
   "id": "d0349cce",
   "metadata": {},
   "outputs": [],
   "source": [
    "lrm = LinearRegression()\n",
    "lrm.fit(X_train, Y_train) #fit an OLS model"
   ]
  },
  {
   "cell_type": "code",
   "execution_count": null,
   "id": "d8e9159f",
   "metadata": {},
   "outputs": [],
   "source": [
    "y_preds_train = lrm.predict(X_train)\n",
    "y_preds_test = lrm.predict(X_test)  #making predictions"
   ]
  },
  {
   "cell_type": "code",
   "execution_count": null,
   "id": "dbfa2216",
   "metadata": {},
   "outputs": [],
   "source": [
    "print(\"R-squared of the model in training set is: {}\".format(lrm.score(X_train, Y_train)))\n",
    "print(\"-----Test set statistics-----\")\n",
    "print(\"R-squared of the model in test set is: {}\".format(lrm.score(X_test, Y_test)))\n",
    "print(\"Root mean squared error of the prediction is: {}\".format(rmse(Y_test, y_preds_test)))\n",
    "print(\"Mean absolute percentage error of the prediction is: {}\".format(np.mean(np.abs((Y_test - y_preds_test) / Y_test)) * 100))"
   ]
  },
  {
   "cell_type": "markdown",
   "id": "66010b30",
   "metadata": {},
   "source": [
    "## RIDGE"
   ]
  },
  {
   "cell_type": "code",
   "execution_count": null,
   "id": "ad61618b",
   "metadata": {},
   "outputs": [],
   "source": [
    "# Using GridSearch for parameter optimization\n",
    "ridgeregr = GridSearchCV(Ridge(),\n",
    "                    param_grid={\n",
    "                        'alpha': [0.01, 0.1, 1]\n",
    "                    }, verbose=1)\n",
    "\n",
    "ridgeregr.fit(X_train, Y_train)\n",
    "\n",
    "ridge = ridgeregr.best_estimator_"
   ]
  },
  {
   "cell_type": "code",
   "execution_count": null,
   "id": "39d3ed99",
   "metadata": {},
   "outputs": [],
   "source": [
    "# Making predictions here\n",
    "y_preds_train = ridge.predict(X_train)\n",
    "y_preds_test_ridge = ridge.predict(X_test)\n",
    "\n",
    "print(\"R-squared of the model in training set is: {}\".format(ridge.score(X_train, Y_train)))\n",
    "print(\"-----Test set statistics-----\")\n",
    "print(\"R-squared of the model in test set is: {}\".format(ridge.score(X_test, Y_test)))\n",
    "print(\"Root mean squared error of the prediction is: {}\".format(mse(Y_test, y_preds_test_ridge)**(1/2)))\n",
    "print(\"Mean absolute percentage error of the prediction is: {}\".format(np.mean(np.abs((Y_test - y_preds_test_ridge) / Y_test)) * 100))"
   ]
  },
  {
   "cell_type": "markdown",
   "id": "bfb33b57",
   "metadata": {},
   "source": [
    "## LASSO"
   ]
  },
  {
   "cell_type": "code",
   "execution_count": null,
   "id": "8415436b",
   "metadata": {},
   "outputs": [],
   "source": [
    "# using GridSearch for parameter optimization\n",
    "lassoregr = GridSearchCV(Lasso(),\n",
    "                    param_grid={\n",
    "                        'alpha': [0.01, 0.1, 1]\n",
    "                    }, verbose=1)\n",
    "\n",
    "lassoregr.fit(X_train, Y_train)\n",
    "\n",
    "lasso = lassoregr.best_estimator_"
   ]
  },
  {
   "cell_type": "code",
   "execution_count": null,
   "id": "4f17177d",
   "metadata": {},
   "outputs": [],
   "source": [
    "# We are making predictions here\n",
    "y_preds_train = lasso.predict(X_train)\n",
    "y_preds_test_lasso = lasso.predict(X_test)\n",
    "\n",
    "print(\"R-squared of the model in training set is: {}\".format(lasso.score(X_train, Y_train)))\n",
    "print(\"-----Test set statistics-----\")\n",
    "print(\"R-squared of the model in test set is: {}\".format(lasso.score(X_test, Y_test)))\n",
    "print(\"Root mean squared error of the prediction is: {}\".format(rmse(Y_test, y_preds_test_lasso)))\n",
    "print(\"Mean absolute percentage error of the prediction is: {}\".format(np.mean(np.abs((Y_test - y_preds_test_lasso) / Y_test)) * 100))"
   ]
  },
  {
   "cell_type": "markdown",
   "id": "f5fc1854",
   "metadata": {},
   "source": [
    "# DATA VISULATION"
   ]
  },
  {
   "cell_type": "code",
   "execution_count": null,
   "id": "c704f323",
   "metadata": {},
   "outputs": [],
   "source": [
    "sns.pairplot(df)"
   ]
  },
  {
   "cell_type": "code",
   "execution_count": null,
   "id": "9ea20ff6",
   "metadata": {},
   "outputs": [],
   "source": [
    "fig = plt.figure(figsize = (16,9))\n",
    "sns.barplot(x ='Year', y = 'Value', palette = 'mako', data = df)"
   ]
  },
  {
   "cell_type": "code",
   "execution_count": null,
   "id": "e0f4ab68",
   "metadata": {},
   "outputs": [],
   "source": [
    "fig = plt.figure(figsize = (16,9))\n",
    "sns.lineplot(x ='Year', y = 'Value', data = df)"
   ]
  },
  {
   "cell_type": "markdown",
   "id": "3be042c0",
   "metadata": {},
   "source": [
    "# STATISTICS"
   ]
  },
  {
   "cell_type": "code",
   "execution_count": null,
   "id": "9871b43a",
   "metadata": {},
   "outputs": [],
   "source": [
    "import pandas as pd\n",
    "import numpy as np\n",
    "import seaborn as sns\n",
    "from scipy import stats\n",
    "import matplotlib.pyplot as plt\n",
    "from empiricaldist import Pmf, Cdf\n",
    "from matplotlib.ticker import PercentFormatter"
   ]
  },
  {
   "cell_type": "code",
   "execution_count": null,
   "id": "a31b7d77",
   "metadata": {},
   "outputs": [],
   "source": [
    "def label_graph(ticksfont, x_label, y_label, title_label, fontsize):\n",
    "    plt.xticks(fontsize=ticksfont)\n",
    "    plt.yticks(fontsize=ticksfont)\n",
    "    plt.xlabel(x_label, fontsize=fontsize)\n",
    "    plt.ylabel(y_label, fontsize=fontsize)\n",
    "    plt.title(title_label, fontsize=fontsize)"
   ]
  },
  {
   "cell_type": "code",
   "execution_count": null,
   "id": "c9011043",
   "metadata": {},
   "outputs": [],
   "source": []
  }
 ],
 "metadata": {
  "kernelspec": {
   "display_name": "Python 3 (ipykernel)",
   "language": "python",
   "name": "python3"
  },
  "language_info": {
   "codemirror_mode": {
    "name": "ipython",
    "version": 3
   },
   "file_extension": ".py",
   "mimetype": "text/x-python",
   "name": "python",
   "nbconvert_exporter": "python",
   "pygments_lexer": "ipython3",
   "version": "3.11.4"
  }
 },
 "nbformat": 4,
 "nbformat_minor": 5
}
