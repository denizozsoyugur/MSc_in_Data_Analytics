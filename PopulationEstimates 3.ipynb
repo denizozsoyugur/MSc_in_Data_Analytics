{
 "cells": [
  {
   "cell_type": "code",
   "execution_count": 1,
   "id": "de2813d5",
   "metadata": {},
   "outputs": [],
   "source": [
    "import numpy as np\n",
    "import pandas as pd\n",
    "from matplotlib import pyplot as plt\n",
    "import seaborn as sns\n",
    "from sklearn.metrics import r2_score\n",
    "from sklearn import linear_model\n",
    "from sklearn.preprocessing import OrdinalEncoder\n",
    "from sklearn.preprocessing import LabelEncoder\n",
    "from sklearn.linear_model import Ridge, Lasso\n",
    "\n",
    "# Import NumPy, Pandas, Matplotlib, Seaborn libraries, Load the following libraries"
   ]
  },
  {
   "cell_type": "code",
   "execution_count": 2,
   "id": "5b61b6bc",
   "metadata": {},
   "outputs": [],
   "source": [
    "import warnings\n",
    "\n",
    "warnings.filterwarnings('ignore')\n",
    "# Suppress the warnings"
   ]
  },
  {
   "cell_type": "markdown",
   "id": "734c6ac7",
   "metadata": {},
   "source": [
    "Link to the dataset: Only 2023-2022-2021-2020 was selected\n",
    "\n",
    "https://data.cso.ie/table/PEA11\n",
    "\n"
   ]
  },
  {
   "cell_type": "code",
   "execution_count": 3,
   "id": "8509e183",
   "metadata": {},
   "outputs": [],
   "source": [
    "missing_values = ['/',' ','-','--','na','Na','n/a','NA','n.a.','?','nan','Nan','nul','Nul','null','Null']\n",
    "\n",
    "df= pd.read_csv('PopulationEstimatesDatabase1.csv',na_values=missing_values)\n",
    "\n",
    "# Create a list with all the possible missing value formats. Create a name for the dataframe as report ('PopulationEstimatesDatabase') and apply the\n",
    "#pd.read_csv function in order to read the csv file containing the report\n",
    "# Include the variable 'na_values' and define it with the 'missing values' list previously created"
   ]
  },
  {
   "cell_type": "code",
   "execution_count": 4,
   "id": "8ecc6fa1",
   "metadata": {},
   "outputs": [
    {
     "data": {
      "text/plain": [
       "STATISTIC Label       0\n",
       "Year                  0\n",
       "Single Year of Age    0\n",
       "Sex                   0\n",
       "UNIT                  0\n",
       "VALUE                 0\n",
       "dtype: int64"
      ]
     },
     "execution_count": 4,
     "metadata": {},
     "output_type": "execute_result"
    }
   ],
   "source": [
    "df.isnull().sum()\n",
    "\n",
    "# Check missing values by applying the .isnull().sum method to the dataframe"
   ]
  },
  {
   "cell_type": "code",
   "execution_count": 5,
   "id": "8aaed91a",
   "metadata": {},
   "outputs": [
    {
     "name": "stdout",
     "output_type": "stream",
     "text": [
      "<class 'pandas.core.frame.DataFrame'>\n",
      "RangeIndex: 11817 entries, 0 to 11816\n",
      "Data columns (total 6 columns):\n",
      " #   Column              Non-Null Count  Dtype \n",
      "---  ------              --------------  ----- \n",
      " 0   STATISTIC Label     11817 non-null  object\n",
      " 1   Year                11817 non-null  int64 \n",
      " 2   Single Year of Age  11817 non-null  object\n",
      " 3   Sex                 11817 non-null  object\n",
      " 4   UNIT                11817 non-null  object\n",
      " 5   VALUE               11817 non-null  int64 \n",
      "dtypes: int64(2), object(4)\n",
      "memory usage: 554.1+ KB\n"
     ]
    }
   ],
   "source": [
    "df.info()\n",
    "\n",
    "# Check the information of the dataframe by applying the .info() function"
   ]
  },
  {
   "cell_type": "code",
   "execution_count": 6,
   "id": "83b4b4bb",
   "metadata": {},
   "outputs": [
    {
     "data": {
      "text/html": [
       "<div>\n",
       "<style scoped>\n",
       "    .dataframe tbody tr th:only-of-type {\n",
       "        vertical-align: middle;\n",
       "    }\n",
       "\n",
       "    .dataframe tbody tr th {\n",
       "        vertical-align: top;\n",
       "    }\n",
       "\n",
       "    .dataframe thead th {\n",
       "        text-align: right;\n",
       "    }\n",
       "</style>\n",
       "<table border=\"1\" class=\"dataframe\">\n",
       "  <thead>\n",
       "    <tr style=\"text-align: right;\">\n",
       "      <th></th>\n",
       "      <th>STATISTIC Label</th>\n",
       "      <th>Year</th>\n",
       "      <th>Single Year of Age</th>\n",
       "      <th>Sex</th>\n",
       "      <th>UNIT</th>\n",
       "      <th>VALUE</th>\n",
       "    </tr>\n",
       "  </thead>\n",
       "  <tbody>\n",
       "    <tr>\n",
       "      <th>0</th>\n",
       "      <td>Population estimates from 1926</td>\n",
       "      <td>1926</td>\n",
       "      <td>All ages</td>\n",
       "      <td>Both sexes</td>\n",
       "      <td>Number</td>\n",
       "      <td>2971992</td>\n",
       "    </tr>\n",
       "    <tr>\n",
       "      <th>1</th>\n",
       "      <td>Population estimates from 1926</td>\n",
       "      <td>1926</td>\n",
       "      <td>All ages</td>\n",
       "      <td>Male</td>\n",
       "      <td>Number</td>\n",
       "      <td>1506889</td>\n",
       "    </tr>\n",
       "    <tr>\n",
       "      <th>2</th>\n",
       "      <td>Population estimates from 1926</td>\n",
       "      <td>1926</td>\n",
       "      <td>All ages</td>\n",
       "      <td>Female</td>\n",
       "      <td>Number</td>\n",
       "      <td>1465103</td>\n",
       "    </tr>\n",
       "    <tr>\n",
       "      <th>3</th>\n",
       "      <td>Population estimates from 1926</td>\n",
       "      <td>1926</td>\n",
       "      <td>Under 1 year</td>\n",
       "      <td>Both sexes</td>\n",
       "      <td>Number</td>\n",
       "      <td>55391</td>\n",
       "    </tr>\n",
       "    <tr>\n",
       "      <th>4</th>\n",
       "      <td>Population estimates from 1926</td>\n",
       "      <td>1926</td>\n",
       "      <td>Under 1 year</td>\n",
       "      <td>Male</td>\n",
       "      <td>Number</td>\n",
       "      <td>28084</td>\n",
       "    </tr>\n",
       "  </tbody>\n",
       "</table>\n",
       "</div>"
      ],
      "text/plain": [
       "                  STATISTIC Label  Year Single Year of Age         Sex  \\\n",
       "0  Population estimates from 1926  1926           All ages  Both sexes   \n",
       "1  Population estimates from 1926  1926           All ages        Male   \n",
       "2  Population estimates from 1926  1926           All ages      Female   \n",
       "3  Population estimates from 1926  1926       Under 1 year  Both sexes   \n",
       "4  Population estimates from 1926  1926       Under 1 year        Male   \n",
       "\n",
       "     UNIT    VALUE  \n",
       "0  Number  2971992  \n",
       "1  Number  1506889  \n",
       "2  Number  1465103  \n",
       "3  Number    55391  \n",
       "4  Number    28084  "
      ]
     },
     "execution_count": 6,
     "metadata": {},
     "output_type": "execute_result"
    }
   ],
   "source": [
    "df.head(5)\n",
    "\n",
    "# Print the first 5 rows of the dataframe by applying the.head() function"
   ]
  },
  {
   "cell_type": "code",
   "execution_count": 7,
   "id": "88837161",
   "metadata": {},
   "outputs": [
    {
     "data": {
      "text/html": [
       "<div>\n",
       "<style scoped>\n",
       "    .dataframe tbody tr th:only-of-type {\n",
       "        vertical-align: middle;\n",
       "    }\n",
       "\n",
       "    .dataframe tbody tr th {\n",
       "        vertical-align: top;\n",
       "    }\n",
       "\n",
       "    .dataframe thead th {\n",
       "        text-align: right;\n",
       "    }\n",
       "</style>\n",
       "<table border=\"1\" class=\"dataframe\">\n",
       "  <thead>\n",
       "    <tr style=\"text-align: right;\">\n",
       "      <th></th>\n",
       "      <th>STATISTIC Label</th>\n",
       "      <th>Year</th>\n",
       "      <th>Single Year of Age</th>\n",
       "      <th>Sex</th>\n",
       "      <th>UNIT</th>\n",
       "      <th>VALUE</th>\n",
       "    </tr>\n",
       "  </thead>\n",
       "  <tbody>\n",
       "    <tr>\n",
       "      <th>11812</th>\n",
       "      <td>Population estimates from 1926</td>\n",
       "      <td>2023</td>\n",
       "      <td>98 years</td>\n",
       "      <td>Male</td>\n",
       "      <td>Number</td>\n",
       "      <td>197</td>\n",
       "    </tr>\n",
       "    <tr>\n",
       "      <th>11813</th>\n",
       "      <td>Population estimates from 1926</td>\n",
       "      <td>2023</td>\n",
       "      <td>98 years</td>\n",
       "      <td>Female</td>\n",
       "      <td>Number</td>\n",
       "      <td>632</td>\n",
       "    </tr>\n",
       "    <tr>\n",
       "      <th>11814</th>\n",
       "      <td>Population estimates from 1926</td>\n",
       "      <td>2023</td>\n",
       "      <td>99 years and over</td>\n",
       "      <td>Both sexes</td>\n",
       "      <td>Number</td>\n",
       "      <td>1600</td>\n",
       "    </tr>\n",
       "    <tr>\n",
       "      <th>11815</th>\n",
       "      <td>Population estimates from 1926</td>\n",
       "      <td>2023</td>\n",
       "      <td>99 years and over</td>\n",
       "      <td>Male</td>\n",
       "      <td>Number</td>\n",
       "      <td>352</td>\n",
       "    </tr>\n",
       "    <tr>\n",
       "      <th>11816</th>\n",
       "      <td>Population estimates from 1926</td>\n",
       "      <td>2023</td>\n",
       "      <td>99 years and over</td>\n",
       "      <td>Female</td>\n",
       "      <td>Number</td>\n",
       "      <td>1248</td>\n",
       "    </tr>\n",
       "  </tbody>\n",
       "</table>\n",
       "</div>"
      ],
      "text/plain": [
       "                      STATISTIC Label  Year Single Year of Age         Sex  \\\n",
       "11812  Population estimates from 1926  2023           98 years        Male   \n",
       "11813  Population estimates from 1926  2023           98 years      Female   \n",
       "11814  Population estimates from 1926  2023  99 years and over  Both sexes   \n",
       "11815  Population estimates from 1926  2023  99 years and over        Male   \n",
       "11816  Population estimates from 1926  2023  99 years and over      Female   \n",
       "\n",
       "         UNIT  VALUE  \n",
       "11812  Number    197  \n",
       "11813  Number    632  \n",
       "11814  Number   1600  \n",
       "11815  Number    352  \n",
       "11816  Number   1248  "
      ]
     },
     "execution_count": 7,
     "metadata": {},
     "output_type": "execute_result"
    }
   ],
   "source": [
    "df.tail(5)\n",
    "\n",
    "# Print the last 5 rows of the dataframe by applying the .tail() function"
   ]
  },
  {
   "cell_type": "code",
   "execution_count": 8,
   "id": "d1067407",
   "metadata": {},
   "outputs": [
    {
     "data": {
      "text/plain": [
       "(11817, 6)"
      ]
     },
     "execution_count": 8,
     "metadata": {},
     "output_type": "execute_result"
    }
   ],
   "source": [
    "df.shape\n",
    "\n",
    "# Check the number of rows and columns of the new_house dataframe by applying the .shape attribute"
   ]
  },
  {
   "cell_type": "code",
   "execution_count": 9,
   "id": "395612df",
   "metadata": {},
   "outputs": [
    {
     "data": {
      "text/plain": [
       "STATISTIC Label       object\n",
       "Year                   int64\n",
       "Single Year of Age    object\n",
       "Sex                   object\n",
       "UNIT                  object\n",
       "VALUE                  int64\n",
       "dtype: object"
      ]
     },
     "execution_count": 9,
     "metadata": {},
     "output_type": "execute_result"
    }
   ],
   "source": [
    "df.dtypes\n",
    "\n",
    "# Check the data types of the dataframe by applying the .dtypes attribute to the dataframe"
   ]
  },
  {
   "cell_type": "code",
   "execution_count": 10,
   "id": "5a36e59e",
   "metadata": {},
   "outputs": [
    {
     "data": {
      "text/plain": [
       "Index(['STATISTIC Label', 'Year', 'Single Year of Age', 'Sex', 'UNIT',\n",
       "       'VALUE'],\n",
       "      dtype='object')"
      ]
     },
     "execution_count": 10,
     "metadata": {},
     "output_type": "execute_result"
    }
   ],
   "source": [
    "df.columns\n",
    "\n",
    "# Check the column names of the dataframe by applying the .columns attribute"
   ]
  },
  {
   "cell_type": "code",
   "execution_count": 11,
   "id": "4ae13e9b",
   "metadata": {},
   "outputs": [],
   "source": [
    "df.drop(columns=[\"STATISTIC Label\", \"UNIT\"], inplace=True)\n",
    "\n",
    "# Apply .drop() to remove the spesific column as it contains the same index values"
   ]
  },
  {
   "cell_type": "code",
   "execution_count": 12,
   "id": "9673275e",
   "metadata": {},
   "outputs": [
    {
     "data": {
      "text/html": [
       "<div>\n",
       "<style scoped>\n",
       "    .dataframe tbody tr th:only-of-type {\n",
       "        vertical-align: middle;\n",
       "    }\n",
       "\n",
       "    .dataframe tbody tr th {\n",
       "        vertical-align: top;\n",
       "    }\n",
       "\n",
       "    .dataframe thead th {\n",
       "        text-align: right;\n",
       "    }\n",
       "</style>\n",
       "<table border=\"1\" class=\"dataframe\">\n",
       "  <thead>\n",
       "    <tr style=\"text-align: right;\">\n",
       "      <th></th>\n",
       "      <th>Year</th>\n",
       "      <th>Single Year of Age</th>\n",
       "      <th>Sex</th>\n",
       "      <th>VALUE</th>\n",
       "    </tr>\n",
       "  </thead>\n",
       "  <tbody>\n",
       "    <tr>\n",
       "      <th>0</th>\n",
       "      <td>1926</td>\n",
       "      <td>All ages</td>\n",
       "      <td>Both sexes</td>\n",
       "      <td>2971992</td>\n",
       "    </tr>\n",
       "    <tr>\n",
       "      <th>1</th>\n",
       "      <td>1926</td>\n",
       "      <td>All ages</td>\n",
       "      <td>Male</td>\n",
       "      <td>1506889</td>\n",
       "    </tr>\n",
       "    <tr>\n",
       "      <th>2</th>\n",
       "      <td>1926</td>\n",
       "      <td>All ages</td>\n",
       "      <td>Female</td>\n",
       "      <td>1465103</td>\n",
       "    </tr>\n",
       "    <tr>\n",
       "      <th>3</th>\n",
       "      <td>1926</td>\n",
       "      <td>Under 1 year</td>\n",
       "      <td>Both sexes</td>\n",
       "      <td>55391</td>\n",
       "    </tr>\n",
       "    <tr>\n",
       "      <th>4</th>\n",
       "      <td>1926</td>\n",
       "      <td>Under 1 year</td>\n",
       "      <td>Male</td>\n",
       "      <td>28084</td>\n",
       "    </tr>\n",
       "  </tbody>\n",
       "</table>\n",
       "</div>"
      ],
      "text/plain": [
       "   Year Single Year of Age         Sex    VALUE\n",
       "0  1926           All ages  Both sexes  2971992\n",
       "1  1926           All ages        Male  1506889\n",
       "2  1926           All ages      Female  1465103\n",
       "3  1926       Under 1 year  Both sexes    55391\n",
       "4  1926       Under 1 year        Male    28084"
      ]
     },
     "execution_count": 12,
     "metadata": {},
     "output_type": "execute_result"
    }
   ],
   "source": [
    "df.head(5)"
   ]
  },
  {
   "cell_type": "code",
   "execution_count": 13,
   "id": "47207904",
   "metadata": {},
   "outputs": [],
   "source": [
    "df = df.rename(columns={'Single Year of Age': 'Single_Year_of_Age','VALUE': 'Value'})\n",
    "\n",
    "# To correct only the \"VALUE\" spelling in columns-Rename the columns of the dataframe by applying the .rename() method,\n",
    "# spaces between words in column names have been replaced by \"_\" in order to Other columns are suitable."
   ]
  },
  {
   "cell_type": "code",
   "execution_count": 14,
   "id": "7247a281",
   "metadata": {},
   "outputs": [
    {
     "data": {
      "text/html": [
       "<div>\n",
       "<style scoped>\n",
       "    .dataframe tbody tr th:only-of-type {\n",
       "        vertical-align: middle;\n",
       "    }\n",
       "\n",
       "    .dataframe tbody tr th {\n",
       "        vertical-align: top;\n",
       "    }\n",
       "\n",
       "    .dataframe thead th {\n",
       "        text-align: right;\n",
       "    }\n",
       "</style>\n",
       "<table border=\"1\" class=\"dataframe\">\n",
       "  <thead>\n",
       "    <tr style=\"text-align: right;\">\n",
       "      <th></th>\n",
       "      <th>Year</th>\n",
       "      <th>Single_Year_of_Age</th>\n",
       "      <th>Sex</th>\n",
       "      <th>Value</th>\n",
       "    </tr>\n",
       "  </thead>\n",
       "  <tbody>\n",
       "    <tr>\n",
       "      <th>0</th>\n",
       "      <td>1926</td>\n",
       "      <td>All ages</td>\n",
       "      <td>Both sexes</td>\n",
       "      <td>2971992</td>\n",
       "    </tr>\n",
       "    <tr>\n",
       "      <th>1</th>\n",
       "      <td>1926</td>\n",
       "      <td>All ages</td>\n",
       "      <td>Male</td>\n",
       "      <td>1506889</td>\n",
       "    </tr>\n",
       "    <tr>\n",
       "      <th>2</th>\n",
       "      <td>1926</td>\n",
       "      <td>All ages</td>\n",
       "      <td>Female</td>\n",
       "      <td>1465103</td>\n",
       "    </tr>\n",
       "    <tr>\n",
       "      <th>3</th>\n",
       "      <td>1926</td>\n",
       "      <td>Under 1 year</td>\n",
       "      <td>Both sexes</td>\n",
       "      <td>55391</td>\n",
       "    </tr>\n",
       "    <tr>\n",
       "      <th>4</th>\n",
       "      <td>1926</td>\n",
       "      <td>Under 1 year</td>\n",
       "      <td>Male</td>\n",
       "      <td>28084</td>\n",
       "    </tr>\n",
       "  </tbody>\n",
       "</table>\n",
       "</div>"
      ],
      "text/plain": [
       "   Year Single_Year_of_Age         Sex    Value\n",
       "0  1926           All ages  Both sexes  2971992\n",
       "1  1926           All ages        Male  1506889\n",
       "2  1926           All ages      Female  1465103\n",
       "3  1926       Under 1 year  Both sexes    55391\n",
       "4  1926       Under 1 year        Male    28084"
      ]
     },
     "execution_count": 14,
     "metadata": {},
     "output_type": "execute_result"
    }
   ],
   "source": [
    "df.head(5)"
   ]
  },
  {
   "cell_type": "code",
   "execution_count": 15,
   "id": "dceb9436",
   "metadata": {},
   "outputs": [
    {
     "data": {
      "text/html": [
       "<div>\n",
       "<style scoped>\n",
       "    .dataframe tbody tr th:only-of-type {\n",
       "        vertical-align: middle;\n",
       "    }\n",
       "\n",
       "    .dataframe tbody tr th {\n",
       "        vertical-align: top;\n",
       "    }\n",
       "\n",
       "    .dataframe thead th {\n",
       "        text-align: right;\n",
       "    }\n",
       "</style>\n",
       "<table border=\"1\" class=\"dataframe\">\n",
       "  <thead>\n",
       "    <tr style=\"text-align: right;\">\n",
       "      <th></th>\n",
       "      <th>Single_Year_of_Age</th>\n",
       "      <th>Sex</th>\n",
       "    </tr>\n",
       "  </thead>\n",
       "  <tbody>\n",
       "    <tr>\n",
       "      <th>count</th>\n",
       "      <td>11817</td>\n",
       "      <td>11817</td>\n",
       "    </tr>\n",
       "    <tr>\n",
       "      <th>unique</th>\n",
       "      <td>101</td>\n",
       "      <td>3</td>\n",
       "    </tr>\n",
       "    <tr>\n",
       "      <th>top</th>\n",
       "      <td>All ages</td>\n",
       "      <td>Both sexes</td>\n",
       "    </tr>\n",
       "    <tr>\n",
       "      <th>freq</th>\n",
       "      <td>117</td>\n",
       "      <td>3939</td>\n",
       "    </tr>\n",
       "  </tbody>\n",
       "</table>\n",
       "</div>"
      ],
      "text/plain": [
       "       Single_Year_of_Age         Sex\n",
       "count               11817       11817\n",
       "unique                101           3\n",
       "top              All ages  Both sexes\n",
       "freq                  117        3939"
      ]
     },
     "execution_count": 15,
     "metadata": {},
     "output_type": "execute_result"
    }
   ],
   "source": [
    "df.describe(include = \"object\")"
   ]
  },
  {
   "cell_type": "code",
   "execution_count": 16,
   "id": "f1557e8e",
   "metadata": {},
   "outputs": [],
   "source": [
    "l_encoder = LabelEncoder()"
   ]
  },
  {
   "cell_type": "code",
   "execution_count": 17,
   "id": "8e6434b3",
   "metadata": {},
   "outputs": [],
   "source": [
    "df[\"Sex_Encoded\"] = l_encoder.fit_transform(df[\"Sex\"])"
   ]
  },
  {
   "cell_type": "code",
   "execution_count": 18,
   "id": "3910b938",
   "metadata": {},
   "outputs": [],
   "source": [
    "df[\"Single_Year_of_Age_Encoded\"] = l_encoder.fit_transform(df[\"Single_Year_of_Age\"])"
   ]
  },
  {
   "cell_type": "code",
   "execution_count": 19,
   "id": "840d7266",
   "metadata": {},
   "outputs": [
    {
     "data": {
      "text/html": [
       "<div>\n",
       "<style scoped>\n",
       "    .dataframe tbody tr th:only-of-type {\n",
       "        vertical-align: middle;\n",
       "    }\n",
       "\n",
       "    .dataframe tbody tr th {\n",
       "        vertical-align: top;\n",
       "    }\n",
       "\n",
       "    .dataframe thead th {\n",
       "        text-align: right;\n",
       "    }\n",
       "</style>\n",
       "<table border=\"1\" class=\"dataframe\">\n",
       "  <thead>\n",
       "    <tr style=\"text-align: right;\">\n",
       "      <th></th>\n",
       "      <th>Year</th>\n",
       "      <th>Single_Year_of_Age</th>\n",
       "      <th>Sex</th>\n",
       "      <th>Value</th>\n",
       "      <th>Sex_Encoded</th>\n",
       "      <th>Single_Year_of_Age_Encoded</th>\n",
       "    </tr>\n",
       "  </thead>\n",
       "  <tbody>\n",
       "    <tr>\n",
       "      <th>0</th>\n",
       "      <td>1926</td>\n",
       "      <td>All ages</td>\n",
       "      <td>Both sexes</td>\n",
       "      <td>2971992</td>\n",
       "      <td>0</td>\n",
       "      <td>99</td>\n",
       "    </tr>\n",
       "    <tr>\n",
       "      <th>1</th>\n",
       "      <td>1926</td>\n",
       "      <td>All ages</td>\n",
       "      <td>Male</td>\n",
       "      <td>1506889</td>\n",
       "      <td>2</td>\n",
       "      <td>99</td>\n",
       "    </tr>\n",
       "    <tr>\n",
       "      <th>2</th>\n",
       "      <td>1926</td>\n",
       "      <td>All ages</td>\n",
       "      <td>Female</td>\n",
       "      <td>1465103</td>\n",
       "      <td>1</td>\n",
       "      <td>99</td>\n",
       "    </tr>\n",
       "    <tr>\n",
       "      <th>3</th>\n",
       "      <td>1926</td>\n",
       "      <td>Under 1 year</td>\n",
       "      <td>Both sexes</td>\n",
       "      <td>55391</td>\n",
       "      <td>0</td>\n",
       "      <td>100</td>\n",
       "    </tr>\n",
       "    <tr>\n",
       "      <th>4</th>\n",
       "      <td>1926</td>\n",
       "      <td>Under 1 year</td>\n",
       "      <td>Male</td>\n",
       "      <td>28084</td>\n",
       "      <td>2</td>\n",
       "      <td>100</td>\n",
       "    </tr>\n",
       "    <tr>\n",
       "      <th>...</th>\n",
       "      <td>...</td>\n",
       "      <td>...</td>\n",
       "      <td>...</td>\n",
       "      <td>...</td>\n",
       "      <td>...</td>\n",
       "      <td>...</td>\n",
       "    </tr>\n",
       "    <tr>\n",
       "      <th>95</th>\n",
       "      <td>1926</td>\n",
       "      <td>30 years</td>\n",
       "      <td>Female</td>\n",
       "      <td>27357</td>\n",
       "      <td>1</td>\n",
       "      <td>23</td>\n",
       "    </tr>\n",
       "    <tr>\n",
       "      <th>96</th>\n",
       "      <td>1926</td>\n",
       "      <td>31 years</td>\n",
       "      <td>Both sexes</td>\n",
       "      <td>28054</td>\n",
       "      <td>0</td>\n",
       "      <td>24</td>\n",
       "    </tr>\n",
       "    <tr>\n",
       "      <th>97</th>\n",
       "      <td>1926</td>\n",
       "      <td>31 years</td>\n",
       "      <td>Male</td>\n",
       "      <td>14666</td>\n",
       "      <td>2</td>\n",
       "      <td>24</td>\n",
       "    </tr>\n",
       "    <tr>\n",
       "      <th>98</th>\n",
       "      <td>1926</td>\n",
       "      <td>31 years</td>\n",
       "      <td>Female</td>\n",
       "      <td>13388</td>\n",
       "      <td>1</td>\n",
       "      <td>24</td>\n",
       "    </tr>\n",
       "    <tr>\n",
       "      <th>99</th>\n",
       "      <td>1926</td>\n",
       "      <td>32 years</td>\n",
       "      <td>Both sexes</td>\n",
       "      <td>37027</td>\n",
       "      <td>0</td>\n",
       "      <td>25</td>\n",
       "    </tr>\n",
       "  </tbody>\n",
       "</table>\n",
       "<p>100 rows × 6 columns</p>\n",
       "</div>"
      ],
      "text/plain": [
       "    Year Single_Year_of_Age         Sex    Value  Sex_Encoded  \\\n",
       "0   1926           All ages  Both sexes  2971992            0   \n",
       "1   1926           All ages        Male  1506889            2   \n",
       "2   1926           All ages      Female  1465103            1   \n",
       "3   1926       Under 1 year  Both sexes    55391            0   \n",
       "4   1926       Under 1 year        Male    28084            2   \n",
       "..   ...                ...         ...      ...          ...   \n",
       "95  1926           30 years      Female    27357            1   \n",
       "96  1926           31 years  Both sexes    28054            0   \n",
       "97  1926           31 years        Male    14666            2   \n",
       "98  1926           31 years      Female    13388            1   \n",
       "99  1926           32 years  Both sexes    37027            0   \n",
       "\n",
       "    Single_Year_of_Age_Encoded  \n",
       "0                           99  \n",
       "1                           99  \n",
       "2                           99  \n",
       "3                          100  \n",
       "4                          100  \n",
       "..                         ...  \n",
       "95                          23  \n",
       "96                          24  \n",
       "97                          24  \n",
       "98                          24  \n",
       "99                          25  \n",
       "\n",
       "[100 rows x 6 columns]"
      ]
     },
     "execution_count": 19,
     "metadata": {},
     "output_type": "execute_result"
    }
   ],
   "source": [
    "df.head(100)"
   ]
  },
  {
   "cell_type": "code",
   "execution_count": 20,
   "id": "a5c12da8",
   "metadata": {},
   "outputs": [
    {
     "data": {
      "text/html": [
       "<div>\n",
       "<style scoped>\n",
       "    .dataframe tbody tr th:only-of-type {\n",
       "        vertical-align: middle;\n",
       "    }\n",
       "\n",
       "    .dataframe tbody tr th {\n",
       "        vertical-align: top;\n",
       "    }\n",
       "\n",
       "    .dataframe thead th {\n",
       "        text-align: right;\n",
       "    }\n",
       "</style>\n",
       "<table border=\"1\" class=\"dataframe\">\n",
       "  <thead>\n",
       "    <tr style=\"text-align: right;\">\n",
       "      <th></th>\n",
       "      <th>count</th>\n",
       "      <th>mean</th>\n",
       "      <th>std</th>\n",
       "      <th>min</th>\n",
       "      <th>25%</th>\n",
       "      <th>50%</th>\n",
       "      <th>75%</th>\n",
       "      <th>max</th>\n",
       "    </tr>\n",
       "  </thead>\n",
       "  <tbody>\n",
       "    <tr>\n",
       "      <th>Year</th>\n",
       "      <td>11817.0</td>\n",
       "      <td>1996.410256</td>\n",
       "      <td>24.463165</td>\n",
       "      <td>1926.0</td>\n",
       "      <td>1986.0</td>\n",
       "      <td>2004.0</td>\n",
       "      <td>2014.0</td>\n",
       "      <td>2023.0</td>\n",
       "    </tr>\n",
       "    <tr>\n",
       "      <th>Value</th>\n",
       "      <td>11817.0</td>\n",
       "      <td>53524.614708</td>\n",
       "      <td>286775.372374</td>\n",
       "      <td>6.0</td>\n",
       "      <td>12427.0</td>\n",
       "      <td>26675.0</td>\n",
       "      <td>35577.0</td>\n",
       "      <td>5281612.0</td>\n",
       "    </tr>\n",
       "    <tr>\n",
       "      <th>Sex_Encoded</th>\n",
       "      <td>11817.0</td>\n",
       "      <td>1.000000</td>\n",
       "      <td>0.816531</td>\n",
       "      <td>0.0</td>\n",
       "      <td>0.0</td>\n",
       "      <td>1.0</td>\n",
       "      <td>2.0</td>\n",
       "      <td>2.0</td>\n",
       "    </tr>\n",
       "    <tr>\n",
       "      <th>Single_Year_of_Age_Encoded</th>\n",
       "      <td>11817.0</td>\n",
       "      <td>50.000000</td>\n",
       "      <td>29.155993</td>\n",
       "      <td>0.0</td>\n",
       "      <td>25.0</td>\n",
       "      <td>50.0</td>\n",
       "      <td>75.0</td>\n",
       "      <td>100.0</td>\n",
       "    </tr>\n",
       "  </tbody>\n",
       "</table>\n",
       "</div>"
      ],
      "text/plain": [
       "                              count          mean            std     min  \\\n",
       "Year                        11817.0   1996.410256      24.463165  1926.0   \n",
       "Value                       11817.0  53524.614708  286775.372374     6.0   \n",
       "Sex_Encoded                 11817.0      1.000000       0.816531     0.0   \n",
       "Single_Year_of_Age_Encoded  11817.0     50.000000      29.155993     0.0   \n",
       "\n",
       "                                25%      50%      75%        max  \n",
       "Year                         1986.0   2004.0   2014.0     2023.0  \n",
       "Value                       12427.0  26675.0  35577.0  5281612.0  \n",
       "Sex_Encoded                     0.0      1.0      2.0        2.0  \n",
       "Single_Year_of_Age_Encoded     25.0     50.0     75.0      100.0  "
      ]
     },
     "execution_count": 20,
     "metadata": {},
     "output_type": "execute_result"
    }
   ],
   "source": [
    "df.describe().T"
   ]
  },
  {
   "cell_type": "code",
   "execution_count": 21,
   "id": "f75affbe",
   "metadata": {},
   "outputs": [],
   "source": [
    "df.drop(columns=[\"Single_Year_of_Age\", \"Sex\"], inplace=True)"
   ]
  },
  {
   "cell_type": "code",
   "execution_count": 22,
   "id": "0962bb36",
   "metadata": {},
   "outputs": [
    {
     "data": {
      "text/html": [
       "<div>\n",
       "<style scoped>\n",
       "    .dataframe tbody tr th:only-of-type {\n",
       "        vertical-align: middle;\n",
       "    }\n",
       "\n",
       "    .dataframe tbody tr th {\n",
       "        vertical-align: top;\n",
       "    }\n",
       "\n",
       "    .dataframe thead th {\n",
       "        text-align: right;\n",
       "    }\n",
       "</style>\n",
       "<table border=\"1\" class=\"dataframe\">\n",
       "  <thead>\n",
       "    <tr style=\"text-align: right;\">\n",
       "      <th></th>\n",
       "      <th>Year</th>\n",
       "      <th>Value</th>\n",
       "      <th>Sex_Encoded</th>\n",
       "      <th>Single_Year_of_Age_Encoded</th>\n",
       "    </tr>\n",
       "  </thead>\n",
       "  <tbody>\n",
       "    <tr>\n",
       "      <th>0</th>\n",
       "      <td>1926</td>\n",
       "      <td>2971992</td>\n",
       "      <td>0</td>\n",
       "      <td>99</td>\n",
       "    </tr>\n",
       "    <tr>\n",
       "      <th>1</th>\n",
       "      <td>1926</td>\n",
       "      <td>1506889</td>\n",
       "      <td>2</td>\n",
       "      <td>99</td>\n",
       "    </tr>\n",
       "    <tr>\n",
       "      <th>2</th>\n",
       "      <td>1926</td>\n",
       "      <td>1465103</td>\n",
       "      <td>1</td>\n",
       "      <td>99</td>\n",
       "    </tr>\n",
       "    <tr>\n",
       "      <th>3</th>\n",
       "      <td>1926</td>\n",
       "      <td>55391</td>\n",
       "      <td>0</td>\n",
       "      <td>100</td>\n",
       "    </tr>\n",
       "    <tr>\n",
       "      <th>4</th>\n",
       "      <td>1926</td>\n",
       "      <td>28084</td>\n",
       "      <td>2</td>\n",
       "      <td>100</td>\n",
       "    </tr>\n",
       "    <tr>\n",
       "      <th>5</th>\n",
       "      <td>1926</td>\n",
       "      <td>27307</td>\n",
       "      <td>1</td>\n",
       "      <td>100</td>\n",
       "    </tr>\n",
       "    <tr>\n",
       "      <th>6</th>\n",
       "      <td>1926</td>\n",
       "      <td>55876</td>\n",
       "      <td>0</td>\n",
       "      <td>0</td>\n",
       "    </tr>\n",
       "    <tr>\n",
       "      <th>7</th>\n",
       "      <td>1926</td>\n",
       "      <td>28374</td>\n",
       "      <td>2</td>\n",
       "      <td>0</td>\n",
       "    </tr>\n",
       "    <tr>\n",
       "      <th>8</th>\n",
       "      <td>1926</td>\n",
       "      <td>27502</td>\n",
       "      <td>1</td>\n",
       "      <td>0</td>\n",
       "    </tr>\n",
       "    <tr>\n",
       "      <th>9</th>\n",
       "      <td>1926</td>\n",
       "      <td>58273</td>\n",
       "      <td>0</td>\n",
       "      <td>11</td>\n",
       "    </tr>\n",
       "  </tbody>\n",
       "</table>\n",
       "</div>"
      ],
      "text/plain": [
       "   Year    Value  Sex_Encoded  Single_Year_of_Age_Encoded\n",
       "0  1926  2971992            0                          99\n",
       "1  1926  1506889            2                          99\n",
       "2  1926  1465103            1                          99\n",
       "3  1926    55391            0                         100\n",
       "4  1926    28084            2                         100\n",
       "5  1926    27307            1                         100\n",
       "6  1926    55876            0                           0\n",
       "7  1926    28374            2                           0\n",
       "8  1926    27502            1                           0\n",
       "9  1926    58273            0                          11"
      ]
     },
     "execution_count": 22,
     "metadata": {},
     "output_type": "execute_result"
    }
   ],
   "source": [
    "df.head(10)"
   ]
  },
  {
   "cell_type": "code",
   "execution_count": 23,
   "id": "bab62825",
   "metadata": {},
   "outputs": [
    {
     "data": {
      "text/plain": [
       "(11817, 4)"
      ]
     },
     "execution_count": 23,
     "metadata": {},
     "output_type": "execute_result"
    }
   ],
   "source": [
    "df.shape"
   ]
  },
  {
   "cell_type": "code",
   "execution_count": 24,
   "id": "f058d13f",
   "metadata": {},
   "outputs": [
    {
     "data": {
      "text/plain": [
       "11817"
      ]
     },
     "execution_count": 24,
     "metadata": {},
     "output_type": "execute_result"
    }
   ],
   "source": [
    "len(df)"
   ]
  },
  {
   "cell_type": "code",
   "execution_count": 25,
   "id": "f94bd783",
   "metadata": {},
   "outputs": [
    {
     "data": {
      "text/plain": [
       "2363"
      ]
     },
     "execution_count": 25,
     "metadata": {},
     "output_type": "execute_result"
    }
   ],
   "source": [
    "train_validation = df.sample(frac = 0.8, random_state = 200)\n",
    "test = df.drop(train_validation.index)\n",
    "len(test)"
   ]
  },
  {
   "cell_type": "markdown",
   "id": "ea5cc2c7",
   "metadata": {},
   "source": [
    "We allocated 80% of the data as the training and validation set, and the remaining 20% as the test set. I stated what percentage I would divide the amount of “.example” by the accumulation of “frak”. The “random_state” command, like most commands, enables the division of progress by setting the “seed” part. The “.drop” cut in the second line throws the remaining data from the original data, except the parts we reserved for train and verification, to the test set."
   ]
  },
  {
   "cell_type": "code",
   "execution_count": 26,
   "id": "33c97008",
   "metadata": {},
   "outputs": [
    {
     "data": {
      "text/plain": [
       "9454"
      ]
     },
     "execution_count": 26,
     "metadata": {},
     "output_type": "execute_result"
    }
   ],
   "source": [
    "len(train_validation)"
   ]
  },
  {
   "cell_type": "code",
   "execution_count": 27,
   "id": "39dd9a8c",
   "metadata": {},
   "outputs": [
    {
     "data": {
      "text/plain": [
       "2363"
      ]
     },
     "execution_count": 27,
     "metadata": {},
     "output_type": "execute_result"
    }
   ],
   "source": [
    "len(test)"
   ]
  },
  {
   "cell_type": "markdown",
   "id": "2a0f5b51",
   "metadata": {},
   "source": [
    "In the last 2 lines, we look at the line numbers in order to verify the operation. The number of rows of the train and validation set almost should be equal to 4 times the number of rows of the test set."
   ]
  },
  {
   "cell_type": "code",
   "execution_count": 28,
   "id": "8c6efb41",
   "metadata": {},
   "outputs": [
    {
     "data": {
      "text/plain": [
       "{1: {'feature_idx': (2,),\n",
       "  'cv_scores': array([0.01320419]),\n",
       "  'avg_score': 0.013204192988575447,\n",
       "  'feature_names': ('2',)},\n",
       " 2: {'feature_idx': (1, 2),\n",
       "  'cv_scores': array([0.0162106]),\n",
       "  'avg_score': 0.016210603717250582,\n",
       "  'feature_names': ('1', '2')},\n",
       " 3: {'feature_idx': (0, 1, 2),\n",
       "  'cv_scores': array([0.01744344]),\n",
       "  'avg_score': 0.01744343667823156,\n",
       "  'feature_names': ('0', '1', '2')}}"
      ]
     },
     "execution_count": 28,
     "metadata": {},
     "output_type": "execute_result"
    }
   ],
   "source": [
    "from sklearn.linear_model import LinearRegression\n",
    "y = train_validation[\"Value\"]\n",
    "x = train_validation.drop(\"Value\", axis = 1)\n",
    "lr = LinearRegression()\n",
    "from mlxtend.feature_selection import SequentialFeatureSelector as SFS\n",
    "sfs = SFS(estimator = lr,\n",
    "k_features = (1, 3),forward = True,floating = False,cv = 0)\n",
    "sfs_fit = sfs.fit(X = x.values, y = y.values)\n",
    "sfs_fit.subsets_"
   ]
  },
  {
   "cell_type": "markdown",
   "id": "59fc464f",
   "metadata": {},
   "source": [
    "First of all, I import LinearRegression from the sklearn.linear_model module with the \"import\" command. The commands we will use are in this library. Then, I introduce to the program what the dependent and independent variables are for feature selection. Since \"y\", the dependent variable, will be the population value, I filter the number rate from the train_validation set. I assign everything else to the “x” object as estimators, that is, independent variables, by giving the necessary arguments to the “.drop” command. In the next line, I assign the method I will use for estimation to the “lr” object. Since I will be selecting features using Linear Regression, I perform this process with the “LinearRegression()” command. In the next step, I create the method for selecting the feature and assign it to the \"sfs\" object. The “SFS” command here is the abbreviation of “Sequential Feature Selection”, that is, the method that selects features in an incremental manner. After giving the \"lr\" object as an estimator in the function's arguments, I tell it to choose the best feature combination in a certain range in the \"k_features\" argument. Since I have 3 columns, I want it to find the best combination of variables starting from 1 to 3. The “Forward” argument being “True” means that the selection should be forward-looking, that is, by adding the features sequentially. The “Floating” argument adds an intermediate step to each step and continues the algorithm by removing variables that reduce performance. This argument was selected as “False”. Finally, when I said “cv = 0”, I stated that we did not want any cross-validation. I did not use the cross-validation method at this stage. This will allow us to see the difference clearly. After determining this method, we started the process with the “sfs.fit” command. In the last line of the code block, I used the “.subsets_” command to see the models at each step."
   ]
  },
  {
   "cell_type": "markdown",
   "id": "335e66fc",
   "metadata": {},
   "source": [
    "{1: {'feature_idx': (2,),\n",
    "  'cv_scores': array([0.01508134]),\n",
    "  'avg_score': 0.015081342429616673\n",
    "  \n",
    "I only took the first line of the result of the command, this will be enough for us. In the first step, train_validation was the second variable that minimized the average error in the set. It can be seen in the “avg_score” section that the average score for this variable is around 0.015081."
   ]
  },
  {
   "cell_type": "code",
   "execution_count": 29,
   "id": "e2b00ffa",
   "metadata": {},
   "outputs": [
    {
     "data": {
      "text/plain": [
       "dict"
      ]
     },
     "execution_count": 29,
     "metadata": {},
     "output_type": "execute_result"
    }
   ],
   "source": [
    "type(sfs_fit.subsets_)"
   ]
  },
  {
   "cell_type": "code",
   "execution_count": 35,
   "id": "41f5dc76",
   "metadata": {},
   "outputs": [
    {
     "ename": "IndentationError",
     "evalue": "expected an indented block after 'for' statement on line 6 (780977081.py, line 7)",
     "output_type": "error",
     "traceback": [
      "\u001b[1;36m  Cell \u001b[1;32mIn[35], line 7\u001b[1;36m\u001b[0m\n\u001b[1;33m    Ridge.set_params(alpha = alpha)\u001b[0m\n\u001b[1;37m    ^\u001b[0m\n\u001b[1;31mIndentationError\u001b[0m\u001b[1;31m:\u001b[0m expected an indented block after 'for' statement on line 6\n"
     ]
    }
   ],
   "source": [
    "x_final = x.iloc[:, [0, 1, 2, 3, 4, 5, 6, 7, 8, 9, 10, 11, 12, 14, 15, 16, 17, 18, 19, 21, 23, 24, 27, 28, 29, 30]]\n",
    "alpha_range = [1e-15, 1e-10, 1e-8, 1e-4, 1e-3,1e-2, 1, 5, 10, 20]\n",
    "from sklearn.linear_model import Ridge, RidgeCV\n",
    "Ridge = Ridge(normalize=True)\n",
    "coefs = []\n",
    "for alpha in alpha_range:\n",
    "Ridge.set_params(alpha = alpha)\n",
    "Ridge.fit(x_final, y)\n",
    "coefs.append(Ridge.coef_)\n",
    "np.shape(coefs)\n",
    "CoefPlot = plt.gca()\n",
    "CoefPlot.plot(alpha_range, coefs)\n",
    "CoefPlot.set_xscale('log')\n",
    "plt.axis('tight')\n",
    "plt.xlabel('alpha')\n",
    "plt.ylabel('weights')\n",
    "plt.show()\n",
    "RCV = RidgeCV(alphas = alpha_range, scoring = 'mean_squared_error', normalize = True)\n",
    "RCV.fit(x_final, y)\n",
    "RCV.alpha_"
   ]
  },
  {
   "cell_type": "code",
   "execution_count": 36,
   "id": "7555d801",
   "metadata": {},
   "outputs": [
    {
     "ename": "NameError",
     "evalue": "name 'RCV' is not defined",
     "output_type": "error",
     "traceback": [
      "\u001b[1;31m---------------------------------------------------------------------------\u001b[0m",
      "\u001b[1;31mNameError\u001b[0m                                 Traceback (most recent call last)",
      "Cell \u001b[1;32mIn[36], line 1\u001b[0m\n\u001b[1;32m----> 1\u001b[0m RidgeReg \u001b[38;5;241m=\u001b[39m Ridge(alpha \u001b[38;5;241m=\u001b[39m RCV\u001b[38;5;241m.\u001b[39malpha_, normalize \u001b[38;5;241m=\u001b[39m \u001b[38;5;28;01mTrue\u001b[39;00m)\n\u001b[0;32m      2\u001b[0m RidgeReg\u001b[38;5;241m.\u001b[39mfit(x_final, y)\n\u001b[0;32m      3\u001b[0m y_test \u001b[38;5;241m=\u001b[39m test[\u001b[38;5;124m\"\u001b[39m\u001b[38;5;124mValue\u001b[39m\u001b[38;5;124m\"\u001b[39m]\n",
      "\u001b[1;31mNameError\u001b[0m: name 'RCV' is not defined"
     ]
    }
   ],
   "source": [
    "RidgeReg = Ridge(alpha = RCV.alpha_, normalize = True)\n",
    "RidgeReg.fit(x_final, y)\n",
    "y_test = test[\"Value\"]\n",
    "x_test = test.drop(\"Value\", axis = 1)\n",
    "x_test_final = x_test.iloc[:, [0, 1, 2, 3, 4, 5, 6, 7, 8, 9, 10, 11, 12, 14, 15, 16, 17, 18, 19, 21, 23, 24, 27, 28, 29, 30]]\n",
    "Prediction = RidgeReg.predict(x_test_final)\n",
    "from sklearn.metrics import mean_squared_error\n",
    "print(mean_squared_error(y_test, Prediction))"
   ]
  },
  {
   "cell_type": "code",
   "execution_count": null,
   "id": "d56eaa74",
   "metadata": {},
   "outputs": [],
   "source": [
    "plt.hist(df['Value'])\n",
    "plt.xlabel('Year')\n",
    "plt.ylabel('Value')\n",
    "plt.show()"
   ]
  },
  {
   "cell_type": "code",
   "execution_count": null,
   "id": "f9a7508a",
   "metadata": {},
   "outputs": [],
   "source": [
    "range_min = 0\n",
    "range_max = 500000\n",
    "\n",
    "EsPopulation_data = df[(df['Value'] >= range_min) & (df['Year'] <= range_max)]\n",
    "\n",
    "EsPopulation_data['Value'].plot(kind='density')\n",
    "\n",
    "plt.title('Population by Year Plot')\n",
    "plt.xlabel('Value')\n",
    "plt.ylabel('density')\n",
    "\n",
    "plt.show()"
   ]
  },
  {
   "cell_type": "code",
   "execution_count": null,
   "id": "02335c06",
   "metadata": {},
   "outputs": [],
   "source": []
  }
 ],
 "metadata": {
  "kernelspec": {
   "display_name": "Python 3 (ipykernel)",
   "language": "python",
   "name": "python3"
  },
  "language_info": {
   "codemirror_mode": {
    "name": "ipython",
    "version": 3
   },
   "file_extension": ".py",
   "mimetype": "text/x-python",
   "name": "python",
   "nbconvert_exporter": "python",
   "pygments_lexer": "ipython3",
   "version": "3.11.4"
  }
 },
 "nbformat": 4,
 "nbformat_minor": 5
}
